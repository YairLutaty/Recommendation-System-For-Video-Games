{
  "cells": [
    {
      "cell_type": "markdown",
      "metadata": {
        "id": "qi6T9R5ANqlv"
      },
      "source": [
        "# **Recommendation System For Video Games**"
      ]
    },
    {
      "cell_type": "markdown",
      "metadata": {
        "id": "6YnEXG_1N85p"
      },
      "source": [
        "This notebook was created by Yair Lutaty (206849408) as part of the Data Science workshop at the Open University of Israel, 2025."
      ]
    },
    {
      "cell_type": "markdown",
      "metadata": {
        "id": "N9t0E7zkRO6R"
      },
      "source": [
        "# **Introduction**"
      ]
    },
    {
      "cell_type": "markdown",
      "metadata": {
        "id": "FeBjM6aaRXmk"
      },
      "source": [
        "Video games have become a dominant form of entertainment, offering players countless choices across genres, mechanics, and narratives. While exciting, this abundance creates a challenge: how can players efficiently discover games that match their unique preferences?\n",
        "\n",
        "This project tackles that challenge by developing a personalized video game recommendation system. While many such systems exist, this endeavor is intriguing because video games are highly interactive and diverse, making user preferences more complex than in other domains like movies or music. Existing systems often rely on simple popularity metrics or curated lists, which fail to capture the nuanced tastes of individual players.\n",
        "\n",
        "My interest in video games has inspired me to explore this project, merging my passion for video games with data science to better understand how players connect with their favorite games."
      ]
    },
    {
      "cell_type": "markdown",
      "metadata": {
        "id": "WOkGrtwqTo5X"
      },
      "source": [
        "## The Main Issue We Will Address\n",
        "The vast number of available games makes personalized discovery difficult. This project will focus on addressing this issue while also exploring additional objectives, such as understanding the influence of reviews on user behavior—for instance, whether positive reviews encourage more positive feedback and vice versa—and examining other business-oriented insights related to the gaming industry. So in summary why i think this project is intresting?\n",
        "\n",
        "1.  **Unique Nature of Gaming Preferences**: Unlike passive media, games combine storytelling, graphics, and gameplay, requiring a deeper understanding of user behavior to make meaningful recommendations.\n",
        "\n",
        "2.  **Opportunity for Innovation**: Many existing systems prioritize ease over precision. This project aims to explore novel machine learning techniques to improve recommendation accuracy.\n",
        "\n",
        "3.  **Broader Relevance**: The project demonstrates the power of AI to solve real-world problems, showcasing the adaptability of recommendation technologies in complex, dynamic environments.\n",
        "\n",
        "\n",
        "4.  **Dual Perspectives**: Beyond creating a recommendation system, this project seeks to explore insights from a business standpoint, investigating how companies can leverage data to understand market trends, optimize game visibility, and refine customer engagement strategies."
      ]
    },
    {
      "cell_type": "markdown",
      "metadata": {
        "id": "deqnUgEuFWYv"
      },
      "source": [
        "# **Loading The Data**"
      ]
    },
    {
      "cell_type": "markdown",
      "metadata": {
        "id": "2yaG6REWDlxF"
      },
      "source": [
        "In this project we will use the Amazon Reviews'23 dataset provided [here](https://amazon-reviews-2023.github.io/), and spesificly in the Video_Games dataset that includes review dataset and the metadata dataset related to it.\n",
        "\n",
        "We begin by connecting to Google Drive and saving the path to extract all the necessary files for the project"
      ]
    },
    {
      "cell_type": "code",
      "execution_count": null,
      "metadata": {
        "colab": {
          "base_uri": "https://localhost:8080/"
        },
        "id": "6yp_o7lbDnon",
        "outputId": "4ee76506-a0a5-42f6-ace2-343f62bb609a"
      },
      "outputs": [],
      "source": [
        "from google.colab import drive\n",
        "drive.mount('/content/drive')\n",
        "\n",
        "file_path_meta = '/content/drive/My Drive/meta_Video_Games.jsonl.gz'\n",
        "file_path_reviews = '/content/drive/My Drive/Video_Games.jsonl.gz'\n"
      ]
    },
    {
      "cell_type": "markdown",
      "metadata": {
        "id": "Bn2cMgU7DlXp"
      },
      "source": [
        "Our dataset is very large, so we aim to reduce RAM usage by loading it in smaller chunks."
      ]
    },
    {
      "cell_type": "code",
      "execution_count": null,
      "metadata": {
        "id": "DJneCWFSD9pf"
      },
      "outputs": [],
      "source": [
        "import gzip\n",
        "import json\n",
        "import pandas as pd\n",
        "import numpy as np\n",
        "import matplotlib.pyplot as plt\n",
        "import seaborn as sns\n",
        "from collections import Counter\n",
        "\n",
        "# Function to read JSONL files in chunks\n",
        "def load_in_chunks(file_path, chunksize=1000, max_chunks=None):\n",
        "    chunks = []\n",
        "    with gzip.open(file_path, 'rt', encoding='utf-8') as file:\n",
        "        reader = pd.read_json(file, lines=True, chunksize=chunksize)  # Set chunk size\n",
        "        for i, chunk in enumerate(reader):\n",
        "            chunks.append(chunk)\n",
        "            if max_chunks and (i + 1) >= max_chunks:\n",
        "                break\n",
        "    return pd.concat(chunks, ignore_index=True)"
      ]
    },
    {
      "cell_type": "markdown",
      "metadata": {
        "id": "7_AJgZP3ETS0"
      },
      "source": [
        "Starting with the meta data"
      ]
    },
    {
      "cell_type": "code",
      "execution_count": null,
      "metadata": {
        "id": "D9LFUN0REAHH"
      },
      "outputs": [],
      "source": [
        "df_meta = load_in_chunks(file_path_meta, chunksize=1000)"
      ]
    },
    {
      "cell_type": "markdown",
      "metadata": {
        "id": "QsCg8VYmEZoc"
      },
      "source": [
        "Now, let's look at a quick example and provide an explanation of the features and the nature of this dataset."
      ]
    },
    {
      "cell_type": "code",
      "execution_count": null,
      "metadata": {
        "colab": {
          "base_uri": "https://localhost:8080/",
          "height": 659
        },
        "id": "kdlhmvyPEqgl",
        "outputId": "4a921d16-94f7-4255-a0a7-7fe461f42f2e"
      },
      "outputs": [],
      "source": [
        "df_meta.head()"
      ]
    },
    {
      "cell_type": "markdown",
      "metadata": {
        "id": "NgnD5O0uEv21"
      },
      "source": [
        "Lets start with understanding the features in this file:\n",
        "\n",
        "---\n",
        "\n",
        "\n",
        "\n",
        "1.   **main_category:** Main category (i.e., domain) of the product.\n",
        "\n",
        "2.   **title:** Name of the product.\n",
        "\n",
        "3.   **average_rating:** Rating of the product shown on the product page.\n",
        "\n",
        "4.   **rating_number:** Number of ratings in the product.\n",
        "\n",
        "5.   **features:** Bullet-point format features of the product.\n",
        "\n",
        "6.   **description:** Description of the product.\n",
        "\n",
        "7.   **price:** Price in US dollars (at time of crawling).\n",
        "\n",
        "8.   **images:** Images of the product. Each image has different sizes\n",
        "(thumb, large, hi_res). The “variant” field shows the position of image.\n",
        "\n",
        "9.   **videos:** Videos of the product including title and url.\n",
        "\n",
        "10.   **store:** Store name of the product.\n",
        "\n",
        "11.   **categories:** Hierarchical categories of the product.\n",
        "\n",
        "12.   **details:** Product details, including materials, brand, sizes, etc.\n",
        "\n",
        "13.   **parent_asin:** Parent ID of the product.\n",
        "\n",
        "14.   **bought_together:** Recommended bundles from the websites."
      ]
    },
    {
      "cell_type": "markdown",
      "metadata": {
        "id": "AkRBjffHE2vE"
      },
      "source": [
        "Next, we will load the reviews file:"
      ]
    },
    {
      "cell_type": "code",
      "execution_count": null,
      "metadata": {
        "id": "P8KGr-b1ECgh"
      },
      "outputs": [],
      "source": [
        "df_reviews = load_in_chunks(file_path_reviews, chunksize=1000)"
      ]
    },
    {
      "cell_type": "markdown",
      "metadata": {
        "id": "hBf5cqlnE-QB"
      },
      "source": [
        "And we will continiue to see its features and characteristics."
      ]
    },
    {
      "cell_type": "code",
      "execution_count": null,
      "metadata": {
        "colab": {
          "base_uri": "https://localhost:8080/",
          "height": 607
        },
        "id": "nh2v26qwFIQV",
        "outputId": "6042d1f5-bb57-4516-cf66-95591af9e3be"
      },
      "outputs": [],
      "source": [
        "df_reviews.head()"
      ]
    },
    {
      "cell_type": "markdown",
      "metadata": {
        "id": "GfA9pzf5FK2_"
      },
      "source": [
        "1.   **rating:** Rating of the product (from 1.0 to 5.0).\n",
        "\n",
        "2.   **title:** Title of the user review.\n",
        "\n",
        "3.   **text:** Text body of the user review.\n",
        "\n",
        "4.   **images:** Images that users post after they have received the product. Each image has different sizes (small, medium, large), represented by the small_image_url, medium_image_url, and large_image_url respectively.\n",
        "5.   **asin:** ID of the product.\n",
        "\n",
        "6.   **parent_asin:** Parent ID of the product. Note: Products with different colors, styles, sizes usually belong to the same parent ID. The “asin” in previous Amazon datasets is actually parent ID\n",
        "\n",
        "7.   **user_id:** ID of the reviewer\n",
        "\n",
        "8.   **timestamp:** Time of the review (unix time)\n",
        "\n",
        "9.   **verified_purchase:** User purchase verification\n",
        "\n",
        "10.   **helpful_vote:** Helpful votes of the review\n",
        "\n"
      ]
    },
    {
      "cell_type": "markdown",
      "metadata": {
        "id": "A7uh_eISFmuT"
      },
      "source": [
        "# **EDA**"
      ]
    },
    {
      "cell_type": "markdown",
      "metadata": {
        "id": "H8yzm50eYDBH"
      },
      "source": [
        "We'll start by cleaning our datasets from missing and duplicate values."
      ]
    },
    {
      "cell_type": "markdown",
      "metadata": {
        "id": "bDpuhA_eYTaj"
      },
      "source": [
        "## Missing and Duplicate Values Handling"
      ]
    },
    {
      "cell_type": "markdown",
      "metadata": {
        "id": "EIGXjuHOFxs-"
      },
      "source": [
        "**Handling missing values**\n",
        "\n",
        "\n",
        "To begin, we need to gain a better understanding of the data we have. A good starting point is to identify the number of missing values, if any, in both datasets, as missing values can significantly impact our process moving forward."
      ]
    },
    {
      "cell_type": "code",
      "execution_count": null,
      "metadata": {
        "colab": {
          "base_uri": "https://localhost:8080/"
        },
        "id": "m5sdCa0oFwsg",
        "outputId": "736342c3-cb8e-4c50-8303-47f65336e442"
      },
      "outputs": [],
      "source": [
        "# for the reviews data\n",
        "missing_values = df_reviews.isnull().sum()\n",
        "print(\"df_reviews Number of missing values in each column:\")\n",
        "print(missing_values)\n",
        "\n",
        "print(\"----------------------------------------------------------------\")\n",
        "\n",
        "# for the meta data\n",
        "missing_values = df_meta.isnull().sum()\n",
        "print(\"df_meta Number of missing values in each column:\")\n",
        "print(missing_values)"
      ]
    },
    {
      "cell_type": "markdown",
      "metadata": {
        "id": "j-UBpaHIGpfk"
      },
      "source": [
        "In the review data we see no missing values, and in the meta data we see large amount of missing values in:\n",
        "\n",
        "- **main_category**\n",
        "- **price**\n",
        "- **bought_together**\n",
        "- **subtitle**  \n",
        "- **author**\n",
        "\n",
        "Additionally, a small number of missing values are present in the **store** column.\n",
        "\n",
        "It is also important to note that not all \"true missing\" values are recognized. For instance, empty lists ([]) appear in the images column in the metadata. While these are not flagged as missing values, they do not contribute any meaningful information.\n",
        "\n",
        "This issue needs to be addressed."
      ]
    },
    {
      "cell_type": "code",
      "execution_count": null,
      "metadata": {
        "colab": {
          "base_uri": "https://localhost:8080/"
        },
        "id": "HE5T5K2HHXwJ",
        "outputId": "bf3be243-f5d2-4c57-8f37-cc0c1d0fa3f2"
      },
      "outputs": [],
      "source": [
        "# Replace non-informative empty lists or strings with NaN in both datasets\n",
        "df_reviews['images'] = df_reviews['images'].apply(lambda x: np.nan if isinstance(x, list) and len(x) == 0 else x)\n",
        "df_meta['images'] = df_meta['images'].apply(lambda x: np.nan if isinstance(x, list) and len(x) == 0 else x)\n",
        "\n",
        "# Summary of missing values after replacements\n",
        "print(\"Missing values summary in df_reviews:\")\n",
        "print(df_reviews.isnull().sum())\n",
        "\n",
        "print(\"\\nMissing values summary in df_meta:\")\n",
        "print(df_meta.isnull().sum())\n"
      ]
    },
    {
      "cell_type": "code",
      "execution_count": null,
      "metadata": {
        "colab": {
          "base_uri": "https://localhost:8080/"
        },
        "id": "wNySAY28JmoP",
        "outputId": "a18d1e83-0bd1-4838-cdd6-3788767f7267"
      },
      "outputs": [],
      "source": [
        "# Replace empty lists, empty strings, and other non-informative values with NaN for all columns\n",
        "df_reviews = df_reviews.map(lambda x: np.nan if (isinstance(x, (list, str)) and len(x) == 0) else x)\n",
        "\n",
        "# Summary of missing values after replacements\n",
        "missing_summary = df_reviews.isnull().sum()\n",
        "print(\"Missing values summary in df_reviews:\")\n",
        "print(missing_summary)"
      ]
    },
    {
      "cell_type": "markdown",
      "metadata": {
        "id": "HDyBBM6WKK7V"
      },
      "source": [
        "As we can see, a significant number of image URLs are missing. However, given the nature of our project's goals, these image URLs are not essential and can be disregarded.\n",
        "\n",
        "On the other hand, we identified an additional 323 missing values in the text field that were not previously detected. Considering the importance of this field in the later stages of our project and the relatively small proportion of missing data (323 missing reviews out of 4.7 million), we have decided to remove these reviews and proceed."
      ]
    },
    {
      "cell_type": "code",
      "execution_count": null,
      "metadata": {
        "colab": {
          "base_uri": "https://localhost:8080/"
        },
        "id": "6jr7uWDDLDes",
        "outputId": "401e5d34-4b82-479f-93f4-2986ba4ca448"
      },
      "outputs": [],
      "source": [
        "# Replace empty lists, empty strings, and other non-informative values with NaN for all columns\n",
        "df_meta = df_meta.map(lambda x: np.nan if (isinstance(x, (list, str)) and len(x) == 0) else x)\n",
        "\n",
        "# Summary of missing values after replacements\n",
        "missing_summary = df_meta.isnull().sum()\n",
        "print(\"Missing values summary in df_meta:\")\n",
        "print(missing_summary)"
      ]
    },
    {
      "cell_type": "markdown",
      "metadata": {
        "id": "ULVln02MLSmP"
      },
      "source": [
        "We observe a large number of missing values across various feature fields in the metadata.\n",
        "\n",
        "-  **\"bought_together\"**, **\"subtitle\"**, and **\"author\"** :\n",
        "Nearly **100%** of the entries for these features are missing. Given this, we will immediately decide to **drop** these features entirely.\n",
        "\n",
        "-  **\"videos\"** : Approximately **79%** of the entries for this feature are missing. Additionally, due to the nature of this feature, it is unlikely to add significant value to our project. Therefore, we will also **drop** it.\n",
        "\n",
        "-  **\"Price\"**: Approximately **55%** of the entries for this feature are missing. While this is a relatively large proportion, the price feature is crucial for future applications in this project. Internal testing was conducted to evaluate the impact of including or excluding items with missing price values, and the results showed no significant differences. Therefore, it has been decided to **remove** items with missing values in the price column.\n",
        "\n",
        "\n",
        "-  **\"description\"** : Approximately **37%** of the entries are missing. While this is a relatively high percentage, we will **replace the missing values with \"no description\"** instead of dropping the feature. Our reasoning is that when building models based on language features, the models will be able to infer that \"no description\" provides no additional information while still leveraging the descriptions that are present.\n",
        "\n",
        "-  **\"features\"**: About **29%** of the entries are missing. Similar to \"description,\" we will **replace missing values with \"no features\"** rather than dropping the feature. Both \"description\" and \"features\" can be reconsidered and potentially dropped later if they are found to add no value or negatively impact the model's performance.\n",
        "\n",
        "-  **\"categories\"** and **\"main_category\"** : Around **8–9%** of the entries for these features are missing. Since all examples should fall under the \"Video Games\" category, it should be straightforward to fill in these values. However, if both fields are missing, the items might not actually belong to the \"Video Games\" category. We will first check for such cases."
      ]
    },
    {
      "cell_type": "code",
      "execution_count": null,
      "metadata": {
        "colab": {
          "base_uri": "https://localhost:8080/"
        },
        "id": "xQfFlZIZQybI",
        "outputId": "c445be9f-ea73-4f25-d02b-abca506c3d3b"
      },
      "outputs": [],
      "source": [
        "missing_both = df_meta[df_meta['main_category'].isnull() & df_meta['categories'].isnull()]\n",
        "missing_both_count = missing_both.shape[0]\n",
        "\n",
        "print(f\"Number of entries with missing 'main_category' and 'categories': {missing_both_count}\")"
      ]
    },
    {
      "cell_type": "markdown",
      "metadata": {
        "id": "BBh6B08NTHdw"
      },
      "source": [
        "There are no cases where both **\"categories\"** and **\"main_category\"** are missing. Therefore, we will fill the missing values in the **\"categories\"** field with **\"missing catagory\"**. While we could do the same for **\"main_category\"**, we have decided to remove this feature, as it does not provide any meaningful information for our analysis.\n",
        "\n",
        "Approximately **3%** of the **\"store\"** values are missing. Given this relatively small proportion and the potential usefulness of this information, we will **replace the missing values with \"unknown store\"**.\n",
        "\n",
        "About **0.1%** of **\"images\"** are missing. Although this is a small percentage, we will **drop** this feature — not due to the missing values but because, as with the review data, image URLs are not relevant to the models we plan to use.\n",
        "\n",
        "Finally, less than **0.01%** of entries have missing **\"title\"**. Given this negligible amount, we will decide to to **remove** these entries and proceed with the analysis."
      ]
    },
    {
      "cell_type": "markdown",
      "metadata": {
        "id": "qXwc1QxUVTms"
      },
      "source": [
        "So to conclude:\n",
        "\n",
        "**Removing featues:** \"images\", \"title\", \"main_catagory\", \"videos\", \"bought_together\", \"subtitle\" and \"author\"\n",
        "\n",
        "**Adjusting missing values:** \"features\", \"descripction\", \"catagories\", \"store\"\n",
        "\n",
        "**Deleting enteries**: \"price\", \"title\"\n",
        "\n"
      ]
    },
    {
      "cell_type": "markdown",
      "metadata": {
        "id": "4YMZJXzNqk7A"
      },
      "source": [
        "Removing decided features."
      ]
    },
    {
      "cell_type": "code",
      "execution_count": null,
      "metadata": {
        "colab": {
          "base_uri": "https://localhost:8080/"
        },
        "id": "JC7Tb3TkXEr1",
        "outputId": "e710a061-ed69-4488-bbfd-08a60692e2e5"
      },
      "outputs": [],
      "source": [
        "# List of features to remove\n",
        "features_to_remove = [\"images\", \"main_category\", \"videos\", \"bought_together\", \"subtitle\", \"author\"]\n",
        "\n",
        "# Remove the specified features\n",
        "df_meta = df_meta.drop(columns=features_to_remove)\n",
        "\n",
        "# Verify the removal\n",
        "print(\"Remaining features after removal:\")\n",
        "print(df_meta.columns)"
      ]
    },
    {
      "cell_type": "markdown",
      "metadata": {
        "id": "Ud5jokC9qV5a"
      },
      "source": [
        "Deleting missing \"price\" and \"title\" value items from metadata and reviews on these games from the reviews data."
      ]
    },
    {
      "cell_type": "code",
      "execution_count": null,
      "metadata": {
        "colab": {
          "base_uri": "https://localhost:8080/"
        },
        "id": "eh_gh7vDpvUG",
        "outputId": "d5ed52e9-eb50-415a-b1fd-8798c105aa70"
      },
      "outputs": [],
      "source": [
        "missing_price_asins = df_meta[df_meta['price'].isna()]['parent_asin']\n",
        "\n",
        "print(f\"Original meta count: {len(df_meta)}\")\n",
        "df_meta = df_meta[~df_meta['parent_asin'].isin(missing_price_asins)]\n",
        "print(f\"Updated meta count: {len(df_meta)}\")\n",
        "\n",
        "print(f\"Original reviews count: {len(df_reviews)}\")\n",
        "df_reviews = df_reviews[~df_reviews['parent_asin'].isin(missing_price_asins)]\n",
        "print(f\"Updated reviews count: {len(df_reviews)}\")"
      ]
    },
    {
      "cell_type": "code",
      "execution_count": null,
      "metadata": {
        "colab": {
          "base_uri": "https://localhost:8080/"
        },
        "id": "V-ZVOwQnsvC9",
        "outputId": "a5ccc4dd-0eeb-4ec6-c1b3-d29260be1a00"
      },
      "outputs": [],
      "source": [
        "missing_title_asins = df_meta[df_meta['title'].isna()]['parent_asin']\n",
        "\n",
        "print(f\"Original meta count: {len(df_meta)}\")\n",
        "df_meta = df_meta[~df_meta['parent_asin'].isin(missing_title_asins)]\n",
        "print(f\"Updated meta count: {len(df_meta)}\")\n",
        "\n",
        "print(f\"Original reviews count: {len(df_reviews)}\")\n",
        "df_reviews = df_reviews[~df_reviews['parent_asin'].isin(missing_title_asins)]\n",
        "print(f\"Updated reviews count: {len(df_reviews)}\")"
      ]
    },
    {
      "cell_type": "markdown",
      "metadata": {
        "id": "94S7Tp8sbcYe"
      },
      "source": [
        "Since some of our features are of list type, we will handle them separately. For the **\"features\"**, **\"description\"**, and **\"categories\"** columns, we will update the values as outlined previously while ensuring they remain in list format."
      ]
    },
    {
      "cell_type": "code",
      "execution_count": null,
      "metadata": {
        "id": "uU2HwlcvZRcD"
      },
      "outputs": [],
      "source": [
        "def process_column(df, column_name, replacement_value):\n",
        "\n",
        "    def process_value(value):\n",
        "        # If the value is a list, return it as-is\n",
        "        if isinstance(value, list):\n",
        "            return value\n",
        "        # If the value is missing or empty, replace it with the specified replacement_value\n",
        "        if pd.isnull(value) or value == '':\n",
        "            return [replacement_value]\n",
        "        # Otherwise, keep the value as-is\n",
        "        return value\n",
        "\n",
        "    # Apply the processing function to the specified column\n",
        "    df[column_name] = df[column_name].apply(process_value)\n",
        "    return df\n",
        "\n",
        "df_meta = process_column(df_meta, column_name=\"features\", replacement_value=\"No Features\")\n",
        "df_meta = process_column(df_meta, column_name=\"description\", replacement_value=\"No Description\")\n",
        "df_meta = process_column(df_meta, column_name=\"categories\", replacement_value=\"Missing Category\")\n"
      ]
    },
    {
      "cell_type": "markdown",
      "metadata": {
        "id": "V8NJlJAvcZdi"
      },
      "source": [
        "For the **'store'** column, which is of string type, we will simply assign a new value to the missing entries."
      ]
    },
    {
      "cell_type": "code",
      "execution_count": null,
      "metadata": {
        "id": "8WWVsISAcleh"
      },
      "outputs": [],
      "source": [
        "df_meta['store'] = df_meta['store'].fillna(\"Unknown Store\")"
      ]
    },
    {
      "cell_type": "markdown",
      "metadata": {
        "id": "K6BVwsUQc7FB"
      },
      "source": [
        "Let's now check how many missing values remain."
      ]
    },
    {
      "cell_type": "code",
      "execution_count": null,
      "metadata": {
        "colab": {
          "base_uri": "https://localhost:8080/"
        },
        "id": "833CsL1cdA7d",
        "outputId": "ae0da0d7-f9ae-45f4-c3a2-1db72c8d6da0"
      },
      "outputs": [],
      "source": [
        "# Summary of missing values after replacements\n",
        "missing_summary = df_meta.isnull().sum()\n",
        "print(\"Missing values summary in df_meta:\")\n",
        "print(missing_summary)"
      ]
    },
    {
      "cell_type": "markdown",
      "metadata": {
        "id": "HCpUM5hhdn6B"
      },
      "source": [
        "For the reviews dataset, we will make adjustments as well.\n",
        "\n",
        "First, we will completely remove the **'images'** feature, followed by removing entries with missing text values."
      ]
    },
    {
      "cell_type": "code",
      "execution_count": null,
      "metadata": {
        "id": "kXYfNUOvd-gv"
      },
      "outputs": [],
      "source": [
        "# Drop the 'images' column from df_reviews\n",
        "df_reviews = df_reviews.drop(columns=['images'])\n",
        "\n",
        "# Remove entries with empty 'text' values\n",
        "df_reviews = df_reviews[df_reviews['text'].notnull() & (df_reviews['text'] != '')]\n"
      ]
    },
    {
      "cell_type": "code",
      "execution_count": null,
      "metadata": {
        "colab": {
          "base_uri": "https://localhost:8080/"
        },
        "id": "i3XDp7x7eYWS",
        "outputId": "5ef1c53b-59b1-4b21-bc71-56ee0f7b8037"
      },
      "outputs": [],
      "source": [
        "# Summary of missing values after replacements\n",
        "missing_summary = df_reviews.isnull().sum()\n",
        "print(\"Missing values summary in df_meta:\")\n",
        "print(missing_summary)"
      ]
    },
    {
      "cell_type": "markdown",
      "metadata": {
        "id": "7LALhkK3fDCZ"
      },
      "source": [
        "We successfully addressed all missing values in both the metadata and reviews datasets, as well as handled problematic features.\n",
        "\n",
        "With this cleaned data, we can now move forward to better understand the datasets and develop a clearer approach for the next steps."
      ]
    },
    {
      "cell_type": "markdown",
      "metadata": {
        "id": "egNmiTgXBk8t"
      },
      "source": [
        "**Finding and handling duplicates**\n",
        "\n",
        "Let's verify if there are any duplicates in our dataset:"
      ]
    },
    {
      "cell_type": "code",
      "execution_count": null,
      "metadata": {
        "colab": {
          "base_uri": "https://localhost:8080/"
        },
        "id": "0btOpeYlBq7I",
        "outputId": "a9847384-7e13-4673-f35e-fac4077a86d0"
      },
      "outputs": [],
      "source": [
        "print(\"Number of duplicate rows in df_reviews:\", df_reviews.duplicated().sum())"
      ]
    },
    {
      "cell_type": "markdown",
      "metadata": {
        "id": "CBFsmAUPCF1d"
      },
      "source": [
        "We found a substantial number of duplicates in our dataset. These need to be addressed and removed, as they could introduce bias into our data and negatively affect the analysis."
      ]
    },
    {
      "cell_type": "code",
      "execution_count": null,
      "metadata": {
        "id": "ONn8blirCynQ"
      },
      "outputs": [],
      "source": [
        "df_reviews = df_reviews.drop_duplicates()"
      ]
    },
    {
      "cell_type": "markdown",
      "metadata": {
        "id": "4DrPInTaDbTJ"
      },
      "source": [
        "Now that this has been addressed, we should check for more specific types of duplicates, such as multiple reviews from the same user for the same product. To do this, we will identify rows where both parent_asin and user_id are the same, and then 'investigate' an example user to understand the underlying reasons for such occurrences."
      ]
    },
    {
      "cell_type": "code",
      "execution_count": null,
      "metadata": {
        "colab": {
          "base_uri": "https://localhost:8080/",
          "height": 224
        },
        "id": "i20NCO-vDp9O",
        "outputId": "8555435d-2628-460e-94d2-9bac02262c5f"
      },
      "outputs": [],
      "source": [
        "top_occurrences = (\n",
        "    df_reviews\n",
        "    .groupby(['user_id', 'parent_asin'])\n",
        "    .size()\n",
        "    .reset_index(name='count')  # Rename the count column\n",
        "    .sort_values(by='count', ascending=False)  # Sort by count in descending order\n",
        ")\n",
        "\n",
        "# Display the top occurrences\n",
        "print(\"Top occurrences with same user_id and parent_asin:\")\n",
        "top_occurrences.head()"
      ]
    },
    {
      "cell_type": "code",
      "execution_count": null,
      "metadata": {
        "colab": {
          "base_uri": "https://localhost:8080/",
          "height": 746
        },
        "id": "bTePmhFaF3cM",
        "outputId": "83dbbae3-b1ac-482e-c142-c2d454ad7b6f"
      },
      "outputs": [],
      "source": [
        "top_duplicate = df_reviews[(df_reviews['user_id'] == 'AFQVVKMC4KREPRDGABF2ZBSKJTLA') & (df_reviews['parent_asin'] == 'B00EP2WNKY')]\n",
        "top_duplicate.head()"
      ]
    },
    {
      "cell_type": "markdown",
      "metadata": {
        "id": "M8eyuxMgJUJS"
      },
      "source": [
        "After searching online and comparing to the Amazon listings, I found that the products are not actually duplicates but rather different variations of the same product (in this case, the game \"Sims 4\").\n",
        "\n",
        "This is understandable, given that we have both the asin and parent_asin codes, which indicate that different product variations exist but are linked to the same overarching product.\n",
        "\n",
        "Since our metadata only includes the parent_asin (and not the specific asin for variations), we need to consolidate these \"duplicates\" into a single entry to minimize the risk of introducing bias into our data.\n",
        "\n",
        "To address this, we will retain only the most recent review by a user for each product. While this approach may not account for all reviews written by a user, it ensures that the data remains relevant and reduces potential bias."
      ]
    },
    {
      "cell_type": "code",
      "execution_count": null,
      "metadata": {
        "colab": {
          "base_uri": "https://localhost:8080/"
        },
        "id": "nnUXvEdgMgNv",
        "outputId": "f1fc269a-0781-4406-ac39-4033d4b9340c"
      },
      "outputs": [],
      "source": [
        "print(f\"Number of rows before: {len(df_reviews)}\")"
      ]
    },
    {
      "cell_type": "code",
      "execution_count": null,
      "metadata": {
        "colab": {
          "base_uri": "https://localhost:8080/"
        },
        "id": "uoPfyEw4JTyN",
        "outputId": "471c9d01-4389-43fe-e183-a225f8db50b8"
      },
      "outputs": [],
      "source": [
        "# Sort by user_id, parent_asin, and timestamp (descending)\n",
        "df_reviews = df_reviews.sort_values(by=['user_id', 'parent_asin', 'timestamp'], ascending=[True, True, False])\n",
        "\n",
        "# Keep only the most recent review for each user_id and parent_asin\n",
        "df_reviews = df_reviews.drop_duplicates(subset=['user_id', 'parent_asin'], keep='first')\n",
        "\n",
        "print(f\"Number of rows after: {len(df_reviews)}\")"
      ]
    },
    {
      "cell_type": "markdown",
      "metadata": {
        "id": "sNVYS3SNNecs"
      },
      "source": [
        "We dropped approximately 13,000 rows in the process. While this is not a small amount, it ensures better data quality and prevents the overrepresentation of specific products.\n",
        "\n",
        "Now, let's check if any duplicates remain."
      ]
    },
    {
      "cell_type": "code",
      "execution_count": null,
      "metadata": {
        "colab": {
          "base_uri": "https://localhost:8080/"
        },
        "id": "2vR4HB4hOTUD",
        "outputId": "25fc3a74-b4e9-4afc-9138-cbde531d117f"
      },
      "outputs": [],
      "source": [
        "# Display duplicate rows across all columns\n",
        "duplicate_rows = df_reviews[df_reviews.duplicated()]\n",
        "print(\"Duplicate rows across all columns:\")\n",
        "print(duplicate_rows)\n",
        "\n",
        "# Display duplicate rows based on specific columns\n",
        "duplicate_rows_specific = df_reviews[df_reviews.duplicated(subset=['user_id', 'parent_asin'])]\n",
        "print(\"Duplicate rows based on user_id and parent_asin:\")\n",
        "print(duplicate_rows_specific)\n"
      ]
    },
    {
      "cell_type": "markdown",
      "metadata": {
        "id": "F2Lh-IrROwTV"
      },
      "source": [
        "No duplicate rows or duplicate reviews from users for specific products were found. Therefore, we can now proceed to gain a beeter understanding of our data using visualization tools and analysing it."
      ]
    },
    {
      "cell_type": "markdown",
      "metadata": {
        "id": "xkNadTH28PQE"
      },
      "source": [
        "## Initial Data Exploration\n",
        "\n",
        "We begin with a preliminary exploration of the data to identify potential issues and interesting patterns worth investigating further. Based on the insights gained, we will create a refined subset of the data for more advanced exploratory data analysis (EDA). This approach addresses both computational efficiency constraints and the high sparsity of the raw data, ensuring a more focused and effective analysis.\n",
        "\n",
        "We'll start with the reviews dataset:"
      ]
    },
    {
      "cell_type": "markdown",
      "metadata": {
        "id": "6E2Ruv1ncPuQ"
      },
      "source": [
        "### The Reviews Dataset"
      ]
    },
    {
      "cell_type": "markdown",
      "metadata": {
        "id": "Isca0dZMdWhG"
      },
      "source": [
        "For our reviews dataset lets see the distribution  of ratings in the data:"
      ]
    },
    {
      "cell_type": "code",
      "execution_count": null,
      "metadata": {
        "colab": {
          "base_uri": "https://localhost:8080/",
          "height": 457
        },
        "id": "Mc7AWQ4Z8SfY",
        "outputId": "ab826b89-d77a-4a29-a556-976c2b281c11"
      },
      "outputs": [],
      "source": [
        "# Calculate the distribution of ratings\n",
        "ratings_distribution = df_reviews['rating'].value_counts().sort_index()\n",
        "\n",
        "# Plot the distribution\n",
        "plt.figure(figsize=(10, 6))\n",
        "bars = plt.bar(ratings_distribution.index, ratings_distribution.values, color='skyblue', width=0.6)\n",
        "\n",
        "# Add annotations (number of reviews) on top of each bar\n",
        "for bar in bars:\n",
        "    height = bar.get_height()\n",
        "    plt.text(bar.get_x() + bar.get_width() / 2, height, f'{int(height)}', ha='center', va='bottom')\n",
        "\n",
        "# Customize the plot\n",
        "plt.title('Ratings Distribution', fontsize=16)\n",
        "plt.xlabel('Rating', fontsize=14)\n",
        "plt.ylabel('Number of Reviews', fontsize=14)\n",
        "plt.xticks(ratings_distribution.index)\n",
        "plt.grid(axis='y', linestyle='--', alpha=0.7)\n",
        "plt.tight_layout()\n",
        "\n",
        "# Show the plot\n",
        "plt.show()"
      ]
    },
    {
      "cell_type": "markdown",
      "metadata": {
        "id": "GlwSxVMn8YU3"
      },
      "source": [
        "The distribution of ratings reveals that the vast majority of reviews have a rating of **5.0** (1,982,589), significantly higher than the combined total for ratings of **1.0**, **2.0**, **3.0**, and **4.0** (1,196,289). This indicates a strong skew towards positive ratings, especially the **5.0** rating. Such a distribution could introduce bias in any models trained on this data, as the prevalence of highly positive ratings might overshadow other ratings.\n",
        "\n",
        "Additionally, there is a relatively small number of ratings in the **2.0–3.0** range, suggesting that users tend to gravitate towards more extreme ratings (**1.0** or **5.0**) to express their satisfaction or dissatisfaction. This polarization in user feedback highlights the need for careful consideration when preprocessing and analyzing the data.\n",
        "\n",
        "These findings should be taken into account in subsequent steps to mitigate potential bias and ensure more balanced model outcomes"
      ]
    },
    {
      "cell_type": "markdown",
      "metadata": {
        "id": "9yqydK4ngX5O"
      },
      "source": [
        "We move to exanine the length of users reviews."
      ]
    },
    {
      "cell_type": "code",
      "execution_count": null,
      "metadata": {
        "colab": {
          "base_uri": "https://localhost:8080/",
          "height": 206
        },
        "id": "W03Ju6s1j4Vt",
        "outputId": "5a715e18-d6ca-464b-f658-c79935795154"
      },
      "outputs": [],
      "source": [
        "# Create a new column for review length\n",
        "df_reviews['review_length'] = df_reviews['text'].str.len()\n",
        "\n",
        "# Display the first few rows to verify\n",
        "df_reviews[['text', 'review_length']].head()\n",
        "\n"
      ]
    },
    {
      "cell_type": "code",
      "execution_count": null,
      "metadata": {
        "colab": {
          "base_uri": "https://localhost:8080/",
          "height": 571
        },
        "id": "VfLSDAR5iiFe",
        "outputId": "44a09d98-6066-4206-9765-a0356b9136be"
      },
      "outputs": [],
      "source": [
        "\n",
        "# Plot the histogram of review lengths\n",
        "plt.figure(figsize=(8, 6))\n",
        "plt.hist(df_reviews['review_length'], bins=30, edgecolor='black', color='skyblue')\n",
        "plt.title('Distribution of Review Lengths', fontsize=16)\n",
        "plt.xlabel('Review Length (Number of Characters)', fontsize=14)\n",
        "plt.ylabel('Frequency', fontsize=14)\n",
        "plt.grid(axis='y', linestyle='--', alpha=0.7)\n",
        "plt.show()\n",
        "\n",
        "\n"
      ]
    },
    {
      "cell_type": "markdown",
      "metadata": {
        "id": "8snZI-3YkdI4"
      },
      "source": [
        "Clearly there are a very small number of reviews that are outliners in the data with above 5000 charachters.\n",
        "\n",
        "We'll decide to find the limit that 95% of the reviews are shorther then and see the updated distributaion."
      ]
    },
    {
      "cell_type": "code",
      "execution_count": null,
      "metadata": {
        "colab": {
          "base_uri": "https://localhost:8080/"
        },
        "id": "1E4fWCjslNoM",
        "outputId": "7cc06309-59bf-428e-d06c-11b59c9295ee"
      },
      "outputs": [],
      "source": [
        "# Calculate the 95th percentile of review lengths\n",
        "length_95th_percentile = df_reviews['review_length'].quantile(0.95)\n",
        "print(f\"95% of reviews are shorter than {length_95th_percentile} characters.\")"
      ]
    },
    {
      "cell_type": "code",
      "execution_count": null,
      "metadata": {
        "colab": {
          "base_uri": "https://localhost:8080/",
          "height": 571
        },
        "id": "6IZkTZd8lWa1",
        "outputId": "469cfafd-f234-43f3-b573-20fe31ffa8a0"
      },
      "outputs": [],
      "source": [
        "\n",
        "# Filter reviews with less than 1172 characters\n",
        "filtered_reviews = df_reviews[df_reviews['review_length'] < 1172]\n",
        "\n",
        "# Plot histogram of the filtered review lengths\n",
        "plt.figure(figsize=(8, 6))\n",
        "plt.hist(filtered_reviews['review_length'], bins=30, edgecolor='black', color='skyblue')\n",
        "plt.title('Distribution of Reviews with Less Than 1172 Characters', fontsize=16)\n",
        "plt.xlabel('Review Length (Number of Characters)', fontsize=14)\n",
        "plt.ylabel('Frequency', fontsize=14)\n",
        "plt.grid(axis='y', linestyle='--', alpha=0.7)\n",
        "plt.show()\n"
      ]
    },
    {
      "cell_type": "code",
      "execution_count": null,
      "metadata": {
        "colab": {
          "base_uri": "https://localhost:8080/",
          "height": 571
        },
        "id": "IVPYn5FSjdgA",
        "outputId": "8087cf0f-c69a-41b9-9fc9-bbf8efb0041b"
      },
      "outputs": [],
      "source": [
        "\n",
        "# Boxplot to analyze review length vs. rating\n",
        "plt.figure(figsize=(8, 6))\n",
        "sns.boxplot(x='rating', y=filtered_reviews['review_length'], data=filtered_reviews)\n",
        "plt.title('Review Length by Rating', fontsize=16)\n",
        "plt.xlabel('Rating', fontsize=14)\n",
        "plt.ylabel('Review Length (Number of Characters)', fontsize=14)\n",
        "plt.grid(axis='y', linestyle='--', alpha=0.7)\n",
        "plt.show()\n"
      ]
    },
    {
      "cell_type": "markdown",
      "metadata": {
        "id": "ChoDq8p8mwYV"
      },
      "source": [
        "From these results, we observe that reviews with ratings of **1** or **5** tend to be shorter compared to those with ratings of **2**, **3**, or **4**. This suggests that users are more descriptive when they have mixed feelings about a game, as they are likely elaborating on both positive and negative aspects.\n",
        "\n",
        "Unsurprisingly, shorter reviews are more common than longer ones, a trend that is consistent across all ratings, as shown in the graph.\n",
        "\n",
        "The insights gained from reviews with ratings of **2**, **3**, and **4** could be particularly useful for companies aiming to improve their products. These reviews are often more balanced and informative, providing valuable feedback from customers that highlights both strengths and areas for improvement."
      ]
    },
    {
      "cell_type": "markdown",
      "metadata": {
        "id": "JCutfg7_pkZe"
      },
      "source": [
        "We will now explore the relationship between the number of reviews submitted over time. This analysis can provide valuable insights into how different time periods influence review trends"
      ]
    },
    {
      "cell_type": "code",
      "execution_count": null,
      "metadata": {
        "colab": {
          "base_uri": "https://localhost:8080/",
          "height": 418
        },
        "id": "xd34JyROqfzS",
        "outputId": "5f27dcc7-c4bf-4273-a2fa-bfa7a5c1836c"
      },
      "outputs": [],
      "source": [
        "\n",
        "# Group by date and count the number of reviews per day\n",
        "reviews_per_day = df_reviews.groupby(df_reviews['timestamp'].dt.date).size()\n",
        "\n",
        "# Plot the time series of reviews per day\n",
        "plt.figure(figsize=(12, 6))\n",
        "reviews_per_day.plot(kind='line', marker='o', linestyle='-')\n",
        "plt.title('Number of Reviews Over Time', fontsize=16)\n",
        "plt.xlabel('Date', fontsize=14)\n",
        "plt.ylabel('Number of Reviews', fontsize=14)\n",
        "plt.grid(axis='y', linestyle='--', alpha=0.7)\n",
        "plt.show()\n"
      ]
    },
    {
      "cell_type": "markdown",
      "metadata": {
        "id": "16Nl4hOrzM1g"
      },
      "source": [
        "It is clear that the majority of reviews have been submitted betweenn 2012 and 2022, lets look more spesificly on this time period and divide it by quarters to have more significant insights."
      ]
    },
    {
      "cell_type": "code",
      "execution_count": null,
      "metadata": {
        "colab": {
          "base_uri": "https://localhost:8080/",
          "height": 330
        },
        "id": "nm_b_sny0Xis",
        "outputId": "0adef329-2409-4acd-dcf3-54a691ebcc19"
      },
      "outputs": [],
      "source": [
        "# Filter the dataset for reviews between 2012 and 2022\n",
        "filtered_reviews = df_reviews[(df_reviews['timestamp'] >= '2012-01-01') & (df_reviews['timestamp'] <= '2022-12-31')]\n",
        "\n",
        "\n",
        "# Group by quarter and count the number of reviews\n",
        "reviews_per_quarter = filtered_reviews.groupby(filtered_reviews['timestamp'].dt.to_period('Q')).size()\n",
        "\n",
        "# Create a bar chart with different colors for each quarter\n",
        "quarters = reviews_per_quarter.index.astype(str)\n",
        "values = reviews_per_quarter.values\n",
        "\n",
        "# Define colors for the four quarters\n",
        "colors = ['skyblue', 'orange', 'green', 'purple']\n",
        "quarter_colors = [colors[int(q[-1])-1] for q in quarters]  # Assign color based on the quarter (Q1, Q2, etc.)\n",
        "\n",
        "# Plot\n",
        "plt.figure(figsize=(14, 6))\n",
        "plt.bar(quarters, values, color=quarter_colors, width=0.8)\n",
        "plt.title('Number of Reviews Per Quarter (2012-2022)', fontsize=16)\n",
        "plt.xlabel('Quarter', fontsize=14)\n",
        "plt.ylabel('Number of Reviews', fontsize=14)\n",
        "plt.xticks(rotation=45, fontsize=10)\n",
        "plt.grid(axis='y', linestyle='--', alpha=0.7)\n",
        "plt.tight_layout()\n",
        "plt.show()\n",
        "\n"
      ]
    },
    {
      "cell_type": "markdown",
      "metadata": {
        "id": "TN_9Rlvc1kFJ"
      },
      "source": [
        "From this analysis, we can draw several insights:\n",
        "\n",
        "1.  **Steady Growth**: The number of reviews increased steadily from 2012 to 2020, indicating significant growth in the platform's user base or the overall market during this period.\n",
        "\n",
        "2.  **High Activity in Q1**: Q1 consistently shows the highest review activity across most years. This is likely due to its proximity to the holiday season and the impact of post-holiday sales, which drive increased user engagement.\n",
        "\n",
        "3.  **Consistent Quarterly Patterns**: The relative distribution of reviews across quarters remains consistent, with Q1 and Q4 typically outperforming Q2 and Q3. These predictable, recurring trends can be valuable for companies planning game releases or marketing strategies to align with peak activity periods.\n",
        "\n",
        "While these insights may not directly enhance our understanding of the data for building a recommendation system, they offer significant value from a business perspective. Companies can use this information to strategically schedule release dates and promotional events to maximize user engagement and the number of reviews.\n",
        "\n",
        "Later, using the metadata, we will explore a more intriguing aspect: whether the timing of reviews has an impact on the ratings."
      ]
    },
    {
      "cell_type": "markdown",
      "metadata": {
        "id": "4dMFBT2b4qsj"
      },
      "source": [
        "Next we will explore the relationship between the reviews ratings and how many helpful votes it got.\n",
        "\n"
      ]
    },
    {
      "cell_type": "code",
      "execution_count": null,
      "metadata": {
        "colab": {
          "base_uri": "https://localhost:8080/",
          "height": 485
        },
        "id": "kIX4nl764qNf",
        "outputId": "27f3762f-8d2c-40a2-a686-dc5215adf777"
      },
      "outputs": [],
      "source": [
        "\n",
        "# Scatter plot of ratings vs. helpful votes\n",
        "plt.figure(figsize=(10, 6))\n",
        "plt.scatter(df_reviews['rating'], df_reviews['helpful_vote'], alpha=0.5, color='blue')\n",
        "plt.title('Relationship Between Ratings and Helpful Votes', fontsize=16)\n",
        "plt.xlabel('Rating', fontsize=14)\n",
        "plt.ylabel('Number of Helpful Votes', fontsize=14)\n",
        "plt.grid(True, linestyle='--', alpha=0.5)\n",
        "plt.show()\n"
      ]
    },
    {
      "cell_type": "markdown",
      "metadata": {
        "id": "FX85RRV07V3t"
      },
      "source": [
        "We see that some reviews, particularly for ratings of 1 and 5, have an extremely high number of helpful votes (e.g., above 4000). These likely represent reviews that resonated strongly with the community, either for being highly critical or highly positive. Most reviews, regardless of rating, tend to have low helpful vote counts (clustered near 0). This suggests that the majority of reviews receive little community feedback in terms of helpfulness.\n",
        "\n",
        "No clear correlation can be observed between the number of votes and the rating, because of that we will look for a more aggregated analysis in the form of finding the average helpful votes per rating:\n"
      ]
    },
    {
      "cell_type": "code",
      "execution_count": null,
      "metadata": {
        "colab": {
          "base_uri": "https://localhost:8080/",
          "height": 619
        },
        "id": "61bcoe_i6C3-",
        "outputId": "83a0223d-cabf-404c-e9b6-984cfc2c586d"
      },
      "outputs": [],
      "source": [
        "# Calculate average helpful votes per rating\n",
        "avg_helpful_votes = df_reviews.groupby('rating')['helpful_vote'].mean()\n",
        "\n",
        "print(avg_helpful_votes)\n",
        "\n",
        "# Plot average helpful votes per rating\n",
        "avg_helpful_votes.plot(kind='bar', color='skyblue', figsize=(10, 6))\n",
        "plt.title('Average Number of Helpful Votes per Rating', fontsize=16)\n",
        "plt.xlabel('Rating', fontsize=14)\n",
        "plt.ylabel('Average Helpful Votes', fontsize=14)\n",
        "plt.grid(axis='y', linestyle='--', alpha=0.7)\n",
        "plt.show()\n"
      ]
    },
    {
      "cell_type": "markdown",
      "metadata": {
        "id": "lGqoMK7S8Po2"
      },
      "source": [
        "From this, we can understand that the most helpful reviews, on average, are those with a rating of **1**, with a clear decreasing trend in helpful votes as ratings increase from **1** to **5**. This suggests that **negative reviews** tend to resonate more with users and garner more attention.\n",
        "\n",
        "Additionally, the abundance of reviews with a rating of 5 as seen before may not solely reflect product quality or user satisfaction. Instead, it could also result from poorly rated products being purchased and reviewed less frequently, as negative reviews likely deter potential buyers.\n",
        "\n",
        "This further supports the idea of implementing **weighted reviews**, where lower-rated reviews have greater influence than higher-rated ones. Moreover, incorporating helpful votes into the weighting process could enhance its effectiveness, as these votes indicate reviews that have a stronger impact on user decisions.\n",
        "\n",
        "Additionally, at a later stage with a smaller, more refined dataset, conducting **sentiment** or **keyword analysis** on highly helpful reviews could prove informative. This approach would help identify recurring themes or specific issues that resonate with users, offering valuable insights for both product improvement and recommendation strategies. Given the size of the current dataset, performing such analysis now would be computationally problematic, making it more practical to focus on a reduced dataset for this purpose."
      ]
    },
    {
      "cell_type": "markdown",
      "metadata": {
        "id": "BJYjALIjAnH4"
      },
      "source": [
        "Now we move on to the meta dataset"
      ]
    },
    {
      "cell_type": "markdown",
      "metadata": {
        "id": "CE5sfaVugMeN"
      },
      "source": [
        "### The MetaData Dataset"
      ]
    },
    {
      "cell_type": "markdown",
      "metadata": {
        "id": "Qy9K-zgp8Zl-"
      },
      "source": [
        "We will visualize the distribution of game ratings based on the metadata."
      ]
    },
    {
      "cell_type": "code",
      "execution_count": null,
      "metadata": {
        "colab": {
          "base_uri": "https://localhost:8080/",
          "height": 457
        },
        "id": "exbPvI8w8kIK",
        "outputId": "47b206a3-79d5-47ce-8f92-d8de04707b73"
      },
      "outputs": [],
      "source": [
        "# Extract and plot the distribution of game ratings\n",
        "plt.figure(figsize=(10, 6))\n",
        "sns.histplot(df_meta['average_rating'], bins=20, kde=True, color='skyblue')\n",
        "\n",
        "# Add titles and labels\n",
        "plt.title('Distribution of Game Ratings in Metadata', fontsize=16)\n",
        "plt.xlabel('Average Rating', fontsize=14)\n",
        "plt.ylabel('Frequency', fontsize=14)\n",
        "plt.grid(axis='y', linestyle='--', alpha=0.7)\n",
        "plt.tight_layout()\n",
        "\n",
        "# Show the plot\n",
        "plt.show()\n"
      ]
    },
    {
      "cell_type": "markdown",
      "metadata": {
        "id": "2FYsMx1f8myc"
      },
      "source": [
        "As expected from the reviews dataset, the results show a clear skew toward high ratings, with the majority of games rated between **4.0** and **4.75**. In contrast, lower ratings are much less frequent, with **1.0** being the most common among ratings below **3.0**. This suggests that while games are generally perceived positively, those that are poorly received tend to receive the lowest possible score from users.\n",
        "\n",
        "These findings reinforce the suspicion that the dataset is biased toward higher ratings. This imbalance will need to be addressed in future steps, either by normalizing or balancing the dataset used for modeling or by applying weight adjustments during the modeling process to mitigate the impact of the skewed distribution.\n"
      ]
    },
    {
      "cell_type": "markdown",
      "metadata": {
        "id": "pbZkAqps3qWK"
      },
      "source": [
        "Next we will inspect the column of \"price\"."
      ]
    },
    {
      "cell_type": "code",
      "execution_count": null,
      "metadata": {
        "colab": {
          "base_uri": "https://localhost:8080/"
        },
        "id": "cZdCUBRH3wUG",
        "outputId": "23f4d320-c92d-4e9c-8be6-22a734a4c324"
      },
      "outputs": [],
      "source": [
        "print(df_meta['price'].dtype)  # Check the data type of the column\n"
      ]
    },
    {
      "cell_type": "code",
      "execution_count": null,
      "metadata": {
        "colab": {
          "base_uri": "https://localhost:8080/"
        },
        "id": "INBdBEEA4AEa",
        "outputId": "75494899-7989-415a-c68e-0aee00f48e03"
      },
      "outputs": [],
      "source": [
        "non_numeric_prices = df_meta[~df_meta['price'].astype(str).str.isnumeric()]\n",
        "print(non_numeric_prices['price'])  # Display a sample of non-numeric values\n"
      ]
    },
    {
      "cell_type": "code",
      "execution_count": null,
      "metadata": {
        "colab": {
          "base_uri": "https://localhost:8080/"
        },
        "id": "DLKH6Cyd4f-0",
        "outputId": "8605a821-3555-44cb-9e80-0da7d4e0e0a3"
      },
      "outputs": [],
      "source": [
        "# Convert 'price' to numeric, coercing errors to NaN\n",
        "df_meta['price_numeric'] = pd.to_numeric(df_meta['price'], errors='coerce')\n",
        "\n",
        "# Check the result\n",
        "print(df_meta[['price', 'price_numeric']].head(10))\n"
      ]
    },
    {
      "cell_type": "markdown",
      "metadata": {
        "id": "Z3GtmP9o0kx5"
      },
      "source": [
        "We move now to inspecting the relatioship between games ratings and thire price."
      ]
    },
    {
      "cell_type": "code",
      "execution_count": null,
      "metadata": {
        "colab": {
          "base_uri": "https://localhost:8080/",
          "height": 507
        },
        "id": "WcfZUqyx2UGt",
        "outputId": "5ec26cfd-da6a-43af-acb4-70ad98c76d43"
      },
      "outputs": [],
      "source": [
        "# Ensure ratings and prices are cleaned (drop missing or invalid data)\n",
        "df_filtered = df_meta[['price_numeric', 'average_rating']].dropna()\n",
        "\n",
        "# Scatter plot with a regression line\n",
        "plt.figure(figsize=(12, 8))\n",
        "sns.scatterplot(data=df_filtered, x='average_rating', y='price_numeric', alpha=0.6, s=80, edgecolor='w', linewidth=0.5)\n",
        "sns.regplot(data=df_filtered, x='average_rating', y='price_numeric', scatter=False, color='red', ci=None)\n",
        "\n",
        "# Add plot details\n",
        "plt.title('Relationship Between Game Ratings and Prices', fontsize=16)\n",
        "plt.xlabel('Rating', fontsize=14)\n",
        "plt.ylabel('Price ($)', fontsize=14)\n",
        "plt.grid(True, linestyle='--', alpha=0.6)\n",
        "\n",
        "# Calculate and display correlation coefficient\n",
        "correlation = np.corrcoef(df_filtered['average_rating'], df_filtered['price_numeric'])[0, 1]\n",
        "plt.text(4.5, max(df_filtered['price_numeric']) * 0.9, f'Correlation: {correlation:.2f}', fontsize=12, color='red')\n",
        "\n",
        "plt.tight_layout()\n",
        "plt.show()"
      ]
    },
    {
      "cell_type": "markdown",
      "metadata": {
        "id": "4vLLmM8PBcRI"
      },
      "source": [
        "We see the items range from **0** to **3500** USD in price, this range seems a bit too wide, especially considering the wide majority is under **500** USD. Due to this we will look for items over **500** USD more closly and see what we can understand from that."
      ]
    },
    {
      "cell_type": "code",
      "execution_count": null,
      "metadata": {
        "colab": {
          "base_uri": "https://localhost:8080/",
          "height": 1000
        },
        "id": "okS84N6p_i7m",
        "outputId": "c9370b93-abd5-4342-e0a3-1155f1698d8a"
      },
      "outputs": [],
      "source": [
        "high_price_items = df_meta[df_meta['price_numeric'] > 500]\n",
        "high_price_items.head(20)"
      ]
    },
    {
      "cell_type": "markdown",
      "metadata": {
        "id": "KnDemQsUCbKp"
      },
      "source": [
        "Upon closer examination and further research, it becomes clear—particularly from some of the product names—that the primary driver of price in many cases is that the items are gaming consoles or accessories for gaming computers or consoles, rather than classic video games.\n",
        "\n",
        "Later on using other features we will drop items that are not games, making the analysis based on price more informative."
      ]
    },
    {
      "cell_type": "markdown",
      "metadata": {
        "id": "QOO-ekQ20iZU"
      },
      "source": [
        "Next on our meta data we will visualize the \"store\" information:"
      ]
    },
    {
      "cell_type": "code",
      "execution_count": null,
      "metadata": {
        "colab": {
          "base_uri": "https://localhost:8080/",
          "height": 419
        },
        "id": "jo2jcPgN8vf1",
        "outputId": "182e504a-a069-4969-fa53-2cb054908e03"
      },
      "outputs": [],
      "source": [
        "# Count the total number of unique stores\n",
        "total_stores = df_meta['store'].nunique()\n",
        "print(f\"Total number of unique stores: {total_stores}\")\n",
        "\n",
        "# Identify the top 10 stores by frequency\n",
        "top_stores = df_meta['store'].value_counts().head(10)\n",
        "\n",
        "# Visualize the top 10 stores (adjusted to avoid the FutureWarning)\n",
        "plt.figure(figsize=(12, 6))\n",
        "sns.barplot(x=top_stores.values, y=top_stores.index, hue=top_stores.index, dodge=False, legend=False)\n",
        "\n",
        "# Add labels and title\n",
        "plt.title('Top 10 Stores by Frequency', fontsize=16)\n",
        "plt.xlabel('Number of Games', fontsize=14)\n",
        "plt.ylabel('Store Name', fontsize=14)\n",
        "plt.tight_layout()\n",
        "\n",
        "# Show the plot\n",
        "plt.show()\n",
        "\n",
        "\n",
        "# Print the total number of games in the top 10 stores\n",
        "total_games_top_10 = top_stores.values.sum()\n",
        "print(f\"Total number of games in the top 10 stores: {total_games_top_10}\")\n"
      ]
    },
    {
      "cell_type": "markdown",
      "metadata": {
        "id": "vnesKTxW8qzt"
      },
      "source": [
        "The most common store in the dataset is the \"Nintendo\" store with almost double the amount of games as the second one. This can imply the high precence of Nintendo in the gaming market.\n",
        "\n",
        "Additionally, the presence of well-known gaming companies in the top 10 stores provides valuable insights into which companies dominate the gaming industry and release the most titles.\n",
        "\n",
        "Next we will see the relationship between the stores and their avarage game ratings in order to Identify stores associated with higher or lower user satisfaction. We will limit it to stores with above 50 games at least beacuse of the amount of stores needed to be taken into account and reducing bias due to small number of values to check on.\n"
      ]
    },
    {
      "cell_type": "code",
      "execution_count": null,
      "metadata": {
        "colab": {
          "base_uri": "https://localhost:8080/",
          "height": 437
        },
        "id": "G0GseBuG9AF4",
        "outputId": "89540dac-196e-4eda-b119-9a6c5c1f0f84"
      },
      "outputs": [],
      "source": [
        "import matplotlib.pyplot as plt\n",
        "\n",
        "# Step 1: Filter stores with at least 50 games\n",
        "store_counts = df_meta['store'].value_counts()\n",
        "stores_with_min_games = store_counts[store_counts >= 50].index\n",
        "filtered_df = df_meta[df_meta['store'].isin(stores_with_min_games)]\n",
        "\n",
        "# Step 2: Calculate the average rating for each store\n",
        "avg_ratings_by_store = filtered_df.groupby('store')['average_rating'].mean()\n",
        "\n",
        "# Step 3: Mark the top 10 stores from the previous analysis\n",
        "top_10_stores = ['Nintendo', 'Amazon Renewed', 'Electronic Arts', 'SEGA',\n",
        "                 'Ubisoft', 'Sony', 'ACTIVISION', 'BANDAI NAMCO Entertainment',\n",
        "                 'Microsoft', 'PlayStation']\n",
        "\n",
        "# Step 4: Create the dot chart\n",
        "plt.figure(figsize=(14, 8))\n",
        "all_stores = avg_ratings_by_store.index\n",
        "plt.scatter(avg_ratings_by_store.values, all_stores, label='All Stores', alpha=0.6, color='gray')\n",
        "\n",
        "# Highlight top 10 stores\n",
        "for store in top_10_stores:\n",
        "    if store in avg_ratings_by_store.index:\n",
        "        plt.scatter(avg_ratings_by_store[store], store, color='red', label='Top 10 Store' if store == top_10_stores[0] else \"\")\n",
        "\n",
        "# Add labels and title\n",
        "plt.title('Average Ratings by Store (Stores with at least 50 games)', fontsize=16)\n",
        "plt.xlabel('Average Rating', fontsize=14)\n",
        "plt.ylabel('Store', fontsize=14)\n",
        "plt.legend(loc='lower right')\n",
        "plt.tight_layout()\n",
        "plt.show()\n"
      ]
    },
    {
      "cell_type": "markdown",
      "metadata": {
        "id": "B4CwwV4d_yXh"
      },
      "source": [
        "From this chart, we observe that all the top 10 stores have an average rating above **4.0**, suggesting that they not only offer a wide variety of games but also tend to sell games that are generally well-received by users.\n",
        "\n",
        "Additionally, the majority of stores with at least 50 games maintain an average rating above **4.0**. This implies that stores with a relatively high number of games tend to achieve decent user satisfaction levels.\n",
        "\n",
        "However, there are some outliers, with a few stores having an average rating below **3.25**. It may be beneficial to investigate these stores further to understand why their games are less well-received, as this could reveal issues such as poor game quality, mismatched user expectations, or other factors impacting user satisfaction.\n",
        "\n"
      ]
    },
    {
      "cell_type": "markdown",
      "metadata": {
        "id": "78bCwYkWPef9"
      },
      "source": [
        "Next, we will explore the relationship between the number of reviews and the average ratings for games over time.\n",
        "\n",
        "To illustrate these trends, we will select a specific game as an example and analyze its data to gain insights into the potential connection between ratings and subsequent review volumes. Afterward, we will generalize this analysis across all products to uncover broader, global patterns."
      ]
    },
    {
      "cell_type": "code",
      "execution_count": null,
      "metadata": {
        "colab": {
          "base_uri": "https://localhost:8080/",
          "height": 206
        },
        "id": "dkANBb6CP1dk",
        "outputId": "6c4352b4-fec2-43cc-da24-a54df987f20b"
      },
      "outputs": [],
      "source": [
        "import pandas as pd\n",
        "import matplotlib.pyplot as plt\n",
        "\n",
        "# Keep only the desired columns in df_reviews\n",
        "df_reviews_filtterd = df_reviews.filter(items=['parent_asin', 'rating', 'timestamp'])\n",
        "df_meta_filtterd = df_meta.filter(items=['parent_asin', 'rating_number'])\n",
        "\n",
        "df_merge = pd.merge(df_reviews_filtterd, df_meta_filtterd, on='parent_asin')\n",
        "\n",
        "df_merge.head()"
      ]
    },
    {
      "cell_type": "code",
      "execution_count": null,
      "metadata": {
        "id": "EBV_F_GNRxst"
      },
      "outputs": [],
      "source": [
        "\n",
        "\n",
        "# Extract month and year for grouping\n",
        "df_merge['month'] = df_merge['timestamp'].dt.to_period('M')\n"
      ]
    },
    {
      "cell_type": "code",
      "execution_count": null,
      "metadata": {
        "id": "DP-EQWPbR0dw"
      },
      "outputs": [],
      "source": [
        "# Aggregate data by product and month\n",
        "agg_data = df_merge.groupby(['parent_asin', 'month']).agg(\n",
        "    num_reviews=('rating', 'count'),\n",
        "    avg_rating=('rating', 'mean'),\n",
        "    total_rating_number=('rating_number', 'first')  # Assume constant over time\n",
        ").reset_index()\n"
      ]
    },
    {
      "cell_type": "code",
      "execution_count": null,
      "metadata": {
        "colab": {
          "base_uri": "https://localhost:8080/",
          "height": 497
        },
        "id": "zUfTPBuwR8tz",
        "outputId": "ca156e6a-8171-4015-ffd3-010b930f5c02"
      },
      "outputs": [],
      "source": [
        "import matplotlib.pyplot as plt\n",
        "\n",
        "# Plot trends for a specific product\n",
        "asin = 'B002BS47JE'\n",
        "product_data = agg_data[agg_data['parent_asin'] == asin]\n",
        "\n",
        "plt.figure(figsize=(10, 6))\n",
        "plt.plot(product_data['month'].dt.to_timestamp(), product_data['num_reviews'], label='Number of Reviews', marker='o')\n",
        "plt.plot(product_data['month'].dt.to_timestamp(), product_data['avg_rating'], label='Average Rating', marker='o')\n",
        "plt.xlabel('Month')\n",
        "plt.ylabel('Value')\n",
        "plt.title(f'Trends for Product {asin}')\n",
        "plt.legend()\n",
        "plt.grid()\n",
        "plt.show()\n"
      ]
    },
    {
      "cell_type": "code",
      "execution_count": null,
      "metadata": {
        "colab": {
          "base_uri": "https://localhost:8080/"
        },
        "id": "ylMrIGPoSsTw",
        "outputId": "e1c480f5-4ade-401b-efb0-dfc08efd9e89"
      },
      "outputs": [],
      "source": [
        "# Add lagged average rating\n",
        "agg_data['lagged_avg_rating'] = agg_data.groupby('parent_asin')['avg_rating'].shift(1)\n",
        "\n",
        "# Calculate correlation for a specific product\n",
        "lagged_corr = agg_data[agg_data['parent_asin'] == asin][['num_reviews', 'lagged_avg_rating']].corr()\n",
        "print(f\"Lagged correlation for product {asin}:\\n\", lagged_corr)\n",
        "\n",
        "# Group by product and calculate correlations\n",
        "def compute_lagged_correlation(group):\n",
        "    group['lagged_avg_rating'] = group['avg_rating'].shift(1)\n",
        "    return group[['num_reviews', 'lagged_avg_rating']].corr().iloc[0, 1]  # Correlation value\n",
        "\n",
        "\n",
        "correlation_results = agg_data.groupby('parent_asin', group_keys=False).apply(compute_lagged_correlation)\n",
        "print(\"Overall lagged correlation across products:\\n\", correlation_results)\n"
      ]
    },
    {
      "cell_type": "markdown",
      "metadata": {
        "id": "9g72Hy1ZWRHP"
      },
      "source": [
        "The results indicate that the lagged correlation (0.104825) between num_reviews and lagged_avg_rating is weakly positive. This suggests that higher ratings in a previous time period are marginally associated with an increase in the number of reviews in subsequent periods. While this relationship is not strong, it may point to a minor feedback loop where positive ratings encourage further engagement.\n",
        "\n",
        "For the overall lagged correlations across all products, we observe variability:\n",
        "\n",
        "*  The product with parent_asin **\"0060501960\"** shows a slightly positive correlation, indicating a weak positive relationship between previous ratings and future review volume. This could suggest that for some products, higher ratings slightly drive engagement.\n",
        "*  Conversely, the product with parent_asin **\"0072826843\"** exhibits a slightly negative correlation, indicating a weak negative relationship. This suggests that for this product, higher ratings in one period may slightly decrease review engagement in subsequent periods.\n",
        "\n",
        "\n",
        "A key observation is that many products have NaN correlations, indicating insufficient data to calculate lagged correlations (e.g., fewer than two time periods with reviews). This limits the ability to draw robust conclusions from the current dataset.\n",
        "\n",
        "Given these limitations, the insights from this analysis are preliminary. To improve the reliability of the findings, future work should:\n",
        "\n",
        "1.  **Filter Products with Insufficient Data**: Remove products with NaN correlations to ensure valid results.\n",
        "\n",
        "2.  **Incorporate Additional Factors**: Perform sentiment analysis on the review text to explore the influence of customer sentiment on review volume and engagement.\n",
        "\n",
        "These additional steps could help uncover stronger patterns and provide more actionable insights into the relationship between reviews and engagement."
      ]
    },
    {
      "cell_type": "markdown",
      "metadata": {
        "id": "I__7DR9R83pp"
      },
      "source": [
        "Next we explore \"catagories\"."
      ]
    },
    {
      "cell_type": "code",
      "execution_count": null,
      "metadata": {
        "colab": {
          "base_uri": "https://localhost:8080/"
        },
        "id": "wdEKm7wXBSXx",
        "outputId": "2784355e-f5a8-42c1-d83b-0ef452520377"
      },
      "outputs": [],
      "source": [
        "\n",
        "# Flatten the categories column to extract all unique categories\n",
        "all_categories = [category for sublist in df_meta['categories'] for category in sublist]\n",
        "\n",
        "# Count the frequency of each category\n",
        "from collections import Counter\n",
        "category_counts = Counter(all_categories)\n",
        "\n",
        "# Total number of unique categories\n",
        "total_unique_categories = len(category_counts)\n",
        "print(f\"Total number of unique categories: {total_unique_categories}\")"
      ]
    },
    {
      "cell_type": "code",
      "execution_count": null,
      "metadata": {
        "colab": {
          "base_uri": "https://localhost:8080/"
        },
        "id": "fd8NmDhhuEkD",
        "outputId": "d05eb5b6-4192-435f-aaf4-a7068c2462d5"
      },
      "outputs": [],
      "source": [
        "# most common categories to least sorted presentation\n",
        "most_common_categories = category_counts.most_common(166)\n",
        "print(\"\\nCategories sorted from most common to least:\")\n",
        "for category, count in most_common_categories:\n",
        "    print(f\"{category}: {count}\")"
      ]
    },
    {
      "cell_type": "markdown",
      "metadata": {
        "id": "xf7btL6TDcd4"
      },
      "source": [
        "From these results we understand that we have 166 catagories for the items in total and we can see some similarity in them, because if that we will decide to group by items from related catagories in order to have a better generalization.\n",
        "\n",
        "We will decide on 30 main catagories to group by and that being:"
      ]
    },
    {
      "cell_type": "code",
      "execution_count": null,
      "metadata": {
        "colab": {
          "base_uri": "https://localhost:8080/",
          "height": 625
        },
        "id": "6_W0hK7AKSna",
        "outputId": "bce13b73-299c-4974-c4ce-3b830b3b3bc0"
      },
      "outputs": [],
      "source": [
        "# Define the groups based on the suggested categories\n",
        "category_groups = {\n",
        "    \"Core Video Games\": [\"Video Games\", \"Games\", \"Games - Retro Gaming & Classics\", \"Game Genre of the Month\", \"Best Simulation/Strategy\",\n",
        "                         \"Video Games Clearance\", \"Bestselling in Renewed Video Games\"],\n",
        "    \"Accessories\": [\"Accessories\", \"Headsets\", \"Accessory Kits\", \"Video Games Accessories\" ,\n",
        "                    \"Gaming Headsets\", \"Cases\", \"Screen Protectors\", \"Cooling Systems\"\n",
        "                    \"Fitness Accessories\", \"Sensor Bars\", \"Eligible Accessories for Digital Game Attach Promotion\", \"Skins\",\n",
        "                    \"Remotes\", \"Protectors\"],\n",
        "    \"Consoles\": [\"Consoles\", \"Handheld Game Systems\", \"NEOGEO Pocket\", \"Microconsoles\", \"GEM Box\", \"NVIDIA SHIELD\"],\n",
        "    \"Nintendo Systems\": [\"Nintendo Systems\", \"Nintendo Switch\", \"Wii\", \"Nintendo DS\", \"Game Boy Systems\", \"Nintendo 3DS & 2DS\",\n",
        "                         \"Nintendo NES\", \"Super Nintendo\", \"Nintendo 64\", \"Wii U\" ],\n",
        "    \"PlayStation Systems\": [\"PlayStation Systems\", \"PlayStation 4\", \"PlayStation 2\", \"PlayStation 3\", \"PlayStation\", \"PlayStation 5\",\n",
        "                            \"Sony PSP\", \"PlayStation Vita\", \"AMG PS Vita Test Node\"],\n",
        "    \"Xbox Systems\": [\"Xbox Systems\", \"Xbox One\", \"Xbox 360\", \"Xbox\", \"Xbox Series X & S\", \"Video Games - Xbox 360 Kinect\", \"Xbox 360 Kinect Games\"],\n",
        "    \"Legacy Systems\": [\"Legacy Systems\", \"Commodore Systems\", \"TurboGrafx 16\", \"Intellivision\",\n",
        "                       \"3DO\", \"Ouya\", \"GameCube\"],\n",
        "    \"PC Gaming\": [\"PC\", \"Video & PC Games\", \"Linux Games\", \"Mac\", \"PC Games\"],\n",
        "    \"Sega Systems\": [\"Sega Systems\", \"Sega Genesis\", \"Sega Dreamcast\", \"Sega CD\", \"Sega Saturn\", \"Sega Master System\", \"Sega Game Gear\"],\n",
        "    \"Atari Systems\": [\"Atari Systems\", \"Atari 2600\", \"Atari 5200\", \"Atari 7800\", \"Atari Jaguar\", \"Atari Lynx\"],\n",
        "    \"Game Boy Systems\": [\"Game Boy Systems\", 'Game Boy', 'Game Boy Color', \"Game Boy Advance\"],\n",
        "    \"Digital Content\": [\"Digital Games - International\", \"Downloadable Content\", \"Xbox Digital Content\", \"PlayStation Digital Content\",\n",
        "                        \"Subscriptions\", \"Subscription Cards\", \"Store Currency Cards\", \"Points & Currency Cards\", \"Digital for the Holidays\",\n",
        "                        \"Online Game Services\", \"Xbox Live\", \"PlayStation Network\", \"Nintendo eShop\", \"Store Currency & Points Cards\",\n",
        "                        \"Digital Video Games\"],\n",
        "    \"VR (Virtual Reality)\": [\"Virtual Reality\", \"PlayStation VR Hardware\"],\n",
        "    \"Controllers & Input Devices\": [\"Controllers\", \"Gaming Mice\", \"Gaming Keyboards\",  \"Gamepads & Standard Controllers\", \"Keyboards\",\n",
        "                                    \"Motion Controllers\", \"Joysticks\", \"Racing Wheels\", \"Flight Controls\"],\n",
        "    \"Gaming Kits\": [\"Repair Tools & Replacement Parts\", \"Stylus Pens\", \"Hand Grips\", \"Thumb Grips\"],\n",
        "    \"Power and Batteries\": [ \"Batteries & Chargers\", \"Battery & Charger Sets\"],\n",
        "    \"Storage\": [\"Cases & Storage\" ,\"Memory\" , \"Storage\"],\n",
        "    \"Retro Gaming\": [\"Commodore Systems\", \"Commodore Amiga\", \"Commodore 64\"],\n",
        "    \"Game Genres\": [\"Command & Conquer\", \"Command & Conquer Merchandise\", \"The Sims\", \"The Sims Games\", \"Halo\", \"Ubisoft\", \"EA Games\" ],\n",
        "    \"Gaming Figures and Collectibles\": [\"Interactive Gaming Figures\"],\n",
        "    \"Kids and Family\": [\"Kids and Family\"],\n",
        "    \"Faceplates and Skins\": [\"Faceplates, Protectors & Skins\", \"Skin & Protector Sets\", \"Faceplates\"],\n",
        "    \"Game Music and Controllers\": [\"Music Controllers\", \"Drums\", \"Guitars\", \"Dance Pads\"],\n",
        "    \"Standalone Hardware\": [\"Standalone Hardware\"],\n",
        "    \"Cables and Adapters\": [\"Cables & Adapters\", \"Cables\", \"Adapters\", \"Chargers\", \"Batteries\"],\n",
        "    \"Mounts and Stands\": [\"Mounts, Brackets & Stands\"],\n",
        "    \"Game Awards and Guides\": [\"The Game Awards\", \"Gift Ideas\", \"Gift Guide - Action & Adventure\", \"Gift Guide - Sports Fanatic\" ],\n",
        "    \"Promotions\": [\"Value Games Under $10\", \"Value Games Under $20\", \"Value Games Under $30\",\n",
        "                   \"Spend $19.99 or above at checkout on select qualifying video games and receive the Apex Legends Starter Pack for free.\",\n",
        "                   \"Special Deals\", \"Prime Member Pre-Orders in Video Games\", \"Deals on Nominations 12/18/2022-12/23/2022\",\n",
        "                   \"The Best Holiday Deals in Video Games\", \"Save up to 30% on PowerA headsets\", \"2023 Most Anticipated\"],\n",
        "    \"Geographical Categories\": [\"Michigan\", \"United States\", \"Geography\", \"Carleton\"],\n",
        "    \"Miscellaneous\": [\"Disney Interactive Studios\",\"Cameras\", \"Cameras & Webcams\" ,\"Kindle and Books\", \"Purchase Circles\"],\n",
        "    \"Unkown\": [\"Missing Category\"]\n",
        "}\n",
        "\n",
        "# Create a new column to assign the group based on the rules\n",
        "def assign_group(categories):\n",
        "    if categories and categories[0] == \"Video Games\" and len(categories) > 1:\n",
        "      if categories and categories[1] == \"Legacy Systems\" and len(categories) > 2:\n",
        "        category = categories[2]\n",
        "      else:\n",
        "        category = categories[1]\n",
        "    else:\n",
        "        category = categories[0] if categories else 'Miscellaneous'\n",
        "    return next((group for group, items in category_groups.items() if category in items), 'Miscellaneous')\n",
        "\n",
        "df_meta['Category_Group'] = df_meta['categories'].apply(assign_group)\n",
        "\n",
        "# Display the updated DataFrame\n",
        "df_meta.head()\n"
      ]
    },
    {
      "cell_type": "code",
      "execution_count": null,
      "metadata": {
        "colab": {
          "base_uri": "https://localhost:8080/",
          "height": 840
        },
        "id": "sc3n_C7NPmYj",
        "outputId": "8326819a-7bde-43e3-c435-db43c9c5911b"
      },
      "outputs": [],
      "source": [
        "# View the distribution of the 'Category_Group' column\n",
        "distribution = df_meta['Category_Group'].value_counts()\n",
        "\n",
        "# Display the distribution\n",
        "print(distribution)\n",
        "\n",
        "plt.figure(figsize=(12, 6))\n",
        "distribution.plot(kind='bar')\n",
        "plt.title('Distribution of Category Groups')\n",
        "plt.xlabel('Category Group')\n",
        "plt.ylabel('Number of Listings')\n",
        "plt.xticks(rotation=45)\n",
        "plt.show()\n"
      ]
    },
    {
      "cell_type": "markdown",
      "metadata": {
        "id": "NEnZTv_zRJK1"
      },
      "source": [
        "We ultimately narrowed the dataset down to 18 category groups, with the primary factor distinguishing each group being related to a gaming systems (e.g., PC, Xbox, PlayStation, etc.). This structure aligns logically with both the data and the objectives of this project. Out of the 62,008 items, only 1167 (approximately 1.9%) are unrelated to any gaming platform. Given their negligible proportion and lack of relevance to our analysis, we have decided to exclude these items and proceed without them.\n",
        "\n",
        "In addition, the 'Unknown' classification applies to about 4.5% of our items. Due to the relatively low number and the lack of information gain from this category, we have decided to drop these items as well."
      ]
    },
    {
      "cell_type": "code",
      "execution_count": null,
      "metadata": {
        "colab": {
          "base_uri": "https://localhost:8080/"
        },
        "id": "nUc5oFeuT_yy",
        "outputId": "59e70bd5-6765-4655-93e5-b894c4291998"
      },
      "outputs": [],
      "source": [
        "# Define the groups to remove\n",
        "groups_to_remove = [\n",
        "    \"Consoles\", \"Core Video Games\", \"Promotions\",\n",
        "    \"VR (Virtual Reality)\", \"Miscellaneous\", \"Accessories\",\n",
        "    \"Game Genres\", \"Digital Content\", \"Kids and Family\", \"Game Awards and Guides\",\n",
        "    \"Unkown\"\n",
        "]\n",
        "\n",
        "items_to_remove = df_meta[df_meta['Category_Group'].isin(groups_to_remove)]['parent_asin']\n",
        "\n",
        "print(f\"Original meta count: {len(df_meta)}\")\n",
        "df_meta = df_meta[~df_meta['parent_asin'].isin(items_to_remove)]\n",
        "print(f\"Updated meta count: {len(df_meta)}\")\n",
        "\n",
        "print(f\"Original reviews count: {len(df_reviews)}\")\n",
        "df_reviews = df_reviews[~df_reviews['parent_asin'].isin(items_to_remove)]\n",
        "print(f\"Updated reviews count: {len(df_reviews)}\")"
      ]
    },
    {
      "cell_type": "code",
      "execution_count": null,
      "metadata": {
        "colab": {
          "base_uri": "https://localhost:8080/",
          "height": 642
        },
        "id": "5N4MVtUtTtZI",
        "outputId": "01147790-b89d-49ee-dc89-239328fc2398"
      },
      "outputs": [],
      "source": [
        "# View the distribution of the 'Category_Group' column\n",
        "distribution = df_meta['Category_Group'].value_counts()\n",
        "\n",
        "# Display the distribution\n",
        "print(distribution)\n",
        "\n",
        "plt.figure(figsize=(12, 6))\n",
        "distribution.plot(kind='bar')\n",
        "plt.title('Distribution of Category Groups')\n",
        "plt.xlabel('Category Group')\n",
        "plt.ylabel('Number of Listings')\n",
        "plt.xticks(rotation=45)\n",
        "plt.show()\n"
      ]
    },
    {
      "cell_type": "markdown",
      "metadata": {
        "id": "Eu_1-f2GTCEB"
      },
      "source": [
        "Ultimately, due to the distribution inside of the game category lists, we consolidated our initial 166 categories into just 7. These simplified categories will serve us for our recommendation system in later stages.\n",
        "\n",
        "In addition, the categories provide a key insight for achieving our goal: filtering out non-game items. Upon closer examination, we discovered a crucial pattern: **items classified as games consistently have the word \"Games\" as the last entry in their category list**. This characteristic distinguishes games from non-game items, allowing us to use it as a reliable filter. Leveraging this insight, we will refine our dataset to include only items classified as games."
      ]
    },
    {
      "cell_type": "code",
      "execution_count": null,
      "metadata": {
        "colab": {
          "base_uri": "https://localhost:8080/"
        },
        "id": "wkE6x82NlEx0",
        "outputId": "e5f3bfeb-3e77-4b2d-dabc-5c9d27546c82"
      },
      "outputs": [],
      "source": [
        "def assign_games(categories):\n",
        "  if not categories or len(categories) == 0:\n",
        "        return None  # Handle empty or None lists\n",
        "  return categories[-1]\n",
        "\n",
        "df_meta['games_Group'] = df_meta['categories'].apply(assign_games)\n",
        "\n",
        "df_meta = df_meta[df_meta['games_Group'] == 'Games']\n",
        "\n",
        "df_meta.info()\n",
        "\n"
      ]
    },
    {
      "cell_type": "code",
      "execution_count": null,
      "metadata": {
        "colab": {
          "base_uri": "https://localhost:8080/"
        },
        "id": "UbAlhgfYlbWn",
        "outputId": "205b4298-25f3-4434-e861-10c69be44aaf"
      },
      "outputs": [],
      "source": [
        "games_parent_asin_list = df_meta['parent_asin'].tolist()\n",
        "df_reviews = df_reviews[df_reviews['parent_asin'].isin(games_parent_asin_list)]\n",
        "df_reviews.info()"
      ]
    },
    {
      "cell_type": "markdown",
      "metadata": {
        "id": "HU6gkxftlDPd"
      },
      "source": [
        "Next we will explore the \"details\" column."
      ]
    },
    {
      "cell_type": "code",
      "execution_count": null,
      "metadata": {
        "colab": {
          "base_uri": "https://localhost:8080/"
        },
        "id": "qxdq4g9TT_1e",
        "outputId": "49edb4af-c384-4674-f934-665965810fa4"
      },
      "outputs": [],
      "source": [
        "# Flatten the all_details column to extract all unique all_details\n",
        "all_details = [detail for sublist in df_meta['details'] for detail in sublist]\n",
        "\n",
        "# Count the frequency of each all_detail\n",
        "from collections import Counter\n",
        "details_counts = Counter(all_details)\n",
        "\n",
        "# Total number of unique details\n",
        "total_unique_details = len(details_counts)\n",
        "print(f\"Total number of unique details: {total_unique_details}\")\n",
        "\n",
        "# most common details to least sorted presentation\n",
        "most_common_details = details_counts.most_common(50)\n",
        "print(\"\\ndetails sorted from most common to least:\")\n",
        "for detail, count in most_common_details:\n",
        "    print(f\"{detail}: {count}\")"
      ]
    },
    {
      "cell_type": "markdown",
      "metadata": {
        "id": "lVFPBiSzVBXL"
      },
      "source": [
        "The \"details\" column contains a large number of values that provide descriptive information about the listings, such as Date First Available, Manufacturer, and Item Weight. These values, while informative, add little value for building a recommendation system. Given their limited relevance and high redundancy, we have decided to drop this column to streamline the dataset and focus on more impactful features."
      ]
    },
    {
      "cell_type": "code",
      "execution_count": null,
      "metadata": {
        "id": "oJeG2azyWtUc"
      },
      "outputs": [],
      "source": [
        "# Drop the 'details' column from df_meta\n",
        "df_meta = df_meta.drop(columns=['details'])"
      ]
    },
    {
      "cell_type": "markdown",
      "metadata": {
        "id": "fjJkP1_GxO-e"
      },
      "source": [
        "Next we move to the \"features\" column."
      ]
    },
    {
      "cell_type": "code",
      "execution_count": null,
      "metadata": {
        "colab": {
          "base_uri": "https://localhost:8080/"
        },
        "id": "RJgglgHLxVPX",
        "outputId": "a1aa9547-fe3e-45ea-d83e-71ac7234efae"
      },
      "outputs": [],
      "source": [
        "# Flatten the all_features column to extract all unique all_features\n",
        "all_features = [feature for sublist in df_meta['features'] for feature in sublist]\n",
        "\n",
        "# Count the frequency of each all_features\n",
        "from collections import Counter\n",
        "features_counts = Counter(all_features)\n",
        "\n",
        "# Total number of unique features\n",
        "total_unique_features = len(features_counts)\n",
        "print(f\"Total number of unique features: {total_unique_features}\")\n",
        "\n",
        "# most common features to least sorted presentation\n",
        "most_common_features = features_counts.most_common(50)\n",
        "print(\"\\nfeatures sorted from most common to least:\")\n",
        "for feature, count in most_common_features:\n",
        "    print(f\"{feature}: {count}\")"
      ]
    },
    {
      "cell_type": "markdown",
      "metadata": {
        "id": "XxirlYpZzod2"
      },
      "source": [
        "These features as seen in this can add information related to the product in form of bullet points. Because of the potential added information it will be best to keep them and inspect on the possible added value from them later on."
      ]
    },
    {
      "cell_type": "code",
      "execution_count": null,
      "metadata": {
        "colab": {
          "base_uri": "https://localhost:8080/"
        },
        "id": "Kb8dolD1VBZ3",
        "outputId": "5ac1ad01-3b97-4555-85c4-599215354d89"
      },
      "outputs": [],
      "source": [
        "df_meta.info()"
      ]
    },
    {
      "cell_type": "markdown",
      "metadata": {
        "id": "UU_asqOCXH4L"
      },
      "source": [
        "Next, we will focus on gaining a deeper understanding of the data to identify the most suitable subset for building our recommendation system."
      ]
    },
    {
      "cell_type": "markdown",
      "metadata": {
        "id": "XvOursR5MuAK"
      },
      "source": [
        "testing testing testing"
      ]
    },
    {
      "cell_type": "code",
      "execution_count": null,
      "metadata": {
        "colab": {
          "base_uri": "https://localhost:8080/"
        },
        "id": "effo8K2dM0NM",
        "outputId": "a15ed106-4c01-4389-9ab6-6c68585d30e7"
      },
      "outputs": [],
      "source": [
        "# Filtering games with over 10 reviews\n",
        "game_review_counts = df_reviews['parent_asin'].value_counts()\n",
        "valid_games = game_review_counts[game_review_counts > 200].index\n",
        "filtered_reviews = df_reviews[df_reviews['parent_asin'].isin(valid_games)]\n",
        "\n",
        "# Filtering users with 10 to 50 reviews\n",
        "user_review_counts = filtered_reviews['user_id'].value_counts()\n",
        "valid_users = user_review_counts[(user_review_counts >= 10) & (user_review_counts <= 50)].index\n",
        "filtered_reviews = filtered_reviews[filtered_reviews['user_id'].isin(valid_users)]\n",
        "\n",
        "game_review_counts = filtered_reviews['parent_asin'].value_counts()\n",
        "valid_games = game_review_counts[game_review_counts > 10].index\n",
        "filtered_reviews = filtered_reviews[filtered_reviews['parent_asin'].isin(valid_games)]\n",
        "\n",
        "filtered_meta = df_meta[df_meta['parent_asin'].isin(filtered_reviews['parent_asin'].unique())]\n",
        "\n",
        "# Print the new dataset sizes\n",
        "print(\"Filtered Reviews Dataset Shape:\", filtered_reviews.shape)\n",
        "print(\"Filtered Metadata Dataset Shape:\", filtered_meta.shape)\n",
        "\n"
      ]
    },
    {
      "cell_type": "code",
      "execution_count": null,
      "metadata": {
        "colab": {
          "base_uri": "https://localhost:8080/"
        },
        "id": "KmTEbDBKPbpD",
        "outputId": "14615091-6eeb-4c5e-dc74-bd6a462aa90a"
      },
      "outputs": [],
      "source": [
        "# Print the top 10 least reviewing users in ascending order\n",
        "least_reviewing_users = filtered_reviews['user_id'].value_counts().nsmallest(10)\n",
        "print(\"Top 10 least reviewing users (ascending order):\")\n",
        "print(least_reviewing_users)\n",
        "\n",
        "# Print the top 10 least reviewed games in ascending order\n",
        "least_reviewed_games = filtered_reviews['parent_asin'].value_counts().nsmallest(10)\n",
        "print(\"Top 10 least reviewed games (ascending order):\")\n",
        "print(least_reviewed_games)"
      ]
    },
    {
      "cell_type": "code",
      "execution_count": null,
      "metadata": {
        "colab": {
          "base_uri": "https://localhost:8080/"
        },
        "id": "vI5OGm_NRUHl",
        "outputId": "54142cb8-9cfd-40a3-fc88-c19d7db06809"
      },
      "outputs": [],
      "source": [
        "num_users = filtered_reviews['user_id'].nunique()\n",
        "num_games = filtered_reviews['parent_asin'].nunique()\n",
        "\n",
        "# Total reviews (interactions)\n",
        "num_reviews = len(filtered_reviews)\n",
        "\n",
        "# Compute density\n",
        "matrix_density = num_reviews / (num_users * num_games)\n",
        "print(f\"Matrix Density: {matrix_density:.6f}\")"
      ]
    },
    {
      "cell_type": "markdown",
      "metadata": {
        "id": "VFK63VndMxXT"
      },
      "source": [
        "testing testing testing"
      ]
    },
    {
      "cell_type": "markdown",
      "metadata": {
        "id": "o8lJPCPOfowv"
      },
      "source": [
        "## Data Refinement and Filtering"
      ]
    },
    {
      "cell_type": "markdown",
      "metadata": {
        "id": "tFr07c-1fu4K"
      },
      "source": [
        "In this project, our goal is to create a recommendation system for video games based on users' previous interactions with games and the interactions of other players.\n",
        "\n",
        "To develop models that generalize well, we need to examine several key factors:\n",
        "\n",
        "-  The total number of games available.\n",
        "\n",
        "-  The number of reviews each game has received.\n",
        "\n",
        "-  The number of reviews submitted by each user (to build a \"profile\" for each player and understand their preferences).\n",
        "\n",
        "-  Most importantly, how these factors interact with one another.\n",
        "\n",
        "There is no universal rule for the minimum ratio between these factors required to achieve \"good\" results. However, through investigation, we aim to make informed assumptions to guide our work effectively.\n",
        "\n",
        "First, we need to assess the sparsity of our dataset. Data sparsity affects the performance of recommendation models, and understanding the overall sparsity will serve as a baseline for comparison. We will strive to balance these factors to enhance the density and effectiveness of our dataset."
      ]
    },
    {
      "cell_type": "code",
      "execution_count": null,
      "metadata": {
        "colab": {
          "base_uri": "https://localhost:8080/"
        },
        "id": "GD6gTMEDUvVB",
        "outputId": "9f1290c3-c06f-4ad9-bd94-4b4a41b1a302"
      },
      "outputs": [],
      "source": [
        "num_users = df_reviews['user_id'].nunique()\n",
        "num_games = df_reviews['parent_asin'].nunique()\n",
        "\n",
        "# Total reviews (interactions)\n",
        "num_reviews = len(df_reviews)\n",
        "\n",
        "# Compute density\n",
        "matrix_density = num_reviews / (num_users * num_games)\n",
        "print(f\"Matrix Density: {matrix_density:.6f}\")"
      ]
    },
    {
      "cell_type": "markdown",
      "metadata": {
        "id": "SOXYfDYHUw34"
      },
      "source": [
        "We want to analyze how many reviews each game has received. This is important because games with very few reviews may be heavily biased by the opinions of a small group of people."
      ]
    },
    {
      "cell_type": "code",
      "execution_count": null,
      "metadata": {
        "colab": {
          "base_uri": "https://localhost:8080/",
          "height": 569
        },
        "id": "KVys2y2bh4Og",
        "outputId": "381842b9-e04f-47c1-e05f-aeaa0bbe7ac3"
      },
      "outputs": [],
      "source": [
        "# Count the number of reviews per game\n",
        "reviews_per_game = df_reviews.groupby('parent_asin').size()\n",
        "\n",
        "# Calculate the cumulative percentage of games based on the number of reviews\n",
        "review_counts = reviews_per_game.value_counts().sort_index()\n",
        "cumulative_percentage = 100 * review_counts.cumsum() / review_counts.sum()\n",
        "\n",
        "# Create a plot for the cumulative percentage\n",
        "plt.figure(figsize=(10, 6))\n",
        "plt.plot(review_counts.index, cumulative_percentage, marker='o', linestyle='-', color='b')\n",
        "plt.title('Percentage of Games by Number of Reviews', fontsize=14)\n",
        "plt.xlabel('Number of Reviews', fontsize=12)\n",
        "plt.ylabel('Percentage of Games (%)', fontsize=12)\n",
        "plt.grid(True, linestyle='--', alpha=0.6)\n",
        "plt.show()\n"
      ]
    },
    {
      "cell_type": "markdown",
      "metadata": {
        "id": "O2iTdiJvmGpw"
      },
      "source": [
        "The number of reviews per game spans a very wide range, from as few as 1 review to over 17,500 reviews. However, the vast majority of games have fewer than 200 reviews. Let's take a closer look at this distribution."
      ]
    },
    {
      "cell_type": "code",
      "execution_count": null,
      "metadata": {
        "colab": {
          "base_uri": "https://localhost:8080/",
          "height": 569
        },
        "id": "KJoO4klRkIM1",
        "outputId": "c3eee24b-cd2d-4d43-a2cf-f51b7bb82669"
      },
      "outputs": [],
      "source": [
        "# Count reviews per game (parent_asin represents the game ID)\n",
        "reviews_per_game = df_reviews['parent_asin'].value_counts()\n",
        "\n",
        "# Filter games with reviews between 1 and 200\n",
        "filtered_reviews_per_game = reviews_per_game[(reviews_per_game >= 1) & (reviews_per_game <= 200)]\n",
        "\n",
        "# Plot the filtered distribution\n",
        "plt.figure(figsize=(12, 6))\n",
        "plt.hist(filtered_reviews_per_game, bins=25, edgecolor='black', alpha=0.75)\n",
        "plt.title('Distribution of Games with 1 to 200 Reviews', fontsize=14)\n",
        "plt.xlabel('Number of Reviews', fontsize=12)\n",
        "plt.ylabel('Number of Games', fontsize=12)\n",
        "plt.grid(axis='y', linestyle='--', alpha=0.7)\n",
        "plt.show()"
      ]
    },
    {
      "cell_type": "markdown",
      "metadata": {
        "id": "rOJ90DdRrADF"
      },
      "source": [
        "It is evident that a large number of games have very few reviews. Deciding what constitutes 'too few' is a challenging task, as there is no general rule for this. However, as mentioned earlier, the relationship between various factors can guide us in making this decision.\n",
        "\n",
        "To approach this, we will analyze the impact of filtering out games with fewer than 10 reviews, fewer than 20 reviews, and so on. By doing so, we aim to gain a deeper understanding of how these thresholds affect the dataset and guide our next steps."
      ]
    },
    {
      "cell_type": "code",
      "execution_count": null,
      "metadata": {
        "colab": {
          "base_uri": "https://localhost:8080/"
        },
        "id": "6nLXcdNQJwsC",
        "outputId": "3e936735-7e17-4e0e-818f-536d60b80918"
      },
      "outputs": [],
      "source": [
        "reviews_per_game = df_reviews['parent_asin'].value_counts()\n",
        "\n",
        "def print_games_with_reviews(reviews_per_game, start=10, end=200, step=50):\n",
        "    for threshold in range(start, end + 1, step):\n",
        "        games_with_reviews = reviews_per_game[reviews_per_game >= threshold]\n",
        "        print(f\"Number of games with at least {threshold} reviews: {len(games_with_reviews)}\")\n",
        "\n",
        "# Use the function to print results\n",
        "print_games_with_reviews(reviews_per_game, start=10, end=200, step=10)\n"
      ]
    },
    {
      "cell_type": "markdown",
      "metadata": {
        "id": "G7qYykufm3G2"
      },
      "source": [
        "The relationship between increasing the minimum required number of reviews and the decreasing number of games is evident. To explore this further, we will focus on specific thresholds: 20, 40, 60, and 80 reviews. By narrowing our analysis to these groups, we aim to uncover insights and determine the most effective approach moving forward."
      ]
    },
    {
      "cell_type": "code",
      "execution_count": null,
      "metadata": {
        "colab": {
          "base_uri": "https://localhost:8080/"
        },
        "id": "3IXjuFRgKzMr",
        "outputId": "e702a037-a46e-4b2c-904a-32ea62f88f4c"
      },
      "outputs": [],
      "source": [
        "# Count reviews per game\n",
        "reviews_per_game = df_reviews['parent_asin'].value_counts()\n",
        "\n",
        "def filter_games_by_reviews(reviews_per_game, start=20, end=80, step=20):\n",
        "    filtered_games = {}\n",
        "    for threshold in range(start, end + 1, step):\n",
        "        games = reviews_per_game[reviews_per_game >= threshold].index\n",
        "        filtered_games[threshold] = games\n",
        "        print(f\"Number of games with at least {threshold} reviews: {len(games)}\")\n",
        "    return filtered_games\n",
        "\n",
        "filtered_games = filter_games_by_reviews(reviews_per_game, start=20, end=80, step=20)\n"
      ]
    },
    {
      "cell_type": "code",
      "execution_count": null,
      "metadata": {
        "colab": {
          "base_uri": "https://localhost:8080/"
        },
        "id": "ZFsiL5Hgn03e",
        "outputId": "8165914d-ce84-48b7-cbbe-a390f3dfe863"
      },
      "outputs": [],
      "source": [
        "# Count reviews per game (asin represents the game ID)\n",
        "reviews_per_game = df_reviews['parent_asin'].value_counts()\n",
        "\n",
        "# Identify games with at least X reviews (up to 100 reviews)\n",
        "games_with_more_than_10_reviews = reviews_per_game[reviews_per_game >= 10].index\n",
        "games_with_more_than_20_reviews = reviews_per_game[reviews_per_game >= 20].index\n",
        "games_with_more_than_40_reviews = reviews_per_game[reviews_per_game >= 40].index\n",
        "games_with_more_than_60_reviews = reviews_per_game[reviews_per_game >= 60].index\n",
        "games_with_more_than_80_reviews = reviews_per_game[reviews_per_game >= 80].index\n",
        "\n",
        "# Filter the dataframe to keep only these games\n",
        "filtered_10_df_reviews = df_reviews[df_reviews['parent_asin'].isin(games_with_more_than_10_reviews)]\n",
        "filtered_20_df_reviews = df_reviews[df_reviews['parent_asin'].isin(games_with_more_than_20_reviews)]\n",
        "filtered_40_df_reviews = df_reviews[df_reviews['parent_asin'].isin(games_with_more_than_40_reviews)]\n",
        "filtered_60_df_reviews = df_reviews[df_reviews['parent_asin'].isin(games_with_more_than_60_reviews)]\n",
        "filtered_80_df_reviews = df_reviews[df_reviews['parent_asin'].isin(games_with_more_than_80_reviews)]\n",
        "\n",
        "\n",
        "# Display the shape of the filtered dataframes to confirm\n",
        "print(f\"Original dataset shape: {df_reviews.shape}\")\n",
        "print(f\"Filtered dataset with 10 reviews at least shape: {filtered_10_df_reviews.shape}\")\n",
        "print(f\"Filtered dataset with 20 reviews at least shape: {filtered_20_df_reviews.shape}\")\n",
        "print(f\"Filtered dataset with 40 reviews at least shape: {filtered_40_df_reviews.shape}\")\n",
        "print(f\"Filtered dataset with 60 reviews at least shape: {filtered_60_df_reviews.shape}\")\n",
        "print(f\"Filtered dataset with 80 reviews at least shape: {filtered_80_df_reviews.shape}\")\n"
      ]
    },
    {
      "cell_type": "markdown",
      "metadata": {
        "id": "shnJbofEpCy1"
      },
      "source": [
        "**Understanding the Results:**\n",
        "\n",
        "For the base situation, we now have **1,189,998** reviews for **28,488** games.\n",
        "\n",
        "*  For games with at least **10** reviews, we have **1,135,289** reviews left, for **11,131** games, meaning about **95.4%** of reviews remain.\n",
        "\n",
        "*  For games with at least **20** reviews, we have **1,083,025** reviews left, for **7,325** games, meaning about **91.0%** of reviews remain.\n",
        "\n",
        "*  For games with at least **40** reviews, we have **1,007,879** reviews left, for **4,626** games, meaning about **84.7%** of reviews remain.\n",
        "\n",
        "*  For games with at least **60** reviews, we have **949,788** reviews left, for **3,430** games, meaning about **79.8%** of reviews remain.\n",
        "\n",
        "*  For games with at least **80** reviews, we have **902,695** reviews left, for **2,742** games, meaning about **75.8%** of reviews remain.\n",
        "\n",
        "**Analysis:**\n",
        "\n",
        "he **10-review threshold** improves the review-to-game ratio significantly while retaining **95.4%** of the data. However, thresholds of **40**, **60** and **80** reviews show further substantial improvements in this ratio while still preserving **75-85**% of the reviews."
      ]
    },
    {
      "cell_type": "markdown",
      "metadata": {
        "id": "z5jNQBEMlFdV"
      },
      "source": [
        "**Decision:**\n",
        "\n",
        "We will continue to focus on thresholds of **40**, **60** and **80** reviews, as they provide a balanced trade-off between retaining a significant portion of the data and improving the review-to-game ratio."
      ]
    },
    {
      "cell_type": "markdown",
      "metadata": {
        "id": "Tv1COs6NtzvE"
      },
      "source": [
        "As discussed earlier, in addition to the number of reviews per game and the total number of games, a third critical factor is the **number of reviews each user has submitted**.\n",
        "\n",
        "This factor significantly impacts our ability to learn user preferences effectively. In a recommendation system, achieving the best possible results for a user depends on having sufficient data to understand their preferences. Users with very few reviews differ drastically from those with many reviews in terms of how well we can model their behavior.\n",
        "\n",
        "To address this, we will create a **separation between users with limited reviews** and those with a minimum required number of reviews. This separation allows us to build tailored models: one for users with sufficient data and another for those with limited data. A singular model for all users is likely to perform suboptimally for both groups.\n",
        "\n",
        "Determining the minimum number of reviews a user should have to be considered \"sufficient\" is challenging, for the same reasons as with the other factors. Therefore, we will rely on insights derived from the data to determine a workable threshold.\n",
        "\n"
      ]
    },
    {
      "cell_type": "code",
      "execution_count": null,
      "metadata": {
        "colab": {
          "base_uri": "https://localhost:8080/",
          "height": 569
        },
        "id": "66r2Gg1Lup7I",
        "outputId": "4c2eb385-ae78-4574-cd9f-a20b0e675c6c"
      },
      "outputs": [],
      "source": [
        "# Count reviews per user\n",
        "reviews_per_user = df_reviews['user_id'].value_counts()\n",
        "\n",
        "# Filter data to include users with reviews between 1 and 100\n",
        "filtered_reviews_per_user = reviews_per_user[(reviews_per_user >= 1) & (reviews_per_user <= 100)]\n",
        "\n",
        "# Plot the distribution\n",
        "plt.figure(figsize=(10, 6))\n",
        "plt.hist(filtered_reviews_per_user, bins=100, edgecolor='black', alpha=0.75)\n",
        "plt.title('Distribution of Reviews Per User (1 to 100)', fontsize=14)\n",
        "plt.xlabel('Number of Reviews', fontsize=12)\n",
        "plt.ylabel('Number of Users', fontsize=12)\n",
        "plt.grid(axis='y', linestyle='--', alpha=0.7)\n",
        "plt.show()"
      ]
    },
    {
      "cell_type": "markdown",
      "metadata": {
        "id": "mKvawvTRu-mt"
      },
      "source": [
        "It is easy to see that the vast majority of users have between 1 and 10 reviews. Let's focus our analysis on this group."
      ]
    },
    {
      "cell_type": "code",
      "execution_count": null,
      "metadata": {
        "colab": {
          "base_uri": "https://localhost:8080/",
          "height": 726
        },
        "id": "N_aBkS7BaB08",
        "outputId": "3b566d57-5c49-41b5-ec4c-06002f0ae4d6"
      },
      "outputs": [],
      "source": [
        "import matplotlib.pyplot as plt\n",
        "import numpy as np\n",
        "\n",
        "# Count reviews per user\n",
        "reviews_per_user = df_reviews['user_id'].value_counts()\n",
        "\n",
        "# Filter data to include users with reviews between 1 and 10\n",
        "filtered_reviews_per_user = reviews_per_user[(reviews_per_user >= 1) & (reviews_per_user <= 10)]\n",
        "\n",
        "# Plot the distribution\n",
        "plt.figure(figsize=(12, 8))\n",
        "bins = np.arange(1, 12)\n",
        "\n",
        "plt.hist(filtered_reviews_per_user, bins=bins, edgecolor='black', alpha=0.8, color='skyblue', log=True)\n",
        "plt.title('Distribution of Reviews Per User (1 to 10)', fontsize=16)\n",
        "plt.xlabel('Number of Reviews', fontsize=14)\n",
        "plt.ylabel('Number of Users (Log Scale)', fontsize=14)\n",
        "\n",
        "# Annotate bars with exact counts\n",
        "for i in range(len(bins)-1):\n",
        "    count = ((filtered_reviews_per_user >= bins[i]) & (filtered_reviews_per_user < bins[i+1])).sum()\n",
        "    plt.text(bins[i] + 0.5, count + 10, str(count), ha='center', fontsize=12, rotation=45)\n",
        "\n",
        "plt.grid(axis='y', linestyle='--', alpha=0.7)\n",
        "plt.xticks(bins[:-1] + 0.5, bins[:-1])\n",
        "plt.show()\n"
      ]
    },
    {
      "cell_type": "markdown",
      "metadata": {
        "id": "oOY63-ePvdmY"
      },
      "source": [
        "Lets have a clear presentation of the number of users with different amount of minimum reviews:"
      ]
    },
    {
      "cell_type": "code",
      "execution_count": null,
      "metadata": {
        "colab": {
          "base_uri": "https://localhost:8080/"
        },
        "id": "JX16_6WmwmCu",
        "outputId": "6fc18fc5-64b8-47b5-e49e-1b04450bf78d"
      },
      "outputs": [],
      "source": [
        "# Calculate the number of reviews per user\n",
        "reviews_per_user = df_reviews.groupby('user_id').size()\n",
        "\n",
        "# Calculate the number of users with at least x reviews for x in range 1 to 10\n",
        "users_with_at_least_x_reviews = {x: (reviews_per_user >= x).sum() for x in range(1, 11)}\n",
        "\n",
        "# Create a DataFrame for better visualization\n",
        "import pandas as pd\n",
        "result_df = pd.DataFrame({\n",
        "    \"Minimum Reviews\": list(users_with_at_least_x_reviews.keys()),\n",
        "    \"Number of Users\": list(users_with_at_least_x_reviews.values())\n",
        "})\n",
        "\n",
        "# Display the result\n",
        "print(result_df)\n"
      ]
    },
    {
      "cell_type": "markdown",
      "metadata": {
        "id": "A17OPSUo4y5q"
      },
      "source": [
        "The threshold for the minimum number of reviews per user must strike a balance between retaining a sufficient number of users for meaningful analysis and ensuring enough \"quality\" data to understand user preferences effectively.\n",
        "\n",
        "-  **1–3 reviews** : This is too few for advanced models that rely on user interactions to make accurate recommendations.\n",
        "\n",
        "- **6 or more reviews** : This would leave us with only about **2.4%** of active users, which may not provide enough data to work with effectively.\n",
        "\n",
        "- **4 reviews** : This threshold retains about **5.4%** of users, corresponding to approximately **42K** users.\n",
        "\n",
        "-  **5 reviews** : This threshold retains about **3.4%** of users, corresponding to approximately **27K** users.\n",
        "\n",
        "We will further examine the effects of other factors—such as the number of reviews per game and dataset sparsity—on these thresholds to decide on an optimal value for the minimum number of reviews per user."
      ]
    },
    {
      "cell_type": "markdown",
      "metadata": {
        "id": "NYL9sloYs6A_"
      },
      "source": [
        "In addition, we should limit the maximum number of reviews a user can have to mitigate the influence of highly active users (outliers) who might skew the recommendations.\n",
        "\n",
        "We have decided to set the maximum limit at **40** reviews, as the vast majority of users have fewer than **40** reviews. This threshold strikes a sensible balance, ensuring a sufficient gap between the minimum requirement of **5/4** reviews and the maximum limit, while effectively excluding potential outliers"
      ]
    },
    {
      "cell_type": "markdown",
      "metadata": {
        "id": "OITxYN8uWDv3"
      },
      "source": [
        "After filtering the datasets to include only **games with a minimum of X reviews** and then applying the additional requirement of **Y reviews per user**, the number of games is likely to decrease. This is because some games that initially met the **X reviews** threshold may now fall below it due to the removal of reviews from users who do not meet the **Y reviews** criterion.\n",
        "\n",
        "To address this, we will apply another filtering process to ensure consistency. Finally, we will present a density matrix for all possible combinations of thresholds (datasets with 50 and 100 minimum reviews for games, and 4 and 5 minimum reviews for users)."
      ]
    },
    {
      "cell_type": "code",
      "execution_count": null,
      "metadata": {
        "id": "up8W7de0o_Qx"
      },
      "outputs": [],
      "source": [
        "def filter_data(df, min_game_reviews=100, min_user_reviews=5, max_user_reviews=40):\n",
        "    stable = False\n",
        "    while not stable:\n",
        "        # Filter games with at least min_game_reviews\n",
        "        game_counts = df['parent_asin'].value_counts()\n",
        "        eligible_games = game_counts[game_counts >= min_game_reviews].index\n",
        "        df = df[df['parent_asin'].isin(eligible_games)]\n",
        "\n",
        "        # Filter users with at least min_user_reviews and at most max_user_reviews\n",
        "        user_counts = df['user_id'].value_counts()\n",
        "        eligible_users = user_counts[(user_counts >= min_user_reviews) & (user_counts <= max_user_reviews)].index\n",
        "        df = df[df['user_id'].isin(eligible_users)]\n",
        "\n",
        "        # Check stability\n",
        "        new_game_counts = df['parent_asin'].value_counts()\n",
        "        new_eligible_games = new_game_counts[new_game_counts >= min_game_reviews].index\n",
        "        new_user_counts = df['user_id'].value_counts()\n",
        "        new_eligible_users = new_user_counts[\n",
        "            (new_user_counts >= min_user_reviews) & (new_user_counts <= max_user_reviews)\n",
        "        ].index\n",
        "\n",
        "        stable = (\n",
        "            set(eligible_games) == set(new_eligible_games) and\n",
        "            set(eligible_users) == set(new_eligible_users)\n",
        "        )\n",
        "    return df\n",
        "\n",
        "# Apply the function\n",
        "filtered_reviews_40_4 = filter_data(df_reviews, min_game_reviews=40, min_user_reviews=4)\n",
        "filtered_reviews_60_4 = filter_data(df_reviews, min_game_reviews=60, min_user_reviews=4)\n",
        "filtered_reviews_80_4 = filter_data(df_reviews, min_game_reviews=80, min_user_reviews=4)\n",
        "filtered_reviews_40_5 = filter_data(df_reviews, min_game_reviews=40, min_user_reviews=5)\n",
        "filtered_reviews_60_5 = filter_data(df_reviews, min_game_reviews=60, min_user_reviews=5)\n",
        "filtered_reviews_80_5 = filter_data(df_reviews, min_game_reviews=80, min_user_reviews=5)\n"
      ]
    },
    {
      "cell_type": "code",
      "execution_count": null,
      "metadata": {
        "colab": {
          "base_uri": "https://localhost:8080/",
          "height": 237
        },
        "id": "jwKtB-FQWBQH",
        "outputId": "00c1637f-cfd1-4356-e8e7-fd84fe27b679"
      },
      "outputs": [],
      "source": [
        "import pandas as pd\n",
        "\n",
        "def analyze_dataset(filtered_dataset, dataset_name):\n",
        "    # Calculate metrics\n",
        "    num_users = filtered_dataset['user_id'].nunique()\n",
        "    num_games = filtered_dataset['parent_asin'].nunique()\n",
        "    num_reviews = len(filtered_dataset)\n",
        "\n",
        "    # Calculate matrix density\n",
        "    if num_users > 0 and num_games > 0:\n",
        "        matrix_density = num_reviews / (num_users * num_games)\n",
        "    else:\n",
        "        matrix_density = 0  # Handle edge case with no users or games\n",
        "\n",
        "    # Return metrics as a dictionary\n",
        "    return {\n",
        "        'Number of Users': num_users,\n",
        "        'Number of Games': num_games,\n",
        "        'Number of Reviews': num_reviews,\n",
        "        'Matrix Density': matrix_density\n",
        "    }\n",
        "\n",
        "def analyze_multiple_datasets(datasets):\n",
        "    results = {}\n",
        "    for name, dataset in datasets.items():\n",
        "        results[name] = analyze_dataset(dataset, name)\n",
        "\n",
        "    # Convert results to DataFrame for better visualization\n",
        "    summary_df = pd.DataFrame.from_dict(results, orient='index')\n",
        "    return summary_df\n",
        "\n",
        "# Analyze datasets\n",
        "datasets = {\n",
        "    '40 Reviews & 4+ User Reviews': filtered_reviews_40_4,\n",
        "    '60 Reviews & 4+ User Reviews': filtered_reviews_60_4,\n",
        "    '80 Reviews & 4+ User Reviews': filtered_reviews_80_4,\n",
        "    '40 Reviews & 5+ User Reviews': filtered_reviews_40_5,\n",
        "    '60 Reviews & 5+ User Reviews': filtered_reviews_60_5,\n",
        "    '80 Reviews & 5+ User Reviews': filtered_reviews_80_5\n",
        "}\n",
        "\n",
        "density_summary = analyze_multiple_datasets(datasets)\n",
        "density_summary"
      ]
    },
    {
      "cell_type": "markdown",
      "metadata": {
        "id": "_6Y8EF6Jwz7q"
      },
      "source": [
        "Its clear that the limit of reviews isnt suting the 5+ users as well as it does for the 4+ users, so we will adjust for it a more suitable limits."
      ]
    },
    {
      "cell_type": "code",
      "execution_count": null,
      "metadata": {
        "colab": {
          "base_uri": "https://localhost:8080/",
          "height": 237
        },
        "id": "0jfEW3OAxH1K",
        "outputId": "e789d7e1-e7ab-4d27-ec1a-61be30b8db06"
      },
      "outputs": [],
      "source": [
        "filtered_reviews_40_5 = filter_data(df_reviews, min_game_reviews=40, min_user_reviews=5)\n",
        "filtered_reviews_45_5 = filter_data(df_reviews, min_game_reviews=45, min_user_reviews=5)\n",
        "filtered_reviews_50_5 = filter_data(df_reviews, min_game_reviews=50, min_user_reviews=5)\n",
        "\n",
        "def analyze_multiple_datasets(datasets):\n",
        "    results = {}\n",
        "    for name, dataset in datasets.items():\n",
        "        results[name] = analyze_dataset(dataset, name)\n",
        "\n",
        "    # Convert results to DataFrame for better visualization\n",
        "    summary_df = pd.DataFrame.from_dict(results, orient='index')\n",
        "    return summary_df\n",
        "\n",
        "# Analyze datasets\n",
        "datasets = {\n",
        "    '40 Reviews & 4+ User Reviews': filtered_reviews_40_4,\n",
        "    '60 Reviews & 4+ User Reviews': filtered_reviews_60_4,\n",
        "    '80 Reviews & 4+ User Reviews': filtered_reviews_80_4,\n",
        "    '40 Reviews & 5+ User Reviews': filtered_reviews_40_5,\n",
        "    '45 Reviews & 5+ User Reviews': filtered_reviews_45_5,\n",
        "    '50 Reviews & 5+ User Reviews': filtered_reviews_50_5\n",
        "}\n",
        "\n",
        "density_summary = analyze_multiple_datasets(datasets)\n",
        "density_summary"
      ]
    },
    {
      "cell_type": "markdown",
      "metadata": {
        "id": "s4tvz2YDx6Qm"
      },
      "source": [
        "The main datasets under consideration are \"**80 Reviews & 4+ User Reviews**\" and \"**50 Reviews & 5+ User Reviews**\", as they offer the highest matrix density among the options.\n",
        "\n",
        "Both datasets preserve a similar number of reviews, but they differ in the ratio of games to users. Considering our goal—to assess which games a user would likely be interested in based on previous purchases from the available catalog—we have selected the \"**50 Reviews & 5+ User Reviews**\" dataset. The reasons for this choice are as follows:\n",
        "\n",
        "*  **High Matrix Density**: A density of 0.023576 ensures the recommendation system has sufficient interaction data to effectively learn patterns of likely purchases based on user reviews.\n",
        "\n",
        "*  **Optimal Balance Between Size and Feasibility**: While this dataset has fewer users and games compared to others, the higher quality of data (more reviews per user) is crucial for building a robust model that accurately predicts user preferences.\n",
        "\n",
        "* **Manageability and Efficiency**: The smaller size of this dataset reduces computational complexity, making it more suitable for iterative development and testing without compromising recommendation quality.\n",
        "\n",
        "In conclusion, the **\"50 Reviews & 5+ User Reviews\"** dataset provides an excellent trade-off between density, size, and computational efficiency, making it the most suitable choice for our recommendation system.\n",
        "\n",
        "\n",
        "The dataset achives a density of **0.023576** - compared to the initial **0.000055** it is showing an increas in density of over **428** times. While the data remains relatively sparse, this density is closer to typical conditions for employing advanced recommendation approaches, such as collaborative filtering, which depend on sufficient user interaction data.\n",
        "\n",
        "This separation provides a strong foundation for enhancing our system, enabling us to better leverage user behavior and interactions to build more accurate recommendations."
      ]
    },
    {
      "cell_type": "code",
      "execution_count": null,
      "metadata": {
        "colab": {
          "base_uri": "https://localhost:8080/",
          "height": 677
        },
        "id": "NHowbBbQqbvD",
        "outputId": "4d7d8945-fa8c-4480-bc0d-83c7370cb8bf"
      },
      "outputs": [],
      "source": [
        "filtered_reviews = filtered_reviews_50_5\n",
        "\n",
        "filtered_parent_asins = filtered_reviews['parent_asin'].unique()\n",
        "\n",
        "filtered_meta = df_meta[df_meta['parent_asin'].isin(filtered_parent_asins)]\n",
        "\n",
        "# Display the result\n",
        "print(f\"Original df_meta size: {df_meta.shape}\")\n",
        "print(f\"Filtered df_meta size: {filtered_meta.shape}\")\n",
        "filtered_meta.head()\n"
      ]
    },
    {
      "cell_type": "markdown",
      "metadata": {
        "id": "Qr6vtXjFROjq"
      },
      "source": [
        "## Focused Exploratory Data Analysis"
      ]
    },
    {
      "cell_type": "markdown",
      "metadata": {
        "id": "VPrHy6ubz4_5"
      },
      "source": [
        "Now, we will proceed to perform a more detailed EDA on the refined dataset to uncover deeper patterns and relationships. While the initial EDA provided a broad overview of the raw data, this stage focuses on specific trends, correlations, and interactions within the cleaned dataset. By leveraging advanced analytical techniques, we aim to extract actionable insights that directly align with the project’s objectives."
      ]
    },
    {
      "cell_type": "markdown",
      "metadata": {
        "id": "HWlAjxHK0qnn"
      },
      "source": [
        "### Comparing the Raw and Refined Data\n",
        "\n",
        "We'll start by seeing some of the distrubutions formerly presented on the raw data and see if there were any significant changes in the nature of the data"
      ]
    },
    {
      "cell_type": "code",
      "execution_count": null,
      "metadata": {
        "colab": {
          "base_uri": "https://localhost:8080/",
          "height": 607
        },
        "id": "u7r6YuZpg9l2",
        "outputId": "9a46e463-4529-4d21-c753-ae8077e707cf"
      },
      "outputs": [],
      "source": [
        "# Calculate the distribution of ratings\n",
        "ratings_distribution = filtered_reviews['rating'].value_counts().sort_index()\n",
        "\n",
        "# Plot the distribution\n",
        "plt.figure(figsize=(10, 6))\n",
        "bars = plt.bar(ratings_distribution.index, ratings_distribution.values, color='skyblue', width=0.6)\n",
        "\n",
        "for bar in bars:\n",
        "    height = bar.get_height()\n",
        "    plt.text(bar.get_x() + bar.get_width() / 2, height, f'{int(height)}', ha='center', va='bottom')\n",
        "\n",
        "plt.title('Ratings Distribution', fontsize=16)\n",
        "plt.xlabel('Rating', fontsize=14)\n",
        "plt.ylabel('Number of Reviews', fontsize=14)\n",
        "plt.xticks(ratings_distribution.index)\n",
        "plt.grid(axis='y', linestyle='--', alpha=0.7)\n",
        "plt.tight_layout()\n",
        "\n",
        "plt.show()"
      ]
    },
    {
      "cell_type": "markdown",
      "metadata": {
        "id": "3A67BcEh7s-2"
      },
      "source": [
        "The trends observed in the refined dataset largely mirror those of the raw dataset, with some notable differences. While the 5-star rating remains the most common by a significant margin, there is a shift in the relative standings of other ratings. Specifically:\n",
        "\n",
        "*  The **1-star** rating has moved from the 3rd most common position in the raw data to 4th in the refined dataset.\n",
        "\n",
        "*  The **3-star** rating has risen from 4th to 3rd most common.\n",
        "\n",
        "*  The **4-star** and **2-star** ratings remain in 2nd and 5th positions, respectively.\n",
        "\n",
        "This shift likely reflects the filtering process, which focused on games with higher levels of interaction. Games with lower ratings typically attract fewer users and, consequently, fewer reviews, making them less likely to meet the inclusion criteria during refinement.\n",
        "\n",
        "These observations further support the need to implement **weighting based on ratings** to address the imbalance between high and low ratings in the dataset. By compensating for the underrepresentation of lower ratings, we can ensure a more balanced perspective in the recommendation system, improving its fairness and effectiveness.\n",
        "\n",
        "Now for the meta data game rating distribution."
      ]
    },
    {
      "cell_type": "code",
      "execution_count": null,
      "metadata": {
        "colab": {
          "base_uri": "https://localhost:8080/",
          "height": 607
        },
        "id": "An9cab4m6Joh",
        "outputId": "15c8aa1a-0bc3-4b1c-bc99-d4653f282807"
      },
      "outputs": [],
      "source": [
        "plt.figure(figsize=(10, 6))\n",
        "sns.histplot(filtered_meta['average_rating'], bins=20, kde=True, color='skyblue')\n",
        "\n",
        "plt.title('Distribution of Game Ratings in Refined Metadata', fontsize=16)\n",
        "plt.xlabel('Average Rating', fontsize=14)\n",
        "plt.ylabel('Frequency', fontsize=14)\n",
        "plt.grid(axis='y', linestyle='--', alpha=0.7)\n",
        "plt.tight_layout()\n",
        "\n",
        "plt.show()"
      ]
    },
    {
      "cell_type": "markdown",
      "metadata": {
        "id": "jEJbQ1p45aLn"
      },
      "source": [
        "Both datasets show a right-skewed distribution with most ratings clustered between **4.25** and **5.0**, indicating a general tendency for favorable reviews. However after refinment ratings are now predominantly between 3.5 and 5.0, with very few ratings below 3.5. This indicates the removal of low-quality or irrelevant items, thus more suitable for building a recommendation system due to its focus on higher ratings and reduced noise.\n",
        "\n",
        "The refined metadata is better aligned with the target audience's interests, as it focuses on highly rated games, and should lead to more accurate and relevant recommendations, as it emphasizes user preferences for well-reviewed items.\n",
        "\n"
      ]
    },
    {
      "cell_type": "markdown",
      "metadata": {
        "id": "7X7pyKqKAZQ2"
      },
      "source": [
        "Now we will look for the average number of helpful votes for reviews per rating on the  refined data."
      ]
    },
    {
      "cell_type": "code",
      "execution_count": null,
      "metadata": {
        "colab": {
          "base_uri": "https://localhost:8080/",
          "height": 687
        },
        "id": "o1kwNy76BX3k",
        "outputId": "34cd394e-abc7-49e7-e84a-971791b8245b"
      },
      "outputs": [],
      "source": [
        "\n",
        "avg_helpful_votes = filtered_reviews.groupby('rating')['helpful_vote'].mean()\n",
        "print(avg_helpful_votes)\n",
        "\n",
        "# Plot average helpful votes per rating\n",
        "avg_helpful_votes.plot(kind='bar', color='skyblue', figsize=(10, 6))\n",
        "plt.title('Average Number of Helpful Votes per Rating', fontsize=16)\n",
        "plt.xlabel('Rating', fontsize=14)\n",
        "plt.ylabel('Average Helpful Votes', fontsize=14)\n",
        "plt.grid(axis='y', linestyle='--', alpha=0.7)\n",
        "plt.show()"
      ]
    },
    {
      "cell_type": "markdown",
      "metadata": {
        "id": "AY1J5am7B-ff"
      },
      "source": [
        "In the refined dataset, reviews across all ratings show higher average helpful votes compared to the raw dataset, indicating that the refinement process prioritized more engaging and impactful feedback. Negative reviews (**1-star**) remain the most helpful, with the highest votes in both datasets, highlighting their importance in influencing user decisions. This shift makes the refined dataset more representative of meaningful user interactions and aligns well with the objectives of building a recommendation system that values review quality."
      ]
    },
    {
      "cell_type": "markdown",
      "metadata": {
        "id": "c-S2T_TaaDvq"
      },
      "source": [
        "We now examine the distribution of category groups in our filtered data.\n",
        "\n"
      ]
    },
    {
      "cell_type": "code",
      "execution_count": null,
      "metadata": {
        "colab": {
          "base_uri": "https://localhost:8080/",
          "height": 764
        },
        "id": "-brIEtAraDRk",
        "outputId": "4943dc50-0bb5-4963-80c2-9e150dc36cd9"
      },
      "outputs": [],
      "source": [
        "\n",
        "distribution = filtered_meta['Category_Group'].value_counts()\n",
        "\n",
        "# Display the distribution\n",
        "print(distribution)\n",
        "\n",
        "plt.figure(figsize=(12, 6))\n",
        "distribution.plot(kind='bar')\n",
        "plt.title('Distribution of Category Groups')\n",
        "plt.xlabel('Category Group')\n",
        "plt.ylabel('Number of Listings')\n",
        "plt.xticks(rotation=45)\n",
        "plt.show()"
      ]
    },
    {
      "cell_type": "markdown",
      "metadata": {
        "id": "FDpn2PjfaWTu"
      },
      "source": [
        "The data reveals four possible values with a reasonable distribution. Each value linked to a gaming console, which makes the analysis more informative. For instance, if a user primarily purchases games for Nintendo systems, it is more likely that their future purchases will also target this platform, as they likely own a Nintendo console and not others."
      ]
    },
    {
      "cell_type": "markdown",
      "metadata": {
        "id": "_8dRhC_rExHs"
      },
      "source": [
        "We'll save the progress we made in order to save on ram for later usages."
      ]
    },
    {
      "cell_type": "code",
      "execution_count": null,
      "metadata": {
        "id": "pr8bIhaaFhDO"
      },
      "outputs": [],
      "source": [
        "\n",
        "# Save the file to Google Drive\n",
        "filtered_reviews.to_csv('/content/drive/My Drive/filtered_reviews.csv', index=False)\n",
        "\n",
        "filtered_meta.to_csv('/content/drive/My Drive/filtered_meta.csv', index=False)"
      ]
    },
    {
      "cell_type": "markdown",
      "metadata": {
        "id": "XS50rS7dZKM-"
      },
      "source": [
        "### Advenced Data Exploration"
      ]
    },
    {
      "cell_type": "code",
      "execution_count": null,
      "metadata": {
        "colab": {
          "base_uri": "https://localhost:8080/"
        },
        "id": "ZYl7VbfdbnJ2",
        "outputId": "93e3ef42-553d-4a62-9b9c-e30185b4f6b1"
      },
      "outputs": [],
      "source": [
        "from google.colab import drive\n",
        "drive.mount('/content/drive')\n",
        "\n",
        "file_path_filtered_reviews = '/content/drive/My Drive/filtered_reviews.csv'\n",
        "file_path_filtered_meta = '/content/drive/My Drive/filtered_meta.csv'"
      ]
    },
    {
      "cell_type": "code",
      "execution_count": null,
      "metadata": {
        "id": "xc-QV1uGcBDD"
      },
      "outputs": [],
      "source": [
        "filtered_reviews = pd.read_csv(file_path_filtered_reviews)\n",
        "filtered_meta = pd.read_csv(file_path_filtered_meta)"
      ]
    },
    {
      "cell_type": "markdown",
      "metadata": {
        "id": "3RfHH99-abHy"
      },
      "source": [
        "#### Visualize Features Correlation\n",
        "\n",
        "We now set to gain better insights on our refined dataset.\n",
        "\n",
        "Lets explore the relationship between the gmae catagory group and its rating\n",
        "\n"
      ]
    },
    {
      "cell_type": "code",
      "execution_count": null,
      "metadata": {
        "colab": {
          "base_uri": "https://localhost:8080/",
          "height": 457
        },
        "id": "tACdmt9pcbWH",
        "outputId": "e320ce5e-22a5-4bd7-9ad2-1a57e0a4290b"
      },
      "outputs": [],
      "source": [
        "# Group by category and calculate the average rating\n",
        "category_avg_rating = filtered_meta.groupby('Category_Group')['average_rating'].mean().sort_values()\n",
        "\n",
        "# Plotting\n",
        "plt.figure(figsize=(10, 6))\n",
        "category_avg_rating.plot(kind='bar', color='skyblue', edgecolor='black')\n",
        "plt.title('Average Ratings by Category Group', fontsize=16)\n",
        "plt.xlabel('Category Group', fontsize=14)\n",
        "plt.ylabel('Average Rating', fontsize=14)\n",
        "plt.xticks(rotation=45, fontsize=12)\n",
        "plt.grid(axis='y', linestyle='--', alpha=0.7)\n",
        "plt.tight_layout()\n",
        "\n",
        "plt.show()"
      ]
    },
    {
      "cell_type": "markdown",
      "metadata": {
        "id": "JfDYr1x6dfb1"
      },
      "source": [
        "The data reveals that while console games tend to have similar average ratings, PC games generally receive lower ratings. This discrepancy suggests that PC games may be less likely to appear as recommendations in future systems.\n",
        "\n",
        "Next, we will analyze the relationship between price and average ratings to uncover any potential patterns or insights."
      ]
    },
    {
      "cell_type": "code",
      "execution_count": null,
      "metadata": {
        "colab": {
          "base_uri": "https://localhost:8080/",
          "height": 507
        },
        "id": "9DmY58EE8RPn",
        "outputId": "791c7f5e-1588-4389-a8be-a39eeaf4f5d2"
      },
      "outputs": [],
      "source": [
        "# Ensure ratings and prices are cleaned (drop missing or invalid data)\n",
        "df_filtered = filtered_meta[['price_numeric', 'average_rating']].dropna()\n",
        "\n",
        "# Scatter plot with a regression line\n",
        "plt.figure(figsize=(12, 8))\n",
        "sns.scatterplot(data=df_filtered, x='average_rating', y='price_numeric', alpha=0.6, s=80, edgecolor='w', linewidth=0.5)\n",
        "sns.regplot(data=df_filtered, x='average_rating', y='price_numeric', scatter=False, color='red', ci=None)\n",
        "\n",
        "# Add plot details\n",
        "plt.title('Relationship Between Game Ratings and Prices', fontsize=16)\n",
        "plt.xlabel('Rating', fontsize=14)\n",
        "plt.ylabel('Price ($)', fontsize=14)\n",
        "plt.grid(True, linestyle='--', alpha=0.6)\n",
        "\n",
        "# Calculate and display correlation coefficient\n",
        "correlation = np.corrcoef(df_filtered['average_rating'], df_filtered['price_numeric'])[0, 1]\n",
        "plt.text(4.5, max(df_filtered['price_numeric']) * 0.9, f'Correlation: {correlation:.2f}', fontsize=12, color='red')\n",
        "\n",
        "plt.tight_layout()\n",
        "plt.show()"
      ]
    },
    {
      "cell_type": "markdown",
      "metadata": {
        "id": "R18DI4vn82xr"
      },
      "source": [
        "Similar to the raw data, even when analyzed specifically for video games, price shows almost no significant impact on how games are rated.\n",
        "\n",
        "However, despite its minimal effect on ratings, we have decided to retain this feature. Price may still provide valuable insights when analyzing purchase likelihood, which could enhance the system's ability to predict user behavior."
      ]
    },
    {
      "cell_type": "markdown",
      "metadata": {
        "id": "QhbYGr25-Jp4"
      },
      "source": [
        "Now for the store feature we would want to find out what information can it offer us and what is the correlation it has with the average rating of its games\n"
      ]
    },
    {
      "cell_type": "code",
      "execution_count": null,
      "metadata": {
        "colab": {
          "base_uri": "https://localhost:8080/",
          "height": 513
        },
        "id": "CVIAp3zzAvsu",
        "outputId": "6fc19be7-e2a4-423b-9d35-1891c9d9f9b2"
      },
      "outputs": [],
      "source": [
        "# Group by the store column and calculate the average rating for each store\n",
        "avg_ratings_per_store = filtered_meta.groupby('store')['average_rating'].mean().sort_values()\n",
        "\n",
        "# Plot the results\n",
        "plt.figure(figsize=(12, 8))\n",
        "avg_ratings_per_store.plot(kind='bar', color='cornflowerblue', edgecolor='black', alpha=0.85)\n",
        "\n",
        "plt.title('Average Ratings by Store', fontsize=18, fontweight='bold')\n",
        "plt.xlabel('Store', fontsize=14)\n",
        "plt.ylabel('Average Rating', fontsize=14)\n",
        "\n",
        "# Add value labels to each bar\n",
        "for index, value in enumerate(avg_ratings_per_store):\n",
        "    plt.text(index, value + 0.02, f\"{value:.2f}\", ha='center', fontsize=10, color='black')\n",
        "\n",
        "plt.xticks(rotation=45, fontsize=12, ha='right')\n",
        "plt.grid(axis='y', linestyle='--', alpha=0.6)\n",
        "plt.tight_layout()\n",
        "\n",
        "plt.show()\n"
      ]
    },
    {
      "cell_type": "markdown",
      "metadata": {
        "id": "7_M5z5UZF5sy"
      },
      "source": [
        "An examination of the remaining stores reveals that they are major video game publishers, platforms, and retailers, including **Ubisoft**, **Electronic Arts**, **PlayStation**, **Xbox**, and **Nintendo**.\n",
        "\n",
        "The average ratings for these stores are generally high, with very few falling below **4.2**. The majority of stores have ratings in the higher range of **4.4** to **4.7**. Stores with an average rating close to **4.7** likely reflect consistently high-quality games, supported by a loyal and satisfied fanbase. On the other hand, stores on the lower end of the scale may cater to niche markets or feature more polarizing content, including lower-rated games that contribute to a reduced overall average."
      ]
    },
    {
      "cell_type": "markdown",
      "metadata": {
        "id": "OsyDhPji3SKX"
      },
      "source": [
        "Now we will look to visualize the trends of ratings over time of submitted reviews."
      ]
    },
    {
      "cell_type": "code",
      "execution_count": null,
      "metadata": {
        "colab": {
          "base_uri": "https://localhost:8080/",
          "height": 383
        },
        "id": "908jaSm0C7HT",
        "outputId": "d936619f-39ab-4865-c268-f871437b13df"
      },
      "outputs": [],
      "source": [
        "\n",
        "filtered_reviews['year_month'] = pd.to_datetime(filtered_reviews['timestamp']).dt.to_period('M')\n",
        "\n",
        "trend_data = filtered_reviews.groupby('year_month').agg(\n",
        "    avg_rating=('rating', 'mean'),\n",
        "    num_reviews=('rating', 'count')\n",
        ").reset_index()\n",
        "\n",
        "# Convert 'year_month' to a datetime format for plotting\n",
        "trend_data['year_month'] = trend_data['year_month'].dt.to_timestamp()\n",
        "\n",
        "\n",
        "# Apply a rolling mean for smoothing (optional, set window size based on data density)\n",
        "trend_data['avg_rating_smooth'] = trend_data['avg_rating'].rolling(window=6, min_periods=1).mean()\n",
        "trend_data['num_reviews_smooth'] = trend_data['num_reviews'].rolling(window=6, min_periods=1).mean()\n",
        "\n",
        "\n",
        "fig, ax1 = plt.subplots(figsize=(12, 6))\n",
        "\n",
        "# Plot average rating on the left y-axis\n",
        "ax1.plot(\n",
        "    trend_data['year_month'], trend_data['avg_rating_smooth'],\n",
        "    label='Average Rating', color='blue', marker='o', linewidth=2\n",
        ")\n",
        "ax1.set_ylabel('Average Rating', fontsize=14, color='blue')\n",
        "ax1.tick_params(axis='y', labelcolor='blue')\n",
        "\n",
        "# Create a second y-axis for number of reviews\n",
        "ax2 = ax1.twinx()\n",
        "ax2.plot(\n",
        "    trend_data['year_month'], trend_data['num_reviews_smooth'],\n",
        "    label='Number of Reviews', color='orange', marker='o', linewidth=2\n",
        ")\n",
        "ax2.set_ylabel('Number of Reviews', fontsize=14, color='orange')\n",
        "ax2.tick_params(axis='y', labelcolor='orange')\n",
        "\n",
        "plt.title('Trends in Ratings and Reviews Over Time', fontsize=16, fontweight='bold')\n",
        "ax1.set_xlabel('Time (Year-Month)', fontsize=14)\n",
        "plt.xticks(rotation=45, fontsize=12)\n",
        "ax1.grid(axis='y', linestyle='--', alpha=0.7)\n",
        "fig.legend(loc=\"upper left\", bbox_to_anchor=(0.1, 0.9), fontsize=12)\n",
        "plt.tight_layout()\n",
        "\n",
        "plt.show()\n"
      ]
    },
    {
      "cell_type": "markdown",
      "metadata": {
        "id": "q8sPhWAkFlA5"
      },
      "source": [
        "From these results, we observe a significant increase in the number of reviews starting around **2013**, peaking between **2014 and 2017**. This trend is likely influenced by the release of the \"new-gen\" consoles, **Xbox One** and **PlayStation 4**, in **2013**, followed by their \"pro\" versions launched in early **2017**.\n",
        "\n",
        "To gain deeper insights, we will focus on three specific periods:\n",
        "\n",
        "1.  \"**Old-gen**\" (**2005–2012**): Covers the era of Xbox 360, PS3, and Wii, preceding the \"new-gen\" wave.\n",
        "\n",
        "2.  \"**New-gen First Wave**\" (**2013–2016**): Includes the initial release period of Xbox One and PS4.\n",
        "\n",
        "3.  \"**New-gen Second Wave**\" (**2017–2023**): Represents the era of the \"pro\" versions and incremental upgrades.\n"
      ]
    },
    {
      "cell_type": "code",
      "execution_count": null,
      "metadata": {
        "colab": {
          "base_uri": "https://localhost:8080/",
          "height": 1000
        },
        "id": "Aco5GqRHIiA2",
        "outputId": "1c3e470c-47d2-4d98-bdec-4688d8fc8331"
      },
      "outputs": [],
      "source": [
        "# Filter data into specified periods\n",
        "old_gen = trend_data[(trend_data['year_month'] >= '2005-01') & (trend_data['year_month'] <= '2012-12')]\n",
        "new_gen_first_wave = trend_data[(trend_data['year_month'] >= '2013-01') & (trend_data['year_month'] <= '2016-12')]\n",
        "new_gen_second_wave = trend_data[(trend_data['year_month'] >= '2017-01') & (trend_data['year_month'] <= '2023-12')]\n",
        "\n",
        "# Create a function to calculate correlation and visualize each period\n",
        "def visualize_period_with_correlation(data, title):\n",
        "    # Calculate the correlation between smoothed average rating and number of reviews\n",
        "    correlation = data['avg_rating_smooth'].corr(data['num_reviews_smooth'])\n",
        "\n",
        "    fig, ax1 = plt.subplots(figsize=(12, 6))\n",
        "\n",
        "    # Plot average rating on the left y-axis\n",
        "    ax1.plot(\n",
        "        data['year_month'], data['avg_rating_smooth'],\n",
        "        label='Average Rating', color='blue', marker='o', linewidth=2\n",
        "    )\n",
        "    ax1.set_ylabel('Average Rating', fontsize=14, color='blue')\n",
        "    ax1.tick_params(axis='y', labelcolor='blue')\n",
        "\n",
        "    # Create a second y-axis for number of reviews\n",
        "    ax2 = ax1.twinx()\n",
        "    ax2.plot(\n",
        "        data['year_month'], data['num_reviews_smooth'],\n",
        "        label='Number of Reviews', color='orange', marker='o', linewidth=2\n",
        "    )\n",
        "    ax2.set_ylabel('Number of Reviews', fontsize=14, color='orange')\n",
        "    ax2.tick_params(axis='y', labelcolor='orange')\n",
        "\n",
        "    plt.title(\n",
        "        f'Trends in Ratings and Reviews Over Time ({title})\\nCorrelation: {correlation:.2f}',\n",
        "        fontsize=16, fontweight='bold'\n",
        "    )\n",
        "    ax1.set_xlabel('Time (Year-Month)', fontsize=14)\n",
        "    plt.xticks(rotation=45, fontsize=12)\n",
        "    ax1.grid(axis='y', linestyle='--', alpha=0.7)\n",
        "    fig.legend(loc=\"upper left\", bbox_to_anchor=(0.1, 0.9), fontsize=12)\n",
        "    plt.tight_layout()\n",
        "\n",
        "    plt.show()\n",
        "\n",
        "#Visualize each period with correlation\n",
        "visualize_period_with_correlation(old_gen, 'Old-Gen (2005–2012)')\n",
        "visualize_period_with_correlation(new_gen_first_wave, 'New-Gen First Wave (2013–2016)')\n",
        "visualize_period_with_correlation(new_gen_second_wave, 'New-Gen Second Wave (2017–2023)')\n"
      ]
    },
    {
      "cell_type": "markdown",
      "metadata": {
        "id": "NeN3kR_oJx8h"
      },
      "source": [
        "We observe clear differences in trends across the defined periods, reflecting the lifecycle of gaming consoles and their influence on user engagement and opinions.\n",
        "\n",
        "1. **Old-Gen Era** (**2005–2012**): A strong negative correlation (**-0.72**) exists between the number of reviews and the average ratings. This trend reflects the lifecycle of older-generation consoles: as the hardware aged, it became more affordable and accessible to a broader audience. With this broader reach, reviews likely became more diverse, resulting in lower average ratings over time.\n",
        "\n",
        "2. **New-Gen Era – First Wave** (**2013–2016**): A strong positive correlation (**0.68**) is evident between the number of reviews and the average ratings. This likely corresponds to the excitement surrounding the release of new-generation consoles, which brought advancements in gaming quality and features. These innovations attracted new gamers, generating positive feedback and higher engagement. Early adopters, who are typically more enthusiastic, likely drove this increase in both the number of reviews and satisfaction levels.\n",
        "\n",
        "3. **New-Gen Era – Second Wave** (**2017–2023**): A weak positive correlation (**0.22**) is observed during this period. While ratings remained relatively consistent, the number of reviews declined. This trend may reflect market saturation or reduced excitement as the console generation matured. Over time, as the user base stabilized, engagement (review counts) naturally decreased.\n",
        "\n",
        "\n",
        "From that we understand that the lifecycle of gaming consoles significantly impacts audience sentiment and engagement. Early in a console's lifecycle, we see increased interactions and higher ratings due to enthusiasm and early adopters. Toward the end of the lifecycle, engagement declines, and ratings stabilize as broader, more diverse opinions shape the overall sentiment.\n",
        "\n",
        "This analysis highlights how the timing of reviews correlates with average ratings, depending on the era.\n",
        "\n",
        "Given this correlation between the time period and user sentiment, we will introduce a new feature that represents the era (e.g., **Old-Gen**, **New-Gen First Wave**, etc.) instead of relying solely on raw timestamps. This will simplify the integration of temporal data into the recommendation system while preserving meaningful context.\n",
        "\n"
      ]
    },
    {
      "cell_type": "code",
      "execution_count": null,
      "metadata": {
        "colab": {
          "base_uri": "https://localhost:8080/",
          "height": 362
        },
        "id": "pBuFws4gTDCE",
        "outputId": "07977663-d497-4480-ba31-2a5dbfb10ecf"
      },
      "outputs": [],
      "source": [
        "# Convert timestamp to datetime\n",
        "filtered_reviews['timestamp'] = pd.to_datetime(filtered_reviews['timestamp'], errors='coerce')\n",
        "\n",
        "\n",
        "def assign_era(timestamp):\n",
        "    if timestamp <= pd.Timestamp('2012-12-31'):\n",
        "        return 'Old-Gen'\n",
        "    elif pd.Timestamp('2013-01-01') <= timestamp <= pd.Timestamp('2016-12-31'):\n",
        "        return 'New-Gen First Wave'\n",
        "    else:\n",
        "        return 'New-Gen Second Wave'\n",
        "\n",
        "\n",
        "filtered_reviews['era'] = filtered_reviews['timestamp'].apply(lambda x: assign_era(x))\n",
        "\n",
        "\n",
        "filtered_reviews[['timestamp', 'era']].head(10)\n"
      ]
    },
    {
      "cell_type": "markdown",
      "metadata": {
        "id": "CRr1d_H-X7Pc"
      },
      "source": [
        "#### Extracting Additional Features"
      ]
    },
    {
      "cell_type": "markdown",
      "metadata": {
        "id": "RRZCDoDMYMLn"
      },
      "source": [
        "After visualizing the identified correlations, we aim to utilize the existing features, particularly those containing textual data, to create new features that enhance our understanding of the dataset. We will focus on leveraging and analyzing text-based features.\n",
        "\n",
        "**From the review data:**\n",
        "\n",
        "*  **title**: Represents the title of the review, typically summarizing the main points of the review.\n",
        "\n",
        "*  **text**: Represents the full review text, providing detailed feedback from the user.\n",
        "\n",
        "**From the metadata**:\n",
        "\n",
        "*  **title**: The name of the game.\n",
        "\n",
        "*  **features**: Key characteristics of the game, presented in a bullet-point format.\n",
        "\n",
        "*  **description**: A detailed description of the game, offering insights into its gameplay, story, and other relevant aspects.\n",
        "\n",
        "\n",
        "On the review data we aim to preform the following:\n",
        "1.  Extracting Sentiment scores for reviews .\n",
        "2.  Extract a dense vector embeddings for the review text and title.\n",
        "3.  Extract key words from the reviews text.\n",
        "4.  Combine the sentiment score with the actual rating user gave to adjust for bias in the ratings.\n",
        "\n",
        "\n",
        "On the meta data we aim to preform the following:\n",
        "1.  Extract embeddings for game titles.\n",
        "2.  Parse bullet points into individual phrases and encode them.\n",
        "3.  Extract semantic embeddings of the description using pre-trained models.\n",
        "\n",
        "\n",
        "Due to the computational complexity of some tasks, performing them solely on a Colab CPU would be challenging and time-consuming. To address this, I executed certain tasks locally, leveraging my GPU to significantly speed up the process.\n",
        "\n",
        "In this document, I will demonstrate the same process applied to a sample subset of the data. Meanwhile, the full dataset was processed locally using my GPU for better efficiency\n",
        "\n",
        "Because of the usage of embeddings, and that CSV files may serialize NumPy arrays into a string that loses precision or truncates values, we will decide that instead of saving as a CSV, use a binary format that preserves the full structure of NumPy arrays, such as Parquet."
      ]
    },
    {
      "cell_type": "markdown",
      "metadata": {
        "id": "asG0dYfumNei"
      },
      "source": [
        "##### Review Data Features\n",
        "\n",
        "**1. Extracting Sentiment scores for reviews**:"
      ]
    },
    {
      "cell_type": "markdown",
      "metadata": {
        "id": "6-2PmJBHlxkF"
      },
      "source": [
        "We will use the [dnzblgn/Sentiment-Analysis-Customer-Reviews](https://huggingface.co/dnzblgn/Sentiment-Analysis-Customer-Reviews) model for this."
      ]
    },
    {
      "cell_type": "code",
      "execution_count": null,
      "metadata": {
        "id": "7CwIdOVJ6CZo"
      },
      "outputs": [],
      "source": [
        "\n",
        "# save the DataFrame as Parquet to Google Drive\n",
        "filtered_reviews.to_parquet('/content/drive/My Drive/filtered_reviews_update.parquet', index=False, engine='pyarrow')\n",
        "filtered_meta.to_parquet('/content/drive/My Drive/filtered_meta_update.parquet', index=False, engine='pyarrow')\n"
      ]
    },
    {
      "cell_type": "code",
      "execution_count": null,
      "metadata": {
        "colab": {
          "base_uri": "https://localhost:8080/",
          "height": 369,
          "referenced_widgets": [
            "bf9faef9411846cfae2940385935a46b",
            "2e1b8fab20414d26bfffe32c96194f0e",
            "4981f9e07bfa438cb2bfd67b39c0f5cf",
            "05805fc1a1cc408ba01418c81b5f874d",
            "3e177c66d6464e4bbad2c13cd91caa54",
            "c6b16379046d4cb29031be0507cc7100",
            "19b3a138cf364bc48f58a552e1ddd85f",
            "3906a0aad53c4a3fbe11001d4c5d0fc7",
            "1aa2459ffbaa4d39ad8b093b909c7d24",
            "2faa19bbd1de418cacac10d33f7f0b02",
            "0e6a73acd3804f6a8473632999a6d8ca",
            "49bb2d5893f84003b41e3c2d110c324a",
            "21e9ac2fd53549509498cdde02ee260f",
            "a4e8bfb82e9b4d408e900498c1c4e74f",
            "7f00c9252dd7499eadea47c0d09596c4",
            "e41c46185b4a4c2f92ac6f129829ad0c",
            "887ab7c4d3c24e39b6b7ffdcea1b4e1b",
            "42b4236ce2ab419d871bef3d9813432f",
            "559a4150f4e44220a69de1ab2470b3e4",
            "4b4bbd26d0584f6096cd683730505154",
            "7df16042463546a5b226e722b34e417f",
            "dbd8a154e52f4ba3b82e24d4f8b75029",
            "80b2dc5d544048b7b5bfc699583dfdec",
            "b22090469b0842398e9f5ff09168f7e9",
            "92c471b127ba47feb57631f987824534",
            "e8a6da8b9d7146639d5d112fded6439f",
            "f875d8e1ee9e426299b78afc75d40f73",
            "2c5db51163ac48859e2ee182bb0784f0",
            "695e7c5cf84840499667c2c04a2616ac",
            "ea47eafe320d4c66ae03fc6a77c01a11",
            "eee367a010ae477e99a962f7608ee5b1",
            "aa4b77c74d3141c8ae5236dc66e5194d",
            "941bbaea878649c0acd29dcec6d8315a",
            "2969bae47ca843f1baa6efd899f80693",
            "46545ec20c3f446ca74870fb0c521e9f",
            "4c5514afe0b04127976d5d8c5f132b55",
            "46dcaceb120e4b5e9af7a7c947d8fed7",
            "e822b3ec2d4f40868c5cdc4ac8a4203b",
            "ca119740222946d495f483adc0644141",
            "c76ee483e43547e6a133bba4b69f51bb",
            "22bb232000a34d4db6a4a41b333dea32",
            "3a8538c5050c484590e269978d02eb7e",
            "0f137b9c07434d7ead7048e68656d633",
            "b5f46a100e6347b6b02c3a61a41a46dd",
            "188cb38209f84146adcee59f2d00a68e",
            "d2fc5a2a9eff431ab6321123e1cea732",
            "cb37abd394d140cd870d8b86b10f0c8a",
            "922f780784a2491996297b19585e7490",
            "88267bdfbfc14cd08121206ec329fb22",
            "79f02557eeac431b8f37ca553b8a5072",
            "c54e89ee04334a3f91092a9fca7310b4",
            "a09be268b5584428af51c3c1c6c01755",
            "4324d327f79d4b64b0e38cbee2dac53b",
            "c42605c75bf945aca26dbcffec1ba732",
            "e8d831fc7a6e4d34a6052f9a36117c35",
            "7b3cdfe1f5a1450a8dd8f18b8db29b63",
            "de21f98754384dd6b88523c5902a54f3",
            "646cf123245447daa4be1da43263011e",
            "703ae968163749ee91e0a0ed17468993",
            "30a5019125af4b6ab2324463a5d2d18c",
            "bc5e45a853784a348ee9e6d6774bfa84",
            "55fa3bd3c0d7407f80b81c3bcc5a2226",
            "25881b0ac03b4595b31584bdc3645e65",
            "c9af0928bf434d61b18cc1a97cfa2981",
            "6f7dbebbe2834a13b38df44d80332082",
            "654f6d43f890467095791134708d92b6",
            "9f0c20345f1945a6bdabb9d0b6eabd52",
            "958f5f344814404f856ac2a9bab3354a",
            "b21c2185305c483e96d5719f3409ed3e",
            "79e04c2c29054aad930bb04897015c53",
            "c0475f40542a48a8989076b0b3c922c8",
            "3c65300e49904a8f8a7138fc557c2db4",
            "080672121085448e97fbeb7f44ef2b92",
            "72a4bf5e71a743518515c211848d0128",
            "1d27f961b3684c10b5cdac11feb08e47",
            "22bfca47439a423c840b565f75719ea5",
            "ee126a5ce178404d891576b2cf51a1ca"
          ]
        },
        "id": "Pe6aJbzvnxtm",
        "outputId": "00a696da-f119-4caa-93c8-daed87ed3dc1"
      },
      "outputs": [],
      "source": [
        "from transformers import AutoTokenizer, AutoModelForSequenceClassification\n",
        "import torch\n",
        "\n",
        "# Load the model and tokenizer\n",
        "model_name = \"dnzblgn/Sentiment-Analysis-Customer-Reviews\"\n",
        "tokenizer = AutoTokenizer.from_pretrained(model_name)\n",
        "model = AutoModelForSequenceClassification.from_pretrained(model_name)\n"
      ]
    },
    {
      "cell_type": "code",
      "execution_count": null,
      "metadata": {
        "id": "kasXphgNGkU_"
      },
      "outputs": [],
      "source": [
        "def get_sentiment_scores_in_batches(texts, batch_size=32, max_length=128):\n",
        "    all_scores = []\n",
        "    total_batches = len(texts) // batch_size + (1 if len(texts) % batch_size > 0 else 0)\n",
        "\n",
        "    for batch_idx, i in enumerate(range(0, len(texts), batch_size)):\n",
        "        batch_texts = texts[i:i+batch_size]\n",
        "\n",
        "        # Print the current batch number\n",
        "        print(f\"Processing batch {batch_idx + 1}/{total_batches}\")\n",
        "\n",
        "        # Tokenize the batch with a limit on the number of tokens\n",
        "        inputs = tokenizer(\n",
        "            batch_texts,\n",
        "            return_tensors=\"pt\",\n",
        "            truncation=True,\n",
        "            padding=True,\n",
        "            max_length=max_length  # Limit the number of tokens\n",
        "        )\n",
        "\n",
        "        # Disable gradient computation for inference\n",
        "        with torch.no_grad():\n",
        "            outputs = model(**inputs)\n",
        "\n",
        "        # Apply softmax to logits to get probabilities\n",
        "        scores = torch.nn.functional.softmax(outputs.logits, dim=-1)\n",
        "\n",
        "        # Convert tensor scores to a list and add to results\n",
        "        all_scores.extend(scores.tolist())\n",
        "\n",
        "    return all_scores\n",
        "\n"
      ]
    },
    {
      "cell_type": "code",
      "execution_count": null,
      "metadata": {
        "colab": {
          "base_uri": "https://localhost:8080/"
        },
        "id": "edKftNpbJvzG",
        "outputId": "a7902f2e-060b-4de1-9c13-4cfab273ec1b"
      },
      "outputs": [],
      "source": [
        "filtered_reviews[\"text\"] = filtered_reviews[\"text\"].fillna(\"\").astype(str)\n",
        "\n",
        "# Randomly sample 32 rows from the DataFrame\n",
        "sample_reviews = filtered_reviews.sample(n=32, random_state=42)\n",
        "\n",
        "sample_texts = sample_reviews[\"text\"].tolist()\n",
        "\n",
        "# Process sentiment for the sample\n",
        "sample_sentiment_scores = get_sentiment_scores_in_batches(\n",
        "    sample_texts,\n",
        "    batch_size=32,  # Set the batch size equal to the sample size\n",
        "    max_length=128\n",
        ")\n"
      ]
    },
    {
      "cell_type": "code",
      "execution_count": null,
      "metadata": {
        "id": "sDo4fYADKVmO"
      },
      "outputs": [],
      "source": [
        "sample_reviews[\"sentiment_scores\"] = sample_sentiment_scores\n"
      ]
    },
    {
      "cell_type": "code",
      "execution_count": null,
      "metadata": {
        "colab": {
          "base_uri": "https://localhost:8080/",
          "height": 1000
        },
        "id": "q_ZLzLZfLZo-",
        "outputId": "17f5ac69-a0e0-48dc-eec0-9a1fb717a7e1"
      },
      "outputs": [],
      "source": [
        "# Define sentiment labels based on the model's output\n",
        "labels = [\"Positive\", \"Negative\"]\n",
        "\n",
        "# Add a column for predicted sentiment to the sample DataFrame\n",
        "sample_reviews[\"predicted_sentiment\"] = sample_reviews[\"sentiment_scores\"].apply(\n",
        "    lambda scores: labels[scores.index(max(scores))]  # Find the label with the highest probability\n",
        ")\n",
        "\n",
        "# Display the results\n",
        "sample_reviews[[\"text\",\"rating\", \"sentiment_scores\", \"predicted_sentiment\"]].head(32)\n"
      ]
    },
    {
      "cell_type": "markdown",
      "metadata": {
        "id": "zQpJeRoiip6c"
      },
      "source": [
        "From this small sample, we observe that reviews with a 5-star rating predominantly have a positive sentiment. Reviews with a 4-star rating show inconsistency, with some being classified as positive and others as negative. Meanwhile, reviews with 3 stars or fewer tend to have a predominantly negative sentiment.\n",
        "\n",
        "This sample represents only a small portion of the entire dataset, but it suggests an important pattern: sentiment predictions are generally accurate for reviews at the extremes of satisfaction — very high satisfaction (5 stars) or mild to extreme dissatisfaction (3 stars and below). However, for 4-star reviews, the model struggles to classify sentiment with the same level of certainty. This is understandable, as 4-star reviews often contain a mix of both positive and negative feedback about the game, making them more ambiguous and challenging to categorize."
      ]
    },
    {
      "cell_type": "code",
      "execution_count": null,
      "metadata": {
        "colab": {
          "base_uri": "https://localhost:8080/",
          "height": 659
        },
        "id": "fKeBbrUfDMDS",
        "outputId": "6c031882-93f5-4358-e322-dc7bbc74cb83"
      },
      "outputs": [],
      "source": [
        "file_path_reviews = '/content/drive/My Drive/filtered_reviews_new.parquet'\n",
        "\n",
        "filtered_reviews = pd.read_parquet(file_path_reviews, engine=\"pyarrow\")\n",
        "\n",
        "filtered_reviews.head()\n"
      ]
    },
    {
      "cell_type": "markdown",
      "metadata": {
        "id": "iR2NilTsob0n"
      },
      "source": [
        "**2. Extract a dense vector embeddings for the review text and title**"
      ]
    },
    {
      "cell_type": "markdown",
      "metadata": {
        "id": "C9jDvnXNulvN"
      },
      "source": [
        "We will use the [hyp1231/blair-roberta-large](https://huggingface.co/hyp1231/blair-roberta-large) model for this.\n",
        "\n",
        "The data used would be combined of both the text of the review and the title of it, this in order to ensures embeddings capture both context and summary. We will add normalization to each vector as well."
      ]
    },
    {
      "cell_type": "code",
      "execution_count": null,
      "metadata": {
        "colab": {
          "base_uri": "https://localhost:8080/",
          "height": 977,
          "referenced_widgets": [
            "689563df4d4747608c668ff69a68c783",
            "1f29a2a004514259982c4c4d9a025701",
            "5e63fe2ec5f24745a38422ef94c9bfd4",
            "0aef4c9078d045d08f1c359a97b1998a",
            "1e72a4f47a70415e83937b6df57cecf4",
            "984f06b6487046b19b4b8dfcc4786e9d",
            "d35870c169514cc1a63303c044ff5081",
            "5f6e066f9b0c4b389dd60bb26960318e",
            "fd0eda83a8b34f16982e2f058736271a",
            "045ee807f2ae4420983f126f1dd32c6a",
            "5567270175c849d68afccc1a9eda3212",
            "26813d7c8e43496e8967ff5a72011be0",
            "ec022592712047a18aeae39c6be48539",
            "9e8553a35df24780bee26f5721763b06",
            "1ed8f495359f4f56851a656efd20e202",
            "62ebe0900fcf406ebe27dc19a623bea2",
            "e79424373eed461787a624a5c2818fb5",
            "4758bd9b168344a79a2ea5f2a78b0c4b",
            "5579c96ba0fb460dae9381dbd11a2a11",
            "ce72650ec43a45f2aa173d907692d637",
            "a983de5297974966beccb149c2640226",
            "24be542fffe243109527c24d6a86ff51",
            "5a9dd5d04b67498bbf81f7638c039fbe",
            "74220418a2a34bf7a48fe174b24d3039",
            "d01d97d04894440686910f82f16d72ea",
            "8902bc3c463d48eeacecdf4b7e50e09f",
            "8ae4cba5d4d340e888eec77e7e71c343",
            "4debb5c2d3964c41a8aedae1a056b7dd",
            "0d77dd5b2f9f409fbb402031c907d985",
            "a093c43eed4b473ca2eba915c7d1169e",
            "47ae08f40dbf479e974365a852700afe",
            "925ba93079ef4c0586b30e934309e66f",
            "71840476e7dd4913945c776c55c7119f",
            "1bf270e23bb645f0a849b5ec105c1da4",
            "579dad32b47e49208a8e25ffba0f2c24",
            "e18af142760e46f6a819c4dccebba40c",
            "7b1b1f4f78c24d909de818fb3eb4543d",
            "575272328c1a46c0be04cdcd1cdea3f4",
            "d9833927d066425b869c7e7646918b50",
            "3c6369c37e0f4e9d8fca14f25dc9d74a",
            "5405c59926914e84b599b36d3a2460ee",
            "163213d18ebc4cc9aeab37faf81b04cf",
            "84f422bb44ed4a998bebfbc3d4e6dd6c",
            "e4ca8767b16d47e6ad93184e686b9f87",
            "4bad9e87896f4709841004b414307d24",
            "557370ac977e41ee901c8df4919e6bb8",
            "2b217c505f9240d680ec3c695b28e009",
            "1ba7508760914d78aaee7b580df1cdc7",
            "f0d9b1231a9a498c886214b4f16a5d66",
            "5b5793fa8a0040a08fd545c693467944",
            "4ea7b716a48c4472a5f1f9ce4c2f02cc",
            "80b244dfe85245aeaf3ec409c38ea97a",
            "dd06f7f97a4543bf90692e00680b3f95",
            "07e3acdccf5041e78f937f6372d5a41d",
            "513c492b9a8e4e5ab04878a86026871f",
            "fb1bad85b0484591afc1f9804bb131c8",
            "6f16fae12034427fa35b146abda1023d",
            "d303f7c0c12c47d69ac17b0537e1a0d8",
            "8b87d06129cb4388a22492063e377e04",
            "cb983a15f45145d4892fa50275f09973",
            "a3360832602241679bd30308495874c6",
            "6f5ea9fb8e624f82b1c35f25c93192d3",
            "51a203afcc4844bb9e12a34b23c7c6a2",
            "2273e77bf2ea4a1aa8820581f8c13757",
            "307e10ceb7fc43b29354cf735b57109a",
            "954a6e12ef97446f87a9f051c37817d6",
            "6d51820cc184446b8a3b161f63b3d7df",
            "a434ab83342b4877ac3969a644b88db5",
            "fecee293d17b46539e598e699ceb0eaa",
            "2b779affaad941d4ab93063c010f7dd2",
            "f4c61206d2d54c5e9e97cde3ad892d54",
            "5c5167e28d184d6a86199aabfbda6000",
            "a030f78e048d42bdba1d1584e37aee2e",
            "c4fe2073578f41be906c250f9ef5abbd",
            "3d18b32ce2c045c8ae59471ba298f896",
            "8afebc938b624210ac2a3640e1670ce0",
            "a868187b3dff4063ade24f7c366fa8a4"
          ]
        },
        "id": "eQdP8dzEoh2T",
        "outputId": "d0c4d116-4a95-40b9-9f92-2ef7eb46afde"
      },
      "outputs": [],
      "source": [
        "from transformers import AutoTokenizer, AutoModel\n",
        "import torch\n",
        "from torch.nn.functional import normalize\n",
        "from tqdm import tqdm\n",
        "\n",
        "# Load the model and tokenizer\n",
        "model_name = \"hyp1231/blair-roberta-large\"\n",
        "tokenizer = AutoTokenizer.from_pretrained(model_name)\n",
        "model = AutoModel.from_pretrained(model_name)\n",
        "model.eval()  # Set the model to evaluation mode\n"
      ]
    },
    {
      "cell_type": "code",
      "execution_count": null,
      "metadata": {
        "id": "k56i54A7o0nm"
      },
      "outputs": [],
      "source": [
        "sample_reviews = filtered_reviews.sample(n=32, random_state=42)\n",
        "\n",
        "# Prepare the data\n",
        "texts = sample_reviews['text']  # Extract the 'text' column for embedding\n",
        "titles = sample_reviews['title']  # Extract 'title' column if needed\n",
        "combined_texts = titles + \" \" + texts  #  Combine title and text"
      ]
    },
    {
      "cell_type": "code",
      "execution_count": null,
      "metadata": {
        "id": "JVzr9c3Ap7Ys"
      },
      "outputs": [],
      "source": [
        "# Function to extract embeddings\n",
        "def get_embeddings(text_list, batch_size=32):\n",
        "    embeddings = []\n",
        "    for i in tqdm(range(0, len(text_list), batch_size), desc=\"Embedding Progress\"):\n",
        "        batch_texts = text_list[i:i+batch_size]\n",
        "        inputs = tokenizer(\n",
        "            batch_texts.tolist(),\n",
        "            padding=True,\n",
        "            truncation=True,\n",
        "            return_tensors=\"pt\",\n",
        "            max_length=512\n",
        "        )\n",
        "        with torch.no_grad():\n",
        "            outputs = model(**inputs)\n",
        "        cls_embeddings = outputs.last_hidden_state[:, 0, :]  # [CLS] token embedding\n",
        "        normalized = normalize(cls_embeddings, p=2, dim=1)  # L2 normalization\n",
        "        embeddings.extend(normalized.cpu().numpy())\n",
        "    return embeddings"
      ]
    },
    {
      "cell_type": "code",
      "execution_count": null,
      "metadata": {
        "colab": {
          "base_uri": "https://localhost:8080/"
        },
        "id": "ta-pdv9lp9tg",
        "outputId": "b8b4d261-619e-4ac2-9f10-7e03dcedbbdb"
      },
      "outputs": [],
      "source": [
        "# Generate embeddings for combined texts\n",
        "sample_reviews['title_and_text_embeddings'] = get_embeddings(combined_texts)"
      ]
    },
    {
      "cell_type": "code",
      "execution_count": null,
      "metadata": {
        "colab": {
          "base_uri": "https://localhost:8080/",
          "height": 292
        },
        "id": "KszirAYwrIay",
        "outputId": "9589540d-bc19-4096-f488-da6ef15e7935"
      },
      "outputs": [],
      "source": [
        "sample_reviews[[\"title\", \"text\", \"title_and_text_embeddings\"]].head()"
      ]
    },
    {
      "cell_type": "code",
      "execution_count": null,
      "metadata": {
        "colab": {
          "base_uri": "https://localhost:8080/",
          "height": 292
        },
        "id": "e9TauQzve4Bd",
        "outputId": "d43687ec-31c1-401a-ecce-e6bfab216e07"
      },
      "outputs": [],
      "source": [
        "file_path_reviews = '/content/drive/My Drive/filtered_reviews_new2.parquet'\n",
        "\n",
        "filtered_reviews = pd.read_parquet(file_path_reviews, engine=\"pyarrow\")\n",
        "\n",
        "filtered_reviews[[\"title\", \"text\", \"title_and_text_embeddings\"]].head()"
      ]
    },
    {
      "cell_type": "markdown",
      "metadata": {
        "id": "F2sDJyMf4g7o"
      },
      "source": [
        "**3. Combine Sentiment Scores with User Ratings**\n",
        "\n",
        "Integrating sentiment scores with user ratings can address biases stemming from inconsistencies in user reviews. For instance, a user might provide a low rating despite expressing positive sentiment in their review (e.g., \"Great game! But too expensive.\"), or conversely, give a high or moderate rating while writing a predominantly negative review (e.g., \"Not perfect, some issues, but definitely playable and gets the job done.\").\n",
        "\n",
        "By combining the actual rating with sentiment analysis, these inconsistencies can be mitigated, resulting in a more accurate and representative assessment of the user's true opinion.\n",
        "\n"
      ]
    },
    {
      "cell_type": "code",
      "execution_count": null,
      "metadata": {
        "id": "CHBEHsIg4oUK"
      },
      "outputs": [],
      "source": [
        "\n",
        "# Define weights for rating and sentiment\n",
        "w1, w2 = 0.7, 0.3  # Adjust weights- prioritize user rating over sentiment\n",
        "\n",
        "# Extract the positive sentiment probability from the sentiment scores\n",
        "filtered_reviews['positive_sentiment_prob'] = filtered_reviews['sentiment_scores'].apply(\n",
        "    lambda x: eval(x)[0] if isinstance(x, str) else x[0]\n",
        ")\n",
        "\n",
        "# Adjust positive sentiment probabilities to match the rating scale\n",
        "max_rating = 5\n",
        "filtered_reviews['scaled_sentiment'] = filtered_reviews['positive_sentiment_prob'] * max_rating\n",
        "\n",
        "# Compute the adjusted rating\n",
        "filtered_reviews['adjusted_rating'] = (\n",
        "    w1 * filtered_reviews['rating'] + w2 * filtered_reviews['scaled_sentiment']\n",
        ")\n"
      ]
    },
    {
      "cell_type": "code",
      "execution_count": null,
      "metadata": {
        "colab": {
          "base_uri": "https://localhost:8080/",
          "height": 1000
        },
        "id": "RQw8bjWz5pz4",
        "outputId": "f445ba1e-008f-4f4b-e93d-ba8d675af364"
      },
      "outputs": [],
      "source": [
        "filtered_reviews[[\"rating\", \"positive_sentiment_prob\", \"scaled_sentiment\", \"adjusted_rating\"  ]].head(35)"
      ]
    },
    {
      "cell_type": "code",
      "execution_count": null,
      "metadata": {
        "colab": {
          "base_uri": "https://localhost:8080/",
          "height": 383
        },
        "id": "X67451WR_5ta",
        "outputId": "82b81809-362f-46c6-ae45-d1bfce2dd494"
      },
      "outputs": [],
      "source": [
        "\n",
        "# Define quarter intervals for the X-axis\n",
        "x_ticks = np.arange(0, 5.25, 0.25)  # Quarter intervals from 0 to 5\n",
        "\n",
        "# Create a KDE plot for the adjusted ratings\n",
        "plt.figure(figsize=(12, 6))\n",
        "sns.kdeplot(filtered_reviews['adjusted_rating'], fill=True, color=\"skyblue\", alpha=0.7, bw_adjust=0.5)\n",
        "plt.title(\"Density Plot of Adjusted Ratings\", fontsize=18)\n",
        "plt.xlabel(\"Adjusted Rating\", fontsize=14)\n",
        "plt.ylabel(\"Density\", fontsize=14)\n",
        "plt.xticks(ticks=x_ticks, labels=[f\"{tick:.2f}\" for tick in x_ticks])  # Format labels with 2 decimal places\n",
        "plt.grid(axis='y', linestyle='--', alpha=0.6)\n",
        "plt.tight_layout()  # Adjust layout for clarity\n",
        "plt.show()\n",
        "\n"
      ]
    },
    {
      "cell_type": "markdown",
      "metadata": {
        "id": "V_qS2iZ1s04T"
      },
      "source": [
        "We observe a broader distribution of ratings within the adjusted rating range. This variation arises because reviews with the same original rating may carry either positive or negative sentiment, influencing their corresponding adjusted scores."
      ]
    },
    {
      "cell_type": "markdown",
      "metadata": {
        "id": "ty1Y5IePtWLO"
      },
      "source": [
        "##### Meta Data Features\n",
        "\n"
      ]
    },
    {
      "cell_type": "code",
      "execution_count": null,
      "metadata": {
        "id": "71AprPEj2wSf"
      },
      "outputs": [],
      "source": [
        "file_path_meta = '/content/drive/My Drive/filtered_meta_update.parquet'\n",
        "\n",
        "filtered_meta = pd.read_parquet(file_path_meta, engine=\"pyarrow\")\n"
      ]
    },
    {
      "cell_type": "markdown",
      "metadata": {
        "id": "5d_aTXRE2u8E"
      },
      "source": [
        "**1. Embedding video game titles**"
      ]
    },
    {
      "cell_type": "markdown",
      "metadata": {
        "id": "oWYIqIWJxRe3"
      },
      "source": [
        "Instead of the previously used model, we will opt for a more generic model specifically trained on sentences, which aligns well with the nature of video game titles. The SBERT model is particularly suited for this purpose as it is designed to generate meaningful embeddings for sentences or short texts, making it an excellent choice for capturing the essence of game titles.\n",
        "\n",
        "Game titles often carry nuanced meanings that cannot be effectively represented by integer IDs or traditional categorical encodings. For example, \"**FIFA 23**\" and \"**FIFA 22**\" are closely related as they belong to the same game series. By embedding video game titles, we can uncover these subtle relationships, making it a powerful approach for tasks like similarity analysis and recommendation systems."
      ]
    },
    {
      "cell_type": "code",
      "execution_count": null,
      "metadata": {
        "colab": {
          "base_uri": "https://localhost:8080/",
          "height": 497,
          "referenced_widgets": [
            "754213804601497e9a466457e463de1b",
            "98d76d94505e4425be2fbe7d3a71f405",
            "287dbabcf2f9422dba62f2dea97f3b0f",
            "9dafe7036eb5441da5fd309c25c7317c",
            "6b5d97572fae4326b56fb46f0f3ecf3d",
            "8c70f945d52f40ed8bca69acd8e8cbf3",
            "20a8a82231fa4343807a33bd6d8e46fa",
            "c388a3ee23bf4b298dc9ab78e21ddde4",
            "ffbed7d02ffb4f7bb97c96f312651d31",
            "2e65d33269c3497fab43cdd5d554f4a3",
            "c4fbc5f7d3d24ff89c55cdd21896697b",
            "03e9338890dd4475a64cfddb401ed059",
            "957d826b3a4a42afa243441d35fa76ec",
            "b985c6eef3c54a87a0108cf77909e8b5",
            "9279e34f8b934c0390f51515a24f1a63",
            "37a6332d65eb4c11a44f484865b1f2ff",
            "107f7ce23aa74bb8b392a17646277f3d",
            "f60b878c86fc4a32b871741463210201",
            "787bd61afc2649b39cc05f4fd4a2aa01",
            "6878467be51446878f2806147753651a",
            "a6f29fe86f2c4718b5191993ccef0a10",
            "70c3340d321c4b4c959bd6b495d2c88b",
            "78eba5af31a3402b909697e87128af9d",
            "6442031bad8f4e7fa26a050de2edb9ae",
            "7794b3fee66d48a292b420e15cd9ae72",
            "0c7f18c39cbd465988666cb38ded3071",
            "3da1c39b377a46c1a0302724449fcdb6",
            "d57f6e773f5746f89674c01036df0cd6",
            "f310e1fdb7554e49a6d06eb80bbda012",
            "9e3bb886d2574dbda8de72423ad117d7",
            "5e41daadad4746a9b333e7f84e59ab06",
            "d57132f848b34daf921313d366b71540",
            "0f8d3b8e949c421e9ef933fc790f3a79",
            "924372cdfad04dbeb220d9f68d5d712c",
            "ba2d6baf476e453495d236d7ce56025d",
            "22840adf30d14da383c0fbe1413c1c27",
            "3a5eace0aaf14833a6a613993944b36c",
            "c4dca387220e483b99ee546c804fe570",
            "ab83f783e0ff4fc6975794de861822e9",
            "2875db36c95d4ae0b626978701399eff",
            "0b10ccbe89294dbcb39e3ac1100c85f3",
            "e8218b75ca0d4ea3b0b10c7ebb6033b7",
            "c4987976333d496681a6d6b658c8c345",
            "9a35fb6f8f4548ef943569df73a3486f",
            "cb12c4e4f517402e824584681aa75eb1",
            "ae897a8fb0234c6c86186c9ab971b307",
            "0ec3657ddc644fe5959ae29bf441117c",
            "fea63d5e868246d1a3694802bf526ab0",
            "1b48b7278d0b4973b51d7c2dfef3be1e",
            "55559b8f43774e3690f33fcc39cb011c",
            "22125e68ba2a491883d42b946910910f",
            "b22fbefef9a44e288f621056a6cdec8c",
            "9f3b1623b32a49ca92939dc1508d5949",
            "461da49aec214dacb952e42a4b622289",
            "50ef4abe677f4ca4af3ab3bcb94c0d0f",
            "860296c0209d4f1fb2d3c75cbea609d6",
            "2793b5a5693f4a6581cebdae885610f3",
            "bd476a9bba5448bcafe30692998cb163",
            "3d7a820ca956463f867bbe9e26bf6104",
            "fefa1e9b3868481c9b5941619023ffe3",
            "a478c247d8fd4e9194bdea43bd23d962",
            "c0fd16a49a67471e9431471e4359ad64",
            "563ae63755fb4a2e8d717f4eabf4c7e0",
            "596a909f73b54c4f91490bc416da8f8f",
            "869b397a90f14c0aba9fc3d3d842efc0",
            "1ab0104b0122457d854541d25040c5e3",
            "6e4675d28e744aa1bd57e34246e544d1",
            "efd51000373c47bdb5bb324d86458e86",
            "4a105eed9f30448488907e29356d447b",
            "8957e15a911f4c95a13212fbaf56cd6f",
            "73c690d531bf46b78c0fe656f4e34e6a",
            "f1039acd34644a6da8f680633fc1a324",
            "34154c0572cd499ca457fd6ebacfc540",
            "2e4c6ab39e3241e78c1f4bf56cd7bfa1",
            "6bf4e372dd8f405a8ac6477b2efdb333",
            "9599f730896b46babec5179a6fc33ed5",
            "3e61693f255c4c078de7082926b04dbc",
            "4f9430bad9154110bb527df377d3f208",
            "938e03b188a345a2b804584b0cdcec9f",
            "c207fffe223140f99b40b69eec7e8ed1",
            "525c6078b44b4e0a80ef55eec189c62f",
            "8c51f03d5bd34aafa9b701e9616e125c",
            "b05105672be34c998f41163b40e13990",
            "fc55173c138f40f09ad997465e1efd43",
            "d1dc9f41f0634663b9b8c74e614e95e7",
            "01e6c7faf45b43ce9fd4857345d438eb",
            "d865466fb9e84a6ebe8b4481a3ba52b7",
            "eea6c7dd92d54885b83f18ab950fc3b4",
            "6e9485b3711544d5a19082b77ebfa831",
            "271c2166e8774b37bcbb1319b2cb5294",
            "e39b36d6fa0f4312a85e7e02e6346be9",
            "9b1888cd6a764afb8ddbabb8266cf716",
            "4ef12a152f744a789f735fbe515a0c56",
            "46e4f3e228bc45ac8e5fef4abe3c4b78",
            "1bb739a9d6604fe88793a3ae88e7b9a8",
            "bbc38cebb90c4ceeac10d5b753a00864",
            "cd108c0aa76c470691f7b6e510dfb23d",
            "db332dda647c4f678ff41f016b9589b8",
            "53f03c69b783481097571dc8daa5d31c",
            "0df8a69efa6b4478aa84abfff282cedc",
            "9e7cbdb4fdba4284a805b32ea164d561",
            "7dd8523bbb7d490090fd14d6bee03b6b",
            "acb38d7e8906422ca5cb0097801342f5",
            "4d875ce33b95423198ff545640a84b3a",
            "c07f6c79a2a24426ae80bc2faadd83fc",
            "3b1da192c9be4042a3c95bb110504f71",
            "862007e9feda498b8f820f05b5c59442",
            "e3323f12360f41f9b19dc66428d2d287",
            "d7cef6e886274dca9a21ccf13a0c58e4",
            "94ada5d84e244173bea5c5b78adef2f1",
            "6625a1ccd6c543f3b5c48f30cf8aabad",
            "e98a91a1061a4c618129f0a857f624c4",
            "681d478756954544b1ffdf2e455220d2",
            "7c44189ed924440e8ad05dd66151a66b",
            "20ac4f1f62a740a9856cf856088ccc39",
            "2334bd5eea5446a39ede079c76633338",
            "05f6704357ef44ec8826e1dc3846b061",
            "ab54915711944276b46063c7355b5c44",
            "a809ff6967af400bbffd00c537b37367",
            "0915523edab74f33999e8de14f031e83",
            "1b85434577364eb0a6e58812c6620db3"
          ]
        },
        "id": "gxTv7nOt1hyH",
        "outputId": "743241e3-a1a3-4bc6-9ad8-b81e1891ee10"
      },
      "outputs": [],
      "source": [
        "from sentence_transformers import SentenceTransformer\n",
        "\n",
        "# Load the SBERT model\n",
        "sbert_model = SentenceTransformer('all-MiniLM-L6-v2')\n",
        "\n",
        "filtered_meta['title_embeddings'] = filtered_meta['title'].apply(lambda x: sbert_model.encode(x).tolist())\n",
        "\n"
      ]
    },
    {
      "cell_type": "code",
      "execution_count": null,
      "metadata": {
        "colab": {
          "base_uri": "https://localhost:8080/",
          "height": 292
        },
        "id": "CpMBECrV3qLd",
        "outputId": "01c19d77-0154-408f-c617-61650d66f728"
      },
      "outputs": [],
      "source": [
        "filtered_meta[[\"title\", \"title_embeddings\"]].head()"
      ]
    },
    {
      "cell_type": "code",
      "execution_count": null,
      "metadata": {
        "id": "gHovOXQmrtJl"
      },
      "outputs": [],
      "source": [
        "filtered_meta.to_parquet('/content/drive/My Drive/filtered_meta_new.parquet', index=False, engine='pyarrow')"
      ]
    },
    {
      "cell_type": "markdown",
      "metadata": {
        "id": "xibhSKK934NR"
      },
      "source": [
        "**2.  Parse Bullet Points and Encode Them**"
      ]
    },
    {
      "cell_type": "markdown",
      "metadata": {
        "id": "K9ow2VMX8gpP"
      },
      "source": [
        "Parsing bullet points in the features column and then encoding them is usful for improving understanding on these features similarity, we would use the [hyp1231/blair-roberta-large](https://huggingface.co/hyp1231/blair-roberta-large) model for creating the embedings.\n",
        "\n",
        "Due to high comutional complexity we will show implementation of it on a sample of items from the meta data."
      ]
    },
    {
      "cell_type": "code",
      "execution_count": null,
      "metadata": {
        "id": "LUTs8FHiKhOz"
      },
      "outputs": [],
      "source": [
        "sample_meta = filtered_meta.sample(n=16, random_state=42)"
      ]
    },
    {
      "cell_type": "code",
      "execution_count": null,
      "metadata": {
        "id": "hwuWFFh8H1V4"
      },
      "outputs": [],
      "source": [
        "def parse_bullet_points(feature_column):\n",
        "    \"\"\"\n",
        "    Parses bullet points stored as strings into individual phrases.\n",
        "    Expects feature_column as a string representation of a list.\n",
        "    \"\"\"\n",
        "    try:\n",
        "        parsed_features = eval(feature_column) if isinstance(feature_column, str) else []\n",
        "        return \" \".join(parsed_features)  # Combine all bullet points into one string\n",
        "    except:\n",
        "        return \"\"\n",
        "\n",
        "sample_meta['parsed_features'] = sample_meta['features'].apply(parse_bullet_points)"
      ]
    },
    {
      "cell_type": "code",
      "execution_count": null,
      "metadata": {
        "id": "sPPq-oSH8f-t"
      },
      "outputs": [],
      "source": [
        "from transformers import AutoTokenizer, AutoModel\n",
        "import torch\n",
        "\n",
        "# Load Blair-RoBERTa model and tokenizer\n",
        "model_name = \"hyp1231/blair-roberta-large\"\n",
        "tokenizer = AutoTokenizer.from_pretrained(model_name)\n",
        "model = AutoModel.from_pretrained(model_name)"
      ]
    },
    {
      "cell_type": "code",
      "execution_count": null,
      "metadata": {
        "id": "yOice2ui--3b"
      },
      "outputs": [],
      "source": [
        "def generate_embedding(text, tokenizer, model):\n",
        "    inputs = tokenizer(text, return_tensors=\"pt\", truncation=True, padding=True, max_length=128)\n",
        "    with torch.no_grad():\n",
        "        outputs = model(**inputs)\n",
        "    # Mean pooling for sentence-level embedding\n",
        "    embeddings = outputs.last_hidden_state.mean(dim=1)\n",
        "    return embeddings.squeeze().numpy()\n"
      ]
    },
    {
      "cell_type": "code",
      "execution_count": null,
      "metadata": {
        "id": "RSRAsx3A_1LP"
      },
      "outputs": [],
      "source": [
        "sample_meta['features_embeddings'] = sample_meta['parsed_features'].apply(lambda x: generate_embedding(x, tokenizer, model))\n"
      ]
    },
    {
      "cell_type": "code",
      "execution_count": null,
      "metadata": {
        "colab": {
          "base_uri": "https://localhost:8080/",
          "height": 828
        },
        "id": "-5B3ldW9LAar",
        "outputId": "f4955709-0ce2-4df2-b50e-0e9156e4f88d"
      },
      "outputs": [],
      "source": [
        "sample_meta[[\"title\", \"parsed_features\", \"features_embeddings\"]].head(16)"
      ]
    },
    {
      "cell_type": "code",
      "execution_count": null,
      "metadata": {
        "colab": {
          "base_uri": "https://localhost:8080/",
          "height": 292
        },
        "id": "0XYtfSr1J2Zb",
        "outputId": "c5bd4ca6-77fa-4184-deb9-4d51868c3d8f"
      },
      "outputs": [],
      "source": [
        "file_path_meta = '/content/drive/My Drive/filtered_meta_new2.parquet'\n",
        "\n",
        "filtered_meta = pd.read_parquet(file_path_meta, engine=\"pyarrow\")\n",
        "\n",
        "filtered_meta[[\"title\", \"parsed_features\", \"features_embeddings\"]].head()"
      ]
    },
    {
      "cell_type": "markdown",
      "metadata": {
        "id": "b1MlPNQ8xUgn"
      },
      "source": [
        "**3. Semantic Embeddings of The Description**\n",
        "\n",
        "We'll use the pre-trained model [hyp1231/blair-roberta-large](https://huggingface.co/hyp1231/blair-roberta-large) to extract the description embedding for later use to find sementic similarities between the available games."
      ]
    },
    {
      "cell_type": "code",
      "execution_count": null,
      "metadata": {
        "id": "EKfTZ-_9zNxL"
      },
      "outputs": [],
      "source": [
        "from transformers import AutoTokenizer, AutoModel\n",
        "import torch\n",
        "\n",
        "meta_sample = filtered_meta.sample(n=8, random_state=42)\n",
        "description_sample = meta_sample['description'].astype(str).tolist()\n",
        "\n",
        "# Load the tokenizer and model\n",
        "model_name = \"hyp1231/blair-roberta-large\"\n",
        "tokenizer = AutoTokenizer.from_pretrained(model_name)\n",
        "model = AutoModel.from_pretrained(model_name)\n",
        "\n"
      ]
    },
    {
      "cell_type": "code",
      "execution_count": null,
      "metadata": {
        "id": "1yuwzq11X6CR"
      },
      "outputs": [],
      "source": [
        "def generate_embeddings(descriptions, tokenizer, model, batch_size=8):\n",
        "    embeddings = []\n",
        "    model.eval()\n",
        "    with torch.no_grad():\n",
        "        for i in tqdm(range(0, len(descriptions), batch_size)):\n",
        "            batch = descriptions[i:i+batch_size]\n",
        "            inputs = tokenizer(batch, padding=True, truncation=True, return_tensors=\"pt\", max_length=512)\n",
        "            outputs = model(**inputs)\n",
        "            # Use the mean pooling of the token embeddings\n",
        "            batch_embeddings = outputs.last_hidden_state.mean(dim=1).tolist()\n",
        "            embeddings.extend(batch_embeddings)\n",
        "    return embeddings"
      ]
    },
    {
      "cell_type": "code",
      "execution_count": null,
      "metadata": {
        "colab": {
          "base_uri": "https://localhost:8080/"
        },
        "id": "-Y7GAtx_X7tm",
        "outputId": "bee2b4cb-43da-4188-9bbf-88ff430cd769"
      },
      "outputs": [],
      "source": [
        "# Generate embeddings for the descriptions\n",
        "embeddings = generate_embeddings(description_sample, tokenizer, model)"
      ]
    },
    {
      "cell_type": "code",
      "execution_count": null,
      "metadata": {
        "colab": {
          "base_uri": "https://localhost:8080/",
          "height": 438
        },
        "id": "CrAdKdL9ZnO8",
        "outputId": "8a676a79-9a68-4826-c90c-d5fa5c43aeaa"
      },
      "outputs": [],
      "source": [
        "meta_sample['description_embeddings'] = embeddings\n",
        "\n",
        "meta_sample[[\"title\", \"description\", \"description_embeddings\"]].head(8)"
      ]
    },
    {
      "cell_type": "code",
      "execution_count": null,
      "metadata": {
        "colab": {
          "base_uri": "https://localhost:8080/",
          "height": 292
        },
        "id": "xqmaEJj5aEu_",
        "outputId": "76ae484f-34c7-43eb-c7c9-7874008480a1"
      },
      "outputs": [],
      "source": [
        "file_path_meta = '/content/drive/My Drive/filtered_meta_new3.parquet'\n",
        "\n",
        "filtered_meta = pd.read_parquet(file_path_meta, engine=\"pyarrow\")\n",
        "\n",
        "filtered_meta[[\"title\", \"description\", \"description_embeddings\"]].head()"
      ]
    },
    {
      "cell_type": "code",
      "execution_count": null,
      "metadata": {
        "id": "7IsBLqHIgeBt"
      },
      "outputs": [],
      "source": [
        "# save the DataFrame as Parquet to Google Drive\n",
        "filtered_reviews.to_parquet('/content/drive/My Drive/filtered_reviews_with_added_features.parquet', index=False, engine='pyarrow')\n",
        "filtered_meta.to_parquet('/content/drive/My Drive/filtered_meta_with_added_features.parquet', index=False, engine='pyarrow')"
      ]
    },
    {
      "cell_type": "markdown",
      "metadata": {
        "id": "7Jp0kL1BbMhA"
      },
      "source": [
        "####Final Visual Analysis With Added Features"
      ]
    },
    {
      "cell_type": "code",
      "execution_count": null,
      "metadata": {
        "id": "MBJ5vsO_g_tt"
      },
      "outputs": [],
      "source": [
        "filtered_meta_path = '/content/drive/My Drive/filtered_meta_with_added_features.parquet'\n",
        "filtered_reviews_path = '/content/drive/My Drive/filtered_reviews_with_added_features.parquet'\n",
        "\n",
        "filtered_meta = pd.read_parquet(filtered_meta_path, engine=\"pyarrow\")\n",
        "filtered_reviews = pd.read_parquet(filtered_reviews_path, engine=\"pyarrow\")"
      ]
    },
    {
      "cell_type": "markdown",
      "metadata": {
        "id": "0KRbFNU6AGO6"
      },
      "source": [
        "To improve the accuracy and granularity of the sentiment scores in the dataset, I propose redefining the sentiment classification to include **four distinct sentiment categories** instead of the binary \"Positive\" and \"Negative.\" The goal is to account not only for the decided sentiment but also the decisiveness of the classification, measured by the positive sentiment score.\n",
        "\n",
        "**Proposed Sentiment Categories:**\n",
        "\n",
        "1. **Very Positive:** Strongly positive sentiment, with high confidence and likely to align with maximum ratings.\n",
        "\n",
        "2.  **Somewhat Positive:** Positive sentiment but with some reservations, indicating less decisiveness or mixed feedback.\n",
        "\n",
        "3.  **Somewhat Negative:** Negative sentiment but not overwhelmingly so, suggesting a mix of drawbacks and positives.\n",
        "\n",
        "4.  **Very Negative:** Strongly negative sentiment, with high confidence and likely to align with minimum ratings.\n",
        "\n",
        "Reviews with scores near the threshold boundaries will help differentiate decisive opinions from more mixed feedback, allowing us to gain a clearer understanding of user sentiment.\n",
        "\n",
        "This refinement enables us to have better alignment between sentiment and ratings by capturing nuances in user feedback. And improved classification that highlights drawbacks in mostly positive reviews or redeeming qualities in mostly negative reviews."
      ]
    },
    {
      "cell_type": "code",
      "execution_count": null,
      "metadata": {
        "id": "83aXzfCO5F34"
      },
      "outputs": [],
      "source": [
        "\n",
        "# Define sentiment categories\n",
        "def classify_sentiment(row):\n",
        "    positive_sentiment_score = row['positive_sentiment_prob']\n",
        "    sentiment = row['predicted_sentiment']\n",
        "\n",
        "    if sentiment == 'Positive':\n",
        "        if positive_sentiment_score > 0.99:\n",
        "            return \"Very Positive\"\n",
        "        else:\n",
        "            return \"Somewhat Positive\"\n",
        "    elif sentiment == 'Negative':\n",
        "        if positive_sentiment_score < 0.01:\n",
        "            return \"Very Negative\"\n",
        "        else:\n",
        "            return \"Somewhat Negative\"\n",
        "\n",
        "filtered_reviews['sentiment_category'] = filtered_reviews.apply(classify_sentiment, axis=1)\n",
        "\n"
      ]
    },
    {
      "cell_type": "code",
      "execution_count": null,
      "metadata": {
        "colab": {
          "base_uri": "https://localhost:8080/",
          "height": 1000
        },
        "id": "Oi5rjj2r5g56",
        "outputId": "14dc7b26-d479-4f37-fd11-f50e0006e71b"
      },
      "outputs": [],
      "source": [
        "# Count the number of reviews in each sentiment category\n",
        "sentiment_distribution = filtered_reviews['sentiment_category'].value_counts()\n",
        "\n",
        "# Bar plot for sentiment category distribution\n",
        "plt.figure(figsize=(10, 6))\n",
        "sentiment_distribution.plot(kind='bar', color='skyblue', edgecolor='black')\n",
        "plt.title('Distribution of Reviews by Sentiment Category', fontsize=16)\n",
        "plt.xlabel('Sentiment Category', fontsize=12)\n",
        "plt.ylabel('Number of Reviews', fontsize=12)\n",
        "plt.xticks(rotation=45, fontsize=10)\n",
        "plt.grid(axis='y', linestyle='--', alpha=0.7)\n",
        "plt.show()\n",
        "\n",
        "# Group by sentiment category and calculate average rating\n",
        "sentiment_rating = filtered_reviews.groupby('sentiment_category')['rating'].mean()\n",
        "\n",
        "# Bar chart for sentiment category vs. average rating\n",
        "plt.figure(figsize=(10, 6))\n",
        "sentiment_rating.plot(kind='bar', color='lightcoral', edgecolor='black')\n",
        "plt.title('Average Rating by Sentiment Category', fontsize=16)\n",
        "plt.xlabel('Sentiment Category', fontsize=12)\n",
        "plt.ylabel('Average Rating', fontsize=12)\n",
        "plt.xticks(rotation=45, fontsize=10)\n",
        "plt.grid(axis='y', linestyle='--', alpha=0.7)\n",
        "plt.show()\n",
        "\n",
        "# Scatter plot: sentiment score vs. rating\n",
        "plt.figure(figsize=(10, 6))\n",
        "sns.scatterplot(x=filtered_reviews['positive_sentiment_prob'], y=filtered_reviews['rating'], hue=filtered_reviews['sentiment_category'], alpha=0.6)\n",
        "plt.title('Sentiment Score vs. Game Ratings', fontsize=16)\n",
        "plt.xlabel('Sentiment Score', fontsize=12)\n",
        "plt.ylabel('Game Ratings', fontsize=12)\n",
        "plt.legend(title='Sentiment Category')\n",
        "plt.grid(True, linestyle='--', alpha=0.7)\n",
        "plt.show()\n"
      ]
    },
    {
      "cell_type": "markdown",
      "metadata": {
        "id": "xrlxAcu7DUdx"
      },
      "source": [
        "We observe that the sentiment categories align well with expectations. Very Positive reviews are associated with the highest average ratings, while Very Negative reviews correspond to significantly lower average ratings. Similarly, Somewhat Positive and Somewhat Negative reviews fall between the extremes, reflecting a gradual spectrum of sentiment's influence on ratings.\n",
        "\n",
        "However, anomalies are evident in the data. For instance, there are cases where Very Negative sentiment is paired with a perfect rating of 5, and similarly, Somewhat Positive sentiment appears with lower ratings. These outliers suggest a disconnect between textual sentiment and numerical ratings, warranting further investigation to uncover potential reasons behind these inconsistencies. This analysis could help refine the sentiment classification model and identify patterns specific to user behavior or review contexts."
      ]
    },
    {
      "cell_type": "code",
      "execution_count": null,
      "metadata": {
        "id": "lQ6wIzEoHPJh"
      },
      "outputs": [],
      "source": [
        "inconsistent_positive_reviews = filtered_reviews[(filtered_reviews['sentiment_category'] == 'Very Negative')\n",
        " & (filtered_reviews['rating'] == 5)]\n",
        "inconsistent_negative_reviews = filtered_reviews[(filtered_reviews['sentiment_category'] == 'Very Positive')\n",
        " & (filtered_reviews['rating'] == 1)]\n"
      ]
    },
    {
      "cell_type": "code",
      "execution_count": null,
      "metadata": {
        "colab": {
          "base_uri": "https://localhost:8080/"
        },
        "id": "XEyqjkFeHsLv",
        "outputId": "8a0f2fb0-8363-4971-e555-3bdf994543d8"
      },
      "outputs": [],
      "source": [
        "print (inconsistent_positive_reviews.iloc[0]['text'])"
      ]
    },
    {
      "cell_type": "code",
      "execution_count": null,
      "metadata": {
        "colab": {
          "base_uri": "https://localhost:8080/"
        },
        "id": "pyW0Ixa_JPls",
        "outputId": "905fe386-b7f1-4cf5-8c43-ef7e75e150d1"
      },
      "outputs": [],
      "source": [
        "print(inconsistent_negative_reviews.iloc[0]['text'])"
      ]
    },
    {
      "cell_type": "markdown",
      "metadata": {
        "id": "W3Z0YkOJLmUN"
      },
      "source": [
        "These two reviews illustrate a critical challenge in accurately identifying sentiment in user text, especially within the context of limited computational resources for processing large amounts of text.\n",
        "\n",
        "The first review is clearly **positive** in nature, as the writer supports playing the game and provides counterarguments to negative feedback from other players. However, because the text focuses heavily on addressing and validating the negative aspects of the game before presenting positive arguments, the model incorrectly categorizes it as **\"Very Negative\"**. This misclassification arises because the model struggles to understand the reviewer’s intent: to confront and refute the negative points raised by others.\n",
        "\n",
        "Conversely, the second review is clearly **negative** in sentiment. The writer emphasizes dissatisfaction with the game and extensively compares it to previous franchise installments, highlighting how earlier games excelled where this one falls short. Despite this strong negative tone, the review occasionally acknowledges positive features as comparison points, which could confuse a sentiment analysis model into interpreting it as partially positive.\n",
        "\n",
        "These two reviews, with their contradictory scores and sentiment classifications, exemplify a common issue in sentiment analysis: the challenge of identifying the true semantic intent behind a review.\n",
        "\n",
        "Because of that, we need to incorporating more robust techniques to analyze intent rather than relying solely on word-level or sentence-level sentiment."
      ]
    },
    {
      "cell_type": "markdown",
      "metadata": {
        "id": "OkNVsHNdMX72"
      },
      "source": [
        "Next Step: Exploring Added Embeddings\n",
        "\n",
        "To uncover deeper insights, we will focus on the embeddings added to our dataset. These embeddings encode semantic and contextual relationships in a high-dimensional space, allowing us to visualize and analyze hidden patterns. The following embeddings are available:\n",
        "\n",
        "* *title_and_text_embeddings* : Captures context from the review titles and text.\n",
        "\n",
        "* *features_embeddings* : Encodes semantic information from the game's features.\n",
        "\n",
        "* *description_embeddings* : Encodes details from the game's description.\n",
        "\n",
        "* *title_embeddings* : Encodes information about the game's title.\n",
        "\n",
        "Plan of Action:\n",
        "\n",
        "1. **Dimensionality Reduction**: Use PCA, t-SNE, or UMAP to project these high-dimensional embeddings into 2D or 3D spaces for visualization.\n",
        "\n",
        "2. **Visualization**: Cluster similar games or reviews to see how well embeddings group them.\n",
        "Compare sentiment trends or user behavior with the reduced embeddings.\n",
        "\n",
        "3. **Analysis**: Identify patterns, clusters, or outliers in the embeddings."
      ]
    },
    {
      "cell_type": "markdown",
      "metadata": {
        "id": "7XyXEfzt37mj"
      },
      "source": [
        "**title_and_text_embeddings :**"
      ]
    },
    {
      "cell_type": "code",
      "execution_count": null,
      "metadata": {
        "colab": {
          "base_uri": "https://localhost:8080/",
          "height": 531
        },
        "id": "E9trld6NUlw7",
        "outputId": "f18206e9-bd10-4900-db3c-3999dfc4e9d3"
      },
      "outputs": [],
      "source": [
        "from sklearn.decomposition import PCA\n",
        "import matplotlib.pyplot as plt\n",
        "import numpy as np\n",
        "\n",
        "\n",
        "embeddings = np.stack(filtered_reviews['title_and_text_embeddings'])\n",
        "\n",
        "# Apply PCA to reduce dimensions to 2D\n",
        "pca = PCA(n_components=2)\n",
        "reduced_embeddings = pca.fit_transform(embeddings)\n",
        "\n",
        "# Add PCA results to the DataFrame\n",
        "filtered_reviews['pca_1'] = reduced_embeddings[:, 0]\n",
        "filtered_reviews['pca_2'] = reduced_embeddings[:, 1]\n",
        "\n",
        "# Visualize the reduced embeddings\n",
        "plt.figure(figsize=(12, 8))\n",
        "plt.scatter(filtered_reviews['pca_1'], filtered_reviews['pca_2'], alpha=0.5)\n",
        "plt.title('PCA Visualization of Title and Text Embeddings', fontsize=16)\n",
        "plt.xlabel('PCA Component 1', fontsize=12)\n",
        "plt.ylabel('PCA Component 2', fontsize=12)\n",
        "plt.grid(True, linestyle='--', alpha=0.7)\n",
        "plt.show()\n"
      ]
    },
    {
      "cell_type": "markdown",
      "metadata": {
        "id": "PAPf7IO3y98G"
      },
      "source": [
        "From this visualization with 2 PCA components, there is a clear dense cluster on the left and a more spread-out structure on the right. This may indicate reviews with similar semantics are grouped closer together in the embedding space.\n",
        "\n",
        "Because of that we will want to assign sentiment labels to the points (e.g., \"Very Positive,\" \"Negative\") and color them in the plot to see if sentiment aligns with the clusters."
      ]
    },
    {
      "cell_type": "code",
      "execution_count": null,
      "metadata": {
        "colab": {
          "base_uri": "https://localhost:8080/",
          "height": 531
        },
        "id": "jmoQ_wWNaAaJ",
        "outputId": "bad9ff5e-deeb-4d3b-d7b5-d8717f47bb35"
      },
      "outputs": [],
      "source": [
        "# Scatter plot with sentiment category coloring\n",
        "plt.figure(figsize=(12, 8))\n",
        "for sentiment in filtered_reviews['sentiment_category'].unique():\n",
        "    subset = filtered_reviews[filtered_reviews['sentiment_category'] == sentiment]\n",
        "    plt.scatter(subset['pca_1'], subset['pca_2'], label=sentiment, alpha=0.5)\n",
        "\n",
        "plt.title('PCA Visualization of Title and Text Embeddings by Sentiment', fontsize=16)\n",
        "plt.xlabel('PCA Component 1', fontsize=12)\n",
        "plt.ylabel('PCA Component 2', fontsize=12)\n",
        "plt.legend(title='Sentiment Category', fontsize=10)\n",
        "plt.grid(True, linestyle='--', alpha=0.7)\n",
        "plt.show()\n"
      ]
    },
    {
      "cell_type": "markdown",
      "metadata": {
        "id": "INxaSkB7zowj"
      },
      "source": [
        "PCA captures clear clusters of sentiment, with highly polarized sentiments like \"Very Positive\" and \"Very Negative\" forming separate regions, and the more in-the-middle sentiments tend to overlap more.\n",
        "\n",
        "Lets preform clustring with K-means on the PCA components to indentify distinct groups."
      ]
    },
    {
      "cell_type": "code",
      "execution_count": null,
      "metadata": {
        "colab": {
          "base_uri": "https://localhost:8080/",
          "height": 531
        },
        "id": "UXTlqQPFtIXe",
        "outputId": "60150928-f2ac-4edf-9ffb-4ccb62568c82"
      },
      "outputs": [],
      "source": [
        "from sklearn.cluster import KMeans\n",
        "import matplotlib.pyplot as plt\n",
        "\n",
        "\n",
        "num_clusters = 2\n",
        "\n",
        "# Apply K-Means clustering to PCA components\n",
        "kmeans = KMeans(n_clusters=num_clusters, random_state=42)\n",
        "filtered_reviews['cluster'] = kmeans.fit_predict(filtered_reviews[['pca_1', 'pca_2']])\n",
        "\n",
        "# Visualize clusters\n",
        "plt.figure(figsize=(12, 8))\n",
        "for cluster in range(num_clusters):\n",
        "    subset = filtered_reviews[filtered_reviews['cluster'] == cluster]\n",
        "    plt.scatter(subset['pca_1'], subset['pca_2'], label=f'Cluster {cluster}', alpha=0.5)\n",
        "\n",
        "plt.title('PCA Visualization of Title and Text Embeddings with Clusters', fontsize=16)\n",
        "plt.xlabel('PCA Component 1', fontsize=12)\n",
        "plt.ylabel('PCA Component 2', fontsize=12)\n",
        "plt.legend(title='Clusters', fontsize=10)\n",
        "plt.grid(True, linestyle='--', alpha=0.7)\n",
        "plt.show()\n"
      ]
    },
    {
      "cell_type": "markdown",
      "metadata": {
        "id": "Ekb9KnA40Va3"
      },
      "source": [
        "Thats a clear seperation but lets increase it to 4 groups that suit more of our 4 possible sentiment groups."
      ]
    },
    {
      "cell_type": "code",
      "execution_count": null,
      "metadata": {
        "colab": {
          "base_uri": "https://localhost:8080/",
          "height": 531
        },
        "id": "qIikNMB1um6B",
        "outputId": "ed89ded2-d82d-4805-e51b-77af1e689809"
      },
      "outputs": [],
      "source": [
        "# Apply K-Means for 4 clusters\n",
        "kmeans_4 = KMeans(n_clusters=4, random_state=42)\n",
        "filtered_reviews['title_and_text_cluster'] = kmeans_4.fit_predict(filtered_reviews[['pca_1', 'pca_2']])\n",
        "\n",
        "# Visualization for 4 Clusters\n",
        "plt.figure(figsize=(12, 8))\n",
        "for cluster in range(4):\n",
        "    subset = filtered_reviews[filtered_reviews['title_and_text_cluster'] == cluster]\n",
        "    plt.scatter(subset['pca_1'], subset['pca_2'], label=f'Cluster {cluster}', alpha=0.5)\n",
        "plt.title('PCA Visualization with 4 Clusters', fontsize=16)\n",
        "plt.xlabel('PCA Component 1', fontsize=12)\n",
        "plt.ylabel('PCA Component 2', fontsize=12)\n",
        "plt.legend(title='Cluster', fontsize=10)\n",
        "plt.grid(True, linestyle='--', alpha=0.7)\n",
        "plt.show()\n"
      ]
    },
    {
      "cell_type": "code",
      "execution_count": null,
      "metadata": {
        "colab": {
          "base_uri": "https://localhost:8080/"
        },
        "id": "xtr7fKDgvoGO",
        "outputId": "3cc5b6d6-b3f3-4439-ce4e-46ef21c5cb6e"
      },
      "outputs": [],
      "source": [
        "cluster_sentiment_summary = filtered_reviews.groupby('title_and_text_cluster')['positive_sentiment_prob'].mean()\n",
        "print(cluster_sentiment_summary)\n"
      ]
    },
    {
      "cell_type": "markdown",
      "metadata": {
        "id": "FLvgdc2C0mJb"
      },
      "source": [
        "From this we see The clusters are naturally ordered by increasing positive sentiment probability, showing that the PCA components and K-means clustering capture a meaningful semantic progression.\n",
        "\n",
        "Cluster 3 is most likely representing more critical and generally negative reviews in comparrision to the others.\n",
        "\n",
        "Cluster 1 represents highly positive reviews, potentially with enthusiastic or overwhelmingly positive language.\n",
        "\n",
        "Clusters 0 and 2 likely represent intermediate groups, balancing positive and neutral/mixed feedback.\n",
        "\n",
        "Now we will observe the actual ratings and see if the trend alligns:"
      ]
    },
    {
      "cell_type": "code",
      "execution_count": null,
      "metadata": {
        "colab": {
          "base_uri": "https://localhost:8080/"
        },
        "id": "2XHD1IYk19xm",
        "outputId": "ca39ab96-8b60-4a61-8115-86c656bb2ac5"
      },
      "outputs": [],
      "source": [
        "cluster_rating_summary = filtered_reviews.groupby('title_and_text_cluster')['rating'].mean()\n",
        "print(cluster_rating_summary)\n"
      ]
    },
    {
      "cell_type": "markdown",
      "metadata": {
        "id": "xdtcxXDt2rz8"
      },
      "source": [
        "Cluster 1 has the highest average rating, consistent with its high positive sentiment (0.927772).\n",
        "\n",
        "Cluster 3 has the lowest average rating and aligns with the lowest sentiment probability (0.665595).\n",
        "\n",
        "Cluster 2 has a moderately high rating and aligns with its sentiment probability (0.873088).\n",
        "\n",
        "Cluster 0 has a more moderate rating, reflecting its intermediate sentiment probability (0.735453).\n",
        "\n",
        "In conclusion there is a clear alignment between sentiment probabilities and average ratings. Clusters with higher sentiment probabilities also tend to have higher ratings, suggesting the embeddings capture meaningful patterns in review sentiment."
      ]
    },
    {
      "cell_type": "code",
      "execution_count": null,
      "metadata": {
        "id": "vlDQgg4J4Iua"
      },
      "outputs": [],
      "source": [
        "filtered_reviews.drop(columns=['cluster'], inplace=True)"
      ]
    },
    {
      "cell_type": "markdown",
      "metadata": {
        "id": "Hf3S_mga4CI7"
      },
      "source": [
        "**features_embeddings :**"
      ]
    },
    {
      "cell_type": "code",
      "execution_count": null,
      "metadata": {
        "colab": {
          "base_uri": "https://localhost:8080/",
          "height": 537
        },
        "id": "T1Pai2OM6OnY",
        "outputId": "e31d5367-cde7-4ee6-970b-12b166e10d45"
      },
      "outputs": [],
      "source": [
        "from sklearn.decomposition import PCA\n",
        "import matplotlib.pyplot as plt\n",
        "import numpy as np\n",
        "\n",
        "embeddings = np.stack(filtered_meta['features_embeddings'])\n",
        "\n",
        "# Apply PCA to reduce dimensions to 2D\n",
        "pca = PCA(n_components=2)\n",
        "reduced_embeddings = pca.fit_transform(embeddings)\n",
        "\n",
        "# Add PCA results to the DataFrame\n",
        "filtered_meta['pca_1'] = reduced_embeddings[:, 0]\n",
        "filtered_meta['pca_2'] = reduced_embeddings[:, 1]\n",
        "\n",
        "# Visualize the reduced embeddings\n",
        "plt.figure(figsize=(12, 8))\n",
        "plt.scatter(filtered_meta['pca_1'], filtered_meta['pca_2'], alpha=0.5)\n",
        "plt.title('PCA Visualization of features Embeddings', fontsize=16)\n",
        "plt.xlabel('PCA Component 1', fontsize=12)\n",
        "plt.ylabel('PCA Component 2', fontsize=12)\n",
        "plt.grid(True, linestyle='--', alpha=0.7)\n",
        "plt.show()\n"
      ]
    },
    {
      "cell_type": "markdown",
      "metadata": {
        "id": "7FKBuA7EvbU4"
      },
      "source": [
        "Because of the small size of this dataset relative to the reviews (only 304 games to take into account) we could use more computational heavy approch that will handle nonlinier relatiosnips better such as t-SNE and UMAP."
      ]
    },
    {
      "cell_type": "code",
      "execution_count": null,
      "metadata": {
        "colab": {
          "base_uri": "https://localhost:8080/"
        },
        "id": "F4PcGBvyR36o",
        "outputId": "ef6a5d66-2f29-4810-f750-15e1a536a9ec"
      },
      "outputs": [],
      "source": [
        "!pip install umap-learn\n"
      ]
    },
    {
      "cell_type": "code",
      "execution_count": null,
      "metadata": {
        "colab": {
          "base_uri": "https://localhost:8080/",
          "height": 659
        },
        "id": "onGxqwqVv65P",
        "outputId": "e41ebade-901d-4ac8-fd81-c5c358f566ec"
      },
      "outputs": [],
      "source": [
        "import umap.umap_ as umap\n",
        "import matplotlib.pyplot as plt\n",
        "\n",
        "# Apply UMAP\n",
        "umap_model = umap.UMAP(n_neighbors=15, min_dist=0.1, random_state=42)\n",
        "umap_embeddings = umap_model.fit_transform(embeddings)\n",
        "\n",
        "# Add UMAP results to DataFrame\n",
        "filtered_meta['umap_1'] = umap_embeddings[:, 0]\n",
        "filtered_meta['umap_2'] = umap_embeddings[:, 1]\n",
        "\n",
        "# Plot UMAP results\n",
        "plt.figure(figsize=(10, 7))\n",
        "plt.scatter(filtered_meta['umap_1'], filtered_meta['umap_2'], alpha=0.7)\n",
        "plt.title('UMAP Visualization of Features Embeddings', fontsize=16)\n",
        "plt.xlabel('UMAP Component 1', fontsize=12)\n",
        "plt.ylabel('UMAP Component 2', fontsize=12)\n",
        "plt.grid(True, linestyle='--', alpha=0.7)\n",
        "plt.show()\n"
      ]
    },
    {
      "cell_type": "code",
      "execution_count": null,
      "metadata": {
        "colab": {
          "base_uri": "https://localhost:8080/",
          "height": 560
        },
        "id": "H0TtyBUGwybI",
        "outputId": "6792b045-0859-4789-93d8-18f8e60dc232"
      },
      "outputs": [],
      "source": [
        "from sklearn.manifold import TSNE\n",
        "\n",
        "# Apply t-SNE\n",
        "tsne_model = TSNE(n_components=2, perplexity=30, random_state=42)\n",
        "tsne_embeddings = tsne_model.fit_transform(embeddings)\n",
        "\n",
        "# Add t-SNE results to DataFrame\n",
        "filtered_meta['tsne_1'] = tsne_embeddings[:, 0]\n",
        "filtered_meta['tsne_2'] = tsne_embeddings[:, 1]\n",
        "\n",
        "# Plot t-SNE results\n",
        "plt.figure(figsize=(10, 7))\n",
        "plt.scatter(filtered_meta['tsne_1'], filtered_meta['tsne_2'], alpha=0.7)\n",
        "plt.title('t-SNE Visualization of Features Embeddings', fontsize=16)\n",
        "plt.xlabel('t-SNE Component 1', fontsize=12)\n",
        "plt.ylabel('t-SNE Component 2', fontsize=12)\n",
        "plt.grid(True, linestyle='--', alpha=0.7)\n",
        "plt.show()\n"
      ]
    },
    {
      "cell_type": "markdown",
      "metadata": {
        "id": "KFCLzIJ26K73"
      },
      "source": [
        "Our PCA visualization shows that most of the points are clusterd in one dense region with a few outliner scattered farther away, potentially representing embeddings that are significantly different from the rest.\n",
        "\n",
        "The UMAP visualization on the other hand shows a clear group of embeddings thats separated in the top-right corner, indicating a distinct cluster. With the remaining points spread horizontally, showing some variation in the structure.\n",
        "\n",
        "And thet t-SNE visualization showing the points spread more uniformly, without obvious clusters or separations.\n",
        "\n",
        "We will decide to continue with the UMAP components as it reveals a more meaningful grouping comapred to the PCA and t-SNE.\n",
        "\n",
        "Well start with k-MEANS clustring and for that we will want to find out what n_clusters should be:"
      ]
    },
    {
      "cell_type": "code",
      "execution_count": null,
      "metadata": {
        "colab": {
          "base_uri": "https://localhost:8080/",
          "height": 969
        },
        "id": "L4uMKsvh3ORP",
        "outputId": "4c6ccb11-ce6f-4056-b114-07507cad601a"
      },
      "outputs": [],
      "source": [
        "from sklearn.cluster import KMeans\n",
        "import matplotlib.pyplot as plt\n",
        "from sklearn.metrics import silhouette_score\n",
        "\n",
        "# Calculate WCSS for different numbers of clusters\n",
        "wcss = []\n",
        "for k in range(1, 11):\n",
        "    kmeans = KMeans(n_clusters=k, random_state=42)\n",
        "    kmeans.fit(umap_embeddings)\n",
        "    wcss.append(kmeans.inertia_)\n",
        "\n",
        "# Plot the Elbow Method\n",
        "plt.figure(figsize=(8, 5))\n",
        "plt.plot(range(1, 11), wcss, marker='o')\n",
        "plt.title('Elbow Method for Optimal Clusters', fontsize=16)\n",
        "plt.xlabel('Number of Clusters', fontsize=12)\n",
        "plt.ylabel('WCSS', fontsize=12)\n",
        "plt.grid(True)\n",
        "plt.show()\n",
        "\n",
        "# Calculate silhouette scores for different numbers of clusters\n",
        "silhouette_scores = []\n",
        "for k in range(2, 11):\n",
        "    kmeans = KMeans(n_clusters=k, random_state=42)\n",
        "    kmeans.fit(umap_embeddings)\n",
        "    labels = kmeans.labels_\n",
        "    silhouette_scores.append(silhouette_score(umap_embeddings, labels))\n",
        "\n",
        "# Plot the Silhouette Method\n",
        "plt.figure(figsize=(8, 5))\n",
        "plt.plot(range(2, 11), silhouette_scores, marker='o')\n",
        "plt.title('Silhouette Method for Optimal Clusters', fontsize=16)\n",
        "plt.xlabel('Number of Clusters', fontsize=12)\n",
        "plt.ylabel('Silhouette Score', fontsize=12)\n",
        "plt.grid(True)\n",
        "plt.show()"
      ]
    },
    {
      "cell_type": "markdown",
      "metadata": {
        "id": "yU96zry93ZKN"
      },
      "source": [
        "Based on the elbow method 3 clusters seems to be the elbow point and while the silhouette score for 2 clusters is clearly the highest the drop to 3 is understandable based on the structure and not too large for it to be problematic, therfore we will select 3 clusters."
      ]
    },
    {
      "cell_type": "code",
      "execution_count": null,
      "metadata": {
        "colab": {
          "base_uri": "https://localhost:8080/",
          "height": 562
        },
        "id": "KDuamx89ze1I",
        "outputId": "85707742-9a8d-4d83-ece3-40d12d226af5"
      },
      "outputs": [],
      "source": [
        "from sklearn.cluster import KMeans\n",
        "\n",
        "# Perform clustering on UMAP embeddings\n",
        "kmeans = KMeans(n_clusters=3, random_state=42)\n",
        "filtered_meta['features_cluster'] = kmeans.fit_predict(umap_embeddings)\n",
        "\n",
        "# Visualize clusters\n",
        "plt.figure(figsize=(10, 7))\n",
        "for cluster in range(3):\n",
        "    subset = filtered_meta[filtered_meta['features_cluster'] == cluster]\n",
        "    plt.scatter(subset['umap_1'], subset['umap_2'], label=f'Cluster {cluster}', alpha=0.6)\n",
        "plt.title('UMAP Clustering Visualization', fontsize=16)\n",
        "plt.legend()\n",
        "plt.show()\n"
      ]
    },
    {
      "cell_type": "code",
      "execution_count": null,
      "metadata": {
        "colab": {
          "base_uri": "https://localhost:8080/",
          "height": 542
        },
        "id": "zrXLB2-j4o0p",
        "outputId": "9c17e4a7-0597-4bc8-97ac-7e77f1f07d57"
      },
      "outputs": [],
      "source": [
        "import plotly.express as px\n",
        "import pandas as pd\n",
        "\n",
        "# Prepare data for Plotly\n",
        "filtered_meta['features_cluster'] = kmeans.labels_\n",
        "\n",
        "# Create a Plotly scatter plot\n",
        "fig = px.scatter(\n",
        "    filtered_meta,\n",
        "    x='umap_1',\n",
        "    y='umap_2',\n",
        "    color='features_cluster',\n",
        "    title='Interactive K-MEANS Clustering Visualization',\n",
        "    labels={'umap_1': 'UMAP Component 1', 'umap_2': 'UMAP Component 2', 'features_cluster': 'Cluster'},\n",
        "    hover_data=['title', 'average_rating'],\n",
        "    color_discrete_sequence=px.colors.qualitative.Set1\n",
        ")\n",
        "\n",
        "fig.update_layout(\n",
        "    title_font_size=20,\n",
        "    legend_title_text='Cluster',\n",
        "    legend=dict(\n",
        "        orientation=\"h\",\n",
        "        yanchor=\"bottom\",\n",
        "        y=1.02,\n",
        "        xanchor=\"right\",\n",
        "        x=1\n",
        "    )\n",
        ")\n",
        "\n",
        "fig.show()\n"
      ]
    },
    {
      "cell_type": "code",
      "execution_count": null,
      "metadata": {
        "colab": {
          "base_uri": "https://localhost:8080/",
          "height": 260
        },
        "id": "rMc61TZj6h0n",
        "outputId": "3e97335c-6540-499d-9850-9310398700ee"
      },
      "outputs": [],
      "source": [
        "# Summary statistics for each cluster\n",
        "cluster_summary = filtered_meta.groupby('features_cluster').agg({\n",
        "    'average_rating': ['mean', 'std'],\n",
        "    'rating_number': ['mean', 'std'],\n",
        "    'price_numeric': ['mean', 'std'],\n",
        "    'Category_Group': lambda x: x.value_counts().idxmax()\n",
        "})\n",
        "\n",
        "cluster_summary.head()\n"
      ]
    },
    {
      "cell_type": "markdown",
      "metadata": {
        "id": "oELqaSXC9G6n"
      },
      "source": [
        "Cluster 2 has the highest number of ratings on average and the highest average rating (4.499), indicating that the products in this cluster are generally rated better by users and suggesting that they are more popular or frequently reviewed.\n",
        "\n",
        "In contrast, Cluster 0 has the lowest average number of ratings and the lowest average rating (4.375).\n",
        "\n",
        "Cluster 2 also has the highest average price, while Clusters 0 and 1 are relatively similar in terms of pricing.\n",
        "\n",
        "From these observations, we can conclude that Cluster 2 consists of more premium-quality games compared to Cluster 0, with Cluster 1 falling somewhere in between."
      ]
    },
    {
      "cell_type": "markdown",
      "metadata": {
        "id": "epBZ9OkGBK8U"
      },
      "source": [
        "**description_embeddings:**"
      ]
    },
    {
      "cell_type": "code",
      "execution_count": null,
      "metadata": {
        "colab": {
          "base_uri": "https://localhost:8080/",
          "height": 537
        },
        "id": "RYpNw8t0Ev7n",
        "outputId": "2cf7c41b-2a34-4ce4-ef97-29a0c7b8ec75"
      },
      "outputs": [],
      "source": [
        "from sklearn.decomposition import PCA\n",
        "import matplotlib.pyplot as plt\n",
        "import numpy as np\n",
        "\n",
        "embeddings = np.stack(filtered_meta['description_embeddings'])\n",
        "\n",
        "# Apply PCA to reduce dimensions to 2D\n",
        "pca = PCA(n_components=2)\n",
        "reduced_embeddings = pca.fit_transform(embeddings)\n",
        "\n",
        "# Add PCA results to the DataFrame\n",
        "filtered_meta['pca_1'] = reduced_embeddings[:, 0]\n",
        "filtered_meta['pca_2'] = reduced_embeddings[:, 1]\n",
        "\n",
        "# Visualize the reduced embeddings\n",
        "plt.figure(figsize=(12, 8))\n",
        "plt.scatter(filtered_meta['pca_1'], filtered_meta['pca_2'], alpha=0.5)\n",
        "plt.title('PCA Visualization of description Embeddings', fontsize=16)\n",
        "plt.xlabel('PCA Component 1', fontsize=12)\n",
        "plt.ylabel('PCA Component 2', fontsize=12)\n",
        "plt.grid(True, linestyle='--', alpha=0.7)\n",
        "plt.show()"
      ]
    },
    {
      "cell_type": "code",
      "execution_count": null,
      "metadata": {
        "colab": {
          "base_uri": "https://localhost:8080/",
          "height": 716
        },
        "id": "8MSrM7c7FArV",
        "outputId": "9ba87592-a279-41ca-9345-c55ee1bb02a4"
      },
      "outputs": [],
      "source": [
        "import umap.umap_ as umap\n",
        "import matplotlib.pyplot as plt\n",
        "\n",
        "\n",
        "# Apply UMAP\n",
        "umap_model = umap.UMAP(n_neighbors=15, min_dist=0.1, random_state=42)\n",
        "umap_embeddings = umap_model.fit_transform(embeddings)\n",
        "\n",
        "# Add UMAP results to DataFrame\n",
        "filtered_meta['umap_1'] = umap_embeddings[:, 0]\n",
        "filtered_meta['umap_2'] = umap_embeddings[:, 1]\n",
        "\n",
        "# Plot UMAP results\n",
        "plt.figure(figsize=(10, 7))\n",
        "plt.scatter(filtered_meta['umap_1'], filtered_meta['umap_2'], alpha=0.7)\n",
        "plt.title('UMAP Visualization of Description Embeddings', fontsize=16)\n",
        "plt.xlabel('UMAP Component 1', fontsize=12)\n",
        "plt.ylabel('UMAP Component 2', fontsize=12)\n",
        "plt.grid(True, linestyle='--', alpha=0.7)\n",
        "plt.show()"
      ]
    },
    {
      "cell_type": "code",
      "execution_count": null,
      "metadata": {
        "colab": {
          "base_uri": "https://localhost:8080/",
          "height": 533
        },
        "id": "-gfkQHdjFvQ3",
        "outputId": "356a4e5b-775e-438b-82c4-fa767250db97"
      },
      "outputs": [],
      "source": [
        "from sklearn.manifold import TSNE\n",
        "\n",
        "\n",
        "# Reduce dimensions to 2D using t-SNE\n",
        "tsne = TSNE(n_components=2, random_state=42, perplexity=30)\n",
        "tsne_embeddings = tsne.fit_transform(embeddings)\n",
        "\n",
        "# Add t-SNE results back to the DataFrame\n",
        "filtered_meta['tsne_1'] = tsne_embeddings[:, 0]\n",
        "filtered_meta['tsne_2'] = tsne_embeddings[:, 1]\n",
        "\n",
        "# Plot the embeddings\n",
        "plt.figure(figsize=(12, 8))\n",
        "plt.scatter(filtered_meta['tsne_1'], filtered_meta['tsne_2'], alpha=0.5)\n",
        "plt.title('t-SNE Visualization of description Embeddings', fontsize=16)\n",
        "plt.xlabel('t-SNE Component 1', fontsize=12)\n",
        "plt.ylabel('t-SNE Component 2', fontsize=12)\n",
        "plt.grid(True, linestyle='--', alpha=0.7)\n",
        "plt.show()\n"
      ]
    },
    {
      "cell_type": "markdown",
      "metadata": {
        "id": "NuBDH5srGa0-"
      },
      "source": [
        "Both PCA and t-SNE visualizations show less distinct cluster separation, making it harder to interpret patterns and groupings in the data. In contrast, UMAP provides a more defined cluster structure, with well-separated groups that are easier to analyze. Therefore, we will proceed with UMAP for further analysis and exploration."
      ]
    },
    {
      "cell_type": "code",
      "execution_count": null,
      "metadata": {
        "colab": {
          "base_uri": "https://localhost:8080/",
          "height": 969
        },
        "id": "dPLg17v7Haa5",
        "outputId": "3c73719f-8d7a-4996-96bc-6480921f50d8"
      },
      "outputs": [],
      "source": [
        "from sklearn.cluster import KMeans\n",
        "import matplotlib.pyplot as plt\n",
        "from sklearn.metrics import silhouette_score\n",
        "\n",
        "# Calculate WCSS for different numbers of clusters\n",
        "wcss = []\n",
        "for k in range(1, 11):\n",
        "    kmeans = KMeans(n_clusters=k, random_state=42)\n",
        "    kmeans.fit(umap_embeddings)\n",
        "    wcss.append(kmeans.inertia_)\n",
        "\n",
        "# Plot the Elbow Method\n",
        "plt.figure(figsize=(8, 5))\n",
        "plt.plot(range(1, 11), wcss, marker='o')\n",
        "plt.title('Elbow Method for Optimal Clusters', fontsize=16)\n",
        "plt.xlabel('Number of Clusters', fontsize=12)\n",
        "plt.ylabel('WCSS', fontsize=12)\n",
        "plt.grid(True)\n",
        "plt.show()\n",
        "\n",
        "# Calculate silhouette scores for different numbers of clusters\n",
        "silhouette_scores = []\n",
        "for k in range(2, 11):\n",
        "    kmeans = KMeans(n_clusters=k, random_state=42)\n",
        "    kmeans.fit(umap_embeddings)\n",
        "    labels = kmeans.labels_\n",
        "    silhouette_scores.append(silhouette_score(umap_embeddings, labels))\n",
        "\n",
        "# Plot the Silhouette Method\n",
        "plt.figure(figsize=(8, 5))\n",
        "plt.plot(range(2, 11), silhouette_scores, marker='o')\n",
        "plt.title('Silhouette Method for Optimal Clusters', fontsize=16)\n",
        "plt.xlabel('Number of Clusters', fontsize=12)\n",
        "plt.ylabel('Silhouette Score', fontsize=12)\n",
        "plt.grid(True)\n",
        "plt.show()"
      ]
    },
    {
      "cell_type": "markdown",
      "metadata": {
        "id": "AxDB5cykHtcz"
      },
      "source": [
        "From this analysis, the 'elbow point' appears to lie within the 3–4 cluster range. While the silhouette score is highest for 2 clusters, the score for 4 clusters is the second highest and aligns well with the elbow method. Considering this balance between simplicity and granularity, we have chosen to proceed with 4 clusters as it provides a more detailed yet meaningful grouping of the data."
      ]
    },
    {
      "cell_type": "code",
      "execution_count": null,
      "metadata": {
        "colab": {
          "base_uri": "https://localhost:8080/",
          "height": 851
        },
        "id": "hWDXHn9rIxBm",
        "outputId": "8df0fa24-4a8f-4a34-b011-c79c1dfc07fa"
      },
      "outputs": [],
      "source": [
        "from sklearn.cluster import KMeans\n",
        "\n",
        "# Apply KMeans with 4 clusters\n",
        "kmeans_4 = KMeans(n_clusters=4, random_state=42)\n",
        "filtered_meta['description_cluster'] = kmeans_4.fit_predict(filtered_meta[['umap_1', 'umap_2']])\n",
        "\n",
        "# Visualize clusters interactively\n",
        "import plotly.express as px\n",
        "\n",
        "fig = px.scatter(\n",
        "    filtered_meta,\n",
        "    x='umap_1',\n",
        "    y='umap_2',\n",
        "    color='description_cluster',\n",
        "    title='Interactive KMeans (4 Clusters) Visualization',\n",
        "    labels={'umap_1': 'UMAP Component 1', 'umap_2': 'UMAP Component 2', 'description_cluster': 'Cluster'},\n",
        "    hover_data=['title', 'average_rating'],\n",
        "    color_discrete_sequence=px.colors.qualitative.Set2\n",
        ")\n",
        "fig.update_layout(\n",
        "    title_font_size=20,\n",
        "    legend_title_text='Cluster',\n",
        "    legend=dict(orientation=\"h\", yanchor=\"bottom\", y=1.02, xanchor=\"right\", x=1)\n",
        ")\n",
        "fig.show()\n",
        "\n",
        "# Generate summary statistics for each cluster\n",
        "cluster_summary_4 = filtered_meta.groupby('description_cluster').agg({\n",
        "    'average_rating': ['mean', 'std'],\n",
        "    'rating_number': ['mean', 'std'],\n",
        "    'price_numeric': ['mean', 'std'],\n",
        "    'Category_Group': lambda x: x.value_counts().idxmax()  # Most common category group\n",
        "})\n",
        "\n",
        "cluster_summary_4.head()\n"
      ]
    },
    {
      "cell_type": "markdown",
      "metadata": {
        "id": "5qLW0LOgKwEv"
      },
      "source": [
        "Lets compare these results with another clustring method - Spectral clustring:"
      ]
    },
    {
      "cell_type": "code",
      "execution_count": null,
      "metadata": {
        "colab": {
          "base_uri": "https://localhost:8080/",
          "height": 834
        },
        "id": "B7_JfFwTJ9Kq",
        "outputId": "044392b0-d80f-4597-81cd-1d790e191973"
      },
      "outputs": [],
      "source": [
        "from sklearn.cluster import SpectralClustering\n",
        "\n",
        "# Apply Spectral Clustering\n",
        "spectral_4 = SpectralClustering(n_clusters=4, affinity='nearest_neighbors', random_state=42)\n",
        "filtered_meta['description_cluster'] = spectral_4.fit_predict(filtered_meta[['umap_1', 'umap_2']])\n",
        "\n",
        "# Visualize spectral clustering\n",
        "fig = px.scatter(\n",
        "    filtered_meta,\n",
        "    x='umap_1',\n",
        "    y='umap_2',\n",
        "    color='description_cluster',\n",
        "    title='Interactive Spectral Clustering (4 Clusters) Visualization',\n",
        "    labels={'umap_1': 'UMAP Component 1', 'umap_2': 'UMAP Component 2', 'description_cluster': 'Cluster'},\n",
        "    hover_data=['title', 'average_rating'],\n",
        "    color_discrete_sequence=px.colors.qualitative.Set3\n",
        ")\n",
        "fig.update_layout(\n",
        "    title_font_size=20,\n",
        "    legend_title_text='Cluster',\n",
        "    legend=dict(orientation=\"h\", yanchor=\"bottom\", y=1.02, xanchor=\"right\", x=1)\n",
        ")\n",
        "fig.show()\n",
        "\n",
        "# Generate summary statistics for each cluster\n",
        "cluster_summary_4 = filtered_meta.groupby('description_cluster').agg({\n",
        "    'average_rating': ['mean', 'std'],\n",
        "    'rating_number': ['mean', 'std'],\n",
        "    'price_numeric': ['mean', 'std'],\n",
        "    'Category_Group': lambda x: x.value_counts().idxmax()  # Most common category group\n",
        "})\n",
        "\n",
        "cluster_summary_4.head()"
      ]
    },
    {
      "cell_type": "markdown",
      "metadata": {
        "id": "lT8pOu0MOJva"
      },
      "source": [
        "**Insights from Clustering Methods:**\n",
        "\n",
        "\n",
        "**K-Means Clustering:**\n",
        "\n",
        "* Cluster 0: Lowest average rating and rating count, with the highest average price.\n",
        "\n",
        "* Cluster 1: Highest rating count with moderate average ratings.\n",
        "\n",
        "* Cluster 2: Premium cluster, characterized by the highest average rating and a relatively high price.\n",
        "\n",
        "* Cluster 3: Represents Nintendo games, with moderate ratings and pricing.\n",
        "\n",
        "**Spectral Clustering:**\n",
        "\n",
        "\n",
        "* Cluster 0: Lowest average rating and rating count, paired with the highest average price. This may suggest mainstream games that achieve financial success despite receiving less critical acclaim\n",
        "\n",
        "* Cluster 1: Highest average rating and rating count, with the lowest average price. This cluster may represent \"hidden gems\" — affordable, high-quality games.\n",
        "\n",
        "* Cluster 2: High ratings and moderate price, primarily consisting of Nintendo games.\n",
        "\n",
        "* Cluster 3: High ratings and moderate price, primarily consisting of Xbox games.\n",
        "\n",
        "**Conclusion:**\n",
        "\n",
        "While K-Means clustering provides a clear and interpretable separation of clusters, Spectral Clustering offers additional insights into the characteristics of the groups. For example, it highlights \"hidden gems\" in Cluster 1 and better distinguishes platform-specific groups (Nintendo and Xbox games).\n",
        "\n",
        "Given the richer information derived from Spectral Clustering, it is preferred for analyzing these groups of games based on their descriptions."
      ]
    },
    {
      "cell_type": "markdown",
      "metadata": {
        "id": "BAt8ny-DPhbV"
      },
      "source": [
        "**title_embeddings:**"
      ]
    },
    {
      "cell_type": "code",
      "execution_count": null,
      "metadata": {
        "colab": {
          "base_uri": "https://localhost:8080/",
          "height": 1000
        },
        "id": "qbmAciAfPlmb",
        "outputId": "b9e53d04-a3e9-4290-bb26-b3a1ddadf8b6"
      },
      "outputs": [],
      "source": [
        "from sklearn.decomposition import PCA\n",
        "import umap.umap_ as umap\n",
        "from sklearn.manifold import TSNE\n",
        "import matplotlib.pyplot as plt\n",
        "import numpy as np\n",
        "\n",
        "embeddings = np.stack(filtered_meta['title_embeddings'])\n",
        "\n",
        "# Apply PCA to reduce dimensions to 2D\n",
        "pca = PCA(n_components=2)\n",
        "reduced_embeddings = pca.fit_transform(embeddings)\n",
        "\n",
        "# Add PCA results to the DataFrame\n",
        "filtered_meta['pca_1'] = reduced_embeddings[:, 0]\n",
        "filtered_meta['pca_2'] = reduced_embeddings[:, 1]\n",
        "\n",
        "# Visualize the reduced embeddings\n",
        "plt.figure(figsize=(12, 8))\n",
        "plt.scatter(filtered_meta['pca_1'], filtered_meta['pca_2'], alpha=0.5)\n",
        "plt.title('PCA Visualization of title Embeddings', fontsize=16)\n",
        "plt.xlabel('PCA Component 1', fontsize=12)\n",
        "plt.ylabel('PCA Component 2', fontsize=12)\n",
        "plt.grid(True, linestyle='--', alpha=0.7)\n",
        "plt.show()\n",
        "\n",
        "\n",
        "# Apply UMAP\n",
        "umap_model = umap.UMAP(n_neighbors=15, min_dist=0.1, random_state=42)\n",
        "umap_embeddings = umap_model.fit_transform(embeddings)\n",
        "\n",
        "# Add UMAP results to DataFrame\n",
        "filtered_meta['umap_1'] = umap_embeddings[:, 0]\n",
        "filtered_meta['umap_2'] = umap_embeddings[:, 1]\n",
        "\n",
        "# Plot UMAP results\n",
        "plt.figure(figsize=(10, 7))\n",
        "plt.scatter(filtered_meta['umap_1'], filtered_meta['umap_2'], alpha=0.7)\n",
        "plt.title('UMAP Visualization of title Embeddings', fontsize=16)\n",
        "plt.xlabel('UMAP Component 1', fontsize=12)\n",
        "plt.ylabel('UMAP Component 2', fontsize=12)\n",
        "plt.grid(True, linestyle='--', alpha=0.7)\n",
        "plt.show()\n",
        "\n",
        "\n",
        "# Reduce dimensions to 2D using t-SNE\n",
        "tsne = TSNE(n_components=2, random_state=42, perplexity=30)\n",
        "tsne_embeddings = tsne.fit_transform(embeddings)\n",
        "\n",
        "# Add t-SNE results back to the DataFrame\n",
        "filtered_meta['tsne_1'] = tsne_embeddings[:, 0]\n",
        "filtered_meta['tsne_2'] = tsne_embeddings[:, 1]\n",
        "\n",
        "# Plot the embeddings\n",
        "plt.figure(figsize=(12, 8))\n",
        "plt.scatter(filtered_meta['tsne_1'], filtered_meta['tsne_2'], alpha=0.5)\n",
        "plt.title('t-SNE Visualization of title Embeddings', fontsize=16)\n",
        "plt.xlabel('t-SNE Component 1', fontsize=12)\n",
        "plt.ylabel('t-SNE Component 2', fontsize=12)\n",
        "plt.grid(True, linestyle='--', alpha=0.7)\n",
        "plt.show()"
      ]
    },
    {
      "cell_type": "markdown",
      "metadata": {
        "id": "PsR1TNg-RvtU"
      },
      "source": [
        "UMAP appears to offer the most clarity in terms of potential clustering, as it highlights subtle separations in a better way compared to the PCA and t-SNE presentations."
      ]
    },
    {
      "cell_type": "code",
      "execution_count": null,
      "metadata": {
        "colab": {
          "base_uri": "https://localhost:8080/",
          "height": 969
        },
        "id": "-lRN6sM4SQqX",
        "outputId": "dd0d2eb0-9592-459a-f00f-2ee46ab40d27"
      },
      "outputs": [],
      "source": [
        "from sklearn.cluster import KMeans\n",
        "import matplotlib.pyplot as plt\n",
        "from sklearn.metrics import silhouette_score\n",
        "\n",
        "# Calculate WCSS for different numbers of clusters\n",
        "wcss = []\n",
        "for k in range(1, 31):\n",
        "    kmeans = KMeans(n_clusters=k, random_state=42)\n",
        "    kmeans.fit(umap_embeddings)\n",
        "    wcss.append(kmeans.inertia_)\n",
        "\n",
        "# Plot the Elbow Method\n",
        "plt.figure(figsize=(8, 5))\n",
        "plt.plot(range(1, 31), wcss, marker='o')\n",
        "plt.title('Elbow Method for Optimal Clusters', fontsize=16)\n",
        "plt.xlabel('Number of Clusters', fontsize=12)\n",
        "plt.ylabel('WCSS', fontsize=12)\n",
        "plt.grid(True)\n",
        "plt.show()\n",
        "\n",
        "# Calculate silhouette scores for different numbers of clusters\n",
        "silhouette_scores = []\n",
        "for k in range(2, 31):\n",
        "    kmeans = KMeans(n_clusters=k, random_state=42)\n",
        "    kmeans.fit(umap_embeddings)\n",
        "    labels = kmeans.labels_\n",
        "    silhouette_scores.append(silhouette_score(umap_embeddings, labels))\n",
        "\n",
        "# Plot the Silhouette Method\n",
        "plt.figure(figsize=(8, 5))\n",
        "plt.plot(range(2, 31), silhouette_scores, marker='o')\n",
        "plt.title('Silhouette Method for Optimal Clusters', fontsize=16)\n",
        "plt.xlabel('Number of Clusters', fontsize=12)\n",
        "plt.ylabel('Silhouette Score', fontsize=12)\n",
        "plt.grid(True)\n",
        "plt.show()"
      ]
    },
    {
      "cell_type": "markdown",
      "metadata": {
        "id": "gQTsiTwVUsg2"
      },
      "source": [
        "From the elbow method the optimal value seems to be in the 4-6 range while the highest silhouette score is for 20 clusters.\n",
        "\n",
        "Based on the elbow method, the optimal number of clusters appears to be in the range of 4-6, whereas the highest silhouette score is observed at 20 clusters.\n",
        "\n",
        "We will explore both approaches, as the title_embeddings may contain crucial information that can help group games belonging to the same series. Identifying such relationships could be highly beneficial for targeting potential customers who are likely to be interested in other games within a specific series."
      ]
    },
    {
      "cell_type": "code",
      "execution_count": null,
      "metadata": {
        "colab": {
          "base_uri": "https://localhost:8080/",
          "height": 542
        },
        "id": "L8xR6vtWTljh",
        "outputId": "455d5103-1fcd-4b92-b072-d08b1793e2e5"
      },
      "outputs": [],
      "source": [
        "from sklearn.cluster import KMeans\n",
        "\n",
        "# Apply KMeans with 4 clusters\n",
        "kmeans_4 = KMeans(n_clusters=4, random_state=42)\n",
        "filtered_meta['title_4_cluster'] = kmeans_4.fit_predict(filtered_meta[['umap_1', 'umap_2']])\n",
        "\n",
        "# Visualize clusters interactively\n",
        "import plotly.express as px\n",
        "\n",
        "fig = px.scatter(\n",
        "    filtered_meta,\n",
        "    x='umap_1',\n",
        "    y='umap_2',\n",
        "    color='title_4_cluster',\n",
        "    title='Interactive KMeans (4 Clusters) Visualization',\n",
        "    labels={'umap_1': 'UMAP Component 1', 'umap_2': 'UMAP Component 2', 'title_4_cluster': 'Cluster'},\n",
        "    hover_data=['title', 'average_rating'],\n",
        "    color_discrete_sequence=px.colors.qualitative.Set2\n",
        ")\n",
        "fig.update_layout(\n",
        "    title_font_size=20,\n",
        "    legend_title_text='Cluster',\n",
        "    legend=dict(orientation=\"h\", yanchor=\"bottom\", y=1.02, xanchor=\"right\", x=1)\n",
        ")\n",
        "fig.show()\n"
      ]
    },
    {
      "cell_type": "code",
      "execution_count": null,
      "metadata": {
        "colab": {
          "base_uri": "https://localhost:8080/",
          "height": 542
        },
        "id": "MDDdNo6mV3XF",
        "outputId": "d025c5fd-a3a3-44fa-813e-1ba0d21b1f5b"
      },
      "outputs": [],
      "source": [
        "from sklearn.cluster import KMeans\n",
        "\n",
        "# Apply KMeans with 20 clusters\n",
        "kmeans_20 = KMeans(n_clusters=20, random_state=42)\n",
        "filtered_meta['title_20_cluster'] = kmeans_20.fit_predict(filtered_meta[['umap_1', 'umap_2']])\n",
        "\n",
        "# Visualize clusters interactively\n",
        "import plotly.express as px\n",
        "\n",
        "fig = px.scatter(\n",
        "    filtered_meta,\n",
        "    x='umap_1',\n",
        "    y='umap_2',\n",
        "    color='title_20_cluster',\n",
        "    title='Interactive KMeans (20 Clusters) Visualization',\n",
        "    labels={'umap_1': 'UMAP Component 1', 'umap_2': 'UMAP Component 2', 'title_20_cluster': 'Cluster'},\n",
        "    hover_data=['title', 'average_rating'],\n",
        "    color_discrete_sequence=px.colors.qualitative.Set2\n",
        ")\n",
        "fig.update_layout(\n",
        "    title_font_size=20,\n",
        "    legend_title_text='Cluster',\n",
        "    legend=dict(orientation=\"h\", yanchor=\"bottom\", y=1.02, xanchor=\"right\", x=1)\n",
        ")\n",
        "fig.show()\n"
      ]
    },
    {
      "cell_type": "markdown",
      "metadata": {
        "id": "cHmkgwj7YZ7B"
      },
      "source": [
        "In this case we will focus less on the charactrisitic of the games in each cluster and more on the game themself, due to the relative managable size of the data we will have a closer inspection into the games in each cluster.\n",
        "\n",
        "for the 4-clusters we observe that generally games of the same game series are groupd together, but are with other games series or standalone games"
      ]
    },
    {
      "cell_type": "code",
      "execution_count": null,
      "metadata": {
        "colab": {
          "base_uri": "https://localhost:8080/"
        },
        "id": "gfHx59mRZdW4",
        "outputId": "ec6ccb17-e69b-43e6-fa97-61725d74b677"
      },
      "outputs": [],
      "source": [
        "# Group by cluster and display games in each cluster\n",
        "for cluster_id in sorted(filtered_meta['title_20_cluster'].unique()):\n",
        "    print(f\"\\nCluster {cluster_id}:\")\n",
        "    games_in_cluster = filtered_meta[filtered_meta['title_20_cluster'] == cluster_id]\n",
        "    print(games_in_cluster[['title', 'Category_Group']])\n"
      ]
    },
    {
      "cell_type": "code",
      "execution_count": null,
      "metadata": {
        "colab": {
          "base_uri": "https://localhost:8080/"
        },
        "id": "DpfmiIXDZ-kj",
        "outputId": "be82dc15-bdd7-49f4-becf-9a45b896dc5c"
      },
      "outputs": [],
      "source": [
        "# Group by cluster and display games in each cluster\n",
        "for cluster_id in sorted(filtered_meta['title_4_cluster'].unique()):\n",
        "    print(f\"\\nCluster {cluster_id}:\")\n",
        "    games_in_cluster = filtered_meta[filtered_meta['title_4_cluster'] == cluster_id]\n",
        "    print(games_in_cluster[['title', 'Category_Group']])"
      ]
    },
    {
      "cell_type": "markdown",
      "metadata": {
        "id": "9jDTsJZDaPzQ"
      },
      "source": [
        "For the 4-cluster configuration, we observe that games belonging to the same series are generally grouped together, but these clusters also include many other unrelated games from different series or standalone titles. In contrast, the 20-cluster configuration demonstrates much more specific grouping (as expected) and effectively clusters games from the same series with minimal overlap with other series or standalone games.\n",
        "\n",
        "For instance, **Cluster 15** consists exclusively of *Assassin's Creed* games, while **Cluster 19** includes only *Need for Speed* titles. This high degree of specificity and the precise identification of games within the same series make the 20-cluster configuration preferable. Therefore, we will proceed with the 20-cluster configuration."
      ]
    },
    {
      "cell_type": "markdown",
      "metadata": {
        "id": "wg5I5e2P5igM"
      },
      "source": [
        "#### Preparing The Data For Recommendation System"
      ]
    },
    {
      "cell_type": "code",
      "execution_count": null,
      "metadata": {
        "colab": {
          "base_uri": "https://localhost:8080/"
        },
        "id": "zilervuTf2Om",
        "outputId": "4ec97163-0ff1-4231-fd9f-73420db873fa"
      },
      "outputs": [],
      "source": [
        "filtered_meta.info()"
      ]
    },
    {
      "cell_type": "markdown",
      "metadata": {
        "id": "6LARFq5NlAjd"
      },
      "source": [
        "From this point forward, since we have already extracted embeddings from the textual data, we can drop the original text features and retain only their embeddings.\n",
        "\n",
        "We will normalize numeric values and categorize categorical values. Additionally, features that will not be useful in the future (e.g., pca_1, umpa_1, etc.) will be removed.\n",
        "\n",
        "**To summarize, we will:**\n",
        "\n",
        "* **Remove**: title, features, description, price, categories, games_Group, parsed_features, pca_1, pca_2, umpa_1, umpap_2, tsne_1, tsne_2, title_4_cluster.\n",
        "\n",
        "* **Normalize**: average_rating, price_numeric.\n",
        "\n",
        "* **Categorize**: store, Category_Group.\n",
        "\n",
        "* **Keep as is**: parent_asin, title_embeddings, feature_embeddings, description_embeddings, feature_cluster, description_cluster, title_20_cluster.\n",
        "\n",
        "Since prices range from approximately 10 to 750, a clear imbalance could occur during normalization. However, given that only four items have a price above 200, we will set 200 as the cap and normalize prices within the range of 0–200."
      ]
    },
    {
      "cell_type": "code",
      "execution_count": null,
      "metadata": {
        "id": "XR0r600Wf6bT"
      },
      "outputs": [],
      "source": [
        "import pandas as pd\n",
        "\n",
        "filtered_meta.drop(columns=[\"title\", \"features\", \"description\", \"price\",\n",
        "    \"categories\", \"games_Group\", \"parsed_features\", \"pca_1\", \"pca_2\",\n",
        "    \"umap_1\", \"umap_2\", \"tsne_1\", \"tsne_2\", \"title_4_cluster\" ], inplace=True)\n"
      ]
    },
    {
      "cell_type": "code",
      "execution_count": null,
      "metadata": {
        "id": "_teDd8szq9sH"
      },
      "outputs": [],
      "source": [
        "# Get unique values for categorical columns\n",
        "categorical_cols = [\"store\", \"Category_Group\"]\n",
        "\n",
        "# Create mappings for each categorical column\n",
        "category_mappings = {}\n",
        "for col in categorical_cols:\n",
        "    unique_values = sorted(filtered_meta[col].unique())  # Sorted for consistency\n",
        "    category_mappings[col] = {val: i for i, val in enumerate(unique_values)}  # Mapping dictionary\n",
        "\n",
        "# Apply encoding manually\n",
        "for col in categorical_cols:\n",
        "    filtered_meta[col] = filtered_meta[col].map(category_mappings[col])"
      ]
    },
    {
      "cell_type": "code",
      "execution_count": null,
      "metadata": {
        "id": "V5Cz9I9rtxXt"
      },
      "outputs": [],
      "source": [
        "from sklearn.preprocessing import MinMaxScaler\n",
        "\n",
        "filtered_meta['price_numeric'] = filtered_meta['price_numeric'].clip(upper=200)\n",
        "filtered_meta['price_numeric'] = filtered_meta['price_numeric'] / 200\n",
        "\n",
        "scaler = MinMaxScaler()\n",
        "filtered_meta['average_rating'] = scaler.fit_transform(filtered_meta[['average_rating']])"
      ]
    },
    {
      "cell_type": "code",
      "execution_count": null,
      "metadata": {
        "colab": {
          "base_uri": "https://localhost:8080/",
          "height": 417
        },
        "id": "V0p4Eg1HrqrU",
        "outputId": "aab48700-626c-4e92-d8b4-8c5f7cc3109b"
      },
      "outputs": [],
      "source": [
        "filtered_meta.head()"
      ]
    },
    {
      "cell_type": "markdown",
      "metadata": {
        "id": "ENWE0QMSvUf6"
      },
      "source": [
        "Next for the reviews:"
      ]
    },
    {
      "cell_type": "code",
      "execution_count": null,
      "metadata": {
        "id": "FfB90KAR0vWL"
      },
      "outputs": [],
      "source": [
        "filtered_reviews = filtered_reviews_copy.copy()"
      ]
    },
    {
      "cell_type": "code",
      "execution_count": null,
      "metadata": {
        "colab": {
          "base_uri": "https://localhost:8080/"
        },
        "id": "O-NjtC8Dk-rf",
        "outputId": "3d9cb63c-5cb8-470c-94b6-f2960db18328"
      },
      "outputs": [],
      "source": [
        "filtered_reviews_copy = filtered_reviews.copy()\n",
        "filtered_reviews.info()"
      ]
    },
    {
      "cell_type": "markdown",
      "metadata": {
        "id": "6WnGIK6Svfkx"
      },
      "source": [
        "* **Remove**: title, text, asin, year_month, sentiment_scores, positive_sentiment_prob, pca_1, pca_2.\n",
        "\n",
        "* **Categorize**: helpful_vote, verified_purchase, era, review_length, predicted_sentiment, sentiment_category.\n",
        "\n",
        "We will categorize the numeric values of helpful_votes and review_length into four groups each, considering the high variance in their values.\n",
        "\n",
        "**helpful_votes:**\n",
        "\n",
        "* 0 votes (no votes)\n",
        "* 1–2 votes (somewhat helpful)\n",
        "* 3–9 votes (helpful)\n",
        "* 10+ votes (very helpful)\n",
        "\n",
        "**review_length:**\n",
        "\n",
        "* 0–99 (short)\n",
        "* 100–499 (medium)\n",
        "* 500–1999 (detailed)\n",
        "* 2000+ (extremely detailed)\n",
        "\n",
        "Eventually, we want to categorize them numerically from 0 to 3."
      ]
    },
    {
      "cell_type": "code",
      "execution_count": null,
      "metadata": {
        "id": "C877DP0T3tq1"
      },
      "outputs": [],
      "source": [
        "filtered_reviews.drop(columns=[\"title\", \"text\", \"asin\", \"year_month\", \"sentiment_scores\",\n",
        "                \"positive_sentiment_prob\", \"pca_1\", \"pca_2\"], inplace=True)"
      ]
    },
    {
      "cell_type": "code",
      "execution_count": null,
      "metadata": {
        "id": "J-Jbb42634AG"
      },
      "outputs": [],
      "source": [
        "# Categorize helpful_vote into 4 groups\n",
        "def categorize_helpful_votes(votes):\n",
        "    if votes == 0:\n",
        "        return 0  # No votes\n",
        "    elif 1 <= votes <= 2:\n",
        "        return 1  # Somewhat helpful\n",
        "    elif 3 <= votes <= 9:\n",
        "        return 2  # Helpful\n",
        "    else:\n",
        "        return 3  # Very helpful\n",
        "\n",
        "filtered_reviews['helpful_vote'] = filtered_reviews['helpful_vote'].apply(categorize_helpful_votes)"
      ]
    },
    {
      "cell_type": "code",
      "execution_count": null,
      "metadata": {
        "id": "SLjEekbd4IGo"
      },
      "outputs": [],
      "source": [
        "# Categorize review_length into 4 groups\n",
        "def categorize_review_length(length):\n",
        "    if length < 100:\n",
        "        return 0  # Short\n",
        "    elif 100 <= length < 500:\n",
        "        return 1  # Medium\n",
        "    elif 500 <= length < 2000:\n",
        "        return 2  # Detailed\n",
        "    else:\n",
        "        return 3  # Extremely detailed\n",
        "\n",
        "filtered_reviews['review_length'] = filtered_reviews['review_length'].apply(categorize_review_length)"
      ]
    },
    {
      "cell_type": "code",
      "execution_count": null,
      "metadata": {
        "id": "hqX7rxFV4UD-"
      },
      "outputs": [],
      "source": [
        "from sklearn.preprocessing import LabelEncoder\n",
        "\n",
        "categorical_cols = [\"verified_purchase\", \"era\", \"predicted_sentiment\", \"sentiment_category\"]\n",
        "\n",
        "# Convert categorical values to numeric using Label Encoding\n",
        "for col in categorical_cols:\n",
        "    encoder = LabelEncoder()\n",
        "    filtered_reviews[col] = encoder.fit_transform(filtered_reviews[col])"
      ]
    },
    {
      "cell_type": "code",
      "execution_count": null,
      "metadata": {
        "colab": {
          "base_uri": "https://localhost:8080/",
          "height": 399
        },
        "id": "es6-eKE74jbc",
        "outputId": "6963be29-736e-41cd-fab4-f17e2c3b9b16"
      },
      "outputs": [],
      "source": [
        "filtered_reviews.head()"
      ]
    },
    {
      "cell_type": "code",
      "execution_count": null,
      "metadata": {
        "id": "NE30mYrDlhd2"
      },
      "outputs": [],
      "source": [
        "# save the DataFrame as Parquet to Google Drive\n",
        "filtered_reviews.to_parquet('/content/drive/My Drive/filtered_reviews_final.parquet', index=False, engine='pyarrow')\n",
        "filtered_meta.to_parquet('/content/drive/My Drive/filtered_meta_final.parquet', index=False, engine='pyarrow')"
      ]
    },
    {
      "cell_type": "code",
      "execution_count": null,
      "metadata": {
        "id": "gDYqAqpHmh5r"
      },
      "outputs": [],
      "source": [
        "# save the DataFrame as Parquet to Google Drive\n",
        "filtered_reviews.to_csv('/content/drive/My Drive/filtered_reviews_final.csv', index=False)\n",
        "filtered_meta.to_csv('/content/drive/My Drive/filtered_meta_final.csv', index=False)"
      ]
    },
    {
      "cell_type": "markdown",
      "metadata": {
        "id": "L6gzaOcXQBe4"
      },
      "source": [
        "# Recommendation Systems"
      ]
    },
    {
      "cell_type": "markdown",
      "metadata": {
        "id": "hFSYKlW49Uo8"
      },
      "source": [
        "In this project, we aim to develop a recommendation system that goes beyond simply predicting a user's rating for an unseen game—an existing problem with numerous solutions. Instead, our focus is on precisely identifying games a user is likely to be interested enough to buy, based on their past purchases.\n",
        "\n",
        "The system will generate ten personalized game recommendations from a pool of 304 available titles. Our goal is to ensure that at least one of these ten recommendations aligns with the user's actual interests. To evaluate our model's effectiveness, we will use a test set where each user has at least 2 unseen reviews, that we will try to be able to reccomend him at least one of them.\n",
        "\n",
        "\n",
        "Rather than solely predicting which games a user will rate the highest, our approach aims to predict which games they are most likely to purchase. This distinction is crucial for service providers, as it offers a more effective tool for encouraging user purchases—in this case, video games."
      ]
    },
    {
      "cell_type": "code",
      "execution_count": null,
      "metadata": {
        "id": "9YqH_CbDQYaE"
      },
      "outputs": [],
      "source": [
        "file_path_meta = '/content/drive/My Drive/filtered_meta_final.parquet'\n",
        "file_path_reviews = '/content/drive/My Drive/filtered_reviews_final.parquet'\n",
        "\n",
        "filtered_meta = pd.read_parquet(file_path_meta, engine=\"pyarrow\", dtype_backend=\"numpy_nullable\")\n",
        "filtered_reviews = pd.read_parquet(file_path_reviews, engine=\"pyarrow\", dtype_backend=\"numpy_nullable\")\n"
      ]
    },
    {
      "cell_type": "code",
      "execution_count": null,
      "metadata": {
        "colab": {
          "base_uri": "https://localhost:8080/"
        },
        "id": "TEED4tjVinvC",
        "outputId": "0b288f93-e06b-4e42-bdd9-025b18a28254"
      },
      "outputs": [],
      "source": [
        "filtered_meta.info()"
      ]
    },
    {
      "cell_type": "code",
      "execution_count": null,
      "metadata": {
        "colab": {
          "base_uri": "https://localhost:8080/"
        },
        "id": "CYQjFA4cirgS",
        "outputId": "ca426c52-5a7d-4ece-c4b8-b9e798a13da0"
      },
      "outputs": [],
      "source": [
        "filtered_reviews.info()"
      ]
    },
    {
      "cell_type": "markdown",
      "metadata": {
        "id": "7TM1c9Rff36O"
      },
      "source": [
        "##**Train-Test Split Strategy**\n",
        "\n",
        "To build a reliable and realistic recommendation system, we need an effective strategy for splitting our dataset into training and testing sets.\n",
        "\n",
        "Initially, we considered a Leave-One-Out (LOO) approach, where we would retain a single review per user for testing while using the rest for training. However, upon further evaluation, we identified several issues with this approach and opted for a more suitable hybrid approach instead.\n",
        "\n",
        "The reasons being that if a user's only test review happens to be negative, our model would be unfairly penalized for correctly identifying that the user would not have liked the item. This is particularly problematic because many users in our dataset have only 5 reviews (the minimum threshold in our dataset). If we pick just one review, we risk selecting a single negative review, making evaluation misleading.\n",
        "\n",
        "To address these challenges, we adopted a hybrid approach that aim for a 80/20 split for each user if possible, while ensuring at least two reviews per user in the test set. This strategy helps reduce the likelihood of selecting only a single negative review, maintaining a fair evaluation.\n",
        "\n",
        "This approach is best for our dataset and use case as its:\n",
        "\n",
        "1. **Better represent users behavior**: Users  have multiple opportunities to be evaluated in test cases, not just one.\n",
        "\n",
        "2. **Balancing data without leakage**: We do not pre-select positive reviews (which would create bias). Instead, we let the natural distribution of user behavior define the train-test split.\n",
        "\n",
        "3. **Ensures our model predicts purchases accurately**: By guaranteeing at least one verified purchase in the test set, we ensure that evaluation is aligned with our real-world goal: predicting games a user will actually buy."
      ]
    },
    {
      "cell_type": "code",
      "execution_count": null,
      "metadata": {
        "colab": {
          "base_uri": "https://localhost:8080/"
        },
        "id": "ISIbU8UxWmxM",
        "outputId": "09f0ff8a-2822-449a-a190-54b1019f7a79"
      },
      "outputs": [],
      "source": [
        "import pandas as pd\n",
        "import numpy as np\n",
        "\n",
        "\n",
        "filtered_reviews = filtered_reviews.sort_values(by=[\"user_id\"])\n",
        "\n",
        "\n",
        "# Define function for random train-test split per user\n",
        "def random_split(user_df, train_ratio=0.8, min_test_reviews=2):\n",
        "    \"\"\"\n",
        "    Splits a user's reviews into training and testing sets randomly.\n",
        "    Ensures the test set contains at least one verified purchase and a mix of ratings.\n",
        "    \"\"\"\n",
        "    total_reviews = len(user_df)\n",
        "    test_size = max(min_test_reviews, int(total_reviews * (1 - train_ratio)))  # Ensure at least 2 in test\n",
        "\n",
        "    # Randomly shuffle user reviews\n",
        "    user_df = user_df.sample(frac=1, random_state=42).reset_index(drop=True)\n",
        "\n",
        "    # Select random test reviews\n",
        "    test_set = user_df.iloc[:test_size]\n",
        "    train_set = user_df.iloc[test_size:]\n",
        "\n",
        "    # Ensure at least one purchase in test set\n",
        "    if not (test_set[\"verified_purchase\"] == 1).any():\n",
        "        purchase_in_train = train_set[train_set[\"verified_purchase\"] == 1]\n",
        "        if not purchase_in_train.empty:\n",
        "            chosen_purchase = purchase_in_train.sample(1, random_state=42)  # Pick a random purchase\n",
        "            train_set = train_set.drop(chosen_purchase.index)  # Remove from train\n",
        "            test_set = pd.concat([test_set, chosen_purchase])  # Add to test\n",
        "\n",
        "    return train_set, test_set\n",
        "\n",
        "# Apply the split per user\n",
        "train_list, test_list = [], []\n",
        "for user, user_reviews in filtered_reviews.groupby(\"user_id\"):\n",
        "    train_data, test_data = random_split(user_reviews)\n",
        "    train_list.append(train_data)\n",
        "    test_list.append(test_data)\n",
        "\n",
        "# Merge back into DataFrames\n",
        "train_set = pd.concat(train_list)\n",
        "test_set = pd.concat(test_list)\n",
        "\n",
        "# Display the size of each split\n",
        "train_set_size = train_set.shape[0]\n",
        "test_set_size = test_set.shape[0]\n",
        "train_set_size, test_set_size"
      ]
    },
    {
      "cell_type": "markdown",
      "metadata": {
        "id": "BXX-f4u1hcBG"
      },
      "source": [
        "we get an eventual split of about 70/30 for the train/test sets."
      ]
    },
    {
      "cell_type": "markdown",
      "metadata": {
        "id": "cU61JALh8ARw"
      },
      "source": [
        "## **Evaluation Metrics for Our Recommendation System**\n",
        "\n",
        "To assess the effectiveness of our recommendation models, we use a combination of ranking-based and hit-based metrics. These metrics ensure that our recommendations are both accurate and practically useful for users.\n",
        "\n",
        "1. **Hit Rate@10 (HR@10)** - This is **the most critical metric** for our project. It measures the proportion of users for whom **at least one** of the top 10 recommended games appears in their actual purchases. Since our primary objective is to recommend games that users are likely to buy, HR@10 directly reflects our success in achieving this goal.\n",
        "\n",
        "2. **Precision@10** - This evaluates the proportion of recommended items that are actually relevant, adjusted based on how many true purchases a user has. Unlike HR@10, which only requires one correct recommendation, precision@10 penalizes irrelevant suggestions, ensuring that most of the recommended items are useful and well-targeted.\n",
        "\n",
        "3. **NDCG@10 (Normalized Discounted Cumulative Gain)** - This metric assesses ranking quality, rewarding models that place purchased games higher in the recommendation list. Since a relevant game at rank #1 is much more valuable than at rank #10, NDCG@10 encourages models to prioritize the most relevant recommendations first, improving user engagement.\n",
        "\n",
        "4. **MAP@10 (Mean Average Precision)** - This measures precision at multiple levels, averaging precision over all correct recommendations. Unlike HR@10, which focuses on any correct recommendation, or Precision@10, which focuses on individual relevance, MAP@10 considers the overall ranking performance, ensuring that multiple correct recommendations appear early in the list while maintaining diversity in recommendations.\n",
        "\n",
        "By combining these metrics, we ensure a comprehensive evaluation of our recommendation system, balancing accuracy, ranking quality, and real-world effectiveness in helping users discover games they are likely to purchase."
      ]
    },
    {
      "cell_type": "markdown",
      "metadata": {
        "id": "sWH7JkAirzfj"
      },
      "source": [
        "In order to compare all models we will save our results in a data structure for later analysis"
      ]
    },
    {
      "cell_type": "code",
      "execution_count": null,
      "metadata": {
        "id": "Zd2nR5pury56"
      },
      "outputs": [],
      "source": [
        "import time\n",
        "\n",
        "# Dictionary to store all model results\n",
        "model_results = {}"
      ]
    },
    {
      "cell_type": "markdown",
      "metadata": {
        "id": "X5E3gF1mky2P"
      },
      "source": [
        "## Baseline Model - SVD (Singular Value Decomposition)"
      ]
    },
    {
      "cell_type": "markdown",
      "metadata": {
        "id": "dY96oX2ilJC0"
      },
      "source": [
        "For this project, we selected Singular Value Decomposition (SVD) as our baseline model because it provides a simple, yet effective foundation for recommendation systems, particularly in matrix factorization approaches.\n",
        "\n",
        "SVD is one of the most widely used techniques in recommendation systems. It decomposes the user-item interaction matrix into latent factors, capturing underlying relationships between users and games. This makes it a good benchmark to compare more advanced models against."
      ]
    },
    {
      "cell_type": "markdown",
      "metadata": {
        "id": "7lRxP7zwmQir"
      },
      "source": [
        "We start with creating the evaluation function we'll use on the final model."
      ]
    },
    {
      "cell_type": "code",
      "execution_count": null,
      "metadata": {
        "id": "EQ349mSnlv3-"
      },
      "outputs": [],
      "source": [
        "from collections import defaultdict\n",
        "import numpy as np\n",
        "\n",
        "def get_top_k_recommendations(model, test_users, all_items, k=10):\n",
        "    \"\"\" Generate top-K recommendations for each user \"\"\"\n",
        "    top_k_recommendations = defaultdict(list)\n",
        "\n",
        "    for user_id in test_users:\n",
        "        # Predict scores for all games\n",
        "        predictions = [(game, model.predict(user_id, game).est) for game in all_items]\n",
        "\n",
        "        # Sort by predicted score (descending) and take the top K\n",
        "        sorted_predictions = sorted(predictions, key=lambda x: x[1], reverse=True)[:k]\n",
        "\n",
        "        # Store only game IDs\n",
        "        top_k_recommendations[user_id] = [game for game, _ in sorted_predictions]\n",
        "\n",
        "    return top_k_recommendations"
      ]
    },
    {
      "cell_type": "code",
      "execution_count": null,
      "metadata": {
        "id": "ZcDsHVmSmMWN"
      },
      "outputs": [],
      "source": [
        "def evaluate_recommendations(top_k_recommendations, test_set, k=10):\n",
        "    \"\"\" Evaluate the recommendations with adjusted metrics \"\"\"\n",
        "\n",
        "    hit_count = 0\n",
        "    total_users = len(test_set['user_id'].unique())\n",
        "\n",
        "    recall_scores = []\n",
        "    precision_scores = []\n",
        "    ndcg_scores = []\n",
        "    average_precisions = []\n",
        "\n",
        "    # Group test set by user to get all correct purchases\n",
        "    user_true_games = test_set.groupby(\"user_id\")[\"parent_asin\"].apply(set).to_dict()\n",
        "\n",
        "    for user_id, true_games in user_true_games.items():\n",
        "        if user_id in top_k_recommendations:\n",
        "            recommended_games = top_k_recommendations[user_id]\n",
        "\n",
        "            # Count number of correct recommendations\n",
        "            relevant_count = sum(1 for game in recommended_games if game in true_games)\n",
        "            total_true_items = len(true_games)  # Number of actual purchases for the user\n",
        "\n",
        "            # Hit Rate@K (1 if at least one correct recommendation was found)\n",
        "            hit = 1 if relevant_count > 0 else 0\n",
        "            hit_count += hit\n",
        "\n",
        "            # Precision@K (correct recommendations / min(K, total_true_items))\n",
        "            effective_k = min(k, total_true_items)  # Adjusted denominator\n",
        "            precision_at_k = relevant_count / effective_k if effective_k > 0 else 0\n",
        "            precision_scores.append(precision_at_k)\n",
        "\n",
        "            # NDCG@K (adjusted to only consider available correct items)\n",
        "            relevance = np.array([1 if game in true_games else 0 for game in recommended_games])\n",
        "            ideal_dcg = sum(1 / np.log2(i + 2) for i in range(min(len(true_games), k)))  # IDCG only considers available true games\n",
        "            dcg = sum(1 / np.log2(i + 2) if game in true_games else 0 for i, game in enumerate(recommended_games[:k]))\n",
        "            ndcg_at_k = dcg / ideal_dcg if ideal_dcg > 0 else 0\n",
        "            ndcg_scores.append(ndcg_at_k)\n",
        "\n",
        "            # MAP@K (adjusted denominator)\n",
        "            relevant_items = [1 if game in true_games else 0 for game in recommended_games]\n",
        "            if sum(relevant_items) > 0:\n",
        "                precision_at_ranks = [\n",
        "                    sum(relevant_items[:i + 1]) / (i + 1) for i in range(len(relevant_items)) if relevant_items[i] == 1\n",
        "                ]\n",
        "                ap_at_k = np.mean(precision_at_ranks) if precision_at_ranks else 0\n",
        "            else:\n",
        "                ap_at_k = 0\n",
        "\n",
        "            average_precisions.append(ap_at_k)\n",
        "\n",
        "    # Compute final metrics\n",
        "    hit_rate = hit_count / total_users\n",
        "    precision_at_k = np.mean(precision_scores)\n",
        "    ndcg_at_k = np.mean(ndcg_scores) if ndcg_scores else 0\n",
        "    map_at_k = np.mean(average_precisions) if average_precisions else 0\n",
        "\n",
        "    return {\n",
        "        'Hit Rate@K': round(hit_rate, 4),\n",
        "        'Precision@K': round(precision_at_k, 4),  # Uses min(K, total_true_items)\n",
        "        'NDCG@K': round(ndcg_at_k, 4),  # IDCG is adjusted to the number of actual purchases\n",
        "        'MAP@K': round(map_at_k, 4)  # Uses min(K, total_true_items)\n",
        "    }"
      ]
    },
    {
      "cell_type": "code",
      "execution_count": null,
      "metadata": {
        "id": "ypv5sLPOmO_F"
      },
      "outputs": [],
      "source": [
        "def evaluate_model(model, test_set, all_items, k=10):\n",
        "    \"\"\" Main function to evaluate the model \"\"\"\n",
        "\n",
        "    test_users = test_set['user_id'].unique()\n",
        "    top_k_recommendations = get_top_k_recommendations(model, test_users, all_items, k)\n",
        "    results = evaluate_recommendations(top_k_recommendations, test_set, k)\n",
        "\n",
        "    return results"
      ]
    },
    {
      "cell_type": "code",
      "execution_count": null,
      "metadata": {
        "colab": {
          "base_uri": "https://localhost:8080/"
        },
        "id": "yRsR6qEbmj8T",
        "outputId": "eefbd04a-7c86-4d0c-fd11-df884df64c28"
      },
      "outputs": [],
      "source": [
        "!pip install scikit-surprise"
      ]
    },
    {
      "cell_type": "code",
      "execution_count": null,
      "metadata": {
        "colab": {
          "base_uri": "https://localhost:8080/"
        },
        "id": "i3diOKSSmmg8",
        "outputId": "7d8bd0f5-dfb0-4702-fe51-8693fc53a965"
      },
      "outputs": [],
      "source": [
        "from surprise import SVD, Dataset, Reader\n",
        "\n",
        "all_items = filtered_reviews['parent_asin'].unique()\n",
        "reader = Reader(rating_scale=(filtered_reviews['rating'].min(), filtered_reviews['rating'].max()))\n",
        "train_data = Dataset.load_from_df(train_set[['user_id', 'parent_asin', 'rating']], reader)\n",
        "trainset = train_data.build_full_trainset()\n",
        "testset = list(test_set[['user_id', 'parent_asin', 'rating']].itertuples(index=False, name=None))\n",
        "\n",
        "start_time = time.time()\n",
        "model = SVD()\n",
        "model.fit(trainset)\n",
        "svd_results = evaluate_model(model, test_set, all_items, k=10)\n",
        "end_time = time.time()\n",
        "runtime_svd = round(end_time - start_time, 2)\n",
        "\n",
        "model_results[\"SVD\"] = {\n",
        "    \"Hit Rate@K\": svd_results[\"Hit Rate@K\"],\n",
        "    \"Precision@K\": svd_results[\"Precision@K\"],\n",
        "    \"NDCG@K\": svd_results[\"NDCG@K\"],\n",
        "    \"MAP@K\": svd_results[\"MAP@K\"],\n",
        "    \"Runtime (s)\": runtime_svd\n",
        "}\n",
        "\n",
        "# Print SVD results\n",
        "print(\"SVD Model Results:\")\n",
        "for model_name, metrics in model_results.items():\n",
        "    print(f\"\\n🔹 {model_name}:\")\n",
        "    for metric, value in metrics.items():\n",
        "        print(f\"  {metric}: {value}\")"
      ]
    },
    {
      "cell_type": "markdown",
      "metadata": {
        "id": "x-FUvK2ksqod"
      },
      "source": [
        "For our baseline model we have a low score of about 8% success in recommending users with at least one item they will be intrested in. Our aim of course would be to surpass it.\n",
        "\n",
        "First we will focus on Matrix Factorization oriented models that we will try and improve our results with:"
      ]
    },
    {
      "cell_type": "markdown",
      "metadata": {
        "id": "XTQTeKyEtNFo"
      },
      "source": [
        "## **SVD++**"
      ]
    },
    {
      "cell_type": "markdown",
      "metadata": {
        "id": "6YOOuCohupZE"
      },
      "source": [
        "SVD++ is an extension of Singular Value Decomposition (SVD) specifically designed to improve recommendation performance by incorporating implicit feedback from user interactions. While standard SVD relies only on explicit ratings to learn user and item embeddings, SVD++ enhances this by considering additional interactions, such as viewed but unrated items, clicks, and purchases, to better understand user preferences.\n",
        "\n",
        "SVD++ extends traditional matrix factorization by introducing an additional latent factor term that captures user-item implicit interactions."
      ]
    },
    {
      "cell_type": "code",
      "execution_count": null,
      "metadata": {
        "colab": {
          "base_uri": "https://localhost:8080/"
        },
        "id": "YlwRJnSKqCX5",
        "outputId": "93bd8e15-73fa-48d1-bae4-c308c4f3352c"
      },
      "outputs": [],
      "source": [
        "from surprise import SVDpp, Dataset, Reader\n",
        "import pandas as pd\n",
        "\n",
        "\n",
        "reader = Reader(rating_scale=(1, 5))\n",
        "data = Dataset.load_from_df(train_set[['user_id', 'parent_asin', 'rating']], reader)\n",
        "testset = list(test_set[['user_id', 'parent_asin', 'rating']].itertuples(index=False, name=None))\n",
        "trainset = train_data.build_full_trainset()\n",
        "\n",
        "start_time = time.time()\n",
        "svdpp_model = SVDpp(n_factors=30, reg_all=0.02, n_epochs=20)\n",
        "svdpp_model.fit(trainset)\n",
        "predictions_svdpp = svdpp_model.test(testset)\n",
        "svdpp_results = evaluate_model(svdpp_model, test_set, all_items, k=10)\n",
        "\n",
        "end_time = time.time()\n",
        "runtime_svdpp = round(end_time - start_time, 2)\n",
        "\n",
        "model_results[\"SVD++\"] = {\n",
        "    \"Hit Rate@K\": svdpp_results[\"Hit Rate@K\"],\n",
        "    \"Precision@K\": svdpp_results[\"Precision@K\"],\n",
        "    \"NDCG@K\": svdpp_results[\"NDCG@K\"],\n",
        "    \"MAP@K\": svdpp_results[\"MAP@K\"],\n",
        "    \"Runtime (s)\": runtime_svdpp\n",
        "}\n",
        "\n",
        "model_name = \"SVD++\"\n",
        "\n",
        "print(f\"\\n🔹 {model_name} Results:\")\n",
        "for metric, value in model_results[model_name].items():\n",
        "  print(f\"  {metric}: {value}\")\n"
      ]
    },
    {
      "cell_type": "markdown",
      "metadata": {
        "id": "AePcbncbwWS7"
      },
      "source": [
        "Compared to the baseline **SVD** model, **SVD++** demonstrates a clear improvement across all evaluation metrics. This increase aligns with expectations due to the fundamental differences between the two models, particularly **SVD++**'s ability to leverage implicit feedback, which allows it to better capture user preferences beyond explicit ratings.\n",
        "\n",
        "While this improvement is a positive step, the overall success rate remains relatively modest when considering all users. Therefore, to further enhance recommendation accuracy, we will explore more advanced models and optimizations that can drive greater performance gains in subsequent iterations."
      ]
    },
    {
      "cell_type": "markdown",
      "metadata": {
        "id": "a5Ubbs-rxak_"
      },
      "source": [
        "## **Implicit Factorization Models: Implicit ALS & BPR**"
      ]
    },
    {
      "cell_type": "markdown",
      "metadata": {
        "id": "v8OlB7aZxzSO"
      },
      "source": [
        "Since our goal is to predict which games a user is most likely to purchase, rather than just rate highly, traditional rating-based collaborative filtering methods (such as SVD) are not the best fit. Instead, we adopt an implicit feedback approach, which focuses on user-game interactions rather than explicit ratings.\n",
        "\n",
        "To apply implicit factorization models, we must convert ratings into binary relevance values, as our objective is to identify the most relevant games for each user. In this context, the actual rating values become less important than the presence or absence of interactions.\n",
        "\n",
        "Binary Relevance Definition:\n",
        "\n",
        "1 → The user has interacted with the game (e.g., purchased, reviewed, played).\n",
        "\n",
        "0 → No known interaction between the user and the game.\n",
        "\n",
        "However, our dataset contains only positive interactions (games users have engaged with), which presents a challenge for training these models. To address this, we explore two different approaches:\n",
        "\n",
        "1. **Negative Sampling:**\n",
        "\n",
        "* We generate negative examples by assuming that games a user has not interacted with are unlikely to be relevant.\n",
        "\n",
        "* This helps the model learn to distinguish between purchased and non-purchased games.\n",
        "\n",
        "2. **Positive-Only Training:**\n",
        "\n",
        "* Instead of artificially introducing negative samples, we train the model using only the observed interactions and let it infer missing preferences.\n",
        "* This approach relies on implicit learning to capture user tendencies without explicitly labeling negative cases.\n",
        "\n",
        "Although the test dataset remains unchanged (containing only positive interactions), the training dataset must be modified to either include negative samples or be structured for positive-only training. By comparing both approaches, we can assess which method better predicts user purchase behavior and leads to more effective recommendations.\n"
      ]
    },
    {
      "cell_type": "markdown",
      "metadata": {
        "id": "Og7E01M0ynI4"
      },
      "source": [
        "**The Challenge: Selecting Negative Samples**\n",
        "\n",
        "A key challenge arises:\n",
        "\n",
        "* How do we determine which games should be assigned a \"0\" in our modified training set?\n",
        "\n",
        "* How do we ensure that games appearing in the test set don't mistakenly receive a negative label in training—without using the test set itself (to avoid data leakage)?\n",
        "\n",
        "To address this, we leverage our extensive preprocessing of game metadata, relationships, and embeddings. Using this knowledge, we can intelligently select negative samples that are likely to be outside a user's preferences.\n",
        "\n",
        "We employ clustering and embeddings extracted from the title, description, and feature columns to identify games that a user is unlikely to purchase.\n",
        "\n",
        "This ensures:\n",
        "\n",
        "* **No test data leakage** → Negative samples are chosen without referencing the test set.\n",
        "\n",
        "* **More realistic user-item interactions** → We assume a user is less likely to be interested in games that are semantically different from those they reviewed.\n",
        "\n",
        "To further refine the negative sampling process, we incorporate popularity-based filtering, ensuring that highly popular games are not classified as negatives, as they tend to be of at least some interest to most users.\n",
        "\n",
        "To create a more accurate and balanced dataset, we:\n",
        "\n",
        "1. Use clustering to identify game categories that are distant from the user's known interests.\n",
        "2. Filter out highly popular games from the negative samples, preventing bias.\n",
        "3. Within the remaining candidates, select the least similar games to the user's historical interactions.\n",
        "\n",
        "By implementing this strategy, we create a robust training dataset that better reflects real-world purchasing behavior, ultimately improving the accuracy and relevance of our recommendations."
      ]
    },
    {
      "cell_type": "markdown",
      "metadata": {
        "id": "E5Go4Fbjyr7s"
      },
      "source": [
        "**Negative Samples**\n",
        "\n",
        "Lets use game clusters, embaddings and popularity to decide what games we will sample negative for each use in the training set."
      ]
    },
    {
      "cell_type": "code",
      "execution_count": null,
      "metadata": {
        "id": "saaOvac4qKuK"
      },
      "outputs": [],
      "source": [
        "from sklearn.metrics.pairwise import cosine_similarity\n",
        "import numpy as np\n",
        "\n",
        "# Create mappings from game ID to clusters\n",
        "game_clusters_title = dict(zip(filtered_meta[\"parent_asin\"], filtered_meta[\"title_20_cluster\"]))\n",
        "game_clusters_description = dict(zip(filtered_meta[\"parent_asin\"], filtered_meta[\"description_cluster\"]))\n",
        "game_clusters_features = dict(zip(filtered_meta[\"parent_asin\"], filtered_meta[\"features_cluster\"]))\n",
        "\n",
        "# Compute game popularity (number of reviews)\n",
        "game_popularity = train_set[\"parent_asin\"].value_counts()\n",
        "\n",
        "# Extract embeddings from metadata\n",
        "title_embeddings = np.stack(filtered_meta[\"title_embeddings\"])\n",
        "feature_embeddings = np.stack(filtered_meta[\"features_embeddings\"])\n",
        "description_embeddings = np.stack(filtered_meta[\"description_embeddings\"])\n",
        "\n",
        "\n",
        "# Compute similarity for each embedding type\n",
        "title_sim = cosine_similarity(title_embeddings)\n",
        "feature_sim = cosine_similarity(feature_embeddings)\n",
        "desc_sim = cosine_similarity(description_embeddings)\n",
        "\n",
        "# Combine similarity scores (weighted average)\n",
        "game_similarity = (title_sim + feature_sim + desc_sim) / 3"
      ]
    },
    {
      "cell_type": "code",
      "execution_count": null,
      "metadata": {
        "id": "wurE1jCvy00y"
      },
      "outputs": [],
      "source": [
        "import numpy as np\n",
        "import random\n",
        "\n",
        "\n",
        "game_ids = list(filtered_meta[\"parent_asin\"])\n",
        "game_id_to_index = {game_id: i for i, game_id in enumerate(game_ids)}\n",
        "\n",
        "def get_negative_samples_hybrid(user, user_reviews, n_samples=5):\n",
        "    \"\"\" Select negative samples using a hybrid approach of clusters, popularity, and similarity. \"\"\"\n",
        "\n",
        "    # Identify clusters the user interacted with\n",
        "    user_clusters_title = {game_clusters_title[game] for game in user_reviews if game in game_clusters_title}\n",
        "    user_clusters_description = {game_clusters_description[game] for game in user_reviews if game in game_clusters_description}\n",
        "    user_clusters_features = {game_clusters_features[game] for game in user_reviews if game in game_clusters_features}\n",
        "\n",
        "    # Find games from different clusters\n",
        "    distant_games = [\n",
        "        game for game in game_clusters_title.keys()\n",
        "        if (game_clusters_title[game] not in user_clusters_title) and\n",
        "           (game_clusters_description[game] not in user_clusters_description) and\n",
        "           (game_clusters_features[game] not in user_clusters_features)\n",
        "    ]\n",
        "\n",
        "    # Remove highly popular games\n",
        "    unpopular_games = game_popularity[game_popularity < game_popularity.median()].index.tolist()\n",
        "    distant_unpopular_games = [game for game in distant_games if game in unpopular_games]\n",
        "\n",
        "    # Compute similarity scores and pick least similar\n",
        "    candidate_indices = [game_id_to_index[game] for game in distant_unpopular_games if game in game_id_to_index]\n",
        "    avg_sim = np.mean(game_similarity[candidate_indices], axis=0) if candidate_indices else np.zeros(len(game_ids))\n",
        "\n",
        "    # Pick least similar games\n",
        "    least_similar_indices = np.argsort(avg_sim)[:n_samples]\n",
        "    least_similar_games = [game_ids[idx] for idx in least_similar_indices]\n",
        "\n",
        "    return least_similar_games\n"
      ]
    },
    {
      "cell_type": "code",
      "execution_count": null,
      "metadata": {
        "id": "M8fuElrvy8t5"
      },
      "outputs": [],
      "source": [
        "negative_samples = []\n",
        "\n",
        "for user in train_set[\"user_id\"].unique():\n",
        "    user_reviews = train_set[train_set[\"user_id\"] == user][\"parent_asin\"].tolist()\n",
        "    negative_games = get_negative_samples_hybrid(user, user_reviews, n_samples=len(user_reviews))\n",
        "\n",
        "    for game in negative_games:\n",
        "        negative_samples.append((user, game, 0))"
      ]
    },
    {
      "cell_type": "markdown",
      "metadata": {
        "id": "ZTHRnVmRzIlo"
      },
      "source": [
        "Well re-arrange the train and test sets we will use in our models."
      ]
    },
    {
      "cell_type": "code",
      "execution_count": null,
      "metadata": {
        "id": "w6mcY5RYzJQZ"
      },
      "outputs": [],
      "source": [
        "\n",
        "negative_train_samples_df = pd.DataFrame(negative_samples, columns=[\"user_id\", \"parent_asin\", \"label\"])\n",
        "positive_train_samples_df = train_set[[\"user_id\", \"parent_asin\"]].copy()\n",
        "positive_train_samples_df[\"label\"] = 1  # Mark as positive\n",
        "\n",
        "# Combine positive and negative samples for training\n",
        "final_train_set = pd.concat([positive_train_samples_df, negative_train_samples_df], ignore_index=True)\n",
        "final_train_set = final_train_set.sample(frac=1, random_state=42).reset_index(drop=True)\n",
        "\n",
        "# Test set remains unchanged\n",
        "final_test_set = test_set.copy()\n",
        "final_test_set[\"label\"] = 1"
      ]
    },
    {
      "cell_type": "markdown",
      "metadata": {
        "id": "A3qa2VxZzOW6"
      },
      "source": [
        "we will create the user-item matrix"
      ]
    },
    {
      "cell_type": "code",
      "execution_count": null,
      "metadata": {
        "id": "ooXE9R8ZzNcU"
      },
      "outputs": [],
      "source": [
        "from scipy.sparse import coo_matrix\n",
        "\n",
        "# Create user and item mappings\n",
        "user_map = {user: i for i, user in enumerate(final_train_set['user_id'].unique())}\n",
        "item_map = {item: i for i, item in enumerate(final_train_set['parent_asin'].unique())}\n",
        "\n",
        "# Map dataset to numerical indices\n",
        "final_train_set['user_idx'] = final_train_set['user_id'].map(user_map)\n",
        "final_train_set['item_idx'] = final_train_set['parent_asin'].map(item_map)\n",
        "final_test_set['user_idx'] = final_test_set['user_id'].map(user_map)\n",
        "final_test_set['item_idx'] = final_test_set['parent_asin'].map(item_map)\n",
        "\n",
        "\n",
        "user_item_matrix = coo_matrix(\n",
        "    (final_train_set['label'], (final_train_set['user_idx'], final_train_set['item_idx']))\n",
        ")\n",
        "user_item_matrix = user_item_matrix.tocsr()"
      ]
    },
    {
      "cell_type": "markdown",
      "metadata": {
        "id": "tvAOFxO00HBj"
      },
      "source": [
        "And now we will create the recommendation and evaluation functions fitted to these models."
      ]
    },
    {
      "cell_type": "code",
      "execution_count": null,
      "metadata": {
        "id": "cxg6yMnj0Q_i"
      },
      "outputs": [],
      "source": [
        "# Create a reverse lookup dictionary for item index to game ID\n",
        "reverse_item_map = {v: k for k, v in item_map.items()}\n",
        "\n",
        "def get_recommendations(user_id, model, user_map, item_map, n=10):\n",
        "    \"\"\"Get top-N game recommendations for a user using BPR\"\"\"\n",
        "    if user_id not in user_map:\n",
        "        return []\n",
        "\n",
        "    user_idx = user_map[user_id]\n",
        "    user_vector = user_item_matrix[user_idx]\n",
        "    item_indices, scores = model.recommend(user_idx, user_vector, N=n)\n",
        "    recommended_games = [reverse_item_map[item] for item in item_indices]\n",
        "\n",
        "    return recommended_games"
      ]
    },
    {
      "cell_type": "code",
      "execution_count": null,
      "metadata": {
        "id": "omhZt48i0UGp"
      },
      "outputs": [],
      "source": [
        "from collections import defaultdict\n",
        "import numpy as np\n",
        "from sklearn.metrics import ndcg_score\n",
        "\n",
        "def evaluate_model(model, test_set, user_map, item_map, k=10):\n",
        "    hit_count = 0\n",
        "    total_users = len(test_set['user_id'].unique())\n",
        "\n",
        "    precision_scores = []\n",
        "    ndcg_scores = []\n",
        "    average_precisions = []\n",
        "    user_true_games = test_set.groupby(\"user_id\")[\"parent_asin\"].apply(set).to_dict()\n",
        "\n",
        "    for user_id, true_games in user_true_games.items():\n",
        "        if user_id in user_map:\n",
        "            recommended_games = get_recommendations(user_id, model, user_map, item_map, k)\n",
        "            relevant_count = sum(1 for game in recommended_games if game in true_games)\n",
        "            total_true_items = len(true_games)\n",
        "\n",
        "            hit = 1 if relevant_count > 0 else 0\n",
        "            hit_count += hit\n",
        "\n",
        "            effective_k = min(k, total_true_items)\n",
        "            precision_at_k = relevant_count / effective_k\n",
        "            precision_scores.append(precision_at_k)\n",
        "\n",
        "            relevance = np.array([1 if game in true_games else 0 for game in recommended_games])\n",
        "            ndcg = ndcg_score([relevance], [np.arange(len(relevance), 0, -1)]) if np.any(relevance) else 0\n",
        "            ndcg_scores.append(ndcg)\n",
        "\n",
        "            relevant_items = [1 if game in true_games else 0 for game in recommended_games]\n",
        "            if sum(relevant_items) > 0:\n",
        "                precision_at_ranks = [\n",
        "                    sum(relevant_items[:i + 1]) / (i + 1) for i in range(len(relevant_items)) if relevant_items[i] == 1\n",
        "                ]\n",
        "                ap_at_k = np.mean(precision_at_ranks) if precision_at_ranks else 0\n",
        "            else:\n",
        "                ap_at_k = 0\n",
        "\n",
        "            average_precisions.append(ap_at_k)\n",
        "\n",
        "    hit_rate = hit_count / total_users\n",
        "    precision_at_k = np.mean(precision_scores)\n",
        "    ndcg_at_k = np.mean(ndcg_scores) if ndcg_scores else 0\n",
        "    map_at_k = np.mean(average_precisions) if average_precisions else 0\n",
        "\n",
        "    return {\n",
        "        'Hit Rate@K': round(hit_rate, 4),\n",
        "        'Precision@K': round(precision_at_k, 4),\n",
        "        'NDCG@K': round(ndcg_at_k, 4),\n",
        "        'MAP@K': round(map_at_k, 4)\n",
        "    }\n"
      ]
    },
    {
      "cell_type": "markdown",
      "metadata": {
        "id": "RHyBd-R7zTgA"
      },
      "source": [
        "From here we will create and evaluate the ALS and BPR models seperatly."
      ]
    },
    {
      "cell_type": "code",
      "execution_count": null,
      "metadata": {
        "colab": {
          "base_uri": "https://localhost:8080/"
        },
        "id": "Q6r5PWt4ztB_",
        "outputId": "9b3088b0-03eb-4270-f7de-7b39b7697937"
      },
      "outputs": [],
      "source": [
        "!pip install implicit"
      ]
    },
    {
      "cell_type": "markdown",
      "metadata": {
        "id": "50mxMGwAzd73"
      },
      "source": [
        "### **ALS With Negative Samples**"
      ]
    },
    {
      "cell_type": "code",
      "execution_count": null,
      "metadata": {
        "colab": {
          "base_uri": "https://localhost:8080/",
          "height": 231,
          "referenced_widgets": [
            "4b60f0a77ee64b2e905c8ca599429129",
            "063e7f75b4ae43af8b249fce69e340e4",
            "b571993b4e03450c8c35392031083a38",
            "9c11da4ec8d14e81aacfbc720d4f52ae",
            "3ccaf848f01e44568434a10aef12a34e",
            "e1a7ae56ede34902952c25726dc374b9",
            "3bd583e2e75f42f08e10fd48cc121aa6",
            "e9905d0ff44c42f4adcce5c6b06862a6",
            "edcd7173017b48cb9f8e308e2fff8313",
            "5e11a9c97d594f228dcd1c22bd59e83d",
            "e989475e0d554ec3afae8f607e3bc6b9"
          ]
        },
        "id": "3LYnTdlezpXS",
        "outputId": "79c2f7b4-2912-42f8-8c72-d98af5d69e9d"
      },
      "outputs": [],
      "source": [
        "from implicit.als import AlternatingLeastSquares\n",
        "\n",
        "start_time = time.time()\n",
        "als_model = AlternatingLeastSquares(factors=50, regularization=0.1, iterations=15)\n",
        "als_model.fit(user_item_matrix)\n",
        "als_with_N_results = evaluate_model(als_model, final_test_set, user_map, item_map, k=10)\n",
        "end_time = time.time()\n",
        "runtime_als_with_N = round(end_time - start_time, 2)\n",
        "\n",
        "model_results[\"ALS With Negative Samples\"] = {\n",
        "    \"Hit Rate@K\": als_with_N_results[\"Hit Rate@K\"],\n",
        "    \"Precision@K\": als_with_N_results[\"Precision@K\"],\n",
        "    \"NDCG@K\": als_with_N_results[\"NDCG@K\"],\n",
        "    \"MAP@K\": als_with_N_results[\"MAP@K\"],\n",
        "    \"Runtime (s)\": runtime_als_with_N\n",
        "}\n",
        "\n",
        "model_name = \"ALS With Negative Samples\"\n",
        "\n",
        "print(f\"\\n🔹 {model_name} Results:\")\n",
        "for metric, value in model_results[model_name].items():\n",
        "  print(f\"  {metric}: {value}\")\n"
      ]
    },
    {
      "cell_type": "markdown",
      "metadata": {
        "id": "Oz1mlxUS2N1T"
      },
      "source": [
        "### **BPR With Negative Samples**"
      ]
    },
    {
      "cell_type": "code",
      "execution_count": null,
      "metadata": {
        "colab": {
          "base_uri": "https://localhost:8080/",
          "height": 175,
          "referenced_widgets": [
            "f4ff326a5e494dac897ac4a03b5bf6c0",
            "ae10e28c609248d093e99ec974a32944",
            "957ae2e793aa4b7982f3c7f4e0be66ee",
            "ef4be7f0d72249a58dff07a38a38f8ee",
            "3b000415cbf740c98cc24b8f094dd515",
            "d9afbd93eaf2492498ffa1fc9a32afa9",
            "e8b9dde384c24393bcf0e4bfee739656",
            "f11cae67c33449489fb778e911951439",
            "7037fb559a204c2692bd8570fe2b3207",
            "350b6efdec034420843cdbebf6130e37",
            "d2684bc5cf4648b7bec82c908c7daa82"
          ]
        },
        "id": "Pr-B9XOn3Onc",
        "outputId": "228fa07b-3163-4719-eee0-a12adb48105c"
      },
      "outputs": [],
      "source": [
        "from implicit.bpr import BayesianPersonalizedRanking\n",
        "\n",
        "start_time = time.time()\n",
        "bpr_model = BayesianPersonalizedRanking(factors=200, learning_rate=0.05, regularization=0.05, iterations=150)\n",
        "bpr_model.fit(user_item_matrix)\n",
        "bpr_with_N_results = evaluate_model(bpr_model, final_test_set, user_map, item_map, k=10)\n",
        "end_time = time.time()\n",
        "runtime_bpr_with_N = round(end_time - start_time, 2)\n",
        "\n",
        "model_results[\"BPR With Negative Samples\"] = {\n",
        "    \"Hit Rate@K\": bpr_with_N_results[\"Hit Rate@K\"],\n",
        "    \"Precision@K\": bpr_with_N_results[\"Precision@K\"],\n",
        "    \"NDCG@K\": bpr_with_N_results[\"NDCG@K\"],\n",
        "    \"MAP@K\": bpr_with_N_results[\"MAP@K\"],\n",
        "    \"Runtime (s)\": runtime_bpr_with_N\n",
        "}\n",
        "\n",
        "model_name = \"BPR With Negative Samples\"\n",
        "\n",
        "print(f\"\\n🔹 {model_name} Results:\")\n",
        "for metric, value in model_results[model_name].items():\n",
        "  print(f\"  {metric}: {value}\")\n"
      ]
    },
    {
      "cell_type": "markdown",
      "metadata": {
        "id": "uIxI88NE5mjD"
      },
      "source": [
        "Both models demonstrate a significant improvement compared to the baseline, with ALS achieving nearly four times the performance of our initial model. However, their results vary considerably in effectiveness.\n",
        "\n",
        "The Alternating Least Squares (ALS) model with negative sampling performs exceptionally well, particularly in Hit Rate and NDCG. This indicates that ALS effectively ranks purchased games within the top 10 recommendations, ensuring they are noticed by users.\n",
        "\n",
        "Additionally, ALS maintains a low runtime, demonstrating its efficiency in handling sparse user-item interactions, making it a strong candidate for scalability and real-world deployment.\n",
        "\n",
        "On the other hand, the Bayesian Personalized Ranking (BPR) model struggles in comparison. Despite being designed to optimize ranking, it fails to correctly prioritize relevant purchases, as indicated by lower Hit Rate and NDCG scores. The lower precision and MAP scores suggest that BPR generates more irrelevant recommendations, leading to weaker overall ranking quality.\n",
        "\n",
        "Furthermore, BPR takes nearly twice as long to train (23.42s vs. 13.05s for ALS), emphasizing its inefficiency in this context.\n",
        "\n",
        "Now, we will analyze how both models perform when trained without negative sampling to determine whether the artificially generated negative interactions enhance or degrade their performance."
      ]
    },
    {
      "cell_type": "code",
      "execution_count": null,
      "metadata": {
        "id": "_NBA8ItS6FrL"
      },
      "outputs": [],
      "source": [
        "final_train_set = train_set.copy()\n",
        "final_train_set[\"label\"] = 1\n",
        "\n",
        "final_test_set = test_set.copy()\n",
        "final_test_set[\"label\"] = 1"
      ]
    },
    {
      "cell_type": "code",
      "execution_count": null,
      "metadata": {
        "id": "bBjvZhZ06KFe"
      },
      "outputs": [],
      "source": [
        "from scipy.sparse import coo_matrix\n",
        "\n",
        "user_map = {user: i for i, user in enumerate(final_train_set['user_id'].unique())}\n",
        "item_map = {item: i for i, item in enumerate(final_train_set['parent_asin'].unique())}\n",
        "\n",
        "final_train_set['user_idx'] = final_train_set['user_id'].map(user_map)\n",
        "final_train_set['item_idx'] = final_train_set['parent_asin'].map(item_map)\n",
        "final_test_set['user_idx'] = final_test_set['user_id'].map(user_map)\n",
        "final_test_set['item_idx'] = final_test_set['parent_asin'].map(item_map)\n",
        "\n",
        "\n",
        "user_item_matrix = coo_matrix(\n",
        "    (final_train_set['label'], (final_train_set['user_idx'], final_train_set['item_idx']))\n",
        ")\n",
        "user_item_matrix = user_item_matrix.tocsr()\n",
        "\n",
        "reverse_item_map = {v: k for k, v in item_map.items()}"
      ]
    },
    {
      "cell_type": "markdown",
      "metadata": {
        "id": "8hb-7UrK6b4V"
      },
      "source": [
        "### **ALS Without Negative Samples**"
      ]
    },
    {
      "cell_type": "code",
      "execution_count": null,
      "metadata": {
        "colab": {
          "base_uri": "https://localhost:8080/",
          "height": 175,
          "referenced_widgets": [
            "b101709fd7ca43ab90f97979cd116ed2",
            "3d6e0d0ae1904d9aaa2734b0bbde96bf",
            "2df320dea6144166acd636fc72732611",
            "7dfe5f9ae25c431b9bfc6e286bade34d",
            "78a56460ace244609e3637277ac597d3",
            "3fe99a6cb54245829ff6b5c877350f6c",
            "e09e8cb05088469d9f33d848537379fe",
            "d70173f75fc94b279d6c5002e4d327b4",
            "b2830ab359fc47d9b020e4a54b1e81e7",
            "f18830a8058548ef89191b8de4576889",
            "66db852bfc124b649f6a38f1e7a0152e"
          ]
        },
        "id": "Uu3O-Sxk6vI9",
        "outputId": "bc84b4d0-6f12-41d3-9432-5311963369d7"
      },
      "outputs": [],
      "source": [
        "from implicit.als import AlternatingLeastSquares\n",
        "\n",
        "start_time = time.time()\n",
        "als_model = AlternatingLeastSquares(factors=50, regularization=0.1, iterations=15)\n",
        "als_model.fit(user_item_matrix)\n",
        "als_without_N_results = evaluate_model(als_model, test_set, user_map, item_map, k=10)\n",
        "end_time = time.time()\n",
        "runtime_als_without_N = round(end_time - start_time, 2)\n",
        "\n",
        "model_results[\"ALS Without Negative Samples\"] = {\n",
        "    \"Hit Rate@K\": als_without_N_results[\"Hit Rate@K\"],\n",
        "    \"Precision@K\": als_without_N_results[\"Precision@K\"],\n",
        "    \"NDCG@K\": als_without_N_results[\"NDCG@K\"],\n",
        "    \"MAP@K\": als_without_N_results[\"MAP@K\"],\n",
        "    \"Runtime (s)\": runtime_als_without_N\n",
        "}\n",
        "\n",
        "model_name = \"ALS Without Negative Samples\"\n",
        "\n",
        "print(f\"\\n🔹 {model_name} Results:\")\n",
        "for metric, value in model_results[model_name].items():\n",
        "  print(f\"  {metric}: {value}\")"
      ]
    },
    {
      "cell_type": "markdown",
      "metadata": {
        "id": "70c7ln1i7k5I"
      },
      "source": [
        "### **BPR Without Negative Samples**"
      ]
    },
    {
      "cell_type": "code",
      "execution_count": null,
      "metadata": {
        "colab": {
          "base_uri": "https://localhost:8080/",
          "height": 175,
          "referenced_widgets": [
            "73892963e64c47579fe38eba3f904c57",
            "fe0239d907a2498f8d12e11e4fdcc479",
            "ec7499335f5e41d0be894ec02acee840",
            "7061b48426e1410db1b9577bcc82dbab",
            "f75640dec5a7496f9632e375f7f249bc",
            "29b5b303af1248b5a7bb67fb97174ae2",
            "20f9ba0a0fc24d1fa129bc9ea31efca3",
            "d9e4d60ff6d641c9a2d737363ae8fdcb",
            "e6620f8a2d2d4616830d4aefb74e3d37",
            "adef29d7d6a4467cb1e728e8d78fa993",
            "b908e53a71824e23a99e6be335aaf7f4"
          ]
        },
        "id": "K254ZwKM7u2I",
        "outputId": "73925d94-f04f-46b9-f33a-d7949867d51b"
      },
      "outputs": [],
      "source": [
        "from implicit.bpr import BayesianPersonalizedRanking\n",
        "from implicit.als import AlternatingLeastSquares\n",
        "\n",
        "start_time = time.time()\n",
        "bpr_model = BayesianPersonalizedRanking(factors=200, learning_rate=0.05, regularization=0.05, iterations=150)\n",
        "bpr_model.fit(user_item_matrix)\n",
        "bpr_without_N_results = evaluate_model(bpr_model, final_test_set, user_map, item_map, k=10)\n",
        "end_time = time.time()\n",
        "runtime_bpr_without_N = round(end_time - start_time, 2)\n",
        "\n",
        "model_results[\"BPR Without Negative Samples\"] = {\n",
        "    \"Hit Rate@K\": bpr_without_N_results[\"Hit Rate@K\"],\n",
        "    \"Precision@K\": bpr_without_N_results[\"Precision@K\"],\n",
        "    \"NDCG@K\": bpr_without_N_results[\"NDCG@K\"],\n",
        "    \"MAP@K\": bpr_without_N_results[\"MAP@K\"],\n",
        "    \"Runtime (s)\": runtime_bpr_without_N\n",
        "}\n",
        "\n",
        "model_name = \"BPR Without Negative Samples\"\n",
        "\n",
        "print(f\"\\n🔹 {model_name} Results:\")\n",
        "for metric, value in model_results[model_name].items():\n",
        "  print(f\"  {metric}: {value}\")"
      ]
    },
    {
      "cell_type": "markdown",
      "metadata": {
        "id": "F0ZySuN-8e5t"
      },
      "source": [
        "We see an improvement over both models without negative sampling, while this time  we observe contrasting effects on the two models.\n",
        "\n",
        "**ALS** has shown a slight increase accross all metrics suggesting that it still preform well and that our could indicate our negative sampling tactic could be improved as it didnt lead to the increase in results we aimed for, its runtime decrease as expected when using far less examples.\n",
        "\n",
        "We conclude that **ALS** does not rely heavily on negative sampling, and its effectiveness remains stable regardless of whether we introduce artificial negatives.\n",
        "\n",
        "On the contrast weve seen a significant with the **BPR** model withou negative samples, as Hit Rate jumped from 0.2359 to 0.3796, while Precision and NDCG increased notably. runtime decreased as well, again as expected, and MAP also improved, indicating that removing negative samples led to more relevant top-ranked recommendations.\n",
        "\n",
        "we can conclude from this that the BPR model can generalize and detact implicit data much better for our data by its own than with our negative sampling approach\n",
        "\n",
        "These results are better understood when taking into consideration of ALS and BPR models, where ALS doesnt naturally require negative samples and will consider all other relationships not found as missing data and not regard them. While BPR does require negative samples (as it uses pairwise comparisions for ranking) but when not provided will move to try and interpret implicit relationships of unseen examples.\n",
        "\n",
        "it is evident that bpr is managing to capture these implicit relations much better than with our provided examples.\n",
        "\n",
        "To this point our **BPR Without Negative Samples** model has shown the best results\n"
      ]
    },
    {
      "cell_type": "markdown",
      "metadata": {
        "id": "a6fjl7e4A586"
      },
      "source": [
        "We observe an improvement in both models when trained without negative sampling, but with contrasting effects on their performance.\n",
        "\n",
        "**ALS** showed a small but consistent increase across all metrics, suggesting that it performs well even without explicit negative samples. This indicates that our negative sampling strategy may not have been optimal, as it failed to improve performance over the baseline model.\n",
        "\n",
        "Additionally, the runtime decreased as expected due to the reduced number of training examples.\n",
        "\n",
        "In conclusion **ALS** does not rely on negative sampling for learning and remains effective even when trained purely on positive interactions.\n",
        "\n",
        "In contrast, **BPR** experienced a significant boost in performance. Hit Rate increased dramatically from 0.2359 → 0.3796, Precision and NDCG improved notably, showing that BPR ranked relevant games higher. MAP also improved, meaning more relevant recommendations appeared earlier in the ranked list, and runtime decreased, again as expected reinforcing that negative sampling introduced unnecessary complexity.\n",
        "\n",
        "in conclusion **BPR** learned implicit preferences better without negative samples.\n",
        "\n",
        "These results are better understood when taking into consideration of **ALS** and **BPR** works.\n",
        "\n",
        "**ALS** does not inherently require negative samples, treating unobserved interactions as missing data rather than explicit negatives. This makes it robust even without negative sampling.\n",
        "\n",
        "**BPR**, on the other hand, is designed for pairwise ranking, where it learns to rank positive interactions higher than negative ones. However, in this case, **BPR** managed to infer negative relationships implicitly, performing better without artificial negatives than with them\n",
        "\n",
        "This suggests that **BPR** is highly capable of capturing implicit user-game relationships naturally and that our negative sampling strategy may have introduced noise rather than improving learning.\n",
        "\n",
        "To this point our **BPR Without Negative Samples** model has shown the best results"
      ]
    },
    {
      "cell_type": "markdown",
      "metadata": {
        "id": "InYeVnI1CTer"
      },
      "source": [
        "Now, we will attempt to combine the strengths of both models that have achieved the best results so far. Our goal is to create a hybrid model that leverages the advantages of ALS and BPR to further improve recommendation accuracy and ranking quality. By integrating these models, we aim to outperform both individually and achieve a more effective recommendation system."
      ]
    },
    {
      "cell_type": "code",
      "execution_count": null,
      "metadata": {
        "id": "I8DSeaBf7Gda"
      },
      "outputs": [],
      "source": [
        "final_train_set = train_set.copy()\n",
        "final_train_set[\"label\"] = 1\n",
        "\n",
        "final_test_set = test_set.copy()\n",
        "final_test_set[\"label\"] = 1\n"
      ]
    },
    {
      "cell_type": "code",
      "execution_count": null,
      "metadata": {
        "id": "YMFlJFuSDz_i"
      },
      "outputs": [],
      "source": [
        "from scipy.sparse import coo_matrix\n",
        "\n",
        "\n",
        "user_map = {user: i for i, user in enumerate(final_train_set['user_id'].unique())}\n",
        "item_map = {item: i for i, item in enumerate(final_train_set['parent_asin'].unique())}\n",
        "\n",
        "final_train_set['user_idx'] = final_train_set['user_id'].map(user_map)\n",
        "final_train_set['item_idx'] = final_train_set['parent_asin'].map(item_map)\n",
        "final_test_set['user_idx'] = final_test_set['user_id'].map(user_map)\n",
        "final_test_set['item_idx'] = final_test_set['parent_asin'].map(item_map)\n",
        "\n",
        "\n",
        "user_item_matrix = coo_matrix(\n",
        "    (final_train_set['label'], (final_train_set['user_idx'], final_train_set['item_idx']))\n",
        ")\n",
        "user_item_matrix = user_item_matrix.tocsr()\n",
        "\n",
        "reverse_item_map = {v: k for k, v in item_map.items()}"
      ]
    },
    {
      "cell_type": "code",
      "execution_count": null,
      "metadata": {
        "id": "uE0VKOlGD1dF"
      },
      "outputs": [],
      "source": [
        "import numpy as np\n",
        "\n",
        "def hybrid_recommendation(user_id, als_model, bpr_model, user_map, item_map, reverse_item_map, k=10, alpha=0.5):\n",
        "\n",
        "    if user_id not in user_map:\n",
        "        return []\n",
        "\n",
        "    user_idx = user_map[user_id]\n",
        "\n",
        "    recommended_items, scores = als_model.recommend(user_idx, user_item_matrix[user_idx], N=len(item_map))\n",
        "    als_scores = {item: score for item, score in zip(recommended_items, scores)}\n",
        "\n",
        "\n",
        "    user_factors = bpr_model.user_factors[user_idx]\n",
        "    item_factors = bpr_model.item_factors\n",
        "    bpr_scores = {item_idx: np.dot(user_factors, item_factors[item_idx]) for item_idx in item_map.values()}\n",
        "\n",
        "    # Combine scores using weighted averaging\n",
        "    hybrid_scores = {}\n",
        "    for item in item_map.values():\n",
        "        als_score = als_scores.get(item, 0)\n",
        "        bpr_score = bpr_scores.get(item, 0)\n",
        "        hybrid_scores[item] = alpha * als_score + (1 - alpha) * bpr_score\n",
        "\n",
        "    # Get top-K recommended items\n",
        "    sorted_items = sorted(hybrid_scores.items(), key=lambda x: x[1], reverse=True)\n",
        "    top_k_items = [reverse_item_map[item] for item, _ in sorted_items[:k]]\n",
        "\n",
        "    return top_k_items\n",
        "\n",
        "\n"
      ]
    },
    {
      "cell_type": "code",
      "execution_count": null,
      "metadata": {
        "id": "A6DUpEPtD27Y"
      },
      "outputs": [],
      "source": [
        "def evaluate_hybrid_model(test_set, als_model, bpr_model, user_map, item_map, reverse_item_map, k=10, alpha=0.8):\n",
        "\n",
        "    hit_count = 0\n",
        "    total_users = len(test_set['user_id'].unique())\n",
        "\n",
        "    recall_scores = []\n",
        "    precision_scores = []\n",
        "    ndcg_scores = []\n",
        "    average_precisions = []\n",
        "\n",
        "    user_true_games = test_set.groupby(\"user_id\")[\"parent_asin\"].apply(set).to_dict()\n",
        "\n",
        "    for user_id, true_games in user_true_games.items():\n",
        "        if user_id in user_map:\n",
        "            recommended_games = hybrid_recommendation(user_id, als_model, bpr_model, user_map, item_map, reverse_item_map, k, alpha)\n",
        "\n",
        "            relevant_count = sum(1 for game in recommended_games if game in true_games)\n",
        "            total_true_items = len(true_games)\n",
        "\n",
        "            hit = 1 if relevant_count > 0 else 0\n",
        "            hit_count += hit\n",
        "\n",
        "            effective_k = min(k, total_true_items)\n",
        "            precision_at_k = relevant_count / effective_k if effective_k > 0 else 0\n",
        "            precision_scores.append(precision_at_k)\n",
        "\n",
        "            relevance = np.array([1 if game in true_games else 0 for game in recommended_games])\n",
        "            ideal_dcg = sum(1 / np.log2(i + 2) for i in range(min(len(true_games), k)))\n",
        "            dcg = sum(1 / np.log2(i + 2) if game in true_games else 0 for i, game in enumerate(recommended_games[:k]))\n",
        "            ndcg_at_k = dcg / ideal_dcg if ideal_dcg > 0 else 0\n",
        "            ndcg_scores.append(ndcg_at_k)\n",
        "\n",
        "            relevant_items = [1 if game in true_games else 0 for game in recommended_games]\n",
        "            if sum(relevant_items) > 0:\n",
        "                precision_at_ranks = [\n",
        "                    sum(relevant_items[:i + 1]) / (i + 1) for i in range(len(relevant_items)) if relevant_items[i] == 1\n",
        "                ]\n",
        "                ap_at_k = np.mean(precision_at_ranks) if precision_at_ranks else 0\n",
        "            else:\n",
        "                ap_at_k = 0\n",
        "\n",
        "            average_precisions.append(ap_at_k)\n",
        "\n",
        "    hit_rate = hit_count / total_users\n",
        "    precision_at_k = np.mean(precision_scores)\n",
        "    ndcg_at_k = np.mean(ndcg_scores) if ndcg_scores else 0\n",
        "    map_at_k = np.mean(average_precisions) if average_precisions else 0\n",
        "\n",
        "    return {\n",
        "        'Hit Rate@K': round(hit_rate, 4),\n",
        "        'Precision@K': round(precision_at_k, 4),\n",
        "        'NDCG@K': round(ndcg_at_k, 4),\n",
        "        'MAP@K': round(map_at_k, 4)\n",
        "    }\n",
        "\n"
      ]
    },
    {
      "cell_type": "markdown",
      "metadata": {
        "id": "uKb5AKmFRFJC"
      },
      "source": [
        "And after combined fine tune on the models together we achived:"
      ]
    },
    {
      "cell_type": "code",
      "execution_count": null,
      "metadata": {
        "colab": {
          "base_uri": "https://localhost:8080/",
          "height": 207,
          "referenced_widgets": [
            "cd8718db953d42559697494df78b2bb6",
            "7cae92f6ee0c41cba36a6da7d5d3d285",
            "586e8eb6d59945c19ca21a1d63937156",
            "d9a43560c09e4160aba6fc7aaec91f10",
            "c968bf10bf0241309e8663a099b5f81d",
            "fe5bfa57aa174ef5b1a5e9d6717888f2",
            "641010b38ab1403ebea6622b54e82809",
            "c53bbd7bcd1841ea93eea7dc5c208cce",
            "2136a7837ccb4f66bee77dcf62d4a7cd",
            "823ef995d84d41ca8d0d72241488bd04",
            "cf77b0505ef845b68fbbb1a0ccdfeff2",
            "5e7753dc1dd74916a951b8281a9b29cb",
            "e21562d50de1494c9256e65d2831c1c0",
            "b7f0a3112e074b2f825adb8f14f732c5",
            "d949895a2fd948a5b2487a740bcf3443",
            "5f5a4f61d4794fa8acf1be43e71f7214",
            "7e219817b2fc47038a923dfc1dc2a054",
            "0ef5d93006904a32a54ca73e44ee5261",
            "c3f613830e50437d8d4bd0dd15dcea8e",
            "64608d18155a430d8379fbca48f9acaa",
            "c9db5cf43b0547bebeb3a1d435b836dd",
            "1f32eb8a35474a3c9fa566c59a94e7b3"
          ]
        },
        "id": "3K86lDcZD6XP",
        "outputId": "9b7cc798-d1f2-40a5-b690-846332395ce6"
      },
      "outputs": [],
      "source": [
        "from implicit.bpr import BayesianPersonalizedRanking\n",
        "from implicit.als import AlternatingLeastSquares\n",
        "\n",
        "start_time = time.time()\n",
        "# ALS part\n",
        "als_model = AlternatingLeastSquares(factors=16, regularization=0.01, iterations=50)\n",
        "als_model.fit(user_item_matrix)\n",
        "\n",
        "# BPR part\n",
        "bpr_model = BayesianPersonalizedRanking(factors=200, learning_rate=0.05, regularization=0.05, iterations=200)\n",
        "bpr_model.fit(user_item_matrix)\n",
        "\n",
        "hybrid_results = evaluate_hybrid_model(final_test_set, als_model, bpr_model, user_map, item_map, reverse_item_map, k=10, alpha=0.5)\n",
        "end_time = time.time()\n",
        "runtime_hybrid_als_and_bpr = round(end_time - start_time, 2)\n",
        "\n",
        "model_results[\"Hybrid ALS & BPR\"] = {\n",
        "    \"Hit Rate@K\": hybrid_results[\"Hit Rate@K\"],\n",
        "    \"Precision@K\": hybrid_results[\"Precision@K\"],\n",
        "    \"NDCG@K\": hybrid_results[\"NDCG@K\"],\n",
        "    \"MAP@K\": hybrid_results[\"MAP@K\"],\n",
        "    \"Runtime (s)\": runtime_hybrid_als_and_bpr\n",
        "}\n",
        "\n",
        "model_name = \"Hybrid ALS & BPR\"\n",
        "\n",
        "print(f\"\\n🔹 {model_name} Results:\")\n",
        "for metric, value in model_results[model_name].items():\n",
        "  print(f\"  {metric}: {value}\")\n",
        "\n"
      ]
    },
    {
      "cell_type": "markdown",
      "metadata": {
        "id": "EwpfzawyR_B-"
      },
      "source": [
        "We successfully combined ALS (Alternating Least Squares) and BPR (Bayesian Personalized Ranking) into a hybrid recommendation model, and the results show improvement over individual models.\n",
        "\n",
        "\n",
        "Significant improvement over ALS alone, as Hit Rate and Precision increased significantly. And stronger overall preformences than BPR alone, as Hit Rate slightly improved over BPR, showing a better balance in ranking. And MAP also improved, confirming that the hybrid model prioritizes relevant recommendations more effectively.\n",
        "\n",
        "But not all metrics shown improvement as NDCG dropped slightly, meaning the model isn't ranking the most relevant items as optimally as BPR alone. And unsupprisingly the model takes more time to compute compare to each model alone but also compare to the two of them together.\n",
        "\n",
        "Eventually this is the best preforming model so far and we will look for exploring models in the Matrix Factorization family."
      ]
    },
    {
      "cell_type": "markdown",
      "metadata": {
        "id": "vTvH3UnCYDyC"
      },
      "source": [
        "We successfully combined **ALS** and **BPR** into a hybrid recommendation model, demonstrating improvements over each individual approach.\n",
        "\n",
        "The hybrid model significantly outperforms ALS alone, with notable gains in Hit Rate and Precision. Additionally, it outperforms BPR alone by achieving a better balance between ranking and coverage, leading to an overall more effective recommendation system. The increase in MAP further confirms that the hybrid model prioritizes relevant recommendations more effectively than either model alone.\n",
        "\n",
        "However, not all metrics improved. NDCG dropped slightly, indicating that while the model increases the number of correct recommendations, it doesn't rank them as optimally as BPR alone. The hybrid model takes longer to compute, as expected, given the increased complexity compared to each model individually. The runtime is even higher than the sum of both models.\n",
        "\n",
        "Ultimately, this hybrid model is the best-performing approach so far. Given its success, our next step will be to further explore models within the Matrix Factorization family."
      ]
    },
    {
      "cell_type": "markdown",
      "metadata": {
        "id": "j6G_WveNMevt"
      },
      "source": [
        "## **WALS**"
      ]
    },
    {
      "cell_type": "markdown",
      "metadata": {
        "id": "8nzMKmS0ZGun"
      },
      "source": [
        "**Weighted Alternating Least Squares (WALS)** is an improved version of **ALS (Alternating Least Squares)** that is specifically designed to handle highly sparse implicit feedback datasets like ours. Unlike standard ALS, WALS assigns different weights to observed and unobserved interactions, allowing it to better handle missing data and reduce bias introduced by the absence of explicit negative feedback."
      ]
    },
    {
      "cell_type": "code",
      "execution_count": null,
      "metadata": {
        "colab": {
          "base_uri": "https://localhost:8080/"
        },
        "id": "mq-mL6GJMhRj",
        "outputId": "eeb82bbf-12a8-4e04-d8ba-2448c3c28d32"
      },
      "outputs": [],
      "source": [
        "import implicit\n",
        "import numpy as np\n",
        "import scipy.sparse as sp\n",
        "\n",
        "user_mapping = {user: idx for idx, user in enumerate(train_set[\"user_id\"].unique())}\n",
        "item_mapping = {item: idx for idx, item in enumerate(train_set[\"parent_asin\"].unique())}\n",
        "\n",
        "train_user_indices = train_set[\"user_id\"].map(user_mapping).values\n",
        "train_item_indices = train_set[\"parent_asin\"].map(item_mapping).values\n",
        "train_ratings = train_set[\"adjusted_rating\"].values  # Use adjusted rating as weight\n",
        "\n",
        "interaction_matrix = sp.csr_matrix(\n",
        "    (train_ratings, (train_user_indices, train_item_indices)),\n",
        "    shape=(len(user_mapping), len(item_mapping))\n",
        ")\n",
        "\n",
        "print(f\"Interaction Matrix Shape: {interaction_matrix.shape}\")"
      ]
    },
    {
      "cell_type": "code",
      "execution_count": null,
      "metadata": {
        "id": "xPXOFxv2MpIN"
      },
      "outputs": [],
      "source": [
        "def recommend_wals(user_id, model, top_k=10):\n",
        "    \"\"\"\n",
        "    Recommend games for a given user using the trained WALS model.\n",
        "    \"\"\"\n",
        "    if user_id not in user_mapping:\n",
        "        return []\n",
        "\n",
        "    user_idx = user_mapping[user_id]\n",
        "    user_interactions = interaction_matrix[user_idx]\n",
        "    recommended_item_ids, _ = model.recommend(user_idx, user_interactions, N=top_k)\n",
        "    recommended_games = [list(item_mapping.keys())[list(item_mapping.values()).index(idx)] for idx in recommended_item_ids]\n",
        "\n",
        "    return recommended_games"
      ]
    },
    {
      "cell_type": "code",
      "execution_count": null,
      "metadata": {
        "colab": {
          "base_uri": "https://localhost:8080/",
          "height": 175,
          "referenced_widgets": [
            "7ccd2c34c9084326b6fc6c43bbde9d17",
            "8249ddd205f44ba19e324115202420b7",
            "b11ea3f4ea8b4f4ca83b8601f448f3ce",
            "b40c3c15e56349128dad57b878a02273",
            "2700be5a01ca492db678a802f4932480",
            "73be8cdd3e7e481c9459a3d41057bc58",
            "28c48a34e2c049238f471d7401b62585",
            "3bf4123a8fac4dca9e9b718034c2ffcd",
            "9da0ad627fb54e6cafdf994dd525f12c",
            "56fabcbe9e684b1088bc358eefd19084",
            "57d3d789180f4c0b90ba5c34f120ef49"
          ]
        },
        "id": "KzcFIiyMTK_E",
        "outputId": "3dbcb0e4-c0af-46b7-9c02-f00947e092eb"
      },
      "outputs": [],
      "source": [
        "import implicit\n",
        "\n",
        "start_time = time.time()\n",
        "wals_model = implicit.als.AlternatingLeastSquares(\n",
        "    factors=16,\n",
        "    regularization=0.05,\n",
        "    iterations=100,\n",
        ")\n",
        "\n",
        "wals_model.fit(interaction_matrix)\n",
        "wals_results = evaluate_model(wals_model, test_set, user_map, item_map, k=10)\n",
        "end_time = time.time()\n",
        "runtime_wals = round(end_time - start_time, 2)\n",
        "\n",
        "model_results[\"WALS\"] = {\n",
        "    \"Hit Rate@K\": wals_results[\"Hit Rate@K\"],\n",
        "    \"Precision@K\": wals_results[\"Precision@K\"],\n",
        "    \"NDCG@K\": wals_results[\"NDCG@K\"],\n",
        "    \"MAP@K\": wals_results[\"MAP@K\"],\n",
        "    \"Runtime (s)\": runtime_wals\n",
        "}\n",
        "\n",
        "model_name = \"WALS\"\n",
        "\n",
        "print(f\"\\n🔹 {model_name} Results:\")\n",
        "for metric, value in model_results[model_name].items():\n",
        "  print(f\"  {metric}: {value}\")"
      ]
    },
    {
      "cell_type": "markdown",
      "metadata": {
        "id": "Dun8PZQ0Zf9f"
      },
      "source": [
        "Implementing Weighted Alternating Least Squares (WALS) has resulted in a notable improvement over standard ALS, making it the best-performing model so far across multiple evaluation metrics.\n",
        "\n",
        "we see an increase of roughly 30% across all metrics from als to wals, with runtime that is twice as fast. Clearly WALS approach of handling missing data has concluded in much stronger model with WALS:\n",
        "\n",
        "* Adjusts regularization dynamically, leading to better generalization, whereas ALS can overfit on sparse data.\n",
        "\n",
        "* Weights missing interactions adaptively, reducing bias. Unlike ALS, which treats all unobserved interactions equally.\n",
        "\n",
        "\n",
        "WALS has outperformed ALS in every metric, proving to be a more efficient, accurate, and scalable matrix factorization model for our sparse dataset. but more than that he outpreformed all models we implemented thus far and stands as our best model yet on all existing metrics."
      ]
    },
    {
      "cell_type": "markdown",
      "metadata": {
        "id": "GuucV2V0b7mN"
      },
      "source": [
        "Implementing **Weighted Alternating Least Squares (WALS)** has led to a significant improvement over standard **ALS**, making it the best-performing model across all evaluation metrics so far.\n",
        "\n",
        "We observe an increase of approximately 30% across all key metrics compared to ALS, while also achieving twice the speed in runtime. This highlights how WALS's adaptive handling of missing data results in a much stronger model.\n",
        "\n",
        "WALS improvement compare to standard ALS can be contributed to:\n",
        "\n",
        "* **Better Generalization**: WALS dynamically adjusts regularization, preventing overfitting, whereas ALS can struggle with sparse data.\n",
        "\n",
        "* **Reduced Bias in Missing Data**: Unlike ALS, which treats all unobserved interactions equally, WALS weighs missing interactions adaptively, leading to more accurate predictions.\n",
        "\n",
        "Not only has WALS outperformed ALS in every metric, but it has also outperformed all previously implemented models, establishing itself as the strongest model so far in terms of efficiency, accuracy, and ranking effectiveness."
      ]
    },
    {
      "cell_type": "markdown",
      "metadata": {
        "id": "2CskW3fzdm9y"
      },
      "source": [
        "Next we move to explore Collabrative filtering models."
      ]
    },
    {
      "cell_type": "markdown",
      "metadata": {
        "id": "I_Tah1fUe02E"
      },
      "source": [
        "## **Collaborative Filtering Models**"
      ]
    },
    {
      "cell_type": "markdown",
      "metadata": {
        "id": "BEcZZq4LfRVH"
      },
      "source": [
        "In this section we would want to explore collaborative filtering models, with item-based, user-based and hybrid models combining them both, and try to add additional content to further improve them.\n",
        "\n",
        "Well use **k-Nearest Neighbors (kNN)**-based recommendation approach, leveraging similarity-based filtering to generate personalized game recommendations. kNN operates by identifying similar items or users based on predefined similarity metrics, allowing us to make recommendations by extrapolating preferences from similar entities.\n",
        "\n",
        "By implementing item-based, user-based, and hybrid kNN models, we aim to determine the most effective approach for leveraging interaction patterns and content-based relationships to enhance recommendation accuracy."
      ]
    },
    {
      "cell_type": "markdown",
      "metadata": {
        "id": "RtCm3vWdgcBH"
      },
      "source": [
        "Initially, our experiments revealed that incorporating metadata features could enhance the performance of our item-based model. Based on this insight, we integrated item metadata embeddings into our item similarity calculations, aiming to improve recommendation accuracy by leveraging additional content-based information."
      ]
    },
    {
      "cell_type": "code",
      "execution_count": null,
      "metadata": {
        "id": "k5xzNnFPgdB6"
      },
      "outputs": [],
      "source": [
        "from sklearn.preprocessing import normalize\n",
        "from sklearn.metrics.pairwise import cosine_similarity\n",
        "import numpy as np\n",
        "import pandas as pd\n",
        "\n",
        "# Convert all embeddings to NumPy arrays\n",
        "for col in [\"title_embeddings\", \"features_embeddings\", \"description_embeddings\"]:\n",
        "    filtered_meta[col] = filtered_meta[col].apply(lambda x: np.array(eval(x)) if isinstance(x, str) else np.array(x))\n",
        "\n",
        "# Stack all embeddings into a single feature matrix per game\n",
        "game_embeddings = np.hstack([\n",
        "    np.vstack(filtered_meta[\"title_embeddings\"].values),\n",
        "    np.vstack(filtered_meta[\"features_embeddings\"].values),\n",
        "    np.vstack(filtered_meta[\"description_embeddings\"].values)\n",
        "])\n",
        "\n",
        "# Normalize vectors\n",
        "game_embeddings_normalized = normalize(game_embeddings)\n",
        "feature_similarity_matrix = cosine_similarity(game_embeddings_normalized)\n",
        "\n",
        "feature_similarity_df = pd.DataFrame(\n",
        "    feature_similarity_matrix,\n",
        "    index=filtered_meta[\"parent_asin\"],\n",
        "    columns=filtered_meta[\"parent_asin\"]\n",
        ")"
      ]
    },
    {
      "cell_type": "code",
      "execution_count": null,
      "metadata": {
        "id": "gDfLeKoPgvC-"
      },
      "outputs": [],
      "source": [
        "from scipy.sparse import csr_matrix\n",
        "\n",
        "user_item_matrix = train_set.pivot_table(\n",
        "    index=\"user_id\", columns=\"parent_asin\", values=\"adjusted_rating\", fill_value=0\n",
        ")\n",
        "\n",
        "user_item_matrix_sentiment = train_set.pivot_table(\n",
        "    index=\"user_id\", columns=\"parent_asin\",\n",
        "    values=\"scaled_sentiment\", fill_value=0  # Use sentiment scores instead of ratings\n",
        ")\n",
        "\n",
        "# Convert the matrix to float32\n",
        "user_item_matrix = user_item_matrix.astype(\"float32\")\n",
        "sparse_user_item = csr_matrix(user_item_matrix.values)"
      ]
    },
    {
      "cell_type": "code",
      "execution_count": null,
      "metadata": {
        "id": "wteGVix7hGgj"
      },
      "outputs": [],
      "source": [
        "from collections import defaultdict\n",
        "import numpy as np\n",
        "from sklearn.metrics import ndcg_score\n",
        "\n",
        "def evaluate_recommendation_model(recommendations, test_set, k=10):\n",
        "\n",
        "    hit_count = 0\n",
        "    total_users = len(test_set['user_id'].unique())\n",
        "\n",
        "    precision_scores = []\n",
        "    ndcg_scores = []\n",
        "    average_precisions = []\n",
        "\n",
        "    user_true_games = test_set.groupby(\"user_id\")[\"parent_asin\"].apply(set).to_dict()\n",
        "\n",
        "    for user_id, true_games in user_true_games.items():\n",
        "        if user_id in recommendations:\n",
        "            recommended_games = recommendations[user_id][:k]\n",
        "\n",
        "            relevant_count = sum(1 for game in recommended_games if game in true_games)\n",
        "            total_true_items = len(true_games)\n",
        "\n",
        "            hit = 1 if relevant_count > 0 else 0\n",
        "            hit_count += hit\n",
        "\n",
        "            effective_k = min(k, total_true_items)\n",
        "            precision_at_k = relevant_count / effective_k if effective_k > 0 else 0\n",
        "            precision_scores.append(precision_at_k)\n",
        "\n",
        "            relevance = np.array([1 if game in true_games else 0 for game in recommended_games])\n",
        "            ndcg = ndcg_score([relevance], [np.arange(len(relevance), 0, -1)]) if np.any(relevance) else 0\n",
        "            ndcg_scores.append(ndcg)\n",
        "\n",
        "            relevant_items = [1 if game in true_games else 0 for game in recommended_games]\n",
        "            if sum(relevant_items) > 0:\n",
        "                precision_at_ranks = [\n",
        "                    sum(relevant_items[:i + 1]) / (i + 1) for i in range(len(relevant_items)) if relevant_items[i] == 1\n",
        "                ]\n",
        "                ap_at_k = np.mean(precision_at_ranks) if precision_at_ranks else 0\n",
        "            else:\n",
        "                ap_at_k = 0\n",
        "\n",
        "            average_precisions.append(ap_at_k)\n",
        "\n",
        "    hit_rate = hit_count / total_users\n",
        "    precision_at_k = np.mean(precision_scores)\n",
        "    ndcg_at_k = np.mean(ndcg_scores) if ndcg_scores else 0\n",
        "    map_at_k = np.mean(average_precisions) if average_precisions else 0\n",
        "\n",
        "    return {\n",
        "        'Hit Rate@K': round(hit_rate, 4),\n",
        "        'Precision@K': round(precision_at_k, 4),\n",
        "        'NDCG@K': round(ndcg_at_k, 4),\n",
        "        'MAP@K': round(map_at_k, 4)\n",
        "    }"
      ]
    },
    {
      "cell_type": "markdown",
      "metadata": {
        "id": "7-EIzqAtgv4b"
      },
      "source": [
        "###Item-Based Collaborative Filtering"
      ]
    },
    {
      "cell_type": "code",
      "execution_count": null,
      "metadata": {
        "id": "T8iBy0bUg--y"
      },
      "outputs": [],
      "source": [
        "from sklearn.metrics.pairwise import cosine_similarity\n",
        "\n",
        "# Compute cosine similarity between items\n",
        "item_similarity = cosine_similarity(sparse_user_item.T)\n",
        "item_similarity_df = pd.DataFrame(item_similarity,\n",
        "                                  index=user_item_matrix.columns,\n",
        "                                  columns=user_item_matrix.columns)"
      ]
    },
    {
      "cell_type": "code",
      "execution_count": null,
      "metadata": {
        "id": "H3wLXZZDhDPY"
      },
      "outputs": [],
      "source": [
        "import numpy as np\n",
        "import pandas as pd\n",
        "\n",
        "def recommend_games_item(user_id, user_item_matrix, item_similarity_df, top_n=10):\n",
        "    \"\"\"\n",
        "    Recommend games for a user based on item-based collaborative filtering.\n",
        "    Uses the item similarity matrix to compute scores.\n",
        "    \"\"\"\n",
        "    if user_id not in user_item_matrix.index:\n",
        "        return []\n",
        "\n",
        "    user_ratings = user_item_matrix.loc[user_id]\n",
        "    interacted_games = user_ratings[user_ratings > 0].index.tolist()\n",
        "\n",
        "    game_scores = np.dot(item_similarity_df.loc[interacted_games].T, user_ratings[interacted_games])\n",
        "    game_scores = pd.Series(game_scores, index=item_similarity_df.index)\n",
        "    recommended_games = game_scores.sort_values(ascending=False).index.tolist()\n",
        "\n",
        "    return recommended_games[:top_n]"
      ]
    },
    {
      "cell_type": "code",
      "execution_count": null,
      "metadata": {
        "colab": {
          "base_uri": "https://localhost:8080/"
        },
        "id": "cZhiExEnmoKe",
        "outputId": "d21e6de1-3005-42cf-8c1e-b385b2a8742a"
      },
      "outputs": [],
      "source": [
        "start_time = time.time()\n",
        "\n",
        "user_recommendations_item = {\n",
        "    user: recommend_games_item(user, user_item_matrix, item_similarity_df)\n",
        "    for user in test_set[\"user_id\"].unique()\n",
        "}\n",
        "\n",
        "item_based_results = evaluate_recommendation_model(user_recommendations_item, test_set)\n",
        "end_time = time.time()\n",
        "runtime_item_based = round(end_time - start_time, 2)\n",
        "\n",
        "model_results[\"Item-Based Collaborative Filtering\"] = {\n",
        "    \"Hit Rate@K\": item_based_results[\"Hit Rate@K\"],\n",
        "    \"Precision@K\": item_based_results[\"Precision@K\"],\n",
        "    \"NDCG@K\": item_based_results[\"NDCG@K\"],\n",
        "    \"MAP@K\": item_based_results[\"MAP@K\"],\n",
        "    \"Runtime (s)\": runtime_item_based\n",
        "}\n",
        "\n",
        "model_name = \"Item-Based Collaborative Filtering\"\n",
        "\n",
        "print(f\"\\n🔹 {model_name} Results:\")\n",
        "for metric, value in model_results[model_name].items():\n",
        "  print(f\"  {metric}: {value}\")"
      ]
    },
    {
      "cell_type": "markdown",
      "metadata": {
        "id": "A1EOncPOjdkm"
      },
      "source": [
        "### User-Based Collaborative Filtering"
      ]
    },
    {
      "cell_type": "code",
      "execution_count": null,
      "metadata": {
        "id": "4gABDvLPj9AG"
      },
      "outputs": [],
      "source": [
        "# Compute user-user similarity based on sentiment interactions\n",
        "user_similarity = cosine_similarity(user_item_matrix_sentiment)\n",
        "user_similarity_df = pd.DataFrame(user_similarity,\n",
        "                                  index=user_item_matrix_sentiment.index,\n",
        "                                  columns=user_item_matrix_sentiment.index)\n"
      ]
    },
    {
      "cell_type": "code",
      "execution_count": null,
      "metadata": {
        "id": "ygw2lF9wjm-I"
      },
      "outputs": [],
      "source": [
        "def recommend_games_user(user_id, user_item_matrix, user_similarity_df, top_n=10):\n",
        "    \"\"\"\n",
        "    Recommend games for a user based on user-based collaborative filtering.\n",
        "    Uses user similarity to generate recommendations.\n",
        "    \"\"\"\n",
        "    if user_id not in user_item_matrix.index:\n",
        "        return []\n",
        "\n",
        "    similar_users = user_similarity_df[user_id].sort_values(ascending=False).index.tolist()\n",
        "\n",
        "    game_scores = user_item_matrix.loc[similar_users].mean().sort_values(ascending=False)\n",
        "\n",
        "    return game_scores.index[:top_n].tolist()"
      ]
    },
    {
      "cell_type": "code",
      "execution_count": null,
      "metadata": {
        "colab": {
          "base_uri": "https://localhost:8080/"
        },
        "id": "C9iRE3pSnl96",
        "outputId": "9cb5034e-484a-4724-df7c-e1fd14f70f4c"
      },
      "outputs": [],
      "source": [
        "start_time = time.time()\n",
        "\n",
        "user_recommendations_user = {\n",
        "    user: recommend_games_user(user, user_item_matrix, user_similarity_df)\n",
        "    for user in test_set[\"user_id\"].unique()\n",
        "}\n",
        "\n",
        "user_based_results = evaluate_recommendation_model(user_recommendations_user, test_set)\n",
        "end_time = time.time()\n",
        "runtime_user_based = round(end_time - start_time, 2)\n",
        "\n",
        "model_results[\"User-Based Collaborative Filtering\"] = {\n",
        "    \"Hit Rate@K\": user_based_results[\"Hit Rate@K\"],\n",
        "    \"Precision@K\": user_based_results[\"Precision@K\"],\n",
        "    \"NDCG@K\": user_based_results[\"NDCG@K\"],\n",
        "    \"MAP@K\": user_based_results[\"MAP@K\"],\n",
        "    \"Runtime (s)\": runtime_user_based\n",
        "}\n",
        "\n",
        "model_name = \"User-Based Collaborative Filtering\"\n",
        "\n",
        "print(f\"\\n🔹 {model_name} Results:\")\n",
        "for metric, value in model_results[model_name].items():\n",
        "  print(f\"  {metric}: {value}\")"
      ]
    },
    {
      "cell_type": "markdown",
      "metadata": {
        "id": "X7IR1ozQeuql"
      },
      "source": [
        "### Hybrid User & Item Based Collaborative Filtering"
      ]
    },
    {
      "cell_type": "markdown",
      "metadata": {
        "id": "_9yjGdNPk7Ie"
      },
      "source": [
        "Now, we combine both game-based kNN and user-based kNN using a weighted hybrid model."
      ]
    },
    {
      "cell_type": "code",
      "execution_count": null,
      "metadata": {
        "id": "8R2ThwW3ks9L"
      },
      "outputs": [],
      "source": [
        "def recommend_games_hybrid(user_id, user_item_matrix, item_similarity_df, user_similarity_df, alpha=0.85, top_n=10):\n",
        "    \"\"\"\n",
        "    Recommend games using a hybrid approach that combines:\n",
        "    - Item-based kNN\n",
        "    - User-based kNN\n",
        "    with `alpha` as the weight factor:\n",
        "    \"\"\"\n",
        "    item_recs = recommend_games_item(user_id, user_item_matrix, item_similarity_df, top_n)\n",
        "    user_recs = recommend_games_user(user_id, user_item_matrix, user_similarity_df, top_n)\n",
        "\n",
        "    rec_scores = {}\n",
        "\n",
        "    for idx, game in enumerate(item_recs):\n",
        "        rec_scores[game] = rec_scores.get(game, 0) + alpha * (top_n - idx)\n",
        "    for idx, game in enumerate(user_recs):\n",
        "        rec_scores[game] = rec_scores.get(game, 0) + (1 - alpha) * (top_n - idx)\n",
        "\n",
        "    final_recommendations = sorted(rec_scores.keys(), key=lambda x: rec_scores[x], reverse=True)\n",
        "\n",
        "    return final_recommendations[:top_n]"
      ]
    },
    {
      "cell_type": "code",
      "execution_count": null,
      "metadata": {
        "id": "ouTdHjXXk0Af"
      },
      "outputs": [],
      "source": [
        "# Set weight factors\n",
        "alpha_item = 0.35  # 35% feature-based similarity, 65% item-based similarity\n",
        "\n",
        "common_games = set(item_similarity_df.index) & set(feature_similarity_df.index)\n",
        "common_games_list = list(common_games)\n",
        "\n",
        "item_similarity_df = item_similarity_df.loc[common_games_list, common_games_list]\n",
        "feature_similarity_df = feature_similarity_df.loc[common_games_list, common_games_list]\n",
        "\n",
        "# Compute the final item similarity matrix\n",
        "final_item_similarity_df = alpha_item * feature_similarity_df + (1 - alpha_item) * item_similarity_df"
      ]
    },
    {
      "cell_type": "code",
      "execution_count": null,
      "metadata": {
        "colab": {
          "base_uri": "https://localhost:8080/"
        },
        "id": "gdb3VNzeoLln",
        "outputId": "90859059-321f-4538-a4d1-be967737e1c3"
      },
      "outputs": [],
      "source": [
        "start_time = time.time()\n",
        "\n",
        "user_recommendations_hybrid = {\n",
        "    user: recommend_games_hybrid(user, user_item_matrix, final_item_similarity_df, user_similarity_df, alpha=0.85)\n",
        "    for user in test_set[\"user_id\"].unique()\n",
        "}\n",
        "\n",
        "hybrid_user_and_item_based_results = evaluate_recommendation_model(user_recommendations_hybrid, test_set)\n",
        "end_time = time.time()\n",
        "runtime_hybrid_user_and_item = round(end_time - start_time, 2)\n",
        "\n",
        "model_results[\"Hybrid User & Item Based Collaborative Filtering\"] = {\n",
        "    \"Hit Rate@K\": hybrid_user_and_item_based_results[\"Hit Rate@K\"],\n",
        "    \"Precision@K\": hybrid_user_and_item_based_results[\"Precision@K\"],\n",
        "    \"NDCG@K\": hybrid_user_and_item_based_results[\"NDCG@K\"],\n",
        "    \"MAP@K\": hybrid_user_and_item_based_results[\"MAP@K\"],\n",
        "    \"Runtime (s)\": runtime_hybrid_user_and_item\n",
        "}\n",
        "\n",
        "model_name = \"Hybrid User & Item Based Collaborative Filtering\"\n",
        "\n",
        "print(f\"\\n🔹 {model_name} Results:\")\n",
        "for metric, value in model_results[model_name].items():\n",
        "  print(f\"  {metric}: {value}\")"
      ]
    },
    {
      "cell_type": "markdown",
      "metadata": {
        "id": "2sx85F1Vr-Vr"
      },
      "source": [
        "Our evaluation confirms that item-based collaborative filtering is the most effective approach, while user-based collaborative filtering performs the worst. The hybrid model, which combines both, does not significantly improve upon item-based filtering, suggesting that user-based filtering does not contribute meaningful additional value in our dataset.\n",
        "\n",
        "Furthermore, user-based filtering is exceptionally slow, with runtime nearly 10x higher than item-based filtering. This inefficiency is likely due to the large user similarity matrix, which grows exponentially as the number of users increases, making the approach computationally impractical for large-scale recommendations.\n",
        "\n",
        "To further improve our recommendation system, we will explore an alternative approach to k-Nearest Neighbors (kNN) by replacing cosine similarity with Jaccard similarity.\n",
        "\n",
        "Unlike cosine similarity, which measures the angle between vectors, Jaccard similarity measures set overlap, making it well-suited for binary interaction data. Since our dataset is based on user-item interactions rather than explicit ratings (as our goal is to prioritize predicting interactions over ratings), Jaccard similarity could provide a more accurate representation of user behavior by capturing which users interacted with which items, rather than focusing on numerical rating patterns.\n",
        "\n",
        "By implementing Jaccard similarity, we aim to better understand user-item relationships and improve recommendation accuracy in an implicit feedback setting."
      ]
    },
    {
      "cell_type": "markdown",
      "metadata": {
        "id": "Ba35zp3GsMmM"
      },
      "source": [
        "### Item-Based Collaborative Filtering With Jaccard"
      ]
    },
    {
      "cell_type": "code",
      "execution_count": null,
      "metadata": {
        "id": "BMOn8VYEs80A"
      },
      "outputs": [],
      "source": [
        "user_item_matrix = train_set.pivot_table(\n",
        "    index=\"user_id\", columns=\"parent_asin\", values=\"adjusted_rating\", fill_value=0\n",
        ")\n",
        "\n",
        "# Convert user-item matrix to binary (1 if interaction exists, 0 otherwise)\n",
        "binary_user_item_matrix = (user_item_matrix > 0).astype(int)\n",
        "binary_user_item_matrix_np = binary_user_item_matrix.to_numpy()"
      ]
    },
    {
      "cell_type": "code",
      "execution_count": null,
      "metadata": {
        "colab": {
          "base_uri": "https://localhost:8080/"
        },
        "id": "7TWzoYMXtFSt",
        "outputId": "a79207fe-bdf7-4cbe-a680-52f45e7cdfb9"
      },
      "outputs": [],
      "source": [
        "from sklearn.metrics import pairwise_distances\n",
        "import pandas as pd\n",
        "\n",
        "# Compute Jaccard similarity between items\n",
        "item_similarity_jaccard = 1 - pairwise_distances(binary_user_item_matrix_np.T, metric=\"jaccard\")\n",
        "item_similarity_jaccard_df = pd.DataFrame(item_similarity_jaccard,\n",
        "                                          index=user_item_matrix.columns,\n",
        "                                          columns=user_item_matrix.columns)\n"
      ]
    },
    {
      "cell_type": "code",
      "execution_count": null,
      "metadata": {
        "id": "lLAMYZmgtRwr"
      },
      "outputs": [],
      "source": [
        "def recommend_games_item_jaccard(user_id, user_item_matrix, item_similarity_jaccard_df, top_n=10):\n",
        "    \"\"\"\n",
        "    Recommend games for a user based on item-based collaborative filtering using Jaccard similarity.\n",
        "    \"\"\"\n",
        "    if user_id not in user_item_matrix.index:\n",
        "        return []\n",
        "\n",
        "    user_ratings = user_item_matrix.loc[user_id]\n",
        "    interacted_games = user_ratings[user_ratings > 0].index.tolist()\n",
        "\n",
        "    if not interacted_games:\n",
        "        return []\n",
        "\n",
        "    game_scores = item_similarity_jaccard_df.loc[interacted_games].sum(axis=0)\n",
        "    game_scores = game_scores.drop(interacted_games, errors='ignore')\n",
        "    recommended_games = game_scores.sort_values(ascending=False).index.tolist()\n",
        "\n",
        "    return recommended_games[:top_n]"
      ]
    },
    {
      "cell_type": "code",
      "execution_count": null,
      "metadata": {
        "colab": {
          "base_uri": "https://localhost:8080/"
        },
        "id": "Y8Jb1a3zwwYH",
        "outputId": "421f7f61-ff74-4e04-b002-20c1910bf2fa"
      },
      "outputs": [],
      "source": [
        "start_time = time.time()\n",
        "\n",
        "# Generate item-based recommendations using Jaccard\n",
        "user_recommendations_item_jaccard = {\n",
        "    user: recommend_games_item_jaccard(user, user_item_matrix, item_similarity_jaccard_df)\n",
        "    for user in test_set[\"user_id\"].unique()\n",
        "}\n",
        "\n",
        "item_based_jaccard_results = evaluate_recommendation_model(user_recommendations_item_jaccard, test_set, k=10)\n",
        "end_time = time.time()\n",
        "runtime_item_jaccard = round(end_time - start_time, 2)\n",
        "\n",
        "model_results[\"Item-Based Collaborative Filtering With Jaccard\"] = {\n",
        "    \"Hit Rate@K\": item_based_jaccard_results[\"Hit Rate@K\"],\n",
        "    \"Precision@K\": item_based_jaccard_results[\"Precision@K\"],\n",
        "    \"NDCG@K\": item_based_jaccard_results[\"NDCG@K\"],\n",
        "    \"MAP@K\": item_based_jaccard_results[\"MAP@K\"],\n",
        "    \"Runtime (s)\": runtime_item_jaccard\n",
        "}\n",
        "\n",
        "model_name = \"Item-Based Collaborative Filtering With Jaccard\"\n",
        "\n",
        "print(f\"\\n🔹 {model_name} Results:\")\n",
        "for metric, value in model_results[model_name].items():\n",
        "  print(f\"  {metric}: {value}\")"
      ]
    },
    {
      "cell_type": "markdown",
      "metadata": {
        "id": "ZZSbjAVVtb0S"
      },
      "source": [
        "### User-Based Collaborative Filtering With Jaccard"
      ]
    },
    {
      "cell_type": "code",
      "execution_count": null,
      "metadata": {
        "colab": {
          "base_uri": "https://localhost:8080/"
        },
        "id": "YmpGA15Cti4I",
        "outputId": "30b2d209-9ba6-407a-a4de-94a3aed66b0e"
      },
      "outputs": [],
      "source": [
        "# Compute Jaccard similarity between users\n",
        "user_similarity_jaccard = 1 - pairwise_distances(binary_user_item_matrix_np, metric=\"jaccard\")\n",
        "user_similarity_jaccard_df = pd.DataFrame(user_similarity_jaccard,\n",
        "                                          index=user_item_matrix.index,\n",
        "                                          columns=user_item_matrix.index)"
      ]
    },
    {
      "cell_type": "code",
      "execution_count": null,
      "metadata": {
        "id": "7C_ICJVmtpoK"
      },
      "outputs": [],
      "source": [
        "def recommend_games_user_jaccard(user_id, user_item_matrix, user_similarity_jaccard_df, top_n=10):\n",
        "    \"\"\"\n",
        "    Recommend games for a user based on user-based collaborative filtering using Jaccard similarity.\n",
        "    \"\"\"\n",
        "\n",
        "    if user_id not in user_item_matrix.index:\n",
        "        return []\n",
        "\n",
        "    similar_users = user_similarity_jaccard_df[user_id].sort_values(ascending=False).index.tolist()\n",
        "    game_scores = user_item_matrix.loc[similar_users].mean().sort_values(ascending=False)\n",
        "    interacted_games = user_item_matrix.loc[user_id]\n",
        "    game_scores = game_scores.drop(interacted_games[interacted_games > 0].index, errors='ignore')\n",
        "\n",
        "    return game_scores.index[:top_n].tolist()"
      ]
    },
    {
      "cell_type": "code",
      "execution_count": null,
      "metadata": {
        "colab": {
          "base_uri": "https://localhost:8080/"
        },
        "id": "qfYE3b71xdLy",
        "outputId": "ad76546d-2104-46ed-d18f-e6901d34e97e"
      },
      "outputs": [],
      "source": [
        "start_time = time.time()\n",
        "\n",
        "# Generate user-based recommendations using Jaccard\n",
        "user_recommendations_user_jaccard = {\n",
        "    user: recommend_games_user_jaccard(user, user_item_matrix, user_similarity_jaccard_df)\n",
        "    for user in test_set[\"user_id\"].unique()\n",
        "}\n",
        "\n",
        "user_based_jaccard_results = evaluate_recommendation_model(user_recommendations_user_jaccard, test_set, k=10)\n",
        "end_time = time.time()\n",
        "runtime_user_jaccard = round(end_time - start_time, 2)\n",
        "\n",
        "model_results[\"User-Based Collaborative Filtering With Jaccard\"] = {\n",
        "    \"Hit Rate@K\": user_based_jaccard_results[\"Hit Rate@K\"],\n",
        "    \"Precision@K\": user_based_jaccard_results[\"Precision@K\"],\n",
        "    \"NDCG@K\": user_based_jaccard_results[\"NDCG@K\"],\n",
        "    \"MAP@K\": user_based_jaccard_results[\"MAP@K\"],\n",
        "    \"Runtime (s)\": runtime_user_jaccard\n",
        "}\n",
        "\n",
        "model_name = \"User-Based Collaborative Filtering With Jaccard\"\n",
        "\n",
        "print(f\"\\n🔹 {model_name} Results:\")\n",
        "for metric, value in model_results[model_name].items():\n",
        "  print(f\"  {metric}: {value}\")"
      ]
    },
    {
      "cell_type": "markdown",
      "metadata": {
        "id": "No9yAPo-tzbG"
      },
      "source": [
        "### Hybrid Collaborative Filtering With Jaccard"
      ]
    },
    {
      "cell_type": "code",
      "execution_count": null,
      "metadata": {
        "id": "I8y-XEUwyAgw"
      },
      "outputs": [],
      "source": [
        "def recommend_games_hybrid(user_id, user_item_matrix, item_similarity_df, user_similarity_df, alpha=0.85, top_n=10):\n",
        "\n",
        "    if user_id not in user_item_matrix.index:\n",
        "        return []\n",
        "\n",
        "\n",
        "    item_recs = recommend_games_item_jaccard(user_id, user_item_matrix, item_similarity_df, top_n)\n",
        "    user_recs = recommend_games_user_jaccard(user_id, user_item_matrix, user_similarity_df, top_n)\n",
        "\n",
        "    rec_scores = {}\n",
        "\n",
        "    for idx, game in enumerate(item_recs):\n",
        "        rec_scores[game] = rec_scores.get(game, 0) + alpha * (top_n - idx)\n",
        "    for idx, game in enumerate(user_recs):\n",
        "        rec_scores[game] = rec_scores.get(game, 0) + (1 - alpha) * (top_n - idx)\n",
        "\n",
        "    final_recommendations = sorted(rec_scores.keys(), key=lambda x: rec_scores[x], reverse=True)\n",
        "\n",
        "    return final_recommendations[:top_n]"
      ]
    },
    {
      "cell_type": "code",
      "execution_count": null,
      "metadata": {
        "colab": {
          "base_uri": "https://localhost:8080/"
        },
        "id": "ZIlZ428lyVzN",
        "outputId": "d4f14e6c-b502-4bec-ff6b-400ae8797935"
      },
      "outputs": [],
      "source": [
        "start_time = time.time()\n",
        "\n",
        "# Generate hybrid recommendations using Jaccard similarity\n",
        "user_recommendations_hybrid_jaccard = {\n",
        "    user: recommend_games_hybrid(user, user_item_matrix, item_similarity_jaccard_df, user_similarity_jaccard_df, alpha=0.85)\n",
        "    for user in test_set[\"user_id\"].unique()\n",
        "}\n",
        "\n",
        "hybrid_jaccard_results = evaluate_recommendation_model(user_recommendations_hybrid_jaccard, test_set, k=10)\n",
        "end_time = time.time()\n",
        "runtime_hybrid_jaccard = round(end_time - start_time, 2)\n",
        "\n",
        "model_results[\"Hybrid Collaborative Filtering With Jaccard\"] = {\n",
        "    \"Hit Rate@K\": hybrid_jaccard_results[\"Hit Rate@K\"],\n",
        "    \"Precision@K\": hybrid_jaccard_results[\"Precision@K\"],\n",
        "    \"NDCG@K\": hybrid_jaccard_results[\"NDCG@K\"],\n",
        "    \"MAP@K\": hybrid_jaccard_results[\"MAP@K\"],\n",
        "    \"Runtime (s)\": runtime_hybrid_jaccard\n",
        "}\n",
        "\n",
        "model_name = \"Hybrid Collaborative Filtering With Jaccard\"\n",
        "\n",
        "print(f\"\\n🔹 {model_name} Results:\")\n",
        "for metric, value in model_results[model_name].items():\n",
        "  print(f\"  {metric}: {value}\")"
      ]
    },
    {
      "cell_type": "markdown",
      "metadata": {
        "id": "rKeNNwdV2m-l"
      },
      "source": [
        "Our results show an overall improvement across all models, with the most significant gains observed in the item-based and hybrid approaches.\n",
        "\n",
        "Unlike our previous experiments, where item-based filtering was the dominant approach, we now find that the hybrid model achieves the highest performance, albeit with only a slight improvement over the item-based model. This suggests that user-based recommendations can add value when used appropriately, even though they remain less effective as a standalone method.\n",
        "\n",
        "The small but measurable gain from the hybrid approach indicates that while user similarity alone is not highly informative, it can provide additional context when combined with item-based filtering. This highlights the potential of carefully balancing user and item-based methods to further enhance recommendation quality."
      ]
    },
    {
      "cell_type": "markdown",
      "metadata": {
        "id": "d0T8ozSP3eNT"
      },
      "source": [
        "Our results indicate a notable improvement across all models, with the most significant gains observed in the item-based and hybrid approaches.\n",
        "\n",
        "Unlike previous experiments, where item-based filtering consistently outperformed other methods, the hybrid model has now achieved the highest overall performance. However, the improvement over item-based filtering alone remains marginal, suggesting that user-based recommendations can add value when carefully integrated but remain suboptimal as a standalone method.\n",
        "\n",
        "Our key takeaways from these results are that:\n",
        "\n",
        "* Item-based Jaccard CF remains the best standalone model\n",
        "\n",
        "* Hybrid CF provides slight additional gains but at a computational cost\n",
        "\n",
        "* User-based CF is still too weak to justify using it alone\n",
        "\n",
        "Overall we found our best model yet with the **Hybrid CF With Jaccard** but as already said it preforms the best with a price to pay in the runtime duration.\n"
      ]
    },
    {
      "cell_type": "markdown",
      "metadata": {
        "id": "RkaRBgvE4dro"
      },
      "source": [
        "Next we explore a diffrent type of structure with Graph type model."
      ]
    },
    {
      "cell_type": "markdown",
      "metadata": {
        "id": "aA6JbflV46SZ"
      },
      "source": [
        "## Personalized PageRank (PPR)"
      ]
    },
    {
      "cell_type": "markdown",
      "metadata": {
        "id": "mZ2MFlmnWXWK"
      },
      "source": [
        "Personalized PageRank (PPR) is a graph-based recommendation algorithm that ranks items based on their connectivity within a user-item interaction graph. Unlike collaborative filtering and matrix factorization models, PPR leverages the structural relationships between users and items, rather than learning latent factors\n",
        "\n",
        "In our dataset, where sparsity is a major challenge, PPR is an appealing choice because:\n",
        "\n",
        "* It personalizes rankings by performing random walks biased toward the target user, ensuring that recommendations reflect a user's specific interactions.\n",
        "\n",
        "* It is robust to cold-start issues, since it can still rank items based on connectivity, even when a user has limited historical data.\n",
        "\n",
        "By implementing PPR, we aimed to explore how well a graph-based method performs compared to collaborative filtering and matrix factorization approaches.\n",
        "\n"
      ]
    },
    {
      "cell_type": "code",
      "execution_count": null,
      "metadata": {
        "colab": {
          "base_uri": "https://localhost:8080/"
        },
        "id": "oHeznga25Vh3",
        "outputId": "c334dd86-63f8-49f5-f2f3-7d1ffe5d8982"
      },
      "outputs": [],
      "source": [
        "import networkx as nx\n",
        "\n",
        "# Initialize a graph\n",
        "G = nx.Graph()\n",
        "\n",
        "# Add users and games as nodes\n",
        "users = train_set[\"user_id\"].unique()\n",
        "games = train_set[\"parent_asin\"].unique()\n",
        "\n",
        "G.add_nodes_from(users, bipartite=0)  # Users as one set of nodes\n",
        "G.add_nodes_from(games, bipartite=1)  # Games as the other set of nodes\n",
        "\n",
        "for _, row in train_set.iterrows():\n",
        "    # Weight = Adjusted Rating * Log(Number of Reviews for Game)\n",
        "    game_popularity = np.log1p(train_set[train_set[\"parent_asin\"] == row[\"parent_asin\"]].shape[0])\n",
        "    adjusted_weight = row[\"adjusted_rating\"] * (1 / game_popularity)  # Reduce influence of super-popular games\n",
        "\n",
        "    G.add_edge(row[\"user_id\"], row[\"parent_asin\"], weight=adjusted_weight)\n",
        "\n",
        "\n",
        "print(f\"Graph has {len(G.nodes())} nodes and {len(G.edges())} edges.\")"
      ]
    },
    {
      "cell_type": "code",
      "execution_count": null,
      "metadata": {
        "id": "yDyGiza25YjV"
      },
      "outputs": [],
      "source": [
        "from networkx.algorithms.link_analysis.pagerank_alg import pagerank\n",
        "\n",
        "def recommend_ppr(user_id, G, top_k=10):\n",
        "    \"\"\"\n",
        "    Recommend games using Personalized PageRank, ensuring we do NOT recommend games already reviewed by the user.\n",
        "    \"\"\"\n",
        "    if user_id not in G.nodes:\n",
        "        return []\n",
        "\n",
        "\n",
        "    ppr_scores = pagerank(G, personalization={user_id: 1})\n",
        "    sorted_games = sorted(ppr_scores.items(), key=lambda x: x[1], reverse=True)\n",
        "    user_reviewed_games = set(train_set[train_set[\"user_id\"] == user_id][\"parent_asin\"])\n",
        "\n",
        "    # Filter only NEW games (not reviewed before)\n",
        "    recommended_games = [game for game, score in sorted_games if game in games and game not in user_reviewed_games][:top_k]\n",
        "\n",
        "    return recommended_games"
      ]
    },
    {
      "cell_type": "code",
      "execution_count": null,
      "metadata": {
        "id": "FvW7STJ65rW6"
      },
      "outputs": [],
      "source": [
        "import numpy as np\n",
        "from sklearn.metrics import ndcg_score\n",
        "\n",
        "def evaluate_ppr(test_set, G, k=10):\n",
        "    \"\"\"\n",
        "    Evaluate Personalized PageRank-based recommendations using multiple metrics:\n",
        "    - Hit Rate@K\n",
        "    - Precision@K\n",
        "    - NDCG@K\n",
        "    - MAP@K\n",
        "    \"\"\"\n",
        "    hits = 0\n",
        "    total_users = 0\n",
        "\n",
        "    precision_scores = []\n",
        "    ndcg_scores = []\n",
        "    average_precisions = []\n",
        "\n",
        "    user_true_games = test_set.groupby(\"user_id\")[\"parent_asin\"].apply(set).to_dict()\n",
        "\n",
        "    for user_id, true_games in user_true_games.items():\n",
        "        recommended_games = recommend_ppr(user_id, G, top_k=k)\n",
        "\n",
        "        if not recommended_games:\n",
        "            continue\n",
        "\n",
        "        relevant_count = sum(1 for game in recommended_games if game in true_games)\n",
        "        total_true_items = len(true_games)\n",
        "\n",
        "        hit = 1 if relevant_count > 0 else 0\n",
        "        hits += hit\n",
        "        total_users += 1\n",
        "\n",
        "        effective_k = min(k, total_true_items)\n",
        "        precision_at_k = relevant_count / effective_k if effective_k > 0 else 0\n",
        "        precision_scores.append(precision_at_k)\n",
        "\n",
        "        relevance = np.array([1 if game in true_games else 0 for game in recommended_games])\n",
        "        ndcg = ndcg_score([relevance], [np.arange(len(relevance), 0, -1)]) if np.any(relevance) else 0\n",
        "        ndcg_scores.append(ndcg)\n",
        "\n",
        "        relevant_items = [1 if game in true_games else 0 for game in recommended_games]\n",
        "        if sum(relevant_items) > 0:\n",
        "            precision_at_ranks = [\n",
        "                sum(relevant_items[:i + 1]) / (i + 1) for i in range(len(relevant_items)) if relevant_items[i] == 1\n",
        "            ]\n",
        "            ap_at_k = np.mean(precision_at_ranks) if precision_at_ranks else 0\n",
        "        else:\n",
        "            ap_at_k = 0\n",
        "\n",
        "        average_precisions.append(ap_at_k)\n",
        "\n",
        "    hr_at_k = hits / total_users if total_users > 0 else 0.0\n",
        "    precision_at_k = np.mean(precision_scores)\n",
        "    ndcg_at_k = np.mean(ndcg_scores) if ndcg_scores else 0\n",
        "    map_at_k = np.mean(average_precisions) if average_precisions else 0\n",
        "\n",
        "    return {\n",
        "        \"Hit Rate@K\": round(hr_at_k, 4),\n",
        "        \"Precision@K\": round(precision_at_k, 4),\n",
        "        \"NDCG@K\": round(ndcg_at_k, 4),\n",
        "        \"MAP@K\": round(map_at_k, 4)\n",
        "    }\n"
      ]
    },
    {
      "cell_type": "code",
      "execution_count": null,
      "metadata": {
        "colab": {
          "base_uri": "https://localhost:8080/"
        },
        "id": "xiPeK0ah8GCN",
        "outputId": "e66019a6-f5fe-483b-c35c-26ad80a6aa3e"
      },
      "outputs": [],
      "source": [
        "start_time = time.time()\n",
        "\n",
        "ppr_results = evaluate_ppr(test_set, G, k=10)\n",
        "\n",
        "end_time = time.time()\n",
        "runtime_ppr = round(end_time - start_time, 2)\n",
        "\n",
        "model_results[\"Personalized PageRank (PPR)\"] = {\n",
        "    \"Hit Rate@K\": ppr_results[\"Hit Rate@K\"],\n",
        "    \"Precision@K\": ppr_results[\"Precision@K\"],\n",
        "    \"NDCG@K\": ppr_results[\"NDCG@K\"],\n",
        "    \"MAP@K\": ppr_results[\"MAP@K\"],\n",
        "    \"Runtime (s)\": runtime_ppr\n",
        "}\n",
        "\n",
        "model_name = \"Personalized PageRank (PPR)\"\n",
        "\n",
        "print(f\"\\n🔹 {model_name} Results:\")\n",
        "for metric, value in model_results[model_name].items():\n",
        "  print(f\"  {metric}: {value}\")"
      ]
    },
    {
      "cell_type": "markdown",
      "metadata": {
        "id": "7D5gFlaGZLAw"
      },
      "source": [
        "Despite achieving strong performance, correctly recommending items for over a third of users, PPR comes with a significant computational cost. Its runtime is substantially longer than other models we have explored, making it impractical for large-scale deployment.\n",
        "\n",
        "When considering both performance and efficiency, PPR's high computational demands outweigh its benefits, making it a less suitable choice for our use case compared to other models that offer similar or better results with significantly lower processing time."
      ]
    },
    {
      "cell_type": "markdown",
      "metadata": {
        "id": "ZNB7imQPaqPg"
      },
      "source": [
        "# Comparing Recommendation Models"
      ]
    },
    {
      "cell_type": "code",
      "execution_count": null,
      "metadata": {
        "colab": {
          "base_uri": "https://localhost:8080/",
          "height": 519
        },
        "id": "Dxg93At4U_9P",
        "outputId": "1c2f2a8a-64cb-4c11-9a07-92992e5ac038"
      },
      "outputs": [],
      "source": [
        "import pandas as pd\n",
        "\n",
        "df_results = pd.DataFrame(model_results).T\n",
        "df_results = df_results.sort_values(by=\"Hit Rate@K\", ascending=False)\n",
        "\n",
        "df_results"
      ]
    },
    {
      "cell_type": "markdown",
      "metadata": {
        "id": "SzAiLudhgZt0"
      },
      "source": [
        "From our extensive evaluation, three models stand out as the most effective in terms of both accuracy and efficiency:\n",
        "\n",
        "1. **Hybrid Collaborative Filtering with Jaccard** (Best Overall Performance)\n",
        "\n",
        "2. **Item-Based Collaborative Filtering with Jaccard** (Strong Standalone Model)\n",
        "\n",
        "3. **WALS** (Best Trade-off Between Performance & Efficiency)\n",
        "\n",
        "\n",
        "\n",
        "---\n",
        "\n",
        "\n",
        "**WALS: The Best Trade-Off Between Speed & Accuracy**\n",
        "\n",
        "* Hit Rate@10: 0.4164 (better than ALS & BPR)\n",
        "\n",
        "* Runtime: 4.54s (Fastest model by a huge margin)\n",
        "\n",
        "* 5x the hit rate of our baseline SVD while running 3x faster than it.\n",
        "\n",
        "WALS strikes the best balance between efficiency and accuracy. While it is slightly behind Hybrid-Jaccard in overall performance, its near-instant execution time makes it an ideal candidate for large-scale deployment. If runtime is a critical factor, WALS is the best model to use.\n",
        "\n",
        "---\n",
        "\n",
        "**Item-Based CF with Jaccard: The Best Non-Hybrid Model**\n",
        "\n",
        "* Hit Rate@10: 0.457 (Only slightly behind the hybrid approach)\n",
        "\n",
        "* Precision, NDCG, and MAP are among the highest\n",
        "\n",
        "* Runtime: 35.44s (Much faster than hybrid or user based models)\n",
        "\n",
        "Item-based filtering with Jaccard achieves the best results for a single-method approach. It performs nearly as well as the hybrid model while requiring less computational effort, making it a strong contender for real-world applications.\n",
        "Additionally, its reliance on item similarities rather than user-user interactions avoids the inefficiencies of user-based filtering, which we found to be computationally expensive and ineffective.\n",
        "\n",
        "---\n",
        "\n",
        "**Hybrid CF with Jaccard: The Best Overall Model**\n",
        "\n",
        "* Hit Rate@10: 0.4632 (Best-performing model across all evaluations)\n",
        "\n",
        "* Precision@10: 0.2593 (Highest)\n",
        "\n",
        "* NDCG@10 & MAP@10: Best ranking performance\n",
        "\n",
        "* Runtime: 262.72s (Slower but manageable)\n",
        "\n",
        "This model leverages both user-user and item-item similarities, making it the most robust against biases that can arise when considering only one of these factors.\n",
        "While the improvement over Item-Based Jaccard is relatively small (~1.3% better HR@10), the hybrid approach ensures a better generalization across different user behaviors.\n",
        "\n",
        "If the goal is the best possible recommendation quality, this is the ideal choice. However, it requires significantly more computational resources, so it may not be suitable for real-time deployment at scale.\n",
        "\n",
        "**To conclude:**\n",
        "\n",
        "If we prioritize accuracy, the Hybrid CF with Jaccard is our best option.\n",
        "\n",
        "If we want strong accuracy but lower computation costs, Item-Based Jaccard is a great alternative.\n",
        "\n",
        "And if we need a scalable, fast model for real-world use, WALS is the best choice.\n",
        "\n",
        "\n"
      ]
    }
  ],
  "metadata": {
    "colab": {
      "provenance": [],
      "toc_visible": true
    },
    "kernelspec": {
      "display_name": "Python 3",
      "name": "python3"
    },
    "language_info": {
      "name": "python"
    },
    "widgets": {
      "application/vnd.jupyter.widget-state+json": {
        "01e6c7faf45b43ce9fd4857345d438eb": {
          "model_module": "@jupyter-widgets/controls",
          "model_module_version": "1.5.0",
          "model_name": "ProgressStyleModel",
          "state": {
            "_model_module": "@jupyter-widgets/controls",
            "_model_module_version": "1.5.0",
            "_model_name": "ProgressStyleModel",
            "_view_count": null,
            "_view_module": "@jupyter-widgets/base",
            "_view_module_version": "1.2.0",
            "_view_name": "StyleView",
            "bar_color": null,
            "description_width": ""
          }
        },
        "03e9338890dd4475a64cfddb401ed059": {
          "model_module": "@jupyter-widgets/controls",
          "model_module_version": "1.5.0",
          "model_name": "HBoxModel",
          "state": {
            "_dom_classes": [],
            "_model_module": "@jupyter-widgets/controls",
            "_model_module_version": "1.5.0",
            "_model_name": "HBoxModel",
            "_view_count": null,
            "_view_module": "@jupyter-widgets/controls",
            "_view_module_version": "1.5.0",
            "_view_name": "HBoxView",
            "box_style": "",
            "children": [
              "IPY_MODEL_957d826b3a4a42afa243441d35fa76ec",
              "IPY_MODEL_b985c6eef3c54a87a0108cf77909e8b5",
              "IPY_MODEL_9279e34f8b934c0390f51515a24f1a63"
            ],
            "layout": "IPY_MODEL_37a6332d65eb4c11a44f484865b1f2ff"
          }
        },
        "045ee807f2ae4420983f126f1dd32c6a": {
          "model_module": "@jupyter-widgets/base",
          "model_module_version": "1.2.0",
          "model_name": "LayoutModel",
          "state": {
            "_model_module": "@jupyter-widgets/base",
            "_model_module_version": "1.2.0",
            "_model_name": "LayoutModel",
            "_view_count": null,
            "_view_module": "@jupyter-widgets/base",
            "_view_module_version": "1.2.0",
            "_view_name": "LayoutView",
            "align_content": null,
            "align_items": null,
            "align_self": null,
            "border": null,
            "bottom": null,
            "display": null,
            "flex": null,
            "flex_flow": null,
            "grid_area": null,
            "grid_auto_columns": null,
            "grid_auto_flow": null,
            "grid_auto_rows": null,
            "grid_column": null,
            "grid_gap": null,
            "grid_row": null,
            "grid_template_areas": null,
            "grid_template_columns": null,
            "grid_template_rows": null,
            "height": null,
            "justify_content": null,
            "justify_items": null,
            "left": null,
            "margin": null,
            "max_height": null,
            "max_width": null,
            "min_height": null,
            "min_width": null,
            "object_fit": null,
            "object_position": null,
            "order": null,
            "overflow": null,
            "overflow_x": null,
            "overflow_y": null,
            "padding": null,
            "right": null,
            "top": null,
            "visibility": null,
            "width": null
          }
        },
        "05805fc1a1cc408ba01418c81b5f874d": {
          "model_module": "@jupyter-widgets/controls",
          "model_module_version": "1.5.0",
          "model_name": "HTMLModel",
          "state": {
            "_dom_classes": [],
            "_model_module": "@jupyter-widgets/controls",
            "_model_module_version": "1.5.0",
            "_model_name": "HTMLModel",
            "_view_count": null,
            "_view_module": "@jupyter-widgets/controls",
            "_view_module_version": "1.5.0",
            "_view_name": "HTMLView",
            "description": "",
            "description_tooltip": null,
            "layout": "IPY_MODEL_2faa19bbd1de418cacac10d33f7f0b02",
            "placeholder": "​",
            "style": "IPY_MODEL_0e6a73acd3804f6a8473632999a6d8ca",
            "value": " 19.7k/19.7k [00:00&lt;00:00, 1.19MB/s]"
          }
        },
        "05f6704357ef44ec8826e1dc3846b061": {
          "model_module": "@jupyter-widgets/controls",
          "model_module_version": "1.5.0",
          "model_name": "DescriptionStyleModel",
          "state": {
            "_model_module": "@jupyter-widgets/controls",
            "_model_module_version": "1.5.0",
            "_model_name": "DescriptionStyleModel",
            "_view_count": null,
            "_view_module": "@jupyter-widgets/base",
            "_view_module_version": "1.2.0",
            "_view_name": "StyleView",
            "description_width": ""
          }
        },
        "063e7f75b4ae43af8b249fce69e340e4": {
          "model_module": "@jupyter-widgets/controls",
          "model_module_version": "1.5.0",
          "model_name": "HTMLModel",
          "state": {
            "_dom_classes": [],
            "_model_module": "@jupyter-widgets/controls",
            "_model_module_version": "1.5.0",
            "_model_name": "HTMLModel",
            "_view_count": null,
            "_view_module": "@jupyter-widgets/controls",
            "_view_module_version": "1.5.0",
            "_view_name": "HTMLView",
            "description": "",
            "description_tooltip": null,
            "layout": "IPY_MODEL_e1a7ae56ede34902952c25726dc374b9",
            "placeholder": "​",
            "style": "IPY_MODEL_3bd583e2e75f42f08e10fd48cc121aa6",
            "value": "100%"
          }
        },
        "07e3acdccf5041e78f937f6372d5a41d": {
          "model_module": "@jupyter-widgets/base",
          "model_module_version": "1.2.0",
          "model_name": "LayoutModel",
          "state": {
            "_model_module": "@jupyter-widgets/base",
            "_model_module_version": "1.2.0",
            "_model_name": "LayoutModel",
            "_view_count": null,
            "_view_module": "@jupyter-widgets/base",
            "_view_module_version": "1.2.0",
            "_view_name": "LayoutView",
            "align_content": null,
            "align_items": null,
            "align_self": null,
            "border": null,
            "bottom": null,
            "display": null,
            "flex": null,
            "flex_flow": null,
            "grid_area": null,
            "grid_auto_columns": null,
            "grid_auto_flow": null,
            "grid_auto_rows": null,
            "grid_column": null,
            "grid_gap": null,
            "grid_row": null,
            "grid_template_areas": null,
            "grid_template_columns": null,
            "grid_template_rows": null,
            "height": null,
            "justify_content": null,
            "justify_items": null,
            "left": null,
            "margin": null,
            "max_height": null,
            "max_width": null,
            "min_height": null,
            "min_width": null,
            "object_fit": null,
            "object_position": null,
            "order": null,
            "overflow": null,
            "overflow_x": null,
            "overflow_y": null,
            "padding": null,
            "right": null,
            "top": null,
            "visibility": null,
            "width": null
          }
        },
        "080672121085448e97fbeb7f44ef2b92": {
          "model_module": "@jupyter-widgets/controls",
          "model_module_version": "1.5.0",
          "model_name": "DescriptionStyleModel",
          "state": {
            "_model_module": "@jupyter-widgets/controls",
            "_model_module_version": "1.5.0",
            "_model_name": "DescriptionStyleModel",
            "_view_count": null,
            "_view_module": "@jupyter-widgets/base",
            "_view_module_version": "1.2.0",
            "_view_name": "StyleView",
            "description_width": ""
          }
        },
        "0915523edab74f33999e8de14f031e83": {
          "model_module": "@jupyter-widgets/base",
          "model_module_version": "1.2.0",
          "model_name": "LayoutModel",
          "state": {
            "_model_module": "@jupyter-widgets/base",
            "_model_module_version": "1.2.0",
            "_model_name": "LayoutModel",
            "_view_count": null,
            "_view_module": "@jupyter-widgets/base",
            "_view_module_version": "1.2.0",
            "_view_name": "LayoutView",
            "align_content": null,
            "align_items": null,
            "align_self": null,
            "border": null,
            "bottom": null,
            "display": null,
            "flex": null,
            "flex_flow": null,
            "grid_area": null,
            "grid_auto_columns": null,
            "grid_auto_flow": null,
            "grid_auto_rows": null,
            "grid_column": null,
            "grid_gap": null,
            "grid_row": null,
            "grid_template_areas": null,
            "grid_template_columns": null,
            "grid_template_rows": null,
            "height": null,
            "justify_content": null,
            "justify_items": null,
            "left": null,
            "margin": null,
            "max_height": null,
            "max_width": null,
            "min_height": null,
            "min_width": null,
            "object_fit": null,
            "object_position": null,
            "order": null,
            "overflow": null,
            "overflow_x": null,
            "overflow_y": null,
            "padding": null,
            "right": null,
            "top": null,
            "visibility": null,
            "width": null
          }
        },
        "0aef4c9078d045d08f1c359a97b1998a": {
          "model_module": "@jupyter-widgets/controls",
          "model_module_version": "1.5.0",
          "model_name": "HTMLModel",
          "state": {
            "_dom_classes": [],
            "_model_module": "@jupyter-widgets/controls",
            "_model_module_version": "1.5.0",
            "_model_name": "HTMLModel",
            "_view_count": null,
            "_view_module": "@jupyter-widgets/controls",
            "_view_module_version": "1.5.0",
            "_view_name": "HTMLView",
            "description": "",
            "description_tooltip": null,
            "layout": "IPY_MODEL_045ee807f2ae4420983f126f1dd32c6a",
            "placeholder": "​",
            "style": "IPY_MODEL_5567270175c849d68afccc1a9eda3212",
            "value": " 1.22k/1.22k [00:00&lt;00:00, 36.6kB/s]"
          }
        },
        "0b10ccbe89294dbcb39e3ac1100c85f3": {
          "model_module": "@jupyter-widgets/base",
          "model_module_version": "1.2.0",
          "model_name": "LayoutModel",
          "state": {
            "_model_module": "@jupyter-widgets/base",
            "_model_module_version": "1.2.0",
            "_model_name": "LayoutModel",
            "_view_count": null,
            "_view_module": "@jupyter-widgets/base",
            "_view_module_version": "1.2.0",
            "_view_name": "LayoutView",
            "align_content": null,
            "align_items": null,
            "align_self": null,
            "border": null,
            "bottom": null,
            "display": null,
            "flex": null,
            "flex_flow": null,
            "grid_area": null,
            "grid_auto_columns": null,
            "grid_auto_flow": null,
            "grid_auto_rows": null,
            "grid_column": null,
            "grid_gap": null,
            "grid_row": null,
            "grid_template_areas": null,
            "grid_template_columns": null,
            "grid_template_rows": null,
            "height": null,
            "justify_content": null,
            "justify_items": null,
            "left": null,
            "margin": null,
            "max_height": null,
            "max_width": null,
            "min_height": null,
            "min_width": null,
            "object_fit": null,
            "object_position": null,
            "order": null,
            "overflow": null,
            "overflow_x": null,
            "overflow_y": null,
            "padding": null,
            "right": null,
            "top": null,
            "visibility": null,
            "width": null
          }
        },
        "0c7f18c39cbd465988666cb38ded3071": {
          "model_module": "@jupyter-widgets/controls",
          "model_module_version": "1.5.0",
          "model_name": "HTMLModel",
          "state": {
            "_dom_classes": [],
            "_model_module": "@jupyter-widgets/controls",
            "_model_module_version": "1.5.0",
            "_model_name": "HTMLModel",
            "_view_count": null,
            "_view_module": "@jupyter-widgets/controls",
            "_view_module_version": "1.5.0",
            "_view_name": "HTMLView",
            "description": "",
            "description_tooltip": null,
            "layout": "IPY_MODEL_d57132f848b34daf921313d366b71540",
            "placeholder": "​",
            "style": "IPY_MODEL_0f8d3b8e949c421e9ef933fc790f3a79",
            "value": " 10.7k/10.7k [00:00&lt;00:00, 512kB/s]"
          }
        },
        "0d77dd5b2f9f409fbb402031c907d985": {
          "model_module": "@jupyter-widgets/controls",
          "model_module_version": "1.5.0",
          "model_name": "DescriptionStyleModel",
          "state": {
            "_model_module": "@jupyter-widgets/controls",
            "_model_module_version": "1.5.0",
            "_model_name": "DescriptionStyleModel",
            "_view_count": null,
            "_view_module": "@jupyter-widgets/base",
            "_view_module_version": "1.2.0",
            "_view_name": "StyleView",
            "description_width": ""
          }
        },
        "0df8a69efa6b4478aa84abfff282cedc": {
          "model_module": "@jupyter-widgets/controls",
          "model_module_version": "1.5.0",
          "model_name": "HBoxModel",
          "state": {
            "_dom_classes": [],
            "_model_module": "@jupyter-widgets/controls",
            "_model_module_version": "1.5.0",
            "_model_name": "HBoxModel",
            "_view_count": null,
            "_view_module": "@jupyter-widgets/controls",
            "_view_module_version": "1.5.0",
            "_view_name": "HBoxView",
            "box_style": "",
            "children": [
              "IPY_MODEL_9e7cbdb4fdba4284a805b32ea164d561",
              "IPY_MODEL_7dd8523bbb7d490090fd14d6bee03b6b",
              "IPY_MODEL_acb38d7e8906422ca5cb0097801342f5"
            ],
            "layout": "IPY_MODEL_4d875ce33b95423198ff545640a84b3a"
          }
        },
        "0e6a73acd3804f6a8473632999a6d8ca": {
          "model_module": "@jupyter-widgets/controls",
          "model_module_version": "1.5.0",
          "model_name": "DescriptionStyleModel",
          "state": {
            "_model_module": "@jupyter-widgets/controls",
            "_model_module_version": "1.5.0",
            "_model_name": "DescriptionStyleModel",
            "_view_count": null,
            "_view_module": "@jupyter-widgets/base",
            "_view_module_version": "1.2.0",
            "_view_name": "StyleView",
            "description_width": ""
          }
        },
        "0ec3657ddc644fe5959ae29bf441117c": {
          "model_module": "@jupyter-widgets/controls",
          "model_module_version": "1.5.0",
          "model_name": "FloatProgressModel",
          "state": {
            "_dom_classes": [],
            "_model_module": "@jupyter-widgets/controls",
            "_model_module_version": "1.5.0",
            "_model_name": "FloatProgressModel",
            "_view_count": null,
            "_view_module": "@jupyter-widgets/controls",
            "_view_module_version": "1.5.0",
            "_view_name": "ProgressView",
            "bar_style": "success",
            "description": "",
            "description_tooltip": null,
            "layout": "IPY_MODEL_b22fbefef9a44e288f621056a6cdec8c",
            "max": 612,
            "min": 0,
            "orientation": "horizontal",
            "style": "IPY_MODEL_9f3b1623b32a49ca92939dc1508d5949",
            "value": 612
          }
        },
        "0ef5d93006904a32a54ca73e44ee5261": {
          "model_module": "@jupyter-widgets/controls",
          "model_module_version": "1.5.0",
          "model_name": "DescriptionStyleModel",
          "state": {
            "_model_module": "@jupyter-widgets/controls",
            "_model_module_version": "1.5.0",
            "_model_name": "DescriptionStyleModel",
            "_view_count": null,
            "_view_module": "@jupyter-widgets/base",
            "_view_module_version": "1.2.0",
            "_view_name": "StyleView",
            "description_width": ""
          }
        },
        "0f137b9c07434d7ead7048e68656d633": {
          "model_module": "@jupyter-widgets/base",
          "model_module_version": "1.2.0",
          "model_name": "LayoutModel",
          "state": {
            "_model_module": "@jupyter-widgets/base",
            "_model_module_version": "1.2.0",
            "_model_name": "LayoutModel",
            "_view_count": null,
            "_view_module": "@jupyter-widgets/base",
            "_view_module_version": "1.2.0",
            "_view_name": "LayoutView",
            "align_content": null,
            "align_items": null,
            "align_self": null,
            "border": null,
            "bottom": null,
            "display": null,
            "flex": null,
            "flex_flow": null,
            "grid_area": null,
            "grid_auto_columns": null,
            "grid_auto_flow": null,
            "grid_auto_rows": null,
            "grid_column": null,
            "grid_gap": null,
            "grid_row": null,
            "grid_template_areas": null,
            "grid_template_columns": null,
            "grid_template_rows": null,
            "height": null,
            "justify_content": null,
            "justify_items": null,
            "left": null,
            "margin": null,
            "max_height": null,
            "max_width": null,
            "min_height": null,
            "min_width": null,
            "object_fit": null,
            "object_position": null,
            "order": null,
            "overflow": null,
            "overflow_x": null,
            "overflow_y": null,
            "padding": null,
            "right": null,
            "top": null,
            "visibility": null,
            "width": null
          }
        },
        "0f8d3b8e949c421e9ef933fc790f3a79": {
          "model_module": "@jupyter-widgets/controls",
          "model_module_version": "1.5.0",
          "model_name": "DescriptionStyleModel",
          "state": {
            "_model_module": "@jupyter-widgets/controls",
            "_model_module_version": "1.5.0",
            "_model_name": "DescriptionStyleModel",
            "_view_count": null,
            "_view_module": "@jupyter-widgets/base",
            "_view_module_version": "1.2.0",
            "_view_name": "StyleView",
            "description_width": ""
          }
        },
        "107f7ce23aa74bb8b392a17646277f3d": {
          "model_module": "@jupyter-widgets/base",
          "model_module_version": "1.2.0",
          "model_name": "LayoutModel",
          "state": {
            "_model_module": "@jupyter-widgets/base",
            "_model_module_version": "1.2.0",
            "_model_name": "LayoutModel",
            "_view_count": null,
            "_view_module": "@jupyter-widgets/base",
            "_view_module_version": "1.2.0",
            "_view_name": "LayoutView",
            "align_content": null,
            "align_items": null,
            "align_self": null,
            "border": null,
            "bottom": null,
            "display": null,
            "flex": null,
            "flex_flow": null,
            "grid_area": null,
            "grid_auto_columns": null,
            "grid_auto_flow": null,
            "grid_auto_rows": null,
            "grid_column": null,
            "grid_gap": null,
            "grid_row": null,
            "grid_template_areas": null,
            "grid_template_columns": null,
            "grid_template_rows": null,
            "height": null,
            "justify_content": null,
            "justify_items": null,
            "left": null,
            "margin": null,
            "max_height": null,
            "max_width": null,
            "min_height": null,
            "min_width": null,
            "object_fit": null,
            "object_position": null,
            "order": null,
            "overflow": null,
            "overflow_x": null,
            "overflow_y": null,
            "padding": null,
            "right": null,
            "top": null,
            "visibility": null,
            "width": null
          }
        },
        "163213d18ebc4cc9aeab37faf81b04cf": {
          "model_module": "@jupyter-widgets/controls",
          "model_module_version": "1.5.0",
          "model_name": "ProgressStyleModel",
          "state": {
            "_model_module": "@jupyter-widgets/controls",
            "_model_module_version": "1.5.0",
            "_model_name": "ProgressStyleModel",
            "_view_count": null,
            "_view_module": "@jupyter-widgets/base",
            "_view_module_version": "1.2.0",
            "_view_name": "StyleView",
            "bar_color": null,
            "description_width": ""
          }
        },
        "188cb38209f84146adcee59f2d00a68e": {
          "model_module": "@jupyter-widgets/controls",
          "model_module_version": "1.5.0",
          "model_name": "HBoxModel",
          "state": {
            "_dom_classes": [],
            "_model_module": "@jupyter-widgets/controls",
            "_model_module_version": "1.5.0",
            "_model_name": "HBoxModel",
            "_view_count": null,
            "_view_module": "@jupyter-widgets/controls",
            "_view_module_version": "1.5.0",
            "_view_name": "HBoxView",
            "box_style": "",
            "children": [
              "IPY_MODEL_d2fc5a2a9eff431ab6321123e1cea732",
              "IPY_MODEL_cb37abd394d140cd870d8b86b10f0c8a",
              "IPY_MODEL_922f780784a2491996297b19585e7490"
            ],
            "layout": "IPY_MODEL_88267bdfbfc14cd08121206ec329fb22"
          }
        },
        "19b3a138cf364bc48f58a552e1ddd85f": {
          "model_module": "@jupyter-widgets/controls",
          "model_module_version": "1.5.0",
          "model_name": "DescriptionStyleModel",
          "state": {
            "_model_module": "@jupyter-widgets/controls",
            "_model_module_version": "1.5.0",
            "_model_name": "DescriptionStyleModel",
            "_view_count": null,
            "_view_module": "@jupyter-widgets/base",
            "_view_module_version": "1.2.0",
            "_view_name": "StyleView",
            "description_width": ""
          }
        },
        "1aa2459ffbaa4d39ad8b093b909c7d24": {
          "model_module": "@jupyter-widgets/controls",
          "model_module_version": "1.5.0",
          "model_name": "ProgressStyleModel",
          "state": {
            "_model_module": "@jupyter-widgets/controls",
            "_model_module_version": "1.5.0",
            "_model_name": "ProgressStyleModel",
            "_view_count": null,
            "_view_module": "@jupyter-widgets/base",
            "_view_module_version": "1.2.0",
            "_view_name": "StyleView",
            "bar_color": null,
            "description_width": ""
          }
        },
        "1ab0104b0122457d854541d25040c5e3": {
          "model_module": "@jupyter-widgets/controls",
          "model_module_version": "1.5.0",
          "model_name": "DescriptionStyleModel",
          "state": {
            "_model_module": "@jupyter-widgets/controls",
            "_model_module_version": "1.5.0",
            "_model_name": "DescriptionStyleModel",
            "_view_count": null,
            "_view_module": "@jupyter-widgets/base",
            "_view_module_version": "1.2.0",
            "_view_name": "StyleView",
            "description_width": ""
          }
        },
        "1b48b7278d0b4973b51d7c2dfef3be1e": {
          "model_module": "@jupyter-widgets/base",
          "model_module_version": "1.2.0",
          "model_name": "LayoutModel",
          "state": {
            "_model_module": "@jupyter-widgets/base",
            "_model_module_version": "1.2.0",
            "_model_name": "LayoutModel",
            "_view_count": null,
            "_view_module": "@jupyter-widgets/base",
            "_view_module_version": "1.2.0",
            "_view_name": "LayoutView",
            "align_content": null,
            "align_items": null,
            "align_self": null,
            "border": null,
            "bottom": null,
            "display": null,
            "flex": null,
            "flex_flow": null,
            "grid_area": null,
            "grid_auto_columns": null,
            "grid_auto_flow": null,
            "grid_auto_rows": null,
            "grid_column": null,
            "grid_gap": null,
            "grid_row": null,
            "grid_template_areas": null,
            "grid_template_columns": null,
            "grid_template_rows": null,
            "height": null,
            "justify_content": null,
            "justify_items": null,
            "left": null,
            "margin": null,
            "max_height": null,
            "max_width": null,
            "min_height": null,
            "min_width": null,
            "object_fit": null,
            "object_position": null,
            "order": null,
            "overflow": null,
            "overflow_x": null,
            "overflow_y": null,
            "padding": null,
            "right": null,
            "top": null,
            "visibility": null,
            "width": null
          }
        },
        "1b85434577364eb0a6e58812c6620db3": {
          "model_module": "@jupyter-widgets/controls",
          "model_module_version": "1.5.0",
          "model_name": "DescriptionStyleModel",
          "state": {
            "_model_module": "@jupyter-widgets/controls",
            "_model_module_version": "1.5.0",
            "_model_name": "DescriptionStyleModel",
            "_view_count": null,
            "_view_module": "@jupyter-widgets/base",
            "_view_module_version": "1.2.0",
            "_view_name": "StyleView",
            "description_width": ""
          }
        },
        "1ba7508760914d78aaee7b580df1cdc7": {
          "model_module": "@jupyter-widgets/controls",
          "model_module_version": "1.5.0",
          "model_name": "HTMLModel",
          "state": {
            "_dom_classes": [],
            "_model_module": "@jupyter-widgets/controls",
            "_model_module_version": "1.5.0",
            "_model_name": "HTMLModel",
            "_view_count": null,
            "_view_module": "@jupyter-widgets/controls",
            "_view_module_version": "1.5.0",
            "_view_name": "HTMLView",
            "description": "",
            "description_tooltip": null,
            "layout": "IPY_MODEL_07e3acdccf5041e78f937f6372d5a41d",
            "placeholder": "​",
            "style": "IPY_MODEL_513c492b9a8e4e5ab04878a86026871f",
            "value": " 958/958 [00:00&lt;00:00, 11.8kB/s]"
          }
        },
        "1bb739a9d6604fe88793a3ae88e7b9a8": {
          "model_module": "@jupyter-widgets/controls",
          "model_module_version": "1.5.0",
          "model_name": "DescriptionStyleModel",
          "state": {
            "_model_module": "@jupyter-widgets/controls",
            "_model_module_version": "1.5.0",
            "_model_name": "DescriptionStyleModel",
            "_view_count": null,
            "_view_module": "@jupyter-widgets/base",
            "_view_module_version": "1.2.0",
            "_view_name": "StyleView",
            "description_width": ""
          }
        },
        "1bf270e23bb645f0a849b5ec105c1da4": {
          "model_module": "@jupyter-widgets/controls",
          "model_module_version": "1.5.0",
          "model_name": "HBoxModel",
          "state": {
            "_dom_classes": [],
            "_model_module": "@jupyter-widgets/controls",
            "_model_module_version": "1.5.0",
            "_model_name": "HBoxModel",
            "_view_count": null,
            "_view_module": "@jupyter-widgets/controls",
            "_view_module_version": "1.5.0",
            "_view_name": "HBoxView",
            "box_style": "",
            "children": [
              "IPY_MODEL_579dad32b47e49208a8e25ffba0f2c24",
              "IPY_MODEL_e18af142760e46f6a819c4dccebba40c",
              "IPY_MODEL_7b1b1f4f78c24d909de818fb3eb4543d"
            ],
            "layout": "IPY_MODEL_575272328c1a46c0be04cdcd1cdea3f4"
          }
        },
        "1d27f961b3684c10b5cdac11feb08e47": {
          "model_module": "@jupyter-widgets/controls",
          "model_module_version": "1.5.0",
          "model_name": "ProgressStyleModel",
          "state": {
            "_model_module": "@jupyter-widgets/controls",
            "_model_module_version": "1.5.0",
            "_model_name": "ProgressStyleModel",
            "_view_count": null,
            "_view_module": "@jupyter-widgets/base",
            "_view_module_version": "1.2.0",
            "_view_name": "StyleView",
            "bar_color": null,
            "description_width": ""
          }
        },
        "1e72a4f47a70415e83937b6df57cecf4": {
          "model_module": "@jupyter-widgets/base",
          "model_module_version": "1.2.0",
          "model_name": "LayoutModel",
          "state": {
            "_model_module": "@jupyter-widgets/base",
            "_model_module_version": "1.2.0",
            "_model_name": "LayoutModel",
            "_view_count": null,
            "_view_module": "@jupyter-widgets/base",
            "_view_module_version": "1.2.0",
            "_view_name": "LayoutView",
            "align_content": null,
            "align_items": null,
            "align_self": null,
            "border": null,
            "bottom": null,
            "display": null,
            "flex": null,
            "flex_flow": null,
            "grid_area": null,
            "grid_auto_columns": null,
            "grid_auto_flow": null,
            "grid_auto_rows": null,
            "grid_column": null,
            "grid_gap": null,
            "grid_row": null,
            "grid_template_areas": null,
            "grid_template_columns": null,
            "grid_template_rows": null,
            "height": null,
            "justify_content": null,
            "justify_items": null,
            "left": null,
            "margin": null,
            "max_height": null,
            "max_width": null,
            "min_height": null,
            "min_width": null,
            "object_fit": null,
            "object_position": null,
            "order": null,
            "overflow": null,
            "overflow_x": null,
            "overflow_y": null,
            "padding": null,
            "right": null,
            "top": null,
            "visibility": null,
            "width": null
          }
        },
        "1ed8f495359f4f56851a656efd20e202": {
          "model_module": "@jupyter-widgets/controls",
          "model_module_version": "1.5.0",
          "model_name": "HTMLModel",
          "state": {
            "_dom_classes": [],
            "_model_module": "@jupyter-widgets/controls",
            "_model_module_version": "1.5.0",
            "_model_name": "HTMLModel",
            "_view_count": null,
            "_view_module": "@jupyter-widgets/controls",
            "_view_module_version": "1.5.0",
            "_view_name": "HTMLView",
            "description": "",
            "description_tooltip": null,
            "layout": "IPY_MODEL_a983de5297974966beccb149c2640226",
            "placeholder": "​",
            "style": "IPY_MODEL_24be542fffe243109527c24d6a86ff51",
            "value": " 798k/798k [00:00&lt;00:00, 5.28MB/s]"
          }
        },
        "1f29a2a004514259982c4c4d9a025701": {
          "model_module": "@jupyter-widgets/controls",
          "model_module_version": "1.5.0",
          "model_name": "HTMLModel",
          "state": {
            "_dom_classes": [],
            "_model_module": "@jupyter-widgets/controls",
            "_model_module_version": "1.5.0",
            "_model_name": "HTMLModel",
            "_view_count": null,
            "_view_module": "@jupyter-widgets/controls",
            "_view_module_version": "1.5.0",
            "_view_name": "HTMLView",
            "description": "",
            "description_tooltip": null,
            "layout": "IPY_MODEL_984f06b6487046b19b4b8dfcc4786e9d",
            "placeholder": "​",
            "style": "IPY_MODEL_d35870c169514cc1a63303c044ff5081",
            "value": "tokenizer_config.json: 100%"
          }
        },
        "1f32eb8a35474a3c9fa566c59a94e7b3": {
          "model_module": "@jupyter-widgets/controls",
          "model_module_version": "1.5.0",
          "model_name": "DescriptionStyleModel",
          "state": {
            "_model_module": "@jupyter-widgets/controls",
            "_model_module_version": "1.5.0",
            "_model_name": "DescriptionStyleModel",
            "_view_count": null,
            "_view_module": "@jupyter-widgets/base",
            "_view_module_version": "1.2.0",
            "_view_name": "StyleView",
            "description_width": ""
          }
        },
        "20a8a82231fa4343807a33bd6d8e46fa": {
          "model_module": "@jupyter-widgets/controls",
          "model_module_version": "1.5.0",
          "model_name": "DescriptionStyleModel",
          "state": {
            "_model_module": "@jupyter-widgets/controls",
            "_model_module_version": "1.5.0",
            "_model_name": "DescriptionStyleModel",
            "_view_count": null,
            "_view_module": "@jupyter-widgets/base",
            "_view_module_version": "1.2.0",
            "_view_name": "StyleView",
            "description_width": ""
          }
        },
        "20ac4f1f62a740a9856cf856088ccc39": {
          "model_module": "@jupyter-widgets/base",
          "model_module_version": "1.2.0",
          "model_name": "LayoutModel",
          "state": {
            "_model_module": "@jupyter-widgets/base",
            "_model_module_version": "1.2.0",
            "_model_name": "LayoutModel",
            "_view_count": null,
            "_view_module": "@jupyter-widgets/base",
            "_view_module_version": "1.2.0",
            "_view_name": "LayoutView",
            "align_content": null,
            "align_items": null,
            "align_self": null,
            "border": null,
            "bottom": null,
            "display": null,
            "flex": null,
            "flex_flow": null,
            "grid_area": null,
            "grid_auto_columns": null,
            "grid_auto_flow": null,
            "grid_auto_rows": null,
            "grid_column": null,
            "grid_gap": null,
            "grid_row": null,
            "grid_template_areas": null,
            "grid_template_columns": null,
            "grid_template_rows": null,
            "height": null,
            "justify_content": null,
            "justify_items": null,
            "left": null,
            "margin": null,
            "max_height": null,
            "max_width": null,
            "min_height": null,
            "min_width": null,
            "object_fit": null,
            "object_position": null,
            "order": null,
            "overflow": null,
            "overflow_x": null,
            "overflow_y": null,
            "padding": null,
            "right": null,
            "top": null,
            "visibility": null,
            "width": null
          }
        },
        "20f9ba0a0fc24d1fa129bc9ea31efca3": {
          "model_module": "@jupyter-widgets/controls",
          "model_module_version": "1.5.0",
          "model_name": "DescriptionStyleModel",
          "state": {
            "_model_module": "@jupyter-widgets/controls",
            "_model_module_version": "1.5.0",
            "_model_name": "DescriptionStyleModel",
            "_view_count": null,
            "_view_module": "@jupyter-widgets/base",
            "_view_module_version": "1.2.0",
            "_view_name": "StyleView",
            "description_width": ""
          }
        },
        "2136a7837ccb4f66bee77dcf62d4a7cd": {
          "model_module": "@jupyter-widgets/controls",
          "model_module_version": "1.5.0",
          "model_name": "ProgressStyleModel",
          "state": {
            "_model_module": "@jupyter-widgets/controls",
            "_model_module_version": "1.5.0",
            "_model_name": "ProgressStyleModel",
            "_view_count": null,
            "_view_module": "@jupyter-widgets/base",
            "_view_module_version": "1.2.0",
            "_view_name": "StyleView",
            "bar_color": null,
            "description_width": ""
          }
        },
        "21e9ac2fd53549509498cdde02ee260f": {
          "model_module": "@jupyter-widgets/controls",
          "model_module_version": "1.5.0",
          "model_name": "HTMLModel",
          "state": {
            "_dom_classes": [],
            "_model_module": "@jupyter-widgets/controls",
            "_model_module_version": "1.5.0",
            "_model_name": "HTMLModel",
            "_view_count": null,
            "_view_module": "@jupyter-widgets/controls",
            "_view_module_version": "1.5.0",
            "_view_name": "HTMLView",
            "description": "",
            "description_tooltip": null,
            "layout": "IPY_MODEL_887ab7c4d3c24e39b6b7ffdcea1b4e1b",
            "placeholder": "​",
            "style": "IPY_MODEL_42b4236ce2ab419d871bef3d9813432f",
            "value": "spm.model: 100%"
          }
        },
        "22125e68ba2a491883d42b946910910f": {
          "model_module": "@jupyter-widgets/controls",
          "model_module_version": "1.5.0",
          "model_name": "DescriptionStyleModel",
          "state": {
            "_model_module": "@jupyter-widgets/controls",
            "_model_module_version": "1.5.0",
            "_model_name": "DescriptionStyleModel",
            "_view_count": null,
            "_view_module": "@jupyter-widgets/base",
            "_view_module_version": "1.2.0",
            "_view_name": "StyleView",
            "description_width": ""
          }
        },
        "2273e77bf2ea4a1aa8820581f8c13757": {
          "model_module": "@jupyter-widgets/controls",
          "model_module_version": "1.5.0",
          "model_name": "ProgressStyleModel",
          "state": {
            "_model_module": "@jupyter-widgets/controls",
            "_model_module_version": "1.5.0",
            "_model_name": "ProgressStyleModel",
            "_view_count": null,
            "_view_module": "@jupyter-widgets/base",
            "_view_module_version": "1.2.0",
            "_view_name": "StyleView",
            "bar_color": null,
            "description_width": ""
          }
        },
        "22840adf30d14da383c0fbe1413c1c27": {
          "model_module": "@jupyter-widgets/controls",
          "model_module_version": "1.5.0",
          "model_name": "FloatProgressModel",
          "state": {
            "_dom_classes": [],
            "_model_module": "@jupyter-widgets/controls",
            "_model_module_version": "1.5.0",
            "_model_name": "FloatProgressModel",
            "_view_count": null,
            "_view_module": "@jupyter-widgets/controls",
            "_view_module_version": "1.5.0",
            "_view_name": "ProgressView",
            "bar_style": "success",
            "description": "",
            "description_tooltip": null,
            "layout": "IPY_MODEL_0b10ccbe89294dbcb39e3ac1100c85f3",
            "max": 53,
            "min": 0,
            "orientation": "horizontal",
            "style": "IPY_MODEL_e8218b75ca0d4ea3b0b10c7ebb6033b7",
            "value": 53
          }
        },
        "22bb232000a34d4db6a4a41b333dea32": {
          "model_module": "@jupyter-widgets/base",
          "model_module_version": "1.2.0",
          "model_name": "LayoutModel",
          "state": {
            "_model_module": "@jupyter-widgets/base",
            "_model_module_version": "1.2.0",
            "_model_name": "LayoutModel",
            "_view_count": null,
            "_view_module": "@jupyter-widgets/base",
            "_view_module_version": "1.2.0",
            "_view_name": "LayoutView",
            "align_content": null,
            "align_items": null,
            "align_self": null,
            "border": null,
            "bottom": null,
            "display": null,
            "flex": null,
            "flex_flow": null,
            "grid_area": null,
            "grid_auto_columns": null,
            "grid_auto_flow": null,
            "grid_auto_rows": null,
            "grid_column": null,
            "grid_gap": null,
            "grid_row": null,
            "grid_template_areas": null,
            "grid_template_columns": null,
            "grid_template_rows": null,
            "height": null,
            "justify_content": null,
            "justify_items": null,
            "left": null,
            "margin": null,
            "max_height": null,
            "max_width": null,
            "min_height": null,
            "min_width": null,
            "object_fit": null,
            "object_position": null,
            "order": null,
            "overflow": null,
            "overflow_x": null,
            "overflow_y": null,
            "padding": null,
            "right": null,
            "top": null,
            "visibility": null,
            "width": null
          }
        },
        "22bfca47439a423c840b565f75719ea5": {
          "model_module": "@jupyter-widgets/base",
          "model_module_version": "1.2.0",
          "model_name": "LayoutModel",
          "state": {
            "_model_module": "@jupyter-widgets/base",
            "_model_module_version": "1.2.0",
            "_model_name": "LayoutModel",
            "_view_count": null,
            "_view_module": "@jupyter-widgets/base",
            "_view_module_version": "1.2.0",
            "_view_name": "LayoutView",
            "align_content": null,
            "align_items": null,
            "align_self": null,
            "border": null,
            "bottom": null,
            "display": null,
            "flex": null,
            "flex_flow": null,
            "grid_area": null,
            "grid_auto_columns": null,
            "grid_auto_flow": null,
            "grid_auto_rows": null,
            "grid_column": null,
            "grid_gap": null,
            "grid_row": null,
            "grid_template_areas": null,
            "grid_template_columns": null,
            "grid_template_rows": null,
            "height": null,
            "justify_content": null,
            "justify_items": null,
            "left": null,
            "margin": null,
            "max_height": null,
            "max_width": null,
            "min_height": null,
            "min_width": null,
            "object_fit": null,
            "object_position": null,
            "order": null,
            "overflow": null,
            "overflow_x": null,
            "overflow_y": null,
            "padding": null,
            "right": null,
            "top": null,
            "visibility": null,
            "width": null
          }
        },
        "2334bd5eea5446a39ede079c76633338": {
          "model_module": "@jupyter-widgets/base",
          "model_module_version": "1.2.0",
          "model_name": "LayoutModel",
          "state": {
            "_model_module": "@jupyter-widgets/base",
            "_model_module_version": "1.2.0",
            "_model_name": "LayoutModel",
            "_view_count": null,
            "_view_module": "@jupyter-widgets/base",
            "_view_module_version": "1.2.0",
            "_view_name": "LayoutView",
            "align_content": null,
            "align_items": null,
            "align_self": null,
            "border": null,
            "bottom": null,
            "display": null,
            "flex": null,
            "flex_flow": null,
            "grid_area": null,
            "grid_auto_columns": null,
            "grid_auto_flow": null,
            "grid_auto_rows": null,
            "grid_column": null,
            "grid_gap": null,
            "grid_row": null,
            "grid_template_areas": null,
            "grid_template_columns": null,
            "grid_template_rows": null,
            "height": null,
            "justify_content": null,
            "justify_items": null,
            "left": null,
            "margin": null,
            "max_height": null,
            "max_width": null,
            "min_height": null,
            "min_width": null,
            "object_fit": null,
            "object_position": null,
            "order": null,
            "overflow": null,
            "overflow_x": null,
            "overflow_y": null,
            "padding": null,
            "right": null,
            "top": null,
            "visibility": null,
            "width": null
          }
        },
        "24be542fffe243109527c24d6a86ff51": {
          "model_module": "@jupyter-widgets/controls",
          "model_module_version": "1.5.0",
          "model_name": "DescriptionStyleModel",
          "state": {
            "_model_module": "@jupyter-widgets/controls",
            "_model_module_version": "1.5.0",
            "_model_name": "DescriptionStyleModel",
            "_view_count": null,
            "_view_module": "@jupyter-widgets/base",
            "_view_module_version": "1.2.0",
            "_view_name": "StyleView",
            "description_width": ""
          }
        },
        "25881b0ac03b4595b31584bdc3645e65": {
          "model_module": "@jupyter-widgets/base",
          "model_module_version": "1.2.0",
          "model_name": "LayoutModel",
          "state": {
            "_model_module": "@jupyter-widgets/base",
            "_model_module_version": "1.2.0",
            "_model_name": "LayoutModel",
            "_view_count": null,
            "_view_module": "@jupyter-widgets/base",
            "_view_module_version": "1.2.0",
            "_view_name": "LayoutView",
            "align_content": null,
            "align_items": null,
            "align_self": null,
            "border": null,
            "bottom": null,
            "display": null,
            "flex": null,
            "flex_flow": null,
            "grid_area": null,
            "grid_auto_columns": null,
            "grid_auto_flow": null,
            "grid_auto_rows": null,
            "grid_column": null,
            "grid_gap": null,
            "grid_row": null,
            "grid_template_areas": null,
            "grid_template_columns": null,
            "grid_template_rows": null,
            "height": null,
            "justify_content": null,
            "justify_items": null,
            "left": null,
            "margin": null,
            "max_height": null,
            "max_width": null,
            "min_height": null,
            "min_width": null,
            "object_fit": null,
            "object_position": null,
            "order": null,
            "overflow": null,
            "overflow_x": null,
            "overflow_y": null,
            "padding": null,
            "right": null,
            "top": null,
            "visibility": null,
            "width": null
          }
        },
        "26813d7c8e43496e8967ff5a72011be0": {
          "model_module": "@jupyter-widgets/controls",
          "model_module_version": "1.5.0",
          "model_name": "HBoxModel",
          "state": {
            "_dom_classes": [],
            "_model_module": "@jupyter-widgets/controls",
            "_model_module_version": "1.5.0",
            "_model_name": "HBoxModel",
            "_view_count": null,
            "_view_module": "@jupyter-widgets/controls",
            "_view_module_version": "1.5.0",
            "_view_name": "HBoxView",
            "box_style": "",
            "children": [
              "IPY_MODEL_ec022592712047a18aeae39c6be48539",
              "IPY_MODEL_9e8553a35df24780bee26f5721763b06",
              "IPY_MODEL_1ed8f495359f4f56851a656efd20e202"
            ],
            "layout": "IPY_MODEL_62ebe0900fcf406ebe27dc19a623bea2"
          }
        },
        "2700be5a01ca492db678a802f4932480": {
          "model_module": "@jupyter-widgets/base",
          "model_module_version": "1.2.0",
          "model_name": "LayoutModel",
          "state": {
            "_model_module": "@jupyter-widgets/base",
            "_model_module_version": "1.2.0",
            "_model_name": "LayoutModel",
            "_view_count": null,
            "_view_module": "@jupyter-widgets/base",
            "_view_module_version": "1.2.0",
            "_view_name": "LayoutView",
            "align_content": null,
            "align_items": null,
            "align_self": null,
            "border": null,
            "bottom": null,
            "display": null,
            "flex": null,
            "flex_flow": null,
            "grid_area": null,
            "grid_auto_columns": null,
            "grid_auto_flow": null,
            "grid_auto_rows": null,
            "grid_column": null,
            "grid_gap": null,
            "grid_row": null,
            "grid_template_areas": null,
            "grid_template_columns": null,
            "grid_template_rows": null,
            "height": null,
            "justify_content": null,
            "justify_items": null,
            "left": null,
            "margin": null,
            "max_height": null,
            "max_width": null,
            "min_height": null,
            "min_width": null,
            "object_fit": null,
            "object_position": null,
            "order": null,
            "overflow": null,
            "overflow_x": null,
            "overflow_y": null,
            "padding": null,
            "right": null,
            "top": null,
            "visibility": null,
            "width": null
          }
        },
        "271c2166e8774b37bcbb1319b2cb5294": {
          "model_module": "@jupyter-widgets/controls",
          "model_module_version": "1.5.0",
          "model_name": "HTMLModel",
          "state": {
            "_dom_classes": [],
            "_model_module": "@jupyter-widgets/controls",
            "_model_module_version": "1.5.0",
            "_model_name": "HTMLModel",
            "_view_count": null,
            "_view_module": "@jupyter-widgets/controls",
            "_view_module_version": "1.5.0",
            "_view_name": "HTMLView",
            "description": "",
            "description_tooltip": null,
            "layout": "IPY_MODEL_46e4f3e228bc45ac8e5fef4abe3c4b78",
            "placeholder": "​",
            "style": "IPY_MODEL_1bb739a9d6604fe88793a3ae88e7b9a8",
            "value": "tokenizer.json: 100%"
          }
        },
        "2793b5a5693f4a6581cebdae885610f3": {
          "model_module": "@jupyter-widgets/controls",
          "model_module_version": "1.5.0",
          "model_name": "HTMLModel",
          "state": {
            "_dom_classes": [],
            "_model_module": "@jupyter-widgets/controls",
            "_model_module_version": "1.5.0",
            "_model_name": "HTMLModel",
            "_view_count": null,
            "_view_module": "@jupyter-widgets/controls",
            "_view_module_version": "1.5.0",
            "_view_name": "HTMLView",
            "description": "",
            "description_tooltip": null,
            "layout": "IPY_MODEL_a478c247d8fd4e9194bdea43bd23d962",
            "placeholder": "​",
            "style": "IPY_MODEL_c0fd16a49a67471e9431471e4359ad64",
            "value": "model.safetensors: 100%"
          }
        },
        "2875db36c95d4ae0b626978701399eff": {
          "model_module": "@jupyter-widgets/controls",
          "model_module_version": "1.5.0",
          "model_name": "DescriptionStyleModel",
          "state": {
            "_model_module": "@jupyter-widgets/controls",
            "_model_module_version": "1.5.0",
            "_model_name": "DescriptionStyleModel",
            "_view_count": null,
            "_view_module": "@jupyter-widgets/base",
            "_view_module_version": "1.2.0",
            "_view_name": "StyleView",
            "description_width": ""
          }
        },
        "287dbabcf2f9422dba62f2dea97f3b0f": {
          "model_module": "@jupyter-widgets/controls",
          "model_module_version": "1.5.0",
          "model_name": "FloatProgressModel",
          "state": {
            "_dom_classes": [],
            "_model_module": "@jupyter-widgets/controls",
            "_model_module_version": "1.5.0",
            "_model_name": "FloatProgressModel",
            "_view_count": null,
            "_view_module": "@jupyter-widgets/controls",
            "_view_module_version": "1.5.0",
            "_view_name": "ProgressView",
            "bar_style": "success",
            "description": "",
            "description_tooltip": null,
            "layout": "IPY_MODEL_c388a3ee23bf4b298dc9ab78e21ddde4",
            "max": 349,
            "min": 0,
            "orientation": "horizontal",
            "style": "IPY_MODEL_ffbed7d02ffb4f7bb97c96f312651d31",
            "value": 349
          }
        },
        "28c48a34e2c049238f471d7401b62585": {
          "model_module": "@jupyter-widgets/controls",
          "model_module_version": "1.5.0",
          "model_name": "DescriptionStyleModel",
          "state": {
            "_model_module": "@jupyter-widgets/controls",
            "_model_module_version": "1.5.0",
            "_model_name": "DescriptionStyleModel",
            "_view_count": null,
            "_view_module": "@jupyter-widgets/base",
            "_view_module_version": "1.2.0",
            "_view_name": "StyleView",
            "description_width": ""
          }
        },
        "2969bae47ca843f1baa6efd899f80693": {
          "model_module": "@jupyter-widgets/controls",
          "model_module_version": "1.5.0",
          "model_name": "HBoxModel",
          "state": {
            "_dom_classes": [],
            "_model_module": "@jupyter-widgets/controls",
            "_model_module_version": "1.5.0",
            "_model_name": "HBoxModel",
            "_view_count": null,
            "_view_module": "@jupyter-widgets/controls",
            "_view_module_version": "1.5.0",
            "_view_name": "HBoxView",
            "box_style": "",
            "children": [
              "IPY_MODEL_46545ec20c3f446ca74870fb0c521e9f",
              "IPY_MODEL_4c5514afe0b04127976d5d8c5f132b55",
              "IPY_MODEL_46dcaceb120e4b5e9af7a7c947d8fed7"
            ],
            "layout": "IPY_MODEL_e822b3ec2d4f40868c5cdc4ac8a4203b"
          }
        },
        "29b5b303af1248b5a7bb67fb97174ae2": {
          "model_module": "@jupyter-widgets/base",
          "model_module_version": "1.2.0",
          "model_name": "LayoutModel",
          "state": {
            "_model_module": "@jupyter-widgets/base",
            "_model_module_version": "1.2.0",
            "_model_name": "LayoutModel",
            "_view_count": null,
            "_view_module": "@jupyter-widgets/base",
            "_view_module_version": "1.2.0",
            "_view_name": "LayoutView",
            "align_content": null,
            "align_items": null,
            "align_self": null,
            "border": null,
            "bottom": null,
            "display": null,
            "flex": null,
            "flex_flow": null,
            "grid_area": null,
            "grid_auto_columns": null,
            "grid_auto_flow": null,
            "grid_auto_rows": null,
            "grid_column": null,
            "grid_gap": null,
            "grid_row": null,
            "grid_template_areas": null,
            "grid_template_columns": null,
            "grid_template_rows": null,
            "height": null,
            "justify_content": null,
            "justify_items": null,
            "left": null,
            "margin": null,
            "max_height": null,
            "max_width": null,
            "min_height": null,
            "min_width": null,
            "object_fit": null,
            "object_position": null,
            "order": null,
            "overflow": null,
            "overflow_x": null,
            "overflow_y": null,
            "padding": null,
            "right": null,
            "top": null,
            "visibility": null,
            "width": null
          }
        },
        "2b217c505f9240d680ec3c695b28e009": {
          "model_module": "@jupyter-widgets/controls",
          "model_module_version": "1.5.0",
          "model_name": "FloatProgressModel",
          "state": {
            "_dom_classes": [],
            "_model_module": "@jupyter-widgets/controls",
            "_model_module_version": "1.5.0",
            "_model_name": "FloatProgressModel",
            "_view_count": null,
            "_view_module": "@jupyter-widgets/controls",
            "_view_module_version": "1.5.0",
            "_view_name": "ProgressView",
            "bar_style": "success",
            "description": "",
            "description_tooltip": null,
            "layout": "IPY_MODEL_80b244dfe85245aeaf3ec409c38ea97a",
            "max": 958,
            "min": 0,
            "orientation": "horizontal",
            "style": "IPY_MODEL_dd06f7f97a4543bf90692e00680b3f95",
            "value": 958
          }
        },
        "2b779affaad941d4ab93063c010f7dd2": {
          "model_module": "@jupyter-widgets/controls",
          "model_module_version": "1.5.0",
          "model_name": "HTMLModel",
          "state": {
            "_dom_classes": [],
            "_model_module": "@jupyter-widgets/controls",
            "_model_module_version": "1.5.0",
            "_model_name": "HTMLModel",
            "_view_count": null,
            "_view_module": "@jupyter-widgets/controls",
            "_view_module_version": "1.5.0",
            "_view_name": "HTMLView",
            "description": "",
            "description_tooltip": null,
            "layout": "IPY_MODEL_8afebc938b624210ac2a3640e1670ce0",
            "placeholder": "​",
            "style": "IPY_MODEL_a868187b3dff4063ade24f7c366fa8a4",
            "value": " 1.42G/1.42G [00:33&lt;00:00, 42.5MB/s]"
          }
        },
        "2c5db51163ac48859e2ee182bb0784f0": {
          "model_module": "@jupyter-widgets/base",
          "model_module_version": "1.2.0",
          "model_name": "LayoutModel",
          "state": {
            "_model_module": "@jupyter-widgets/base",
            "_model_module_version": "1.2.0",
            "_model_name": "LayoutModel",
            "_view_count": null,
            "_view_module": "@jupyter-widgets/base",
            "_view_module_version": "1.2.0",
            "_view_name": "LayoutView",
            "align_content": null,
            "align_items": null,
            "align_self": null,
            "border": null,
            "bottom": null,
            "display": null,
            "flex": null,
            "flex_flow": null,
            "grid_area": null,
            "grid_auto_columns": null,
            "grid_auto_flow": null,
            "grid_auto_rows": null,
            "grid_column": null,
            "grid_gap": null,
            "grid_row": null,
            "grid_template_areas": null,
            "grid_template_columns": null,
            "grid_template_rows": null,
            "height": null,
            "justify_content": null,
            "justify_items": null,
            "left": null,
            "margin": null,
            "max_height": null,
            "max_width": null,
            "min_height": null,
            "min_width": null,
            "object_fit": null,
            "object_position": null,
            "order": null,
            "overflow": null,
            "overflow_x": null,
            "overflow_y": null,
            "padding": null,
            "right": null,
            "top": null,
            "visibility": null,
            "width": null
          }
        },
        "2df320dea6144166acd636fc72732611": {
          "model_module": "@jupyter-widgets/controls",
          "model_module_version": "1.5.0",
          "model_name": "FloatProgressModel",
          "state": {
            "_dom_classes": [],
            "_model_module": "@jupyter-widgets/controls",
            "_model_module_version": "1.5.0",
            "_model_name": "FloatProgressModel",
            "_view_count": null,
            "_view_module": "@jupyter-widgets/controls",
            "_view_module_version": "1.5.0",
            "_view_name": "ProgressView",
            "bar_style": "success",
            "description": "",
            "description_tooltip": null,
            "layout": "IPY_MODEL_d70173f75fc94b279d6c5002e4d327b4",
            "max": 15,
            "min": 0,
            "orientation": "horizontal",
            "style": "IPY_MODEL_b2830ab359fc47d9b020e4a54b1e81e7",
            "value": 15
          }
        },
        "2e1b8fab20414d26bfffe32c96194f0e": {
          "model_module": "@jupyter-widgets/controls",
          "model_module_version": "1.5.0",
          "model_name": "HTMLModel",
          "state": {
            "_dom_classes": [],
            "_model_module": "@jupyter-widgets/controls",
            "_model_module_version": "1.5.0",
            "_model_name": "HTMLModel",
            "_view_count": null,
            "_view_module": "@jupyter-widgets/controls",
            "_view_module_version": "1.5.0",
            "_view_name": "HTMLView",
            "description": "",
            "description_tooltip": null,
            "layout": "IPY_MODEL_c6b16379046d4cb29031be0507cc7100",
            "placeholder": "​",
            "style": "IPY_MODEL_19b3a138cf364bc48f58a552e1ddd85f",
            "value": "tokenizer_config.json: 100%"
          }
        },
        "2e4c6ab39e3241e78c1f4bf56cd7bfa1": {
          "model_module": "@jupyter-widgets/base",
          "model_module_version": "1.2.0",
          "model_name": "LayoutModel",
          "state": {
            "_model_module": "@jupyter-widgets/base",
            "_model_module_version": "1.2.0",
            "_model_name": "LayoutModel",
            "_view_count": null,
            "_view_module": "@jupyter-widgets/base",
            "_view_module_version": "1.2.0",
            "_view_name": "LayoutView",
            "align_content": null,
            "align_items": null,
            "align_self": null,
            "border": null,
            "bottom": null,
            "display": null,
            "flex": null,
            "flex_flow": null,
            "grid_area": null,
            "grid_auto_columns": null,
            "grid_auto_flow": null,
            "grid_auto_rows": null,
            "grid_column": null,
            "grid_gap": null,
            "grid_row": null,
            "grid_template_areas": null,
            "grid_template_columns": null,
            "grid_template_rows": null,
            "height": null,
            "justify_content": null,
            "justify_items": null,
            "left": null,
            "margin": null,
            "max_height": null,
            "max_width": null,
            "min_height": null,
            "min_width": null,
            "object_fit": null,
            "object_position": null,
            "order": null,
            "overflow": null,
            "overflow_x": null,
            "overflow_y": null,
            "padding": null,
            "right": null,
            "top": null,
            "visibility": null,
            "width": null
          }
        },
        "2e65d33269c3497fab43cdd5d554f4a3": {
          "model_module": "@jupyter-widgets/base",
          "model_module_version": "1.2.0",
          "model_name": "LayoutModel",
          "state": {
            "_model_module": "@jupyter-widgets/base",
            "_model_module_version": "1.2.0",
            "_model_name": "LayoutModel",
            "_view_count": null,
            "_view_module": "@jupyter-widgets/base",
            "_view_module_version": "1.2.0",
            "_view_name": "LayoutView",
            "align_content": null,
            "align_items": null,
            "align_self": null,
            "border": null,
            "bottom": null,
            "display": null,
            "flex": null,
            "flex_flow": null,
            "grid_area": null,
            "grid_auto_columns": null,
            "grid_auto_flow": null,
            "grid_auto_rows": null,
            "grid_column": null,
            "grid_gap": null,
            "grid_row": null,
            "grid_template_areas": null,
            "grid_template_columns": null,
            "grid_template_rows": null,
            "height": null,
            "justify_content": null,
            "justify_items": null,
            "left": null,
            "margin": null,
            "max_height": null,
            "max_width": null,
            "min_height": null,
            "min_width": null,
            "object_fit": null,
            "object_position": null,
            "order": null,
            "overflow": null,
            "overflow_x": null,
            "overflow_y": null,
            "padding": null,
            "right": null,
            "top": null,
            "visibility": null,
            "width": null
          }
        },
        "2faa19bbd1de418cacac10d33f7f0b02": {
          "model_module": "@jupyter-widgets/base",
          "model_module_version": "1.2.0",
          "model_name": "LayoutModel",
          "state": {
            "_model_module": "@jupyter-widgets/base",
            "_model_module_version": "1.2.0",
            "_model_name": "LayoutModel",
            "_view_count": null,
            "_view_module": "@jupyter-widgets/base",
            "_view_module_version": "1.2.0",
            "_view_name": "LayoutView",
            "align_content": null,
            "align_items": null,
            "align_self": null,
            "border": null,
            "bottom": null,
            "display": null,
            "flex": null,
            "flex_flow": null,
            "grid_area": null,
            "grid_auto_columns": null,
            "grid_auto_flow": null,
            "grid_auto_rows": null,
            "grid_column": null,
            "grid_gap": null,
            "grid_row": null,
            "grid_template_areas": null,
            "grid_template_columns": null,
            "grid_template_rows": null,
            "height": null,
            "justify_content": null,
            "justify_items": null,
            "left": null,
            "margin": null,
            "max_height": null,
            "max_width": null,
            "min_height": null,
            "min_width": null,
            "object_fit": null,
            "object_position": null,
            "order": null,
            "overflow": null,
            "overflow_x": null,
            "overflow_y": null,
            "padding": null,
            "right": null,
            "top": null,
            "visibility": null,
            "width": null
          }
        },
        "307e10ceb7fc43b29354cf735b57109a": {
          "model_module": "@jupyter-widgets/base",
          "model_module_version": "1.2.0",
          "model_name": "LayoutModel",
          "state": {
            "_model_module": "@jupyter-widgets/base",
            "_model_module_version": "1.2.0",
            "_model_name": "LayoutModel",
            "_view_count": null,
            "_view_module": "@jupyter-widgets/base",
            "_view_module_version": "1.2.0",
            "_view_name": "LayoutView",
            "align_content": null,
            "align_items": null,
            "align_self": null,
            "border": null,
            "bottom": null,
            "display": null,
            "flex": null,
            "flex_flow": null,
            "grid_area": null,
            "grid_auto_columns": null,
            "grid_auto_flow": null,
            "grid_auto_rows": null,
            "grid_column": null,
            "grid_gap": null,
            "grid_row": null,
            "grid_template_areas": null,
            "grid_template_columns": null,
            "grid_template_rows": null,
            "height": null,
            "justify_content": null,
            "justify_items": null,
            "left": null,
            "margin": null,
            "max_height": null,
            "max_width": null,
            "min_height": null,
            "min_width": null,
            "object_fit": null,
            "object_position": null,
            "order": null,
            "overflow": null,
            "overflow_x": null,
            "overflow_y": null,
            "padding": null,
            "right": null,
            "top": null,
            "visibility": null,
            "width": null
          }
        },
        "30a5019125af4b6ab2324463a5d2d18c": {
          "model_module": "@jupyter-widgets/base",
          "model_module_version": "1.2.0",
          "model_name": "LayoutModel",
          "state": {
            "_model_module": "@jupyter-widgets/base",
            "_model_module_version": "1.2.0",
            "_model_name": "LayoutModel",
            "_view_count": null,
            "_view_module": "@jupyter-widgets/base",
            "_view_module_version": "1.2.0",
            "_view_name": "LayoutView",
            "align_content": null,
            "align_items": null,
            "align_self": null,
            "border": null,
            "bottom": null,
            "display": null,
            "flex": null,
            "flex_flow": null,
            "grid_area": null,
            "grid_auto_columns": null,
            "grid_auto_flow": null,
            "grid_auto_rows": null,
            "grid_column": null,
            "grid_gap": null,
            "grid_row": null,
            "grid_template_areas": null,
            "grid_template_columns": null,
            "grid_template_rows": null,
            "height": null,
            "justify_content": null,
            "justify_items": null,
            "left": null,
            "margin": null,
            "max_height": null,
            "max_width": null,
            "min_height": null,
            "min_width": null,
            "object_fit": null,
            "object_position": null,
            "order": null,
            "overflow": null,
            "overflow_x": null,
            "overflow_y": null,
            "padding": null,
            "right": null,
            "top": null,
            "visibility": null,
            "width": null
          }
        },
        "34154c0572cd499ca457fd6ebacfc540": {
          "model_module": "@jupyter-widgets/controls",
          "model_module_version": "1.5.0",
          "model_name": "DescriptionStyleModel",
          "state": {
            "_model_module": "@jupyter-widgets/controls",
            "_model_module_version": "1.5.0",
            "_model_name": "DescriptionStyleModel",
            "_view_count": null,
            "_view_module": "@jupyter-widgets/base",
            "_view_module_version": "1.2.0",
            "_view_name": "StyleView",
            "description_width": ""
          }
        },
        "350b6efdec034420843cdbebf6130e37": {
          "model_module": "@jupyter-widgets/base",
          "model_module_version": "1.2.0",
          "model_name": "LayoutModel",
          "state": {
            "_model_module": "@jupyter-widgets/base",
            "_model_module_version": "1.2.0",
            "_model_name": "LayoutModel",
            "_view_count": null,
            "_view_module": "@jupyter-widgets/base",
            "_view_module_version": "1.2.0",
            "_view_name": "LayoutView",
            "align_content": null,
            "align_items": null,
            "align_self": null,
            "border": null,
            "bottom": null,
            "display": null,
            "flex": null,
            "flex_flow": null,
            "grid_area": null,
            "grid_auto_columns": null,
            "grid_auto_flow": null,
            "grid_auto_rows": null,
            "grid_column": null,
            "grid_gap": null,
            "grid_row": null,
            "grid_template_areas": null,
            "grid_template_columns": null,
            "grid_template_rows": null,
            "height": null,
            "justify_content": null,
            "justify_items": null,
            "left": null,
            "margin": null,
            "max_height": null,
            "max_width": null,
            "min_height": null,
            "min_width": null,
            "object_fit": null,
            "object_position": null,
            "order": null,
            "overflow": null,
            "overflow_x": null,
            "overflow_y": null,
            "padding": null,
            "right": null,
            "top": null,
            "visibility": null,
            "width": null
          }
        },
        "37a6332d65eb4c11a44f484865b1f2ff": {
          "model_module": "@jupyter-widgets/base",
          "model_module_version": "1.2.0",
          "model_name": "LayoutModel",
          "state": {
            "_model_module": "@jupyter-widgets/base",
            "_model_module_version": "1.2.0",
            "_model_name": "LayoutModel",
            "_view_count": null,
            "_view_module": "@jupyter-widgets/base",
            "_view_module_version": "1.2.0",
            "_view_name": "LayoutView",
            "align_content": null,
            "align_items": null,
            "align_self": null,
            "border": null,
            "bottom": null,
            "display": null,
            "flex": null,
            "flex_flow": null,
            "grid_area": null,
            "grid_auto_columns": null,
            "grid_auto_flow": null,
            "grid_auto_rows": null,
            "grid_column": null,
            "grid_gap": null,
            "grid_row": null,
            "grid_template_areas": null,
            "grid_template_columns": null,
            "grid_template_rows": null,
            "height": null,
            "justify_content": null,
            "justify_items": null,
            "left": null,
            "margin": null,
            "max_height": null,
            "max_width": null,
            "min_height": null,
            "min_width": null,
            "object_fit": null,
            "object_position": null,
            "order": null,
            "overflow": null,
            "overflow_x": null,
            "overflow_y": null,
            "padding": null,
            "right": null,
            "top": null,
            "visibility": null,
            "width": null
          }
        },
        "3906a0aad53c4a3fbe11001d4c5d0fc7": {
          "model_module": "@jupyter-widgets/base",
          "model_module_version": "1.2.0",
          "model_name": "LayoutModel",
          "state": {
            "_model_module": "@jupyter-widgets/base",
            "_model_module_version": "1.2.0",
            "_model_name": "LayoutModel",
            "_view_count": null,
            "_view_module": "@jupyter-widgets/base",
            "_view_module_version": "1.2.0",
            "_view_name": "LayoutView",
            "align_content": null,
            "align_items": null,
            "align_self": null,
            "border": null,
            "bottom": null,
            "display": null,
            "flex": null,
            "flex_flow": null,
            "grid_area": null,
            "grid_auto_columns": null,
            "grid_auto_flow": null,
            "grid_auto_rows": null,
            "grid_column": null,
            "grid_gap": null,
            "grid_row": null,
            "grid_template_areas": null,
            "grid_template_columns": null,
            "grid_template_rows": null,
            "height": null,
            "justify_content": null,
            "justify_items": null,
            "left": null,
            "margin": null,
            "max_height": null,
            "max_width": null,
            "min_height": null,
            "min_width": null,
            "object_fit": null,
            "object_position": null,
            "order": null,
            "overflow": null,
            "overflow_x": null,
            "overflow_y": null,
            "padding": null,
            "right": null,
            "top": null,
            "visibility": null,
            "width": null
          }
        },
        "3a5eace0aaf14833a6a613993944b36c": {
          "model_module": "@jupyter-widgets/controls",
          "model_module_version": "1.5.0",
          "model_name": "HTMLModel",
          "state": {
            "_dom_classes": [],
            "_model_module": "@jupyter-widgets/controls",
            "_model_module_version": "1.5.0",
            "_model_name": "HTMLModel",
            "_view_count": null,
            "_view_module": "@jupyter-widgets/controls",
            "_view_module_version": "1.5.0",
            "_view_name": "HTMLView",
            "description": "",
            "description_tooltip": null,
            "layout": "IPY_MODEL_c4987976333d496681a6d6b658c8c345",
            "placeholder": "​",
            "style": "IPY_MODEL_9a35fb6f8f4548ef943569df73a3486f",
            "value": " 53.0/53.0 [00:00&lt;00:00, 2.74kB/s]"
          }
        },
        "3a8538c5050c484590e269978d02eb7e": {
          "model_module": "@jupyter-widgets/controls",
          "model_module_version": "1.5.0",
          "model_name": "ProgressStyleModel",
          "state": {
            "_model_module": "@jupyter-widgets/controls",
            "_model_module_version": "1.5.0",
            "_model_name": "ProgressStyleModel",
            "_view_count": null,
            "_view_module": "@jupyter-widgets/base",
            "_view_module_version": "1.2.0",
            "_view_name": "StyleView",
            "bar_color": null,
            "description_width": ""
          }
        },
        "3b000415cbf740c98cc24b8f094dd515": {
          "model_module": "@jupyter-widgets/base",
          "model_module_version": "1.2.0",
          "model_name": "LayoutModel",
          "state": {
            "_model_module": "@jupyter-widgets/base",
            "_model_module_version": "1.2.0",
            "_model_name": "LayoutModel",
            "_view_count": null,
            "_view_module": "@jupyter-widgets/base",
            "_view_module_version": "1.2.0",
            "_view_name": "LayoutView",
            "align_content": null,
            "align_items": null,
            "align_self": null,
            "border": null,
            "bottom": null,
            "display": null,
            "flex": null,
            "flex_flow": null,
            "grid_area": null,
            "grid_auto_columns": null,
            "grid_auto_flow": null,
            "grid_auto_rows": null,
            "grid_column": null,
            "grid_gap": null,
            "grid_row": null,
            "grid_template_areas": null,
            "grid_template_columns": null,
            "grid_template_rows": null,
            "height": null,
            "justify_content": null,
            "justify_items": null,
            "left": null,
            "margin": null,
            "max_height": null,
            "max_width": null,
            "min_height": null,
            "min_width": null,
            "object_fit": null,
            "object_position": null,
            "order": null,
            "overflow": null,
            "overflow_x": null,
            "overflow_y": null,
            "padding": null,
            "right": null,
            "top": null,
            "visibility": null,
            "width": null
          }
        },
        "3b1da192c9be4042a3c95bb110504f71": {
          "model_module": "@jupyter-widgets/controls",
          "model_module_version": "1.5.0",
          "model_name": "DescriptionStyleModel",
          "state": {
            "_model_module": "@jupyter-widgets/controls",
            "_model_module_version": "1.5.0",
            "_model_name": "DescriptionStyleModel",
            "_view_count": null,
            "_view_module": "@jupyter-widgets/base",
            "_view_module_version": "1.2.0",
            "_view_name": "StyleView",
            "description_width": ""
          }
        },
        "3bd583e2e75f42f08e10fd48cc121aa6": {
          "model_module": "@jupyter-widgets/controls",
          "model_module_version": "1.5.0",
          "model_name": "DescriptionStyleModel",
          "state": {
            "_model_module": "@jupyter-widgets/controls",
            "_model_module_version": "1.5.0",
            "_model_name": "DescriptionStyleModel",
            "_view_count": null,
            "_view_module": "@jupyter-widgets/base",
            "_view_module_version": "1.2.0",
            "_view_name": "StyleView",
            "description_width": ""
          }
        },
        "3bf4123a8fac4dca9e9b718034c2ffcd": {
          "model_module": "@jupyter-widgets/base",
          "model_module_version": "1.2.0",
          "model_name": "LayoutModel",
          "state": {
            "_model_module": "@jupyter-widgets/base",
            "_model_module_version": "1.2.0",
            "_model_name": "LayoutModel",
            "_view_count": null,
            "_view_module": "@jupyter-widgets/base",
            "_view_module_version": "1.2.0",
            "_view_name": "LayoutView",
            "align_content": null,
            "align_items": null,
            "align_self": null,
            "border": null,
            "bottom": null,
            "display": null,
            "flex": null,
            "flex_flow": null,
            "grid_area": null,
            "grid_auto_columns": null,
            "grid_auto_flow": null,
            "grid_auto_rows": null,
            "grid_column": null,
            "grid_gap": null,
            "grid_row": null,
            "grid_template_areas": null,
            "grid_template_columns": null,
            "grid_template_rows": null,
            "height": null,
            "justify_content": null,
            "justify_items": null,
            "left": null,
            "margin": null,
            "max_height": null,
            "max_width": null,
            "min_height": null,
            "min_width": null,
            "object_fit": null,
            "object_position": null,
            "order": null,
            "overflow": null,
            "overflow_x": null,
            "overflow_y": null,
            "padding": null,
            "right": null,
            "top": null,
            "visibility": null,
            "width": null
          }
        },
        "3c6369c37e0f4e9d8fca14f25dc9d74a": {
          "model_module": "@jupyter-widgets/controls",
          "model_module_version": "1.5.0",
          "model_name": "DescriptionStyleModel",
          "state": {
            "_model_module": "@jupyter-widgets/controls",
            "_model_module_version": "1.5.0",
            "_model_name": "DescriptionStyleModel",
            "_view_count": null,
            "_view_module": "@jupyter-widgets/base",
            "_view_module_version": "1.2.0",
            "_view_name": "StyleView",
            "description_width": ""
          }
        },
        "3c65300e49904a8f8a7138fc557c2db4": {
          "model_module": "@jupyter-widgets/base",
          "model_module_version": "1.2.0",
          "model_name": "LayoutModel",
          "state": {
            "_model_module": "@jupyter-widgets/base",
            "_model_module_version": "1.2.0",
            "_model_name": "LayoutModel",
            "_view_count": null,
            "_view_module": "@jupyter-widgets/base",
            "_view_module_version": "1.2.0",
            "_view_name": "LayoutView",
            "align_content": null,
            "align_items": null,
            "align_self": null,
            "border": null,
            "bottom": null,
            "display": null,
            "flex": null,
            "flex_flow": null,
            "grid_area": null,
            "grid_auto_columns": null,
            "grid_auto_flow": null,
            "grid_auto_rows": null,
            "grid_column": null,
            "grid_gap": null,
            "grid_row": null,
            "grid_template_areas": null,
            "grid_template_columns": null,
            "grid_template_rows": null,
            "height": null,
            "justify_content": null,
            "justify_items": null,
            "left": null,
            "margin": null,
            "max_height": null,
            "max_width": null,
            "min_height": null,
            "min_width": null,
            "object_fit": null,
            "object_position": null,
            "order": null,
            "overflow": null,
            "overflow_x": null,
            "overflow_y": null,
            "padding": null,
            "right": null,
            "top": null,
            "visibility": null,
            "width": null
          }
        },
        "3ccaf848f01e44568434a10aef12a34e": {
          "model_module": "@jupyter-widgets/base",
          "model_module_version": "1.2.0",
          "model_name": "LayoutModel",
          "state": {
            "_model_module": "@jupyter-widgets/base",
            "_model_module_version": "1.2.0",
            "_model_name": "LayoutModel",
            "_view_count": null,
            "_view_module": "@jupyter-widgets/base",
            "_view_module_version": "1.2.0",
            "_view_name": "LayoutView",
            "align_content": null,
            "align_items": null,
            "align_self": null,
            "border": null,
            "bottom": null,
            "display": null,
            "flex": null,
            "flex_flow": null,
            "grid_area": null,
            "grid_auto_columns": null,
            "grid_auto_flow": null,
            "grid_auto_rows": null,
            "grid_column": null,
            "grid_gap": null,
            "grid_row": null,
            "grid_template_areas": null,
            "grid_template_columns": null,
            "grid_template_rows": null,
            "height": null,
            "justify_content": null,
            "justify_items": null,
            "left": null,
            "margin": null,
            "max_height": null,
            "max_width": null,
            "min_height": null,
            "min_width": null,
            "object_fit": null,
            "object_position": null,
            "order": null,
            "overflow": null,
            "overflow_x": null,
            "overflow_y": null,
            "padding": null,
            "right": null,
            "top": null,
            "visibility": null,
            "width": null
          }
        },
        "3d18b32ce2c045c8ae59471ba298f896": {
          "model_module": "@jupyter-widgets/controls",
          "model_module_version": "1.5.0",
          "model_name": "ProgressStyleModel",
          "state": {
            "_model_module": "@jupyter-widgets/controls",
            "_model_module_version": "1.5.0",
            "_model_name": "ProgressStyleModel",
            "_view_count": null,
            "_view_module": "@jupyter-widgets/base",
            "_view_module_version": "1.2.0",
            "_view_name": "StyleView",
            "bar_color": null,
            "description_width": ""
          }
        },
        "3d6e0d0ae1904d9aaa2734b0bbde96bf": {
          "model_module": "@jupyter-widgets/controls",
          "model_module_version": "1.5.0",
          "model_name": "HTMLModel",
          "state": {
            "_dom_classes": [],
            "_model_module": "@jupyter-widgets/controls",
            "_model_module_version": "1.5.0",
            "_model_name": "HTMLModel",
            "_view_count": null,
            "_view_module": "@jupyter-widgets/controls",
            "_view_module_version": "1.5.0",
            "_view_name": "HTMLView",
            "description": "",
            "description_tooltip": null,
            "layout": "IPY_MODEL_3fe99a6cb54245829ff6b5c877350f6c",
            "placeholder": "​",
            "style": "IPY_MODEL_e09e8cb05088469d9f33d848537379fe",
            "value": "100%"
          }
        },
        "3d7a820ca956463f867bbe9e26bf6104": {
          "model_module": "@jupyter-widgets/controls",
          "model_module_version": "1.5.0",
          "model_name": "HTMLModel",
          "state": {
            "_dom_classes": [],
            "_model_module": "@jupyter-widgets/controls",
            "_model_module_version": "1.5.0",
            "_model_name": "HTMLModel",
            "_view_count": null,
            "_view_module": "@jupyter-widgets/controls",
            "_view_module_version": "1.5.0",
            "_view_name": "HTMLView",
            "description": "",
            "description_tooltip": null,
            "layout": "IPY_MODEL_869b397a90f14c0aba9fc3d3d842efc0",
            "placeholder": "​",
            "style": "IPY_MODEL_1ab0104b0122457d854541d25040c5e3",
            "value": " 90.9M/90.9M [00:01&lt;00:00, 99.2MB/s]"
          }
        },
        "3da1c39b377a46c1a0302724449fcdb6": {
          "model_module": "@jupyter-widgets/base",
          "model_module_version": "1.2.0",
          "model_name": "LayoutModel",
          "state": {
            "_model_module": "@jupyter-widgets/base",
            "_model_module_version": "1.2.0",
            "_model_name": "LayoutModel",
            "_view_count": null,
            "_view_module": "@jupyter-widgets/base",
            "_view_module_version": "1.2.0",
            "_view_name": "LayoutView",
            "align_content": null,
            "align_items": null,
            "align_self": null,
            "border": null,
            "bottom": null,
            "display": null,
            "flex": null,
            "flex_flow": null,
            "grid_area": null,
            "grid_auto_columns": null,
            "grid_auto_flow": null,
            "grid_auto_rows": null,
            "grid_column": null,
            "grid_gap": null,
            "grid_row": null,
            "grid_template_areas": null,
            "grid_template_columns": null,
            "grid_template_rows": null,
            "height": null,
            "justify_content": null,
            "justify_items": null,
            "left": null,
            "margin": null,
            "max_height": null,
            "max_width": null,
            "min_height": null,
            "min_width": null,
            "object_fit": null,
            "object_position": null,
            "order": null,
            "overflow": null,
            "overflow_x": null,
            "overflow_y": null,
            "padding": null,
            "right": null,
            "top": null,
            "visibility": null,
            "width": null
          }
        },
        "3e177c66d6464e4bbad2c13cd91caa54": {
          "model_module": "@jupyter-widgets/base",
          "model_module_version": "1.2.0",
          "model_name": "LayoutModel",
          "state": {
            "_model_module": "@jupyter-widgets/base",
            "_model_module_version": "1.2.0",
            "_model_name": "LayoutModel",
            "_view_count": null,
            "_view_module": "@jupyter-widgets/base",
            "_view_module_version": "1.2.0",
            "_view_name": "LayoutView",
            "align_content": null,
            "align_items": null,
            "align_self": null,
            "border": null,
            "bottom": null,
            "display": null,
            "flex": null,
            "flex_flow": null,
            "grid_area": null,
            "grid_auto_columns": null,
            "grid_auto_flow": null,
            "grid_auto_rows": null,
            "grid_column": null,
            "grid_gap": null,
            "grid_row": null,
            "grid_template_areas": null,
            "grid_template_columns": null,
            "grid_template_rows": null,
            "height": null,
            "justify_content": null,
            "justify_items": null,
            "left": null,
            "margin": null,
            "max_height": null,
            "max_width": null,
            "min_height": null,
            "min_width": null,
            "object_fit": null,
            "object_position": null,
            "order": null,
            "overflow": null,
            "overflow_x": null,
            "overflow_y": null,
            "padding": null,
            "right": null,
            "top": null,
            "visibility": null,
            "width": null
          }
        },
        "3e61693f255c4c078de7082926b04dbc": {
          "model_module": "@jupyter-widgets/controls",
          "model_module_version": "1.5.0",
          "model_name": "DescriptionStyleModel",
          "state": {
            "_model_module": "@jupyter-widgets/controls",
            "_model_module_version": "1.5.0",
            "_model_name": "DescriptionStyleModel",
            "_view_count": null,
            "_view_module": "@jupyter-widgets/base",
            "_view_module_version": "1.2.0",
            "_view_name": "StyleView",
            "description_width": ""
          }
        },
        "3fe99a6cb54245829ff6b5c877350f6c": {
          "model_module": "@jupyter-widgets/base",
          "model_module_version": "1.2.0",
          "model_name": "LayoutModel",
          "state": {
            "_model_module": "@jupyter-widgets/base",
            "_model_module_version": "1.2.0",
            "_model_name": "LayoutModel",
            "_view_count": null,
            "_view_module": "@jupyter-widgets/base",
            "_view_module_version": "1.2.0",
            "_view_name": "LayoutView",
            "align_content": null,
            "align_items": null,
            "align_self": null,
            "border": null,
            "bottom": null,
            "display": null,
            "flex": null,
            "flex_flow": null,
            "grid_area": null,
            "grid_auto_columns": null,
            "grid_auto_flow": null,
            "grid_auto_rows": null,
            "grid_column": null,
            "grid_gap": null,
            "grid_row": null,
            "grid_template_areas": null,
            "grid_template_columns": null,
            "grid_template_rows": null,
            "height": null,
            "justify_content": null,
            "justify_items": null,
            "left": null,
            "margin": null,
            "max_height": null,
            "max_width": null,
            "min_height": null,
            "min_width": null,
            "object_fit": null,
            "object_position": null,
            "order": null,
            "overflow": null,
            "overflow_x": null,
            "overflow_y": null,
            "padding": null,
            "right": null,
            "top": null,
            "visibility": null,
            "width": null
          }
        },
        "42b4236ce2ab419d871bef3d9813432f": {
          "model_module": "@jupyter-widgets/controls",
          "model_module_version": "1.5.0",
          "model_name": "DescriptionStyleModel",
          "state": {
            "_model_module": "@jupyter-widgets/controls",
            "_model_module_version": "1.5.0",
            "_model_name": "DescriptionStyleModel",
            "_view_count": null,
            "_view_module": "@jupyter-widgets/base",
            "_view_module_version": "1.2.0",
            "_view_name": "StyleView",
            "description_width": ""
          }
        },
        "4324d327f79d4b64b0e38cbee2dac53b": {
          "model_module": "@jupyter-widgets/controls",
          "model_module_version": "1.5.0",
          "model_name": "ProgressStyleModel",
          "state": {
            "_model_module": "@jupyter-widgets/controls",
            "_model_module_version": "1.5.0",
            "_model_name": "ProgressStyleModel",
            "_view_count": null,
            "_view_module": "@jupyter-widgets/base",
            "_view_module_version": "1.2.0",
            "_view_name": "StyleView",
            "bar_color": null,
            "description_width": ""
          }
        },
        "461da49aec214dacb952e42a4b622289": {
          "model_module": "@jupyter-widgets/base",
          "model_module_version": "1.2.0",
          "model_name": "LayoutModel",
          "state": {
            "_model_module": "@jupyter-widgets/base",
            "_model_module_version": "1.2.0",
            "_model_name": "LayoutModel",
            "_view_count": null,
            "_view_module": "@jupyter-widgets/base",
            "_view_module_version": "1.2.0",
            "_view_name": "LayoutView",
            "align_content": null,
            "align_items": null,
            "align_self": null,
            "border": null,
            "bottom": null,
            "display": null,
            "flex": null,
            "flex_flow": null,
            "grid_area": null,
            "grid_auto_columns": null,
            "grid_auto_flow": null,
            "grid_auto_rows": null,
            "grid_column": null,
            "grid_gap": null,
            "grid_row": null,
            "grid_template_areas": null,
            "grid_template_columns": null,
            "grid_template_rows": null,
            "height": null,
            "justify_content": null,
            "justify_items": null,
            "left": null,
            "margin": null,
            "max_height": null,
            "max_width": null,
            "min_height": null,
            "min_width": null,
            "object_fit": null,
            "object_position": null,
            "order": null,
            "overflow": null,
            "overflow_x": null,
            "overflow_y": null,
            "padding": null,
            "right": null,
            "top": null,
            "visibility": null,
            "width": null
          }
        },
        "46545ec20c3f446ca74870fb0c521e9f": {
          "model_module": "@jupyter-widgets/controls",
          "model_module_version": "1.5.0",
          "model_name": "HTMLModel",
          "state": {
            "_dom_classes": [],
            "_model_module": "@jupyter-widgets/controls",
            "_model_module_version": "1.5.0",
            "_model_name": "HTMLModel",
            "_view_count": null,
            "_view_module": "@jupyter-widgets/controls",
            "_view_module_version": "1.5.0",
            "_view_name": "HTMLView",
            "description": "",
            "description_tooltip": null,
            "layout": "IPY_MODEL_ca119740222946d495f483adc0644141",
            "placeholder": "​",
            "style": "IPY_MODEL_c76ee483e43547e6a133bba4b69f51bb",
            "value": "added_tokens.json: 100%"
          }
        },
        "46dcaceb120e4b5e9af7a7c947d8fed7": {
          "model_module": "@jupyter-widgets/controls",
          "model_module_version": "1.5.0",
          "model_name": "HTMLModel",
          "state": {
            "_dom_classes": [],
            "_model_module": "@jupyter-widgets/controls",
            "_model_module_version": "1.5.0",
            "_model_name": "HTMLModel",
            "_view_count": null,
            "_view_module": "@jupyter-widgets/controls",
            "_view_module_version": "1.5.0",
            "_view_name": "HTMLView",
            "description": "",
            "description_tooltip": null,
            "layout": "IPY_MODEL_0f137b9c07434d7ead7048e68656d633",
            "placeholder": "​",
            "style": "IPY_MODEL_b5f46a100e6347b6b02c3a61a41a46dd",
            "value": " 23.0/23.0 [00:00&lt;00:00, 1.17kB/s]"
          }
        },
        "46e4f3e228bc45ac8e5fef4abe3c4b78": {
          "model_module": "@jupyter-widgets/base",
          "model_module_version": "1.2.0",
          "model_name": "LayoutModel",
          "state": {
            "_model_module": "@jupyter-widgets/base",
            "_model_module_version": "1.2.0",
            "_model_name": "LayoutModel",
            "_view_count": null,
            "_view_module": "@jupyter-widgets/base",
            "_view_module_version": "1.2.0",
            "_view_name": "LayoutView",
            "align_content": null,
            "align_items": null,
            "align_self": null,
            "border": null,
            "bottom": null,
            "display": null,
            "flex": null,
            "flex_flow": null,
            "grid_area": null,
            "grid_auto_columns": null,
            "grid_auto_flow": null,
            "grid_auto_rows": null,
            "grid_column": null,
            "grid_gap": null,
            "grid_row": null,
            "grid_template_areas": null,
            "grid_template_columns": null,
            "grid_template_rows": null,
            "height": null,
            "justify_content": null,
            "justify_items": null,
            "left": null,
            "margin": null,
            "max_height": null,
            "max_width": null,
            "min_height": null,
            "min_width": null,
            "object_fit": null,
            "object_position": null,
            "order": null,
            "overflow": null,
            "overflow_x": null,
            "overflow_y": null,
            "padding": null,
            "right": null,
            "top": null,
            "visibility": null,
            "width": null
          }
        },
        "4758bd9b168344a79a2ea5f2a78b0c4b": {
          "model_module": "@jupyter-widgets/controls",
          "model_module_version": "1.5.0",
          "model_name": "DescriptionStyleModel",
          "state": {
            "_model_module": "@jupyter-widgets/controls",
            "_model_module_version": "1.5.0",
            "_model_name": "DescriptionStyleModel",
            "_view_count": null,
            "_view_module": "@jupyter-widgets/base",
            "_view_module_version": "1.2.0",
            "_view_name": "StyleView",
            "description_width": ""
          }
        },
        "47ae08f40dbf479e974365a852700afe": {
          "model_module": "@jupyter-widgets/controls",
          "model_module_version": "1.5.0",
          "model_name": "ProgressStyleModel",
          "state": {
            "_model_module": "@jupyter-widgets/controls",
            "_model_module_version": "1.5.0",
            "_model_name": "ProgressStyleModel",
            "_view_count": null,
            "_view_module": "@jupyter-widgets/base",
            "_view_module_version": "1.2.0",
            "_view_name": "StyleView",
            "bar_color": null,
            "description_width": ""
          }
        },
        "4981f9e07bfa438cb2bfd67b39c0f5cf": {
          "model_module": "@jupyter-widgets/controls",
          "model_module_version": "1.5.0",
          "model_name": "FloatProgressModel",
          "state": {
            "_dom_classes": [],
            "_model_module": "@jupyter-widgets/controls",
            "_model_module_version": "1.5.0",
            "_model_name": "FloatProgressModel",
            "_view_count": null,
            "_view_module": "@jupyter-widgets/controls",
            "_view_module_version": "1.5.0",
            "_view_name": "ProgressView",
            "bar_style": "success",
            "description": "",
            "description_tooltip": null,
            "layout": "IPY_MODEL_3906a0aad53c4a3fbe11001d4c5d0fc7",
            "max": 19702,
            "min": 0,
            "orientation": "horizontal",
            "style": "IPY_MODEL_1aa2459ffbaa4d39ad8b093b909c7d24",
            "value": 19702
          }
        },
        "49bb2d5893f84003b41e3c2d110c324a": {
          "model_module": "@jupyter-widgets/controls",
          "model_module_version": "1.5.0",
          "model_name": "HBoxModel",
          "state": {
            "_dom_classes": [],
            "_model_module": "@jupyter-widgets/controls",
            "_model_module_version": "1.5.0",
            "_model_name": "HBoxModel",
            "_view_count": null,
            "_view_module": "@jupyter-widgets/controls",
            "_view_module_version": "1.5.0",
            "_view_name": "HBoxView",
            "box_style": "",
            "children": [
              "IPY_MODEL_21e9ac2fd53549509498cdde02ee260f",
              "IPY_MODEL_a4e8bfb82e9b4d408e900498c1c4e74f",
              "IPY_MODEL_7f00c9252dd7499eadea47c0d09596c4"
            ],
            "layout": "IPY_MODEL_e41c46185b4a4c2f92ac6f129829ad0c"
          }
        },
        "4a105eed9f30448488907e29356d447b": {
          "model_module": "@jupyter-widgets/controls",
          "model_module_version": "1.5.0",
          "model_name": "FloatProgressModel",
          "state": {
            "_dom_classes": [],
            "_model_module": "@jupyter-widgets/controls",
            "_model_module_version": "1.5.0",
            "_model_name": "FloatProgressModel",
            "_view_count": null,
            "_view_module": "@jupyter-widgets/controls",
            "_view_module_version": "1.5.0",
            "_view_name": "ProgressView",
            "bar_style": "success",
            "description": "",
            "description_tooltip": null,
            "layout": "IPY_MODEL_2e4c6ab39e3241e78c1f4bf56cd7bfa1",
            "max": 350,
            "min": 0,
            "orientation": "horizontal",
            "style": "IPY_MODEL_6bf4e372dd8f405a8ac6477b2efdb333",
            "value": 350
          }
        },
        "4b4bbd26d0584f6096cd683730505154": {
          "model_module": "@jupyter-widgets/controls",
          "model_module_version": "1.5.0",
          "model_name": "ProgressStyleModel",
          "state": {
            "_model_module": "@jupyter-widgets/controls",
            "_model_module_version": "1.5.0",
            "_model_name": "ProgressStyleModel",
            "_view_count": null,
            "_view_module": "@jupyter-widgets/base",
            "_view_module_version": "1.2.0",
            "_view_name": "StyleView",
            "bar_color": null,
            "description_width": ""
          }
        },
        "4b60f0a77ee64b2e905c8ca599429129": {
          "model_module": "@jupyter-widgets/controls",
          "model_module_version": "1.5.0",
          "model_name": "HBoxModel",
          "state": {
            "_dom_classes": [],
            "_model_module": "@jupyter-widgets/controls",
            "_model_module_version": "1.5.0",
            "_model_name": "HBoxModel",
            "_view_count": null,
            "_view_module": "@jupyter-widgets/controls",
            "_view_module_version": "1.5.0",
            "_view_name": "HBoxView",
            "box_style": "",
            "children": [
              "IPY_MODEL_063e7f75b4ae43af8b249fce69e340e4",
              "IPY_MODEL_b571993b4e03450c8c35392031083a38",
              "IPY_MODEL_9c11da4ec8d14e81aacfbc720d4f52ae"
            ],
            "layout": "IPY_MODEL_3ccaf848f01e44568434a10aef12a34e"
          }
        },
        "4bad9e87896f4709841004b414307d24": {
          "model_module": "@jupyter-widgets/controls",
          "model_module_version": "1.5.0",
          "model_name": "HBoxModel",
          "state": {
            "_dom_classes": [],
            "_model_module": "@jupyter-widgets/controls",
            "_model_module_version": "1.5.0",
            "_model_name": "HBoxModel",
            "_view_count": null,
            "_view_module": "@jupyter-widgets/controls",
            "_view_module_version": "1.5.0",
            "_view_name": "HBoxView",
            "box_style": "",
            "children": [
              "IPY_MODEL_557370ac977e41ee901c8df4919e6bb8",
              "IPY_MODEL_2b217c505f9240d680ec3c695b28e009",
              "IPY_MODEL_1ba7508760914d78aaee7b580df1cdc7"
            ],
            "layout": "IPY_MODEL_f0d9b1231a9a498c886214b4f16a5d66"
          }
        },
        "4c5514afe0b04127976d5d8c5f132b55": {
          "model_module": "@jupyter-widgets/controls",
          "model_module_version": "1.5.0",
          "model_name": "FloatProgressModel",
          "state": {
            "_dom_classes": [],
            "_model_module": "@jupyter-widgets/controls",
            "_model_module_version": "1.5.0",
            "_model_name": "FloatProgressModel",
            "_view_count": null,
            "_view_module": "@jupyter-widgets/controls",
            "_view_module_version": "1.5.0",
            "_view_name": "ProgressView",
            "bar_style": "success",
            "description": "",
            "description_tooltip": null,
            "layout": "IPY_MODEL_22bb232000a34d4db6a4a41b333dea32",
            "max": 23,
            "min": 0,
            "orientation": "horizontal",
            "style": "IPY_MODEL_3a8538c5050c484590e269978d02eb7e",
            "value": 23
          }
        },
        "4d875ce33b95423198ff545640a84b3a": {
          "model_module": "@jupyter-widgets/base",
          "model_module_version": "1.2.0",
          "model_name": "LayoutModel",
          "state": {
            "_model_module": "@jupyter-widgets/base",
            "_model_module_version": "1.2.0",
            "_model_name": "LayoutModel",
            "_view_count": null,
            "_view_module": "@jupyter-widgets/base",
            "_view_module_version": "1.2.0",
            "_view_name": "LayoutView",
            "align_content": null,
            "align_items": null,
            "align_self": null,
            "border": null,
            "bottom": null,
            "display": null,
            "flex": null,
            "flex_flow": null,
            "grid_area": null,
            "grid_auto_columns": null,
            "grid_auto_flow": null,
            "grid_auto_rows": null,
            "grid_column": null,
            "grid_gap": null,
            "grid_row": null,
            "grid_template_areas": null,
            "grid_template_columns": null,
            "grid_template_rows": null,
            "height": null,
            "justify_content": null,
            "justify_items": null,
            "left": null,
            "margin": null,
            "max_height": null,
            "max_width": null,
            "min_height": null,
            "min_width": null,
            "object_fit": null,
            "object_position": null,
            "order": null,
            "overflow": null,
            "overflow_x": null,
            "overflow_y": null,
            "padding": null,
            "right": null,
            "top": null,
            "visibility": null,
            "width": null
          }
        },
        "4debb5c2d3964c41a8aedae1a056b7dd": {
          "model_module": "@jupyter-widgets/base",
          "model_module_version": "1.2.0",
          "model_name": "LayoutModel",
          "state": {
            "_model_module": "@jupyter-widgets/base",
            "_model_module_version": "1.2.0",
            "_model_name": "LayoutModel",
            "_view_count": null,
            "_view_module": "@jupyter-widgets/base",
            "_view_module_version": "1.2.0",
            "_view_name": "LayoutView",
            "align_content": null,
            "align_items": null,
            "align_self": null,
            "border": null,
            "bottom": null,
            "display": null,
            "flex": null,
            "flex_flow": null,
            "grid_area": null,
            "grid_auto_columns": null,
            "grid_auto_flow": null,
            "grid_auto_rows": null,
            "grid_column": null,
            "grid_gap": null,
            "grid_row": null,
            "grid_template_areas": null,
            "grid_template_columns": null,
            "grid_template_rows": null,
            "height": null,
            "justify_content": null,
            "justify_items": null,
            "left": null,
            "margin": null,
            "max_height": null,
            "max_width": null,
            "min_height": null,
            "min_width": null,
            "object_fit": null,
            "object_position": null,
            "order": null,
            "overflow": null,
            "overflow_x": null,
            "overflow_y": null,
            "padding": null,
            "right": null,
            "top": null,
            "visibility": null,
            "width": null
          }
        },
        "4ea7b716a48c4472a5f1f9ce4c2f02cc": {
          "model_module": "@jupyter-widgets/controls",
          "model_module_version": "1.5.0",
          "model_name": "DescriptionStyleModel",
          "state": {
            "_model_module": "@jupyter-widgets/controls",
            "_model_module_version": "1.5.0",
            "_model_name": "DescriptionStyleModel",
            "_view_count": null,
            "_view_module": "@jupyter-widgets/base",
            "_view_module_version": "1.2.0",
            "_view_name": "StyleView",
            "description_width": ""
          }
        },
        "4ef12a152f744a789f735fbe515a0c56": {
          "model_module": "@jupyter-widgets/base",
          "model_module_version": "1.2.0",
          "model_name": "LayoutModel",
          "state": {
            "_model_module": "@jupyter-widgets/base",
            "_model_module_version": "1.2.0",
            "_model_name": "LayoutModel",
            "_view_count": null,
            "_view_module": "@jupyter-widgets/base",
            "_view_module_version": "1.2.0",
            "_view_name": "LayoutView",
            "align_content": null,
            "align_items": null,
            "align_self": null,
            "border": null,
            "bottom": null,
            "display": null,
            "flex": null,
            "flex_flow": null,
            "grid_area": null,
            "grid_auto_columns": null,
            "grid_auto_flow": null,
            "grid_auto_rows": null,
            "grid_column": null,
            "grid_gap": null,
            "grid_row": null,
            "grid_template_areas": null,
            "grid_template_columns": null,
            "grid_template_rows": null,
            "height": null,
            "justify_content": null,
            "justify_items": null,
            "left": null,
            "margin": null,
            "max_height": null,
            "max_width": null,
            "min_height": null,
            "min_width": null,
            "object_fit": null,
            "object_position": null,
            "order": null,
            "overflow": null,
            "overflow_x": null,
            "overflow_y": null,
            "padding": null,
            "right": null,
            "top": null,
            "visibility": null,
            "width": null
          }
        },
        "4f9430bad9154110bb527df377d3f208": {
          "model_module": "@jupyter-widgets/controls",
          "model_module_version": "1.5.0",
          "model_name": "HBoxModel",
          "state": {
            "_dom_classes": [],
            "_model_module": "@jupyter-widgets/controls",
            "_model_module_version": "1.5.0",
            "_model_name": "HBoxModel",
            "_view_count": null,
            "_view_module": "@jupyter-widgets/controls",
            "_view_module_version": "1.5.0",
            "_view_name": "HBoxView",
            "box_style": "",
            "children": [
              "IPY_MODEL_938e03b188a345a2b804584b0cdcec9f",
              "IPY_MODEL_c207fffe223140f99b40b69eec7e8ed1",
              "IPY_MODEL_525c6078b44b4e0a80ef55eec189c62f"
            ],
            "layout": "IPY_MODEL_8c51f03d5bd34aafa9b701e9616e125c"
          }
        },
        "50ef4abe677f4ca4af3ab3bcb94c0d0f": {
          "model_module": "@jupyter-widgets/controls",
          "model_module_version": "1.5.0",
          "model_name": "DescriptionStyleModel",
          "state": {
            "_model_module": "@jupyter-widgets/controls",
            "_model_module_version": "1.5.0",
            "_model_name": "DescriptionStyleModel",
            "_view_count": null,
            "_view_module": "@jupyter-widgets/base",
            "_view_module_version": "1.2.0",
            "_view_name": "StyleView",
            "description_width": ""
          }
        },
        "513c492b9a8e4e5ab04878a86026871f": {
          "model_module": "@jupyter-widgets/controls",
          "model_module_version": "1.5.0",
          "model_name": "DescriptionStyleModel",
          "state": {
            "_model_module": "@jupyter-widgets/controls",
            "_model_module_version": "1.5.0",
            "_model_name": "DescriptionStyleModel",
            "_view_count": null,
            "_view_module": "@jupyter-widgets/base",
            "_view_module_version": "1.2.0",
            "_view_name": "StyleView",
            "description_width": ""
          }
        },
        "51a203afcc4844bb9e12a34b23c7c6a2": {
          "model_module": "@jupyter-widgets/base",
          "model_module_version": "1.2.0",
          "model_name": "LayoutModel",
          "state": {
            "_model_module": "@jupyter-widgets/base",
            "_model_module_version": "1.2.0",
            "_model_name": "LayoutModel",
            "_view_count": null,
            "_view_module": "@jupyter-widgets/base",
            "_view_module_version": "1.2.0",
            "_view_name": "LayoutView",
            "align_content": null,
            "align_items": null,
            "align_self": null,
            "border": null,
            "bottom": null,
            "display": null,
            "flex": null,
            "flex_flow": null,
            "grid_area": null,
            "grid_auto_columns": null,
            "grid_auto_flow": null,
            "grid_auto_rows": null,
            "grid_column": null,
            "grid_gap": null,
            "grid_row": null,
            "grid_template_areas": null,
            "grid_template_columns": null,
            "grid_template_rows": null,
            "height": null,
            "justify_content": null,
            "justify_items": null,
            "left": null,
            "margin": null,
            "max_height": null,
            "max_width": null,
            "min_height": null,
            "min_width": null,
            "object_fit": null,
            "object_position": null,
            "order": null,
            "overflow": null,
            "overflow_x": null,
            "overflow_y": null,
            "padding": null,
            "right": null,
            "top": null,
            "visibility": null,
            "width": null
          }
        },
        "525c6078b44b4e0a80ef55eec189c62f": {
          "model_module": "@jupyter-widgets/controls",
          "model_module_version": "1.5.0",
          "model_name": "HTMLModel",
          "state": {
            "_dom_classes": [],
            "_model_module": "@jupyter-widgets/controls",
            "_model_module_version": "1.5.0",
            "_model_name": "HTMLModel",
            "_view_count": null,
            "_view_module": "@jupyter-widgets/controls",
            "_view_module_version": "1.5.0",
            "_view_name": "HTMLView",
            "description": "",
            "description_tooltip": null,
            "layout": "IPY_MODEL_d865466fb9e84a6ebe8b4481a3ba52b7",
            "placeholder": "​",
            "style": "IPY_MODEL_eea6c7dd92d54885b83f18ab950fc3b4",
            "value": " 232k/232k [00:00&lt;00:00, 3.14MB/s]"
          }
        },
        "53f03c69b783481097571dc8daa5d31c": {
          "model_module": "@jupyter-widgets/controls",
          "model_module_version": "1.5.0",
          "model_name": "DescriptionStyleModel",
          "state": {
            "_model_module": "@jupyter-widgets/controls",
            "_model_module_version": "1.5.0",
            "_model_name": "DescriptionStyleModel",
            "_view_count": null,
            "_view_module": "@jupyter-widgets/base",
            "_view_module_version": "1.2.0",
            "_view_name": "StyleView",
            "description_width": ""
          }
        },
        "5405c59926914e84b599b36d3a2460ee": {
          "model_module": "@jupyter-widgets/base",
          "model_module_version": "1.2.0",
          "model_name": "LayoutModel",
          "state": {
            "_model_module": "@jupyter-widgets/base",
            "_model_module_version": "1.2.0",
            "_model_name": "LayoutModel",
            "_view_count": null,
            "_view_module": "@jupyter-widgets/base",
            "_view_module_version": "1.2.0",
            "_view_name": "LayoutView",
            "align_content": null,
            "align_items": null,
            "align_self": null,
            "border": null,
            "bottom": null,
            "display": null,
            "flex": null,
            "flex_flow": null,
            "grid_area": null,
            "grid_auto_columns": null,
            "grid_auto_flow": null,
            "grid_auto_rows": null,
            "grid_column": null,
            "grid_gap": null,
            "grid_row": null,
            "grid_template_areas": null,
            "grid_template_columns": null,
            "grid_template_rows": null,
            "height": null,
            "justify_content": null,
            "justify_items": null,
            "left": null,
            "margin": null,
            "max_height": null,
            "max_width": null,
            "min_height": null,
            "min_width": null,
            "object_fit": null,
            "object_position": null,
            "order": null,
            "overflow": null,
            "overflow_x": null,
            "overflow_y": null,
            "padding": null,
            "right": null,
            "top": null,
            "visibility": null,
            "width": null
          }
        },
        "55559b8f43774e3690f33fcc39cb011c": {
          "model_module": "@jupyter-widgets/base",
          "model_module_version": "1.2.0",
          "model_name": "LayoutModel",
          "state": {
            "_model_module": "@jupyter-widgets/base",
            "_model_module_version": "1.2.0",
            "_model_name": "LayoutModel",
            "_view_count": null,
            "_view_module": "@jupyter-widgets/base",
            "_view_module_version": "1.2.0",
            "_view_name": "LayoutView",
            "align_content": null,
            "align_items": null,
            "align_self": null,
            "border": null,
            "bottom": null,
            "display": null,
            "flex": null,
            "flex_flow": null,
            "grid_area": null,
            "grid_auto_columns": null,
            "grid_auto_flow": null,
            "grid_auto_rows": null,
            "grid_column": null,
            "grid_gap": null,
            "grid_row": null,
            "grid_template_areas": null,
            "grid_template_columns": null,
            "grid_template_rows": null,
            "height": null,
            "justify_content": null,
            "justify_items": null,
            "left": null,
            "margin": null,
            "max_height": null,
            "max_width": null,
            "min_height": null,
            "min_width": null,
            "object_fit": null,
            "object_position": null,
            "order": null,
            "overflow": null,
            "overflow_x": null,
            "overflow_y": null,
            "padding": null,
            "right": null,
            "top": null,
            "visibility": null,
            "width": null
          }
        },
        "5567270175c849d68afccc1a9eda3212": {
          "model_module": "@jupyter-widgets/controls",
          "model_module_version": "1.5.0",
          "model_name": "DescriptionStyleModel",
          "state": {
            "_model_module": "@jupyter-widgets/controls",
            "_model_module_version": "1.5.0",
            "_model_name": "DescriptionStyleModel",
            "_view_count": null,
            "_view_module": "@jupyter-widgets/base",
            "_view_module_version": "1.2.0",
            "_view_name": "StyleView",
            "description_width": ""
          }
        },
        "557370ac977e41ee901c8df4919e6bb8": {
          "model_module": "@jupyter-widgets/controls",
          "model_module_version": "1.5.0",
          "model_name": "HTMLModel",
          "state": {
            "_dom_classes": [],
            "_model_module": "@jupyter-widgets/controls",
            "_model_module_version": "1.5.0",
            "_model_name": "HTMLModel",
            "_view_count": null,
            "_view_module": "@jupyter-widgets/controls",
            "_view_module_version": "1.5.0",
            "_view_name": "HTMLView",
            "description": "",
            "description_tooltip": null,
            "layout": "IPY_MODEL_5b5793fa8a0040a08fd545c693467944",
            "placeholder": "​",
            "style": "IPY_MODEL_4ea7b716a48c4472a5f1f9ce4c2f02cc",
            "value": "special_tokens_map.json: 100%"
          }
        },
        "5579c96ba0fb460dae9381dbd11a2a11": {
          "model_module": "@jupyter-widgets/base",
          "model_module_version": "1.2.0",
          "model_name": "LayoutModel",
          "state": {
            "_model_module": "@jupyter-widgets/base",
            "_model_module_version": "1.2.0",
            "_model_name": "LayoutModel",
            "_view_count": null,
            "_view_module": "@jupyter-widgets/base",
            "_view_module_version": "1.2.0",
            "_view_name": "LayoutView",
            "align_content": null,
            "align_items": null,
            "align_self": null,
            "border": null,
            "bottom": null,
            "display": null,
            "flex": null,
            "flex_flow": null,
            "grid_area": null,
            "grid_auto_columns": null,
            "grid_auto_flow": null,
            "grid_auto_rows": null,
            "grid_column": null,
            "grid_gap": null,
            "grid_row": null,
            "grid_template_areas": null,
            "grid_template_columns": null,
            "grid_template_rows": null,
            "height": null,
            "justify_content": null,
            "justify_items": null,
            "left": null,
            "margin": null,
            "max_height": null,
            "max_width": null,
            "min_height": null,
            "min_width": null,
            "object_fit": null,
            "object_position": null,
            "order": null,
            "overflow": null,
            "overflow_x": null,
            "overflow_y": null,
            "padding": null,
            "right": null,
            "top": null,
            "visibility": null,
            "width": null
          }
        },
        "559a4150f4e44220a69de1ab2470b3e4": {
          "model_module": "@jupyter-widgets/base",
          "model_module_version": "1.2.0",
          "model_name": "LayoutModel",
          "state": {
            "_model_module": "@jupyter-widgets/base",
            "_model_module_version": "1.2.0",
            "_model_name": "LayoutModel",
            "_view_count": null,
            "_view_module": "@jupyter-widgets/base",
            "_view_module_version": "1.2.0",
            "_view_name": "LayoutView",
            "align_content": null,
            "align_items": null,
            "align_self": null,
            "border": null,
            "bottom": null,
            "display": null,
            "flex": null,
            "flex_flow": null,
            "grid_area": null,
            "grid_auto_columns": null,
            "grid_auto_flow": null,
            "grid_auto_rows": null,
            "grid_column": null,
            "grid_gap": null,
            "grid_row": null,
            "grid_template_areas": null,
            "grid_template_columns": null,
            "grid_template_rows": null,
            "height": null,
            "justify_content": null,
            "justify_items": null,
            "left": null,
            "margin": null,
            "max_height": null,
            "max_width": null,
            "min_height": null,
            "min_width": null,
            "object_fit": null,
            "object_position": null,
            "order": null,
            "overflow": null,
            "overflow_x": null,
            "overflow_y": null,
            "padding": null,
            "right": null,
            "top": null,
            "visibility": null,
            "width": null
          }
        },
        "55fa3bd3c0d7407f80b81c3bcc5a2226": {
          "model_module": "@jupyter-widgets/controls",
          "model_module_version": "1.5.0",
          "model_name": "DescriptionStyleModel",
          "state": {
            "_model_module": "@jupyter-widgets/controls",
            "_model_module_version": "1.5.0",
            "_model_name": "DescriptionStyleModel",
            "_view_count": null,
            "_view_module": "@jupyter-widgets/base",
            "_view_module_version": "1.2.0",
            "_view_name": "StyleView",
            "description_width": ""
          }
        },
        "563ae63755fb4a2e8d717f4eabf4c7e0": {
          "model_module": "@jupyter-widgets/base",
          "model_module_version": "1.2.0",
          "model_name": "LayoutModel",
          "state": {
            "_model_module": "@jupyter-widgets/base",
            "_model_module_version": "1.2.0",
            "_model_name": "LayoutModel",
            "_view_count": null,
            "_view_module": "@jupyter-widgets/base",
            "_view_module_version": "1.2.0",
            "_view_name": "LayoutView",
            "align_content": null,
            "align_items": null,
            "align_self": null,
            "border": null,
            "bottom": null,
            "display": null,
            "flex": null,
            "flex_flow": null,
            "grid_area": null,
            "grid_auto_columns": null,
            "grid_auto_flow": null,
            "grid_auto_rows": null,
            "grid_column": null,
            "grid_gap": null,
            "grid_row": null,
            "grid_template_areas": null,
            "grid_template_columns": null,
            "grid_template_rows": null,
            "height": null,
            "justify_content": null,
            "justify_items": null,
            "left": null,
            "margin": null,
            "max_height": null,
            "max_width": null,
            "min_height": null,
            "min_width": null,
            "object_fit": null,
            "object_position": null,
            "order": null,
            "overflow": null,
            "overflow_x": null,
            "overflow_y": null,
            "padding": null,
            "right": null,
            "top": null,
            "visibility": null,
            "width": null
          }
        },
        "56fabcbe9e684b1088bc358eefd19084": {
          "model_module": "@jupyter-widgets/base",
          "model_module_version": "1.2.0",
          "model_name": "LayoutModel",
          "state": {
            "_model_module": "@jupyter-widgets/base",
            "_model_module_version": "1.2.0",
            "_model_name": "LayoutModel",
            "_view_count": null,
            "_view_module": "@jupyter-widgets/base",
            "_view_module_version": "1.2.0",
            "_view_name": "LayoutView",
            "align_content": null,
            "align_items": null,
            "align_self": null,
            "border": null,
            "bottom": null,
            "display": null,
            "flex": null,
            "flex_flow": null,
            "grid_area": null,
            "grid_auto_columns": null,
            "grid_auto_flow": null,
            "grid_auto_rows": null,
            "grid_column": null,
            "grid_gap": null,
            "grid_row": null,
            "grid_template_areas": null,
            "grid_template_columns": null,
            "grid_template_rows": null,
            "height": null,
            "justify_content": null,
            "justify_items": null,
            "left": null,
            "margin": null,
            "max_height": null,
            "max_width": null,
            "min_height": null,
            "min_width": null,
            "object_fit": null,
            "object_position": null,
            "order": null,
            "overflow": null,
            "overflow_x": null,
            "overflow_y": null,
            "padding": null,
            "right": null,
            "top": null,
            "visibility": null,
            "width": null
          }
        },
        "575272328c1a46c0be04cdcd1cdea3f4": {
          "model_module": "@jupyter-widgets/base",
          "model_module_version": "1.2.0",
          "model_name": "LayoutModel",
          "state": {
            "_model_module": "@jupyter-widgets/base",
            "_model_module_version": "1.2.0",
            "_model_name": "LayoutModel",
            "_view_count": null,
            "_view_module": "@jupyter-widgets/base",
            "_view_module_version": "1.2.0",
            "_view_name": "LayoutView",
            "align_content": null,
            "align_items": null,
            "align_self": null,
            "border": null,
            "bottom": null,
            "display": null,
            "flex": null,
            "flex_flow": null,
            "grid_area": null,
            "grid_auto_columns": null,
            "grid_auto_flow": null,
            "grid_auto_rows": null,
            "grid_column": null,
            "grid_gap": null,
            "grid_row": null,
            "grid_template_areas": null,
            "grid_template_columns": null,
            "grid_template_rows": null,
            "height": null,
            "justify_content": null,
            "justify_items": null,
            "left": null,
            "margin": null,
            "max_height": null,
            "max_width": null,
            "min_height": null,
            "min_width": null,
            "object_fit": null,
            "object_position": null,
            "order": null,
            "overflow": null,
            "overflow_x": null,
            "overflow_y": null,
            "padding": null,
            "right": null,
            "top": null,
            "visibility": null,
            "width": null
          }
        },
        "579dad32b47e49208a8e25ffba0f2c24": {
          "model_module": "@jupyter-widgets/controls",
          "model_module_version": "1.5.0",
          "model_name": "HTMLModel",
          "state": {
            "_dom_classes": [],
            "_model_module": "@jupyter-widgets/controls",
            "_model_module_version": "1.5.0",
            "_model_name": "HTMLModel",
            "_view_count": null,
            "_view_module": "@jupyter-widgets/controls",
            "_view_module_version": "1.5.0",
            "_view_name": "HTMLView",
            "description": "",
            "description_tooltip": null,
            "layout": "IPY_MODEL_d9833927d066425b869c7e7646918b50",
            "placeholder": "​",
            "style": "IPY_MODEL_3c6369c37e0f4e9d8fca14f25dc9d74a",
            "value": "tokenizer.json: 100%"
          }
        },
        "57d3d789180f4c0b90ba5c34f120ef49": {
          "model_module": "@jupyter-widgets/controls",
          "model_module_version": "1.5.0",
          "model_name": "DescriptionStyleModel",
          "state": {
            "_model_module": "@jupyter-widgets/controls",
            "_model_module_version": "1.5.0",
            "_model_name": "DescriptionStyleModel",
            "_view_count": null,
            "_view_module": "@jupyter-widgets/base",
            "_view_module_version": "1.2.0",
            "_view_name": "StyleView",
            "description_width": ""
          }
        },
        "586e8eb6d59945c19ca21a1d63937156": {
          "model_module": "@jupyter-widgets/controls",
          "model_module_version": "1.5.0",
          "model_name": "FloatProgressModel",
          "state": {
            "_dom_classes": [],
            "_model_module": "@jupyter-widgets/controls",
            "_model_module_version": "1.5.0",
            "_model_name": "FloatProgressModel",
            "_view_count": null,
            "_view_module": "@jupyter-widgets/controls",
            "_view_module_version": "1.5.0",
            "_view_name": "ProgressView",
            "bar_style": "success",
            "description": "",
            "description_tooltip": null,
            "layout": "IPY_MODEL_c53bbd7bcd1841ea93eea7dc5c208cce",
            "max": 50,
            "min": 0,
            "orientation": "horizontal",
            "style": "IPY_MODEL_2136a7837ccb4f66bee77dcf62d4a7cd",
            "value": 50
          }
        },
        "596a909f73b54c4f91490bc416da8f8f": {
          "model_module": "@jupyter-widgets/controls",
          "model_module_version": "1.5.0",
          "model_name": "ProgressStyleModel",
          "state": {
            "_model_module": "@jupyter-widgets/controls",
            "_model_module_version": "1.5.0",
            "_model_name": "ProgressStyleModel",
            "_view_count": null,
            "_view_module": "@jupyter-widgets/base",
            "_view_module_version": "1.2.0",
            "_view_name": "StyleView",
            "bar_color": null,
            "description_width": ""
          }
        },
        "5a9dd5d04b67498bbf81f7638c039fbe": {
          "model_module": "@jupyter-widgets/controls",
          "model_module_version": "1.5.0",
          "model_name": "HBoxModel",
          "state": {
            "_dom_classes": [],
            "_model_module": "@jupyter-widgets/controls",
            "_model_module_version": "1.5.0",
            "_model_name": "HBoxModel",
            "_view_count": null,
            "_view_module": "@jupyter-widgets/controls",
            "_view_module_version": "1.5.0",
            "_view_name": "HBoxView",
            "box_style": "",
            "children": [
              "IPY_MODEL_74220418a2a34bf7a48fe174b24d3039",
              "IPY_MODEL_d01d97d04894440686910f82f16d72ea",
              "IPY_MODEL_8902bc3c463d48eeacecdf4b7e50e09f"
            ],
            "layout": "IPY_MODEL_8ae4cba5d4d340e888eec77e7e71c343"
          }
        },
        "5b5793fa8a0040a08fd545c693467944": {
          "model_module": "@jupyter-widgets/base",
          "model_module_version": "1.2.0",
          "model_name": "LayoutModel",
          "state": {
            "_model_module": "@jupyter-widgets/base",
            "_model_module_version": "1.2.0",
            "_model_name": "LayoutModel",
            "_view_count": null,
            "_view_module": "@jupyter-widgets/base",
            "_view_module_version": "1.2.0",
            "_view_name": "LayoutView",
            "align_content": null,
            "align_items": null,
            "align_self": null,
            "border": null,
            "bottom": null,
            "display": null,
            "flex": null,
            "flex_flow": null,
            "grid_area": null,
            "grid_auto_columns": null,
            "grid_auto_flow": null,
            "grid_auto_rows": null,
            "grid_column": null,
            "grid_gap": null,
            "grid_row": null,
            "grid_template_areas": null,
            "grid_template_columns": null,
            "grid_template_rows": null,
            "height": null,
            "justify_content": null,
            "justify_items": null,
            "left": null,
            "margin": null,
            "max_height": null,
            "max_width": null,
            "min_height": null,
            "min_width": null,
            "object_fit": null,
            "object_position": null,
            "order": null,
            "overflow": null,
            "overflow_x": null,
            "overflow_y": null,
            "padding": null,
            "right": null,
            "top": null,
            "visibility": null,
            "width": null
          }
        },
        "5c5167e28d184d6a86199aabfbda6000": {
          "model_module": "@jupyter-widgets/base",
          "model_module_version": "1.2.0",
          "model_name": "LayoutModel",
          "state": {
            "_model_module": "@jupyter-widgets/base",
            "_model_module_version": "1.2.0",
            "_model_name": "LayoutModel",
            "_view_count": null,
            "_view_module": "@jupyter-widgets/base",
            "_view_module_version": "1.2.0",
            "_view_name": "LayoutView",
            "align_content": null,
            "align_items": null,
            "align_self": null,
            "border": null,
            "bottom": null,
            "display": null,
            "flex": null,
            "flex_flow": null,
            "grid_area": null,
            "grid_auto_columns": null,
            "grid_auto_flow": null,
            "grid_auto_rows": null,
            "grid_column": null,
            "grid_gap": null,
            "grid_row": null,
            "grid_template_areas": null,
            "grid_template_columns": null,
            "grid_template_rows": null,
            "height": null,
            "justify_content": null,
            "justify_items": null,
            "left": null,
            "margin": null,
            "max_height": null,
            "max_width": null,
            "min_height": null,
            "min_width": null,
            "object_fit": null,
            "object_position": null,
            "order": null,
            "overflow": null,
            "overflow_x": null,
            "overflow_y": null,
            "padding": null,
            "right": null,
            "top": null,
            "visibility": null,
            "width": null
          }
        },
        "5e11a9c97d594f228dcd1c22bd59e83d": {
          "model_module": "@jupyter-widgets/base",
          "model_module_version": "1.2.0",
          "model_name": "LayoutModel",
          "state": {
            "_model_module": "@jupyter-widgets/base",
            "_model_module_version": "1.2.0",
            "_model_name": "LayoutModel",
            "_view_count": null,
            "_view_module": "@jupyter-widgets/base",
            "_view_module_version": "1.2.0",
            "_view_name": "LayoutView",
            "align_content": null,
            "align_items": null,
            "align_self": null,
            "border": null,
            "bottom": null,
            "display": null,
            "flex": null,
            "flex_flow": null,
            "grid_area": null,
            "grid_auto_columns": null,
            "grid_auto_flow": null,
            "grid_auto_rows": null,
            "grid_column": null,
            "grid_gap": null,
            "grid_row": null,
            "grid_template_areas": null,
            "grid_template_columns": null,
            "grid_template_rows": null,
            "height": null,
            "justify_content": null,
            "justify_items": null,
            "left": null,
            "margin": null,
            "max_height": null,
            "max_width": null,
            "min_height": null,
            "min_width": null,
            "object_fit": null,
            "object_position": null,
            "order": null,
            "overflow": null,
            "overflow_x": null,
            "overflow_y": null,
            "padding": null,
            "right": null,
            "top": null,
            "visibility": null,
            "width": null
          }
        },
        "5e41daadad4746a9b333e7f84e59ab06": {
          "model_module": "@jupyter-widgets/controls",
          "model_module_version": "1.5.0",
          "model_name": "ProgressStyleModel",
          "state": {
            "_model_module": "@jupyter-widgets/controls",
            "_model_module_version": "1.5.0",
            "_model_name": "ProgressStyleModel",
            "_view_count": null,
            "_view_module": "@jupyter-widgets/base",
            "_view_module_version": "1.2.0",
            "_view_name": "StyleView",
            "bar_color": null,
            "description_width": ""
          }
        },
        "5e63fe2ec5f24745a38422ef94c9bfd4": {
          "model_module": "@jupyter-widgets/controls",
          "model_module_version": "1.5.0",
          "model_name": "FloatProgressModel",
          "state": {
            "_dom_classes": [],
            "_model_module": "@jupyter-widgets/controls",
            "_model_module_version": "1.5.0",
            "_model_name": "FloatProgressModel",
            "_view_count": null,
            "_view_module": "@jupyter-widgets/controls",
            "_view_module_version": "1.5.0",
            "_view_name": "ProgressView",
            "bar_style": "success",
            "description": "",
            "description_tooltip": null,
            "layout": "IPY_MODEL_5f6e066f9b0c4b389dd60bb26960318e",
            "max": 1215,
            "min": 0,
            "orientation": "horizontal",
            "style": "IPY_MODEL_fd0eda83a8b34f16982e2f058736271a",
            "value": 1215
          }
        },
        "5e7753dc1dd74916a951b8281a9b29cb": {
          "model_module": "@jupyter-widgets/controls",
          "model_module_version": "1.5.0",
          "model_name": "HBoxModel",
          "state": {
            "_dom_classes": [],
            "_model_module": "@jupyter-widgets/controls",
            "_model_module_version": "1.5.0",
            "_model_name": "HBoxModel",
            "_view_count": null,
            "_view_module": "@jupyter-widgets/controls",
            "_view_module_version": "1.5.0",
            "_view_name": "HBoxView",
            "box_style": "",
            "children": [
              "IPY_MODEL_e21562d50de1494c9256e65d2831c1c0",
              "IPY_MODEL_b7f0a3112e074b2f825adb8f14f732c5",
              "IPY_MODEL_d949895a2fd948a5b2487a740bcf3443"
            ],
            "layout": "IPY_MODEL_5f5a4f61d4794fa8acf1be43e71f7214"
          }
        },
        "5f5a4f61d4794fa8acf1be43e71f7214": {
          "model_module": "@jupyter-widgets/base",
          "model_module_version": "1.2.0",
          "model_name": "LayoutModel",
          "state": {
            "_model_module": "@jupyter-widgets/base",
            "_model_module_version": "1.2.0",
            "_model_name": "LayoutModel",
            "_view_count": null,
            "_view_module": "@jupyter-widgets/base",
            "_view_module_version": "1.2.0",
            "_view_name": "LayoutView",
            "align_content": null,
            "align_items": null,
            "align_self": null,
            "border": null,
            "bottom": null,
            "display": null,
            "flex": null,
            "flex_flow": null,
            "grid_area": null,
            "grid_auto_columns": null,
            "grid_auto_flow": null,
            "grid_auto_rows": null,
            "grid_column": null,
            "grid_gap": null,
            "grid_row": null,
            "grid_template_areas": null,
            "grid_template_columns": null,
            "grid_template_rows": null,
            "height": null,
            "justify_content": null,
            "justify_items": null,
            "left": null,
            "margin": null,
            "max_height": null,
            "max_width": null,
            "min_height": null,
            "min_width": null,
            "object_fit": null,
            "object_position": null,
            "order": null,
            "overflow": null,
            "overflow_x": null,
            "overflow_y": null,
            "padding": null,
            "right": null,
            "top": null,
            "visibility": null,
            "width": null
          }
        },
        "5f6e066f9b0c4b389dd60bb26960318e": {
          "model_module": "@jupyter-widgets/base",
          "model_module_version": "1.2.0",
          "model_name": "LayoutModel",
          "state": {
            "_model_module": "@jupyter-widgets/base",
            "_model_module_version": "1.2.0",
            "_model_name": "LayoutModel",
            "_view_count": null,
            "_view_module": "@jupyter-widgets/base",
            "_view_module_version": "1.2.0",
            "_view_name": "LayoutView",
            "align_content": null,
            "align_items": null,
            "align_self": null,
            "border": null,
            "bottom": null,
            "display": null,
            "flex": null,
            "flex_flow": null,
            "grid_area": null,
            "grid_auto_columns": null,
            "grid_auto_flow": null,
            "grid_auto_rows": null,
            "grid_column": null,
            "grid_gap": null,
            "grid_row": null,
            "grid_template_areas": null,
            "grid_template_columns": null,
            "grid_template_rows": null,
            "height": null,
            "justify_content": null,
            "justify_items": null,
            "left": null,
            "margin": null,
            "max_height": null,
            "max_width": null,
            "min_height": null,
            "min_width": null,
            "object_fit": null,
            "object_position": null,
            "order": null,
            "overflow": null,
            "overflow_x": null,
            "overflow_y": null,
            "padding": null,
            "right": null,
            "top": null,
            "visibility": null,
            "width": null
          }
        },
        "62ebe0900fcf406ebe27dc19a623bea2": {
          "model_module": "@jupyter-widgets/base",
          "model_module_version": "1.2.0",
          "model_name": "LayoutModel",
          "state": {
            "_model_module": "@jupyter-widgets/base",
            "_model_module_version": "1.2.0",
            "_model_name": "LayoutModel",
            "_view_count": null,
            "_view_module": "@jupyter-widgets/base",
            "_view_module_version": "1.2.0",
            "_view_name": "LayoutView",
            "align_content": null,
            "align_items": null,
            "align_self": null,
            "border": null,
            "bottom": null,
            "display": null,
            "flex": null,
            "flex_flow": null,
            "grid_area": null,
            "grid_auto_columns": null,
            "grid_auto_flow": null,
            "grid_auto_rows": null,
            "grid_column": null,
            "grid_gap": null,
            "grid_row": null,
            "grid_template_areas": null,
            "grid_template_columns": null,
            "grid_template_rows": null,
            "height": null,
            "justify_content": null,
            "justify_items": null,
            "left": null,
            "margin": null,
            "max_height": null,
            "max_width": null,
            "min_height": null,
            "min_width": null,
            "object_fit": null,
            "object_position": null,
            "order": null,
            "overflow": null,
            "overflow_x": null,
            "overflow_y": null,
            "padding": null,
            "right": null,
            "top": null,
            "visibility": null,
            "width": null
          }
        },
        "641010b38ab1403ebea6622b54e82809": {
          "model_module": "@jupyter-widgets/controls",
          "model_module_version": "1.5.0",
          "model_name": "DescriptionStyleModel",
          "state": {
            "_model_module": "@jupyter-widgets/controls",
            "_model_module_version": "1.5.0",
            "_model_name": "DescriptionStyleModel",
            "_view_count": null,
            "_view_module": "@jupyter-widgets/base",
            "_view_module_version": "1.2.0",
            "_view_name": "StyleView",
            "description_width": ""
          }
        },
        "6442031bad8f4e7fa26a050de2edb9ae": {
          "model_module": "@jupyter-widgets/controls",
          "model_module_version": "1.5.0",
          "model_name": "HTMLModel",
          "state": {
            "_dom_classes": [],
            "_model_module": "@jupyter-widgets/controls",
            "_model_module_version": "1.5.0",
            "_model_name": "HTMLModel",
            "_view_count": null,
            "_view_module": "@jupyter-widgets/controls",
            "_view_module_version": "1.5.0",
            "_view_name": "HTMLView",
            "description": "",
            "description_tooltip": null,
            "layout": "IPY_MODEL_d57f6e773f5746f89674c01036df0cd6",
            "placeholder": "​",
            "style": "IPY_MODEL_f310e1fdb7554e49a6d06eb80bbda012",
            "value": "README.md: 100%"
          }
        },
        "64608d18155a430d8379fbca48f9acaa": {
          "model_module": "@jupyter-widgets/controls",
          "model_module_version": "1.5.0",
          "model_name": "ProgressStyleModel",
          "state": {
            "_model_module": "@jupyter-widgets/controls",
            "_model_module_version": "1.5.0",
            "_model_name": "ProgressStyleModel",
            "_view_count": null,
            "_view_module": "@jupyter-widgets/base",
            "_view_module_version": "1.2.0",
            "_view_name": "StyleView",
            "bar_color": null,
            "description_width": ""
          }
        },
        "646cf123245447daa4be1da43263011e": {
          "model_module": "@jupyter-widgets/controls",
          "model_module_version": "1.5.0",
          "model_name": "FloatProgressModel",
          "state": {
            "_dom_classes": [],
            "_model_module": "@jupyter-widgets/controls",
            "_model_module_version": "1.5.0",
            "_model_name": "FloatProgressModel",
            "_view_count": null,
            "_view_module": "@jupyter-widgets/controls",
            "_view_module_version": "1.5.0",
            "_view_name": "ProgressView",
            "bar_style": "success",
            "description": "",
            "description_tooltip": null,
            "layout": "IPY_MODEL_25881b0ac03b4595b31584bdc3645e65",
            "max": 881,
            "min": 0,
            "orientation": "horizontal",
            "style": "IPY_MODEL_c9af0928bf434d61b18cc1a97cfa2981",
            "value": 881
          }
        },
        "654f6d43f890467095791134708d92b6": {
          "model_module": "@jupyter-widgets/controls",
          "model_module_version": "1.5.0",
          "model_name": "DescriptionStyleModel",
          "state": {
            "_model_module": "@jupyter-widgets/controls",
            "_model_module_version": "1.5.0",
            "_model_name": "DescriptionStyleModel",
            "_view_count": null,
            "_view_module": "@jupyter-widgets/base",
            "_view_module_version": "1.2.0",
            "_view_name": "StyleView",
            "description_width": ""
          }
        },
        "6625a1ccd6c543f3b5c48f30cf8aabad": {
          "model_module": "@jupyter-widgets/controls",
          "model_module_version": "1.5.0",
          "model_name": "HBoxModel",
          "state": {
            "_dom_classes": [],
            "_model_module": "@jupyter-widgets/controls",
            "_model_module_version": "1.5.0",
            "_model_name": "HBoxModel",
            "_view_count": null,
            "_view_module": "@jupyter-widgets/controls",
            "_view_module_version": "1.5.0",
            "_view_name": "HBoxView",
            "box_style": "",
            "children": [
              "IPY_MODEL_e98a91a1061a4c618129f0a857f624c4",
              "IPY_MODEL_681d478756954544b1ffdf2e455220d2",
              "IPY_MODEL_7c44189ed924440e8ad05dd66151a66b"
            ],
            "layout": "IPY_MODEL_20ac4f1f62a740a9856cf856088ccc39"
          }
        },
        "66db852bfc124b649f6a38f1e7a0152e": {
          "model_module": "@jupyter-widgets/controls",
          "model_module_version": "1.5.0",
          "model_name": "DescriptionStyleModel",
          "state": {
            "_model_module": "@jupyter-widgets/controls",
            "_model_module_version": "1.5.0",
            "_model_name": "DescriptionStyleModel",
            "_view_count": null,
            "_view_module": "@jupyter-widgets/base",
            "_view_module_version": "1.2.0",
            "_view_name": "StyleView",
            "description_width": ""
          }
        },
        "681d478756954544b1ffdf2e455220d2": {
          "model_module": "@jupyter-widgets/controls",
          "model_module_version": "1.5.0",
          "model_name": "FloatProgressModel",
          "state": {
            "_dom_classes": [],
            "_model_module": "@jupyter-widgets/controls",
            "_model_module_version": "1.5.0",
            "_model_name": "FloatProgressModel",
            "_view_count": null,
            "_view_module": "@jupyter-widgets/controls",
            "_view_module_version": "1.5.0",
            "_view_name": "ProgressView",
            "bar_style": "success",
            "description": "",
            "description_tooltip": null,
            "layout": "IPY_MODEL_ab54915711944276b46063c7355b5c44",
            "max": 190,
            "min": 0,
            "orientation": "horizontal",
            "style": "IPY_MODEL_a809ff6967af400bbffd00c537b37367",
            "value": 190
          }
        },
        "6878467be51446878f2806147753651a": {
          "model_module": "@jupyter-widgets/controls",
          "model_module_version": "1.5.0",
          "model_name": "ProgressStyleModel",
          "state": {
            "_model_module": "@jupyter-widgets/controls",
            "_model_module_version": "1.5.0",
            "_model_name": "ProgressStyleModel",
            "_view_count": null,
            "_view_module": "@jupyter-widgets/base",
            "_view_module_version": "1.2.0",
            "_view_name": "StyleView",
            "bar_color": null,
            "description_width": ""
          }
        },
        "689563df4d4747608c668ff69a68c783": {
          "model_module": "@jupyter-widgets/controls",
          "model_module_version": "1.5.0",
          "model_name": "HBoxModel",
          "state": {
            "_dom_classes": [],
            "_model_module": "@jupyter-widgets/controls",
            "_model_module_version": "1.5.0",
            "_model_name": "HBoxModel",
            "_view_count": null,
            "_view_module": "@jupyter-widgets/controls",
            "_view_module_version": "1.5.0",
            "_view_name": "HBoxView",
            "box_style": "",
            "children": [
              "IPY_MODEL_1f29a2a004514259982c4c4d9a025701",
              "IPY_MODEL_5e63fe2ec5f24745a38422ef94c9bfd4",
              "IPY_MODEL_0aef4c9078d045d08f1c359a97b1998a"
            ],
            "layout": "IPY_MODEL_1e72a4f47a70415e83937b6df57cecf4"
          }
        },
        "695e7c5cf84840499667c2c04a2616ac": {
          "model_module": "@jupyter-widgets/controls",
          "model_module_version": "1.5.0",
          "model_name": "DescriptionStyleModel",
          "state": {
            "_model_module": "@jupyter-widgets/controls",
            "_model_module_version": "1.5.0",
            "_model_name": "DescriptionStyleModel",
            "_view_count": null,
            "_view_module": "@jupyter-widgets/base",
            "_view_module_version": "1.2.0",
            "_view_name": "StyleView",
            "description_width": ""
          }
        },
        "6b5d97572fae4326b56fb46f0f3ecf3d": {
          "model_module": "@jupyter-widgets/base",
          "model_module_version": "1.2.0",
          "model_name": "LayoutModel",
          "state": {
            "_model_module": "@jupyter-widgets/base",
            "_model_module_version": "1.2.0",
            "_model_name": "LayoutModel",
            "_view_count": null,
            "_view_module": "@jupyter-widgets/base",
            "_view_module_version": "1.2.0",
            "_view_name": "LayoutView",
            "align_content": null,
            "align_items": null,
            "align_self": null,
            "border": null,
            "bottom": null,
            "display": null,
            "flex": null,
            "flex_flow": null,
            "grid_area": null,
            "grid_auto_columns": null,
            "grid_auto_flow": null,
            "grid_auto_rows": null,
            "grid_column": null,
            "grid_gap": null,
            "grid_row": null,
            "grid_template_areas": null,
            "grid_template_columns": null,
            "grid_template_rows": null,
            "height": null,
            "justify_content": null,
            "justify_items": null,
            "left": null,
            "margin": null,
            "max_height": null,
            "max_width": null,
            "min_height": null,
            "min_width": null,
            "object_fit": null,
            "object_position": null,
            "order": null,
            "overflow": null,
            "overflow_x": null,
            "overflow_y": null,
            "padding": null,
            "right": null,
            "top": null,
            "visibility": null,
            "width": null
          }
        },
        "6bf4e372dd8f405a8ac6477b2efdb333": {
          "model_module": "@jupyter-widgets/controls",
          "model_module_version": "1.5.0",
          "model_name": "ProgressStyleModel",
          "state": {
            "_model_module": "@jupyter-widgets/controls",
            "_model_module_version": "1.5.0",
            "_model_name": "ProgressStyleModel",
            "_view_count": null,
            "_view_module": "@jupyter-widgets/base",
            "_view_module_version": "1.2.0",
            "_view_name": "StyleView",
            "bar_color": null,
            "description_width": ""
          }
        },
        "6d51820cc184446b8a3b161f63b3d7df": {
          "model_module": "@jupyter-widgets/controls",
          "model_module_version": "1.5.0",
          "model_name": "HBoxModel",
          "state": {
            "_dom_classes": [],
            "_model_module": "@jupyter-widgets/controls",
            "_model_module_version": "1.5.0",
            "_model_name": "HBoxModel",
            "_view_count": null,
            "_view_module": "@jupyter-widgets/controls",
            "_view_module_version": "1.5.0",
            "_view_name": "HBoxView",
            "box_style": "",
            "children": [
              "IPY_MODEL_a434ab83342b4877ac3969a644b88db5",
              "IPY_MODEL_fecee293d17b46539e598e699ceb0eaa",
              "IPY_MODEL_2b779affaad941d4ab93063c010f7dd2"
            ],
            "layout": "IPY_MODEL_f4c61206d2d54c5e9e97cde3ad892d54"
          }
        },
        "6e4675d28e744aa1bd57e34246e544d1": {
          "model_module": "@jupyter-widgets/controls",
          "model_module_version": "1.5.0",
          "model_name": "HBoxModel",
          "state": {
            "_dom_classes": [],
            "_model_module": "@jupyter-widgets/controls",
            "_model_module_version": "1.5.0",
            "_model_name": "HBoxModel",
            "_view_count": null,
            "_view_module": "@jupyter-widgets/controls",
            "_view_module_version": "1.5.0",
            "_view_name": "HBoxView",
            "box_style": "",
            "children": [
              "IPY_MODEL_efd51000373c47bdb5bb324d86458e86",
              "IPY_MODEL_4a105eed9f30448488907e29356d447b",
              "IPY_MODEL_8957e15a911f4c95a13212fbaf56cd6f"
            ],
            "layout": "IPY_MODEL_73c690d531bf46b78c0fe656f4e34e6a"
          }
        },
        "6e9485b3711544d5a19082b77ebfa831": {
          "model_module": "@jupyter-widgets/controls",
          "model_module_version": "1.5.0",
          "model_name": "HBoxModel",
          "state": {
            "_dom_classes": [],
            "_model_module": "@jupyter-widgets/controls",
            "_model_module_version": "1.5.0",
            "_model_name": "HBoxModel",
            "_view_count": null,
            "_view_module": "@jupyter-widgets/controls",
            "_view_module_version": "1.5.0",
            "_view_name": "HBoxView",
            "box_style": "",
            "children": [
              "IPY_MODEL_271c2166e8774b37bcbb1319b2cb5294",
              "IPY_MODEL_e39b36d6fa0f4312a85e7e02e6346be9",
              "IPY_MODEL_9b1888cd6a764afb8ddbabb8266cf716"
            ],
            "layout": "IPY_MODEL_4ef12a152f744a789f735fbe515a0c56"
          }
        },
        "6f16fae12034427fa35b146abda1023d": {
          "model_module": "@jupyter-widgets/controls",
          "model_module_version": "1.5.0",
          "model_name": "HTMLModel",
          "state": {
            "_dom_classes": [],
            "_model_module": "@jupyter-widgets/controls",
            "_model_module_version": "1.5.0",
            "_model_name": "HTMLModel",
            "_view_count": null,
            "_view_module": "@jupyter-widgets/controls",
            "_view_module_version": "1.5.0",
            "_view_name": "HTMLView",
            "description": "",
            "description_tooltip": null,
            "layout": "IPY_MODEL_a3360832602241679bd30308495874c6",
            "placeholder": "​",
            "style": "IPY_MODEL_6f5ea9fb8e624f82b1c35f25c93192d3",
            "value": "config.json: 100%"
          }
        },
        "6f5ea9fb8e624f82b1c35f25c93192d3": {
          "model_module": "@jupyter-widgets/controls",
          "model_module_version": "1.5.0",
          "model_name": "DescriptionStyleModel",
          "state": {
            "_model_module": "@jupyter-widgets/controls",
            "_model_module_version": "1.5.0",
            "_model_name": "DescriptionStyleModel",
            "_view_count": null,
            "_view_module": "@jupyter-widgets/base",
            "_view_module_version": "1.2.0",
            "_view_name": "StyleView",
            "description_width": ""
          }
        },
        "6f7dbebbe2834a13b38df44d80332082": {
          "model_module": "@jupyter-widgets/base",
          "model_module_version": "1.2.0",
          "model_name": "LayoutModel",
          "state": {
            "_model_module": "@jupyter-widgets/base",
            "_model_module_version": "1.2.0",
            "_model_name": "LayoutModel",
            "_view_count": null,
            "_view_module": "@jupyter-widgets/base",
            "_view_module_version": "1.2.0",
            "_view_name": "LayoutView",
            "align_content": null,
            "align_items": null,
            "align_self": null,
            "border": null,
            "bottom": null,
            "display": null,
            "flex": null,
            "flex_flow": null,
            "grid_area": null,
            "grid_auto_columns": null,
            "grid_auto_flow": null,
            "grid_auto_rows": null,
            "grid_column": null,
            "grid_gap": null,
            "grid_row": null,
            "grid_template_areas": null,
            "grid_template_columns": null,
            "grid_template_rows": null,
            "height": null,
            "justify_content": null,
            "justify_items": null,
            "left": null,
            "margin": null,
            "max_height": null,
            "max_width": null,
            "min_height": null,
            "min_width": null,
            "object_fit": null,
            "object_position": null,
            "order": null,
            "overflow": null,
            "overflow_x": null,
            "overflow_y": null,
            "padding": null,
            "right": null,
            "top": null,
            "visibility": null,
            "width": null
          }
        },
        "7037fb559a204c2692bd8570fe2b3207": {
          "model_module": "@jupyter-widgets/controls",
          "model_module_version": "1.5.0",
          "model_name": "ProgressStyleModel",
          "state": {
            "_model_module": "@jupyter-widgets/controls",
            "_model_module_version": "1.5.0",
            "_model_name": "ProgressStyleModel",
            "_view_count": null,
            "_view_module": "@jupyter-widgets/base",
            "_view_module_version": "1.2.0",
            "_view_name": "StyleView",
            "bar_color": null,
            "description_width": ""
          }
        },
        "703ae968163749ee91e0a0ed17468993": {
          "model_module": "@jupyter-widgets/controls",
          "model_module_version": "1.5.0",
          "model_name": "HTMLModel",
          "state": {
            "_dom_classes": [],
            "_model_module": "@jupyter-widgets/controls",
            "_model_module_version": "1.5.0",
            "_model_name": "HTMLModel",
            "_view_count": null,
            "_view_module": "@jupyter-widgets/controls",
            "_view_module_version": "1.5.0",
            "_view_name": "HTMLView",
            "description": "",
            "description_tooltip": null,
            "layout": "IPY_MODEL_6f7dbebbe2834a13b38df44d80332082",
            "placeholder": "​",
            "style": "IPY_MODEL_654f6d43f890467095791134708d92b6",
            "value": " 881/881 [00:00&lt;00:00, 50.6kB/s]"
          }
        },
        "7061b48426e1410db1b9577bcc82dbab": {
          "model_module": "@jupyter-widgets/controls",
          "model_module_version": "1.5.0",
          "model_name": "HTMLModel",
          "state": {
            "_dom_classes": [],
            "_model_module": "@jupyter-widgets/controls",
            "_model_module_version": "1.5.0",
            "_model_name": "HTMLModel",
            "_view_count": null,
            "_view_module": "@jupyter-widgets/controls",
            "_view_module_version": "1.5.0",
            "_view_name": "HTMLView",
            "description": "",
            "description_tooltip": null,
            "layout": "IPY_MODEL_adef29d7d6a4467cb1e728e8d78fa993",
            "placeholder": "​",
            "style": "IPY_MODEL_b908e53a71824e23a99e6be335aaf7f4",
            "value": " 150/150 [00:07&lt;00:00, 13.42it/s, train_auc=98.82%, skipped=3.21%]"
          }
        },
        "70c3340d321c4b4c959bd6b495d2c88b": {
          "model_module": "@jupyter-widgets/controls",
          "model_module_version": "1.5.0",
          "model_name": "DescriptionStyleModel",
          "state": {
            "_model_module": "@jupyter-widgets/controls",
            "_model_module_version": "1.5.0",
            "_model_name": "DescriptionStyleModel",
            "_view_count": null,
            "_view_module": "@jupyter-widgets/base",
            "_view_module_version": "1.2.0",
            "_view_name": "StyleView",
            "description_width": ""
          }
        },
        "71840476e7dd4913945c776c55c7119f": {
          "model_module": "@jupyter-widgets/controls",
          "model_module_version": "1.5.0",
          "model_name": "DescriptionStyleModel",
          "state": {
            "_model_module": "@jupyter-widgets/controls",
            "_model_module_version": "1.5.0",
            "_model_name": "DescriptionStyleModel",
            "_view_count": null,
            "_view_module": "@jupyter-widgets/base",
            "_view_module_version": "1.2.0",
            "_view_name": "StyleView",
            "description_width": ""
          }
        },
        "72a4bf5e71a743518515c211848d0128": {
          "model_module": "@jupyter-widgets/base",
          "model_module_version": "1.2.0",
          "model_name": "LayoutModel",
          "state": {
            "_model_module": "@jupyter-widgets/base",
            "_model_module_version": "1.2.0",
            "_model_name": "LayoutModel",
            "_view_count": null,
            "_view_module": "@jupyter-widgets/base",
            "_view_module_version": "1.2.0",
            "_view_name": "LayoutView",
            "align_content": null,
            "align_items": null,
            "align_self": null,
            "border": null,
            "bottom": null,
            "display": null,
            "flex": null,
            "flex_flow": null,
            "grid_area": null,
            "grid_auto_columns": null,
            "grid_auto_flow": null,
            "grid_auto_rows": null,
            "grid_column": null,
            "grid_gap": null,
            "grid_row": null,
            "grid_template_areas": null,
            "grid_template_columns": null,
            "grid_template_rows": null,
            "height": null,
            "justify_content": null,
            "justify_items": null,
            "left": null,
            "margin": null,
            "max_height": null,
            "max_width": null,
            "min_height": null,
            "min_width": null,
            "object_fit": null,
            "object_position": null,
            "order": null,
            "overflow": null,
            "overflow_x": null,
            "overflow_y": null,
            "padding": null,
            "right": null,
            "top": null,
            "visibility": null,
            "width": null
          }
        },
        "73892963e64c47579fe38eba3f904c57": {
          "model_module": "@jupyter-widgets/controls",
          "model_module_version": "1.5.0",
          "model_name": "HBoxModel",
          "state": {
            "_dom_classes": [],
            "_model_module": "@jupyter-widgets/controls",
            "_model_module_version": "1.5.0",
            "_model_name": "HBoxModel",
            "_view_count": null,
            "_view_module": "@jupyter-widgets/controls",
            "_view_module_version": "1.5.0",
            "_view_name": "HBoxView",
            "box_style": "",
            "children": [
              "IPY_MODEL_fe0239d907a2498f8d12e11e4fdcc479",
              "IPY_MODEL_ec7499335f5e41d0be894ec02acee840",
              "IPY_MODEL_7061b48426e1410db1b9577bcc82dbab"
            ],
            "layout": "IPY_MODEL_f75640dec5a7496f9632e375f7f249bc"
          }
        },
        "73be8cdd3e7e481c9459a3d41057bc58": {
          "model_module": "@jupyter-widgets/base",
          "model_module_version": "1.2.0",
          "model_name": "LayoutModel",
          "state": {
            "_model_module": "@jupyter-widgets/base",
            "_model_module_version": "1.2.0",
            "_model_name": "LayoutModel",
            "_view_count": null,
            "_view_module": "@jupyter-widgets/base",
            "_view_module_version": "1.2.0",
            "_view_name": "LayoutView",
            "align_content": null,
            "align_items": null,
            "align_self": null,
            "border": null,
            "bottom": null,
            "display": null,
            "flex": null,
            "flex_flow": null,
            "grid_area": null,
            "grid_auto_columns": null,
            "grid_auto_flow": null,
            "grid_auto_rows": null,
            "grid_column": null,
            "grid_gap": null,
            "grid_row": null,
            "grid_template_areas": null,
            "grid_template_columns": null,
            "grid_template_rows": null,
            "height": null,
            "justify_content": null,
            "justify_items": null,
            "left": null,
            "margin": null,
            "max_height": null,
            "max_width": null,
            "min_height": null,
            "min_width": null,
            "object_fit": null,
            "object_position": null,
            "order": null,
            "overflow": null,
            "overflow_x": null,
            "overflow_y": null,
            "padding": null,
            "right": null,
            "top": null,
            "visibility": null,
            "width": null
          }
        },
        "73c690d531bf46b78c0fe656f4e34e6a": {
          "model_module": "@jupyter-widgets/base",
          "model_module_version": "1.2.0",
          "model_name": "LayoutModel",
          "state": {
            "_model_module": "@jupyter-widgets/base",
            "_model_module_version": "1.2.0",
            "_model_name": "LayoutModel",
            "_view_count": null,
            "_view_module": "@jupyter-widgets/base",
            "_view_module_version": "1.2.0",
            "_view_name": "LayoutView",
            "align_content": null,
            "align_items": null,
            "align_self": null,
            "border": null,
            "bottom": null,
            "display": null,
            "flex": null,
            "flex_flow": null,
            "grid_area": null,
            "grid_auto_columns": null,
            "grid_auto_flow": null,
            "grid_auto_rows": null,
            "grid_column": null,
            "grid_gap": null,
            "grid_row": null,
            "grid_template_areas": null,
            "grid_template_columns": null,
            "grid_template_rows": null,
            "height": null,
            "justify_content": null,
            "justify_items": null,
            "left": null,
            "margin": null,
            "max_height": null,
            "max_width": null,
            "min_height": null,
            "min_width": null,
            "object_fit": null,
            "object_position": null,
            "order": null,
            "overflow": null,
            "overflow_x": null,
            "overflow_y": null,
            "padding": null,
            "right": null,
            "top": null,
            "visibility": null,
            "width": null
          }
        },
        "74220418a2a34bf7a48fe174b24d3039": {
          "model_module": "@jupyter-widgets/controls",
          "model_module_version": "1.5.0",
          "model_name": "HTMLModel",
          "state": {
            "_dom_classes": [],
            "_model_module": "@jupyter-widgets/controls",
            "_model_module_version": "1.5.0",
            "_model_name": "HTMLModel",
            "_view_count": null,
            "_view_module": "@jupyter-widgets/controls",
            "_view_module_version": "1.5.0",
            "_view_name": "HTMLView",
            "description": "",
            "description_tooltip": null,
            "layout": "IPY_MODEL_4debb5c2d3964c41a8aedae1a056b7dd",
            "placeholder": "​",
            "style": "IPY_MODEL_0d77dd5b2f9f409fbb402031c907d985",
            "value": "merges.txt: 100%"
          }
        },
        "754213804601497e9a466457e463de1b": {
          "model_module": "@jupyter-widgets/controls",
          "model_module_version": "1.5.0",
          "model_name": "HBoxModel",
          "state": {
            "_dom_classes": [],
            "_model_module": "@jupyter-widgets/controls",
            "_model_module_version": "1.5.0",
            "_model_name": "HBoxModel",
            "_view_count": null,
            "_view_module": "@jupyter-widgets/controls",
            "_view_module_version": "1.5.0",
            "_view_name": "HBoxView",
            "box_style": "",
            "children": [
              "IPY_MODEL_98d76d94505e4425be2fbe7d3a71f405",
              "IPY_MODEL_287dbabcf2f9422dba62f2dea97f3b0f",
              "IPY_MODEL_9dafe7036eb5441da5fd309c25c7317c"
            ],
            "layout": "IPY_MODEL_6b5d97572fae4326b56fb46f0f3ecf3d"
          }
        },
        "7794b3fee66d48a292b420e15cd9ae72": {
          "model_module": "@jupyter-widgets/controls",
          "model_module_version": "1.5.0",
          "model_name": "FloatProgressModel",
          "state": {
            "_dom_classes": [],
            "_model_module": "@jupyter-widgets/controls",
            "_model_module_version": "1.5.0",
            "_model_name": "FloatProgressModel",
            "_view_count": null,
            "_view_module": "@jupyter-widgets/controls",
            "_view_module_version": "1.5.0",
            "_view_name": "ProgressView",
            "bar_style": "success",
            "description": "",
            "description_tooltip": null,
            "layout": "IPY_MODEL_9e3bb886d2574dbda8de72423ad117d7",
            "max": 10659,
            "min": 0,
            "orientation": "horizontal",
            "style": "IPY_MODEL_5e41daadad4746a9b333e7f84e59ab06",
            "value": 10659
          }
        },
        "787bd61afc2649b39cc05f4fd4a2aa01": {
          "model_module": "@jupyter-widgets/base",
          "model_module_version": "1.2.0",
          "model_name": "LayoutModel",
          "state": {
            "_model_module": "@jupyter-widgets/base",
            "_model_module_version": "1.2.0",
            "_model_name": "LayoutModel",
            "_view_count": null,
            "_view_module": "@jupyter-widgets/base",
            "_view_module_version": "1.2.0",
            "_view_name": "LayoutView",
            "align_content": null,
            "align_items": null,
            "align_self": null,
            "border": null,
            "bottom": null,
            "display": null,
            "flex": null,
            "flex_flow": null,
            "grid_area": null,
            "grid_auto_columns": null,
            "grid_auto_flow": null,
            "grid_auto_rows": null,
            "grid_column": null,
            "grid_gap": null,
            "grid_row": null,
            "grid_template_areas": null,
            "grid_template_columns": null,
            "grid_template_rows": null,
            "height": null,
            "justify_content": null,
            "justify_items": null,
            "left": null,
            "margin": null,
            "max_height": null,
            "max_width": null,
            "min_height": null,
            "min_width": null,
            "object_fit": null,
            "object_position": null,
            "order": null,
            "overflow": null,
            "overflow_x": null,
            "overflow_y": null,
            "padding": null,
            "right": null,
            "top": null,
            "visibility": null,
            "width": null
          }
        },
        "78a56460ace244609e3637277ac597d3": {
          "model_module": "@jupyter-widgets/base",
          "model_module_version": "1.2.0",
          "model_name": "LayoutModel",
          "state": {
            "_model_module": "@jupyter-widgets/base",
            "_model_module_version": "1.2.0",
            "_model_name": "LayoutModel",
            "_view_count": null,
            "_view_module": "@jupyter-widgets/base",
            "_view_module_version": "1.2.0",
            "_view_name": "LayoutView",
            "align_content": null,
            "align_items": null,
            "align_self": null,
            "border": null,
            "bottom": null,
            "display": null,
            "flex": null,
            "flex_flow": null,
            "grid_area": null,
            "grid_auto_columns": null,
            "grid_auto_flow": null,
            "grid_auto_rows": null,
            "grid_column": null,
            "grid_gap": null,
            "grid_row": null,
            "grid_template_areas": null,
            "grid_template_columns": null,
            "grid_template_rows": null,
            "height": null,
            "justify_content": null,
            "justify_items": null,
            "left": null,
            "margin": null,
            "max_height": null,
            "max_width": null,
            "min_height": null,
            "min_width": null,
            "object_fit": null,
            "object_position": null,
            "order": null,
            "overflow": null,
            "overflow_x": null,
            "overflow_y": null,
            "padding": null,
            "right": null,
            "top": null,
            "visibility": null,
            "width": null
          }
        },
        "78eba5af31a3402b909697e87128af9d": {
          "model_module": "@jupyter-widgets/controls",
          "model_module_version": "1.5.0",
          "model_name": "HBoxModel",
          "state": {
            "_dom_classes": [],
            "_model_module": "@jupyter-widgets/controls",
            "_model_module_version": "1.5.0",
            "_model_name": "HBoxModel",
            "_view_count": null,
            "_view_module": "@jupyter-widgets/controls",
            "_view_module_version": "1.5.0",
            "_view_name": "HBoxView",
            "box_style": "",
            "children": [
              "IPY_MODEL_6442031bad8f4e7fa26a050de2edb9ae",
              "IPY_MODEL_7794b3fee66d48a292b420e15cd9ae72",
              "IPY_MODEL_0c7f18c39cbd465988666cb38ded3071"
            ],
            "layout": "IPY_MODEL_3da1c39b377a46c1a0302724449fcdb6"
          }
        },
        "79e04c2c29054aad930bb04897015c53": {
          "model_module": "@jupyter-widgets/controls",
          "model_module_version": "1.5.0",
          "model_name": "HTMLModel",
          "state": {
            "_dom_classes": [],
            "_model_module": "@jupyter-widgets/controls",
            "_model_module_version": "1.5.0",
            "_model_name": "HTMLModel",
            "_view_count": null,
            "_view_module": "@jupyter-widgets/controls",
            "_view_module_version": "1.5.0",
            "_view_name": "HTMLView",
            "description": "",
            "description_tooltip": null,
            "layout": "IPY_MODEL_22bfca47439a423c840b565f75719ea5",
            "placeholder": "​",
            "style": "IPY_MODEL_ee126a5ce178404d891576b2cf51a1ca",
            "value": " 1.12G/1.12G [00:28&lt;00:00, 42.3MB/s]"
          }
        },
        "79f02557eeac431b8f37ca553b8a5072": {
          "model_module": "@jupyter-widgets/base",
          "model_module_version": "1.2.0",
          "model_name": "LayoutModel",
          "state": {
            "_model_module": "@jupyter-widgets/base",
            "_model_module_version": "1.2.0",
            "_model_name": "LayoutModel",
            "_view_count": null,
            "_view_module": "@jupyter-widgets/base",
            "_view_module_version": "1.2.0",
            "_view_name": "LayoutView",
            "align_content": null,
            "align_items": null,
            "align_self": null,
            "border": null,
            "bottom": null,
            "display": null,
            "flex": null,
            "flex_flow": null,
            "grid_area": null,
            "grid_auto_columns": null,
            "grid_auto_flow": null,
            "grid_auto_rows": null,
            "grid_column": null,
            "grid_gap": null,
            "grid_row": null,
            "grid_template_areas": null,
            "grid_template_columns": null,
            "grid_template_rows": null,
            "height": null,
            "justify_content": null,
            "justify_items": null,
            "left": null,
            "margin": null,
            "max_height": null,
            "max_width": null,
            "min_height": null,
            "min_width": null,
            "object_fit": null,
            "object_position": null,
            "order": null,
            "overflow": null,
            "overflow_x": null,
            "overflow_y": null,
            "padding": null,
            "right": null,
            "top": null,
            "visibility": null,
            "width": null
          }
        },
        "7b1b1f4f78c24d909de818fb3eb4543d": {
          "model_module": "@jupyter-widgets/controls",
          "model_module_version": "1.5.0",
          "model_name": "HTMLModel",
          "state": {
            "_dom_classes": [],
            "_model_module": "@jupyter-widgets/controls",
            "_model_module_version": "1.5.0",
            "_model_name": "HTMLModel",
            "_view_count": null,
            "_view_module": "@jupyter-widgets/controls",
            "_view_module_version": "1.5.0",
            "_view_name": "HTMLView",
            "description": "",
            "description_tooltip": null,
            "layout": "IPY_MODEL_84f422bb44ed4a998bebfbc3d4e6dd6c",
            "placeholder": "​",
            "style": "IPY_MODEL_e4ca8767b16d47e6ad93184e686b9f87",
            "value": " 2.11M/2.11M [00:00&lt;00:00, 13.3MB/s]"
          }
        },
        "7b3cdfe1f5a1450a8dd8f18b8db29b63": {
          "model_module": "@jupyter-widgets/controls",
          "model_module_version": "1.5.0",
          "model_name": "HBoxModel",
          "state": {
            "_dom_classes": [],
            "_model_module": "@jupyter-widgets/controls",
            "_model_module_version": "1.5.0",
            "_model_name": "HBoxModel",
            "_view_count": null,
            "_view_module": "@jupyter-widgets/controls",
            "_view_module_version": "1.5.0",
            "_view_name": "HBoxView",
            "box_style": "",
            "children": [
              "IPY_MODEL_de21f98754384dd6b88523c5902a54f3",
              "IPY_MODEL_646cf123245447daa4be1da43263011e",
              "IPY_MODEL_703ae968163749ee91e0a0ed17468993"
            ],
            "layout": "IPY_MODEL_30a5019125af4b6ab2324463a5d2d18c"
          }
        },
        "7c44189ed924440e8ad05dd66151a66b": {
          "model_module": "@jupyter-widgets/controls",
          "model_module_version": "1.5.0",
          "model_name": "HTMLModel",
          "state": {
            "_dom_classes": [],
            "_model_module": "@jupyter-widgets/controls",
            "_model_module_version": "1.5.0",
            "_model_name": "HTMLModel",
            "_view_count": null,
            "_view_module": "@jupyter-widgets/controls",
            "_view_module_version": "1.5.0",
            "_view_name": "HTMLView",
            "description": "",
            "description_tooltip": null,
            "layout": "IPY_MODEL_0915523edab74f33999e8de14f031e83",
            "placeholder": "​",
            "style": "IPY_MODEL_1b85434577364eb0a6e58812c6620db3",
            "value": " 190/190 [00:00&lt;00:00, 4.89kB/s]"
          }
        },
        "7cae92f6ee0c41cba36a6da7d5d3d285": {
          "model_module": "@jupyter-widgets/controls",
          "model_module_version": "1.5.0",
          "model_name": "HTMLModel",
          "state": {
            "_dom_classes": [],
            "_model_module": "@jupyter-widgets/controls",
            "_model_module_version": "1.5.0",
            "_model_name": "HTMLModel",
            "_view_count": null,
            "_view_module": "@jupyter-widgets/controls",
            "_view_module_version": "1.5.0",
            "_view_name": "HTMLView",
            "description": "",
            "description_tooltip": null,
            "layout": "IPY_MODEL_fe5bfa57aa174ef5b1a5e9d6717888f2",
            "placeholder": "​",
            "style": "IPY_MODEL_641010b38ab1403ebea6622b54e82809",
            "value": "100%"
          }
        },
        "7ccd2c34c9084326b6fc6c43bbde9d17": {
          "model_module": "@jupyter-widgets/controls",
          "model_module_version": "1.5.0",
          "model_name": "HBoxModel",
          "state": {
            "_dom_classes": [],
            "_model_module": "@jupyter-widgets/controls",
            "_model_module_version": "1.5.0",
            "_model_name": "HBoxModel",
            "_view_count": null,
            "_view_module": "@jupyter-widgets/controls",
            "_view_module_version": "1.5.0",
            "_view_name": "HBoxView",
            "box_style": "",
            "children": [
              "IPY_MODEL_8249ddd205f44ba19e324115202420b7",
              "IPY_MODEL_b11ea3f4ea8b4f4ca83b8601f448f3ce",
              "IPY_MODEL_b40c3c15e56349128dad57b878a02273"
            ],
            "layout": "IPY_MODEL_2700be5a01ca492db678a802f4932480"
          }
        },
        "7dd8523bbb7d490090fd14d6bee03b6b": {
          "model_module": "@jupyter-widgets/controls",
          "model_module_version": "1.5.0",
          "model_name": "FloatProgressModel",
          "state": {
            "_dom_classes": [],
            "_model_module": "@jupyter-widgets/controls",
            "_model_module_version": "1.5.0",
            "_model_name": "FloatProgressModel",
            "_view_count": null,
            "_view_module": "@jupyter-widgets/controls",
            "_view_module_version": "1.5.0",
            "_view_name": "ProgressView",
            "bar_style": "success",
            "description": "",
            "description_tooltip": null,
            "layout": "IPY_MODEL_862007e9feda498b8f820f05b5c59442",
            "max": 112,
            "min": 0,
            "orientation": "horizontal",
            "style": "IPY_MODEL_e3323f12360f41f9b19dc66428d2d287",
            "value": 112
          }
        },
        "7df16042463546a5b226e722b34e417f": {
          "model_module": "@jupyter-widgets/base",
          "model_module_version": "1.2.0",
          "model_name": "LayoutModel",
          "state": {
            "_model_module": "@jupyter-widgets/base",
            "_model_module_version": "1.2.0",
            "_model_name": "LayoutModel",
            "_view_count": null,
            "_view_module": "@jupyter-widgets/base",
            "_view_module_version": "1.2.0",
            "_view_name": "LayoutView",
            "align_content": null,
            "align_items": null,
            "align_self": null,
            "border": null,
            "bottom": null,
            "display": null,
            "flex": null,
            "flex_flow": null,
            "grid_area": null,
            "grid_auto_columns": null,
            "grid_auto_flow": null,
            "grid_auto_rows": null,
            "grid_column": null,
            "grid_gap": null,
            "grid_row": null,
            "grid_template_areas": null,
            "grid_template_columns": null,
            "grid_template_rows": null,
            "height": null,
            "justify_content": null,
            "justify_items": null,
            "left": null,
            "margin": null,
            "max_height": null,
            "max_width": null,
            "min_height": null,
            "min_width": null,
            "object_fit": null,
            "object_position": null,
            "order": null,
            "overflow": null,
            "overflow_x": null,
            "overflow_y": null,
            "padding": null,
            "right": null,
            "top": null,
            "visibility": null,
            "width": null
          }
        },
        "7dfe5f9ae25c431b9bfc6e286bade34d": {
          "model_module": "@jupyter-widgets/controls",
          "model_module_version": "1.5.0",
          "model_name": "HTMLModel",
          "state": {
            "_dom_classes": [],
            "_model_module": "@jupyter-widgets/controls",
            "_model_module_version": "1.5.0",
            "_model_name": "HTMLModel",
            "_view_count": null,
            "_view_module": "@jupyter-widgets/controls",
            "_view_module_version": "1.5.0",
            "_view_name": "HTMLView",
            "description": "",
            "description_tooltip": null,
            "layout": "IPY_MODEL_f18830a8058548ef89191b8de4576889",
            "placeholder": "​",
            "style": "IPY_MODEL_66db852bfc124b649f6a38f1e7a0152e",
            "value": " 15/15 [00:02&lt;00:00,  7.14it/s]"
          }
        },
        "7e219817b2fc47038a923dfc1dc2a054": {
          "model_module": "@jupyter-widgets/base",
          "model_module_version": "1.2.0",
          "model_name": "LayoutModel",
          "state": {
            "_model_module": "@jupyter-widgets/base",
            "_model_module_version": "1.2.0",
            "_model_name": "LayoutModel",
            "_view_count": null,
            "_view_module": "@jupyter-widgets/base",
            "_view_module_version": "1.2.0",
            "_view_name": "LayoutView",
            "align_content": null,
            "align_items": null,
            "align_self": null,
            "border": null,
            "bottom": null,
            "display": null,
            "flex": null,
            "flex_flow": null,
            "grid_area": null,
            "grid_auto_columns": null,
            "grid_auto_flow": null,
            "grid_auto_rows": null,
            "grid_column": null,
            "grid_gap": null,
            "grid_row": null,
            "grid_template_areas": null,
            "grid_template_columns": null,
            "grid_template_rows": null,
            "height": null,
            "justify_content": null,
            "justify_items": null,
            "left": null,
            "margin": null,
            "max_height": null,
            "max_width": null,
            "min_height": null,
            "min_width": null,
            "object_fit": null,
            "object_position": null,
            "order": null,
            "overflow": null,
            "overflow_x": null,
            "overflow_y": null,
            "padding": null,
            "right": null,
            "top": null,
            "visibility": null,
            "width": null
          }
        },
        "7f00c9252dd7499eadea47c0d09596c4": {
          "model_module": "@jupyter-widgets/controls",
          "model_module_version": "1.5.0",
          "model_name": "HTMLModel",
          "state": {
            "_dom_classes": [],
            "_model_module": "@jupyter-widgets/controls",
            "_model_module_version": "1.5.0",
            "_model_name": "HTMLModel",
            "_view_count": null,
            "_view_module": "@jupyter-widgets/controls",
            "_view_module_version": "1.5.0",
            "_view_name": "HTMLView",
            "description": "",
            "description_tooltip": null,
            "layout": "IPY_MODEL_7df16042463546a5b226e722b34e417f",
            "placeholder": "​",
            "style": "IPY_MODEL_dbd8a154e52f4ba3b82e24d4f8b75029",
            "value": " 4.31M/4.31M [00:00&lt;00:00, 12.3MB/s]"
          }
        },
        "80b244dfe85245aeaf3ec409c38ea97a": {
          "model_module": "@jupyter-widgets/base",
          "model_module_version": "1.2.0",
          "model_name": "LayoutModel",
          "state": {
            "_model_module": "@jupyter-widgets/base",
            "_model_module_version": "1.2.0",
            "_model_name": "LayoutModel",
            "_view_count": null,
            "_view_module": "@jupyter-widgets/base",
            "_view_module_version": "1.2.0",
            "_view_name": "LayoutView",
            "align_content": null,
            "align_items": null,
            "align_self": null,
            "border": null,
            "bottom": null,
            "display": null,
            "flex": null,
            "flex_flow": null,
            "grid_area": null,
            "grid_auto_columns": null,
            "grid_auto_flow": null,
            "grid_auto_rows": null,
            "grid_column": null,
            "grid_gap": null,
            "grid_row": null,
            "grid_template_areas": null,
            "grid_template_columns": null,
            "grid_template_rows": null,
            "height": null,
            "justify_content": null,
            "justify_items": null,
            "left": null,
            "margin": null,
            "max_height": null,
            "max_width": null,
            "min_height": null,
            "min_width": null,
            "object_fit": null,
            "object_position": null,
            "order": null,
            "overflow": null,
            "overflow_x": null,
            "overflow_y": null,
            "padding": null,
            "right": null,
            "top": null,
            "visibility": null,
            "width": null
          }
        },
        "80b2dc5d544048b7b5bfc699583dfdec": {
          "model_module": "@jupyter-widgets/controls",
          "model_module_version": "1.5.0",
          "model_name": "HBoxModel",
          "state": {
            "_dom_classes": [],
            "_model_module": "@jupyter-widgets/controls",
            "_model_module_version": "1.5.0",
            "_model_name": "HBoxModel",
            "_view_count": null,
            "_view_module": "@jupyter-widgets/controls",
            "_view_module_version": "1.5.0",
            "_view_name": "HBoxView",
            "box_style": "",
            "children": [
              "IPY_MODEL_b22090469b0842398e9f5ff09168f7e9",
              "IPY_MODEL_92c471b127ba47feb57631f987824534",
              "IPY_MODEL_e8a6da8b9d7146639d5d112fded6439f"
            ],
            "layout": "IPY_MODEL_f875d8e1ee9e426299b78afc75d40f73"
          }
        },
        "823ef995d84d41ca8d0d72241488bd04": {
          "model_module": "@jupyter-widgets/base",
          "model_module_version": "1.2.0",
          "model_name": "LayoutModel",
          "state": {
            "_model_module": "@jupyter-widgets/base",
            "_model_module_version": "1.2.0",
            "_model_name": "LayoutModel",
            "_view_count": null,
            "_view_module": "@jupyter-widgets/base",
            "_view_module_version": "1.2.0",
            "_view_name": "LayoutView",
            "align_content": null,
            "align_items": null,
            "align_self": null,
            "border": null,
            "bottom": null,
            "display": null,
            "flex": null,
            "flex_flow": null,
            "grid_area": null,
            "grid_auto_columns": null,
            "grid_auto_flow": null,
            "grid_auto_rows": null,
            "grid_column": null,
            "grid_gap": null,
            "grid_row": null,
            "grid_template_areas": null,
            "grid_template_columns": null,
            "grid_template_rows": null,
            "height": null,
            "justify_content": null,
            "justify_items": null,
            "left": null,
            "margin": null,
            "max_height": null,
            "max_width": null,
            "min_height": null,
            "min_width": null,
            "object_fit": null,
            "object_position": null,
            "order": null,
            "overflow": null,
            "overflow_x": null,
            "overflow_y": null,
            "padding": null,
            "right": null,
            "top": null,
            "visibility": null,
            "width": null
          }
        },
        "8249ddd205f44ba19e324115202420b7": {
          "model_module": "@jupyter-widgets/controls",
          "model_module_version": "1.5.0",
          "model_name": "HTMLModel",
          "state": {
            "_dom_classes": [],
            "_model_module": "@jupyter-widgets/controls",
            "_model_module_version": "1.5.0",
            "_model_name": "HTMLModel",
            "_view_count": null,
            "_view_module": "@jupyter-widgets/controls",
            "_view_module_version": "1.5.0",
            "_view_name": "HTMLView",
            "description": "",
            "description_tooltip": null,
            "layout": "IPY_MODEL_73be8cdd3e7e481c9459a3d41057bc58",
            "placeholder": "​",
            "style": "IPY_MODEL_28c48a34e2c049238f471d7401b62585",
            "value": "100%"
          }
        },
        "84f422bb44ed4a998bebfbc3d4e6dd6c": {
          "model_module": "@jupyter-widgets/base",
          "model_module_version": "1.2.0",
          "model_name": "LayoutModel",
          "state": {
            "_model_module": "@jupyter-widgets/base",
            "_model_module_version": "1.2.0",
            "_model_name": "LayoutModel",
            "_view_count": null,
            "_view_module": "@jupyter-widgets/base",
            "_view_module_version": "1.2.0",
            "_view_name": "LayoutView",
            "align_content": null,
            "align_items": null,
            "align_self": null,
            "border": null,
            "bottom": null,
            "display": null,
            "flex": null,
            "flex_flow": null,
            "grid_area": null,
            "grid_auto_columns": null,
            "grid_auto_flow": null,
            "grid_auto_rows": null,
            "grid_column": null,
            "grid_gap": null,
            "grid_row": null,
            "grid_template_areas": null,
            "grid_template_columns": null,
            "grid_template_rows": null,
            "height": null,
            "justify_content": null,
            "justify_items": null,
            "left": null,
            "margin": null,
            "max_height": null,
            "max_width": null,
            "min_height": null,
            "min_width": null,
            "object_fit": null,
            "object_position": null,
            "order": null,
            "overflow": null,
            "overflow_x": null,
            "overflow_y": null,
            "padding": null,
            "right": null,
            "top": null,
            "visibility": null,
            "width": null
          }
        },
        "860296c0209d4f1fb2d3c75cbea609d6": {
          "model_module": "@jupyter-widgets/controls",
          "model_module_version": "1.5.0",
          "model_name": "HBoxModel",
          "state": {
            "_dom_classes": [],
            "_model_module": "@jupyter-widgets/controls",
            "_model_module_version": "1.5.0",
            "_model_name": "HBoxModel",
            "_view_count": null,
            "_view_module": "@jupyter-widgets/controls",
            "_view_module_version": "1.5.0",
            "_view_name": "HBoxView",
            "box_style": "",
            "children": [
              "IPY_MODEL_2793b5a5693f4a6581cebdae885610f3",
              "IPY_MODEL_bd476a9bba5448bcafe30692998cb163",
              "IPY_MODEL_3d7a820ca956463f867bbe9e26bf6104"
            ],
            "layout": "IPY_MODEL_fefa1e9b3868481c9b5941619023ffe3"
          }
        },
        "862007e9feda498b8f820f05b5c59442": {
          "model_module": "@jupyter-widgets/base",
          "model_module_version": "1.2.0",
          "model_name": "LayoutModel",
          "state": {
            "_model_module": "@jupyter-widgets/base",
            "_model_module_version": "1.2.0",
            "_model_name": "LayoutModel",
            "_view_count": null,
            "_view_module": "@jupyter-widgets/base",
            "_view_module_version": "1.2.0",
            "_view_name": "LayoutView",
            "align_content": null,
            "align_items": null,
            "align_self": null,
            "border": null,
            "bottom": null,
            "display": null,
            "flex": null,
            "flex_flow": null,
            "grid_area": null,
            "grid_auto_columns": null,
            "grid_auto_flow": null,
            "grid_auto_rows": null,
            "grid_column": null,
            "grid_gap": null,
            "grid_row": null,
            "grid_template_areas": null,
            "grid_template_columns": null,
            "grid_template_rows": null,
            "height": null,
            "justify_content": null,
            "justify_items": null,
            "left": null,
            "margin": null,
            "max_height": null,
            "max_width": null,
            "min_height": null,
            "min_width": null,
            "object_fit": null,
            "object_position": null,
            "order": null,
            "overflow": null,
            "overflow_x": null,
            "overflow_y": null,
            "padding": null,
            "right": null,
            "top": null,
            "visibility": null,
            "width": null
          }
        },
        "869b397a90f14c0aba9fc3d3d842efc0": {
          "model_module": "@jupyter-widgets/base",
          "model_module_version": "1.2.0",
          "model_name": "LayoutModel",
          "state": {
            "_model_module": "@jupyter-widgets/base",
            "_model_module_version": "1.2.0",
            "_model_name": "LayoutModel",
            "_view_count": null,
            "_view_module": "@jupyter-widgets/base",
            "_view_module_version": "1.2.0",
            "_view_name": "LayoutView",
            "align_content": null,
            "align_items": null,
            "align_self": null,
            "border": null,
            "bottom": null,
            "display": null,
            "flex": null,
            "flex_flow": null,
            "grid_area": null,
            "grid_auto_columns": null,
            "grid_auto_flow": null,
            "grid_auto_rows": null,
            "grid_column": null,
            "grid_gap": null,
            "grid_row": null,
            "grid_template_areas": null,
            "grid_template_columns": null,
            "grid_template_rows": null,
            "height": null,
            "justify_content": null,
            "justify_items": null,
            "left": null,
            "margin": null,
            "max_height": null,
            "max_width": null,
            "min_height": null,
            "min_width": null,
            "object_fit": null,
            "object_position": null,
            "order": null,
            "overflow": null,
            "overflow_x": null,
            "overflow_y": null,
            "padding": null,
            "right": null,
            "top": null,
            "visibility": null,
            "width": null
          }
        },
        "88267bdfbfc14cd08121206ec329fb22": {
          "model_module": "@jupyter-widgets/base",
          "model_module_version": "1.2.0",
          "model_name": "LayoutModel",
          "state": {
            "_model_module": "@jupyter-widgets/base",
            "_model_module_version": "1.2.0",
            "_model_name": "LayoutModel",
            "_view_count": null,
            "_view_module": "@jupyter-widgets/base",
            "_view_module_version": "1.2.0",
            "_view_name": "LayoutView",
            "align_content": null,
            "align_items": null,
            "align_self": null,
            "border": null,
            "bottom": null,
            "display": null,
            "flex": null,
            "flex_flow": null,
            "grid_area": null,
            "grid_auto_columns": null,
            "grid_auto_flow": null,
            "grid_auto_rows": null,
            "grid_column": null,
            "grid_gap": null,
            "grid_row": null,
            "grid_template_areas": null,
            "grid_template_columns": null,
            "grid_template_rows": null,
            "height": null,
            "justify_content": null,
            "justify_items": null,
            "left": null,
            "margin": null,
            "max_height": null,
            "max_width": null,
            "min_height": null,
            "min_width": null,
            "object_fit": null,
            "object_position": null,
            "order": null,
            "overflow": null,
            "overflow_x": null,
            "overflow_y": null,
            "padding": null,
            "right": null,
            "top": null,
            "visibility": null,
            "width": null
          }
        },
        "887ab7c4d3c24e39b6b7ffdcea1b4e1b": {
          "model_module": "@jupyter-widgets/base",
          "model_module_version": "1.2.0",
          "model_name": "LayoutModel",
          "state": {
            "_model_module": "@jupyter-widgets/base",
            "_model_module_version": "1.2.0",
            "_model_name": "LayoutModel",
            "_view_count": null,
            "_view_module": "@jupyter-widgets/base",
            "_view_module_version": "1.2.0",
            "_view_name": "LayoutView",
            "align_content": null,
            "align_items": null,
            "align_self": null,
            "border": null,
            "bottom": null,
            "display": null,
            "flex": null,
            "flex_flow": null,
            "grid_area": null,
            "grid_auto_columns": null,
            "grid_auto_flow": null,
            "grid_auto_rows": null,
            "grid_column": null,
            "grid_gap": null,
            "grid_row": null,
            "grid_template_areas": null,
            "grid_template_columns": null,
            "grid_template_rows": null,
            "height": null,
            "justify_content": null,
            "justify_items": null,
            "left": null,
            "margin": null,
            "max_height": null,
            "max_width": null,
            "min_height": null,
            "min_width": null,
            "object_fit": null,
            "object_position": null,
            "order": null,
            "overflow": null,
            "overflow_x": null,
            "overflow_y": null,
            "padding": null,
            "right": null,
            "top": null,
            "visibility": null,
            "width": null
          }
        },
        "8902bc3c463d48eeacecdf4b7e50e09f": {
          "model_module": "@jupyter-widgets/controls",
          "model_module_version": "1.5.0",
          "model_name": "HTMLModel",
          "state": {
            "_dom_classes": [],
            "_model_module": "@jupyter-widgets/controls",
            "_model_module_version": "1.5.0",
            "_model_name": "HTMLModel",
            "_view_count": null,
            "_view_module": "@jupyter-widgets/controls",
            "_view_module_version": "1.5.0",
            "_view_name": "HTMLView",
            "description": "",
            "description_tooltip": null,
            "layout": "IPY_MODEL_925ba93079ef4c0586b30e934309e66f",
            "placeholder": "​",
            "style": "IPY_MODEL_71840476e7dd4913945c776c55c7119f",
            "value": " 456k/456k [00:00&lt;00:00, 6.33MB/s]"
          }
        },
        "8957e15a911f4c95a13212fbaf56cd6f": {
          "model_module": "@jupyter-widgets/controls",
          "model_module_version": "1.5.0",
          "model_name": "HTMLModel",
          "state": {
            "_dom_classes": [],
            "_model_module": "@jupyter-widgets/controls",
            "_model_module_version": "1.5.0",
            "_model_name": "HTMLModel",
            "_view_count": null,
            "_view_module": "@jupyter-widgets/controls",
            "_view_module_version": "1.5.0",
            "_view_name": "HTMLView",
            "description": "",
            "description_tooltip": null,
            "layout": "IPY_MODEL_9599f730896b46babec5179a6fc33ed5",
            "placeholder": "​",
            "style": "IPY_MODEL_3e61693f255c4c078de7082926b04dbc",
            "value": " 350/350 [00:00&lt;00:00, 9.18kB/s]"
          }
        },
        "8ae4cba5d4d340e888eec77e7e71c343": {
          "model_module": "@jupyter-widgets/base",
          "model_module_version": "1.2.0",
          "model_name": "LayoutModel",
          "state": {
            "_model_module": "@jupyter-widgets/base",
            "_model_module_version": "1.2.0",
            "_model_name": "LayoutModel",
            "_view_count": null,
            "_view_module": "@jupyter-widgets/base",
            "_view_module_version": "1.2.0",
            "_view_name": "LayoutView",
            "align_content": null,
            "align_items": null,
            "align_self": null,
            "border": null,
            "bottom": null,
            "display": null,
            "flex": null,
            "flex_flow": null,
            "grid_area": null,
            "grid_auto_columns": null,
            "grid_auto_flow": null,
            "grid_auto_rows": null,
            "grid_column": null,
            "grid_gap": null,
            "grid_row": null,
            "grid_template_areas": null,
            "grid_template_columns": null,
            "grid_template_rows": null,
            "height": null,
            "justify_content": null,
            "justify_items": null,
            "left": null,
            "margin": null,
            "max_height": null,
            "max_width": null,
            "min_height": null,
            "min_width": null,
            "object_fit": null,
            "object_position": null,
            "order": null,
            "overflow": null,
            "overflow_x": null,
            "overflow_y": null,
            "padding": null,
            "right": null,
            "top": null,
            "visibility": null,
            "width": null
          }
        },
        "8afebc938b624210ac2a3640e1670ce0": {
          "model_module": "@jupyter-widgets/base",
          "model_module_version": "1.2.0",
          "model_name": "LayoutModel",
          "state": {
            "_model_module": "@jupyter-widgets/base",
            "_model_module_version": "1.2.0",
            "_model_name": "LayoutModel",
            "_view_count": null,
            "_view_module": "@jupyter-widgets/base",
            "_view_module_version": "1.2.0",
            "_view_name": "LayoutView",
            "align_content": null,
            "align_items": null,
            "align_self": null,
            "border": null,
            "bottom": null,
            "display": null,
            "flex": null,
            "flex_flow": null,
            "grid_area": null,
            "grid_auto_columns": null,
            "grid_auto_flow": null,
            "grid_auto_rows": null,
            "grid_column": null,
            "grid_gap": null,
            "grid_row": null,
            "grid_template_areas": null,
            "grid_template_columns": null,
            "grid_template_rows": null,
            "height": null,
            "justify_content": null,
            "justify_items": null,
            "left": null,
            "margin": null,
            "max_height": null,
            "max_width": null,
            "min_height": null,
            "min_width": null,
            "object_fit": null,
            "object_position": null,
            "order": null,
            "overflow": null,
            "overflow_x": null,
            "overflow_y": null,
            "padding": null,
            "right": null,
            "top": null,
            "visibility": null,
            "width": null
          }
        },
        "8b87d06129cb4388a22492063e377e04": {
          "model_module": "@jupyter-widgets/controls",
          "model_module_version": "1.5.0",
          "model_name": "HTMLModel",
          "state": {
            "_dom_classes": [],
            "_model_module": "@jupyter-widgets/controls",
            "_model_module_version": "1.5.0",
            "_model_name": "HTMLModel",
            "_view_count": null,
            "_view_module": "@jupyter-widgets/controls",
            "_view_module_version": "1.5.0",
            "_view_name": "HTMLView",
            "description": "",
            "description_tooltip": null,
            "layout": "IPY_MODEL_307e10ceb7fc43b29354cf735b57109a",
            "placeholder": "​",
            "style": "IPY_MODEL_954a6e12ef97446f87a9f051c37817d6",
            "value": " 750/750 [00:00&lt;00:00, 17.2kB/s]"
          }
        },
        "8c51f03d5bd34aafa9b701e9616e125c": {
          "model_module": "@jupyter-widgets/base",
          "model_module_version": "1.2.0",
          "model_name": "LayoutModel",
          "state": {
            "_model_module": "@jupyter-widgets/base",
            "_model_module_version": "1.2.0",
            "_model_name": "LayoutModel",
            "_view_count": null,
            "_view_module": "@jupyter-widgets/base",
            "_view_module_version": "1.2.0",
            "_view_name": "LayoutView",
            "align_content": null,
            "align_items": null,
            "align_self": null,
            "border": null,
            "bottom": null,
            "display": null,
            "flex": null,
            "flex_flow": null,
            "grid_area": null,
            "grid_auto_columns": null,
            "grid_auto_flow": null,
            "grid_auto_rows": null,
            "grid_column": null,
            "grid_gap": null,
            "grid_row": null,
            "grid_template_areas": null,
            "grid_template_columns": null,
            "grid_template_rows": null,
            "height": null,
            "justify_content": null,
            "justify_items": null,
            "left": null,
            "margin": null,
            "max_height": null,
            "max_width": null,
            "min_height": null,
            "min_width": null,
            "object_fit": null,
            "object_position": null,
            "order": null,
            "overflow": null,
            "overflow_x": null,
            "overflow_y": null,
            "padding": null,
            "right": null,
            "top": null,
            "visibility": null,
            "width": null
          }
        },
        "8c70f945d52f40ed8bca69acd8e8cbf3": {
          "model_module": "@jupyter-widgets/base",
          "model_module_version": "1.2.0",
          "model_name": "LayoutModel",
          "state": {
            "_model_module": "@jupyter-widgets/base",
            "_model_module_version": "1.2.0",
            "_model_name": "LayoutModel",
            "_view_count": null,
            "_view_module": "@jupyter-widgets/base",
            "_view_module_version": "1.2.0",
            "_view_name": "LayoutView",
            "align_content": null,
            "align_items": null,
            "align_self": null,
            "border": null,
            "bottom": null,
            "display": null,
            "flex": null,
            "flex_flow": null,
            "grid_area": null,
            "grid_auto_columns": null,
            "grid_auto_flow": null,
            "grid_auto_rows": null,
            "grid_column": null,
            "grid_gap": null,
            "grid_row": null,
            "grid_template_areas": null,
            "grid_template_columns": null,
            "grid_template_rows": null,
            "height": null,
            "justify_content": null,
            "justify_items": null,
            "left": null,
            "margin": null,
            "max_height": null,
            "max_width": null,
            "min_height": null,
            "min_width": null,
            "object_fit": null,
            "object_position": null,
            "order": null,
            "overflow": null,
            "overflow_x": null,
            "overflow_y": null,
            "padding": null,
            "right": null,
            "top": null,
            "visibility": null,
            "width": null
          }
        },
        "922f780784a2491996297b19585e7490": {
          "model_module": "@jupyter-widgets/controls",
          "model_module_version": "1.5.0",
          "model_name": "HTMLModel",
          "state": {
            "_dom_classes": [],
            "_model_module": "@jupyter-widgets/controls",
            "_model_module_version": "1.5.0",
            "_model_name": "HTMLModel",
            "_view_count": null,
            "_view_module": "@jupyter-widgets/controls",
            "_view_module_version": "1.5.0",
            "_view_name": "HTMLView",
            "description": "",
            "description_tooltip": null,
            "layout": "IPY_MODEL_c42605c75bf945aca26dbcffec1ba732",
            "placeholder": "​",
            "style": "IPY_MODEL_e8d831fc7a6e4d34a6052f9a36117c35",
            "value": " 286/286 [00:00&lt;00:00, 20.6kB/s]"
          }
        },
        "924372cdfad04dbeb220d9f68d5d712c": {
          "model_module": "@jupyter-widgets/controls",
          "model_module_version": "1.5.0",
          "model_name": "HBoxModel",
          "state": {
            "_dom_classes": [],
            "_model_module": "@jupyter-widgets/controls",
            "_model_module_version": "1.5.0",
            "_model_name": "HBoxModel",
            "_view_count": null,
            "_view_module": "@jupyter-widgets/controls",
            "_view_module_version": "1.5.0",
            "_view_name": "HBoxView",
            "box_style": "",
            "children": [
              "IPY_MODEL_ba2d6baf476e453495d236d7ce56025d",
              "IPY_MODEL_22840adf30d14da383c0fbe1413c1c27",
              "IPY_MODEL_3a5eace0aaf14833a6a613993944b36c"
            ],
            "layout": "IPY_MODEL_c4dca387220e483b99ee546c804fe570"
          }
        },
        "925ba93079ef4c0586b30e934309e66f": {
          "model_module": "@jupyter-widgets/base",
          "model_module_version": "1.2.0",
          "model_name": "LayoutModel",
          "state": {
            "_model_module": "@jupyter-widgets/base",
            "_model_module_version": "1.2.0",
            "_model_name": "LayoutModel",
            "_view_count": null,
            "_view_module": "@jupyter-widgets/base",
            "_view_module_version": "1.2.0",
            "_view_name": "LayoutView",
            "align_content": null,
            "align_items": null,
            "align_self": null,
            "border": null,
            "bottom": null,
            "display": null,
            "flex": null,
            "flex_flow": null,
            "grid_area": null,
            "grid_auto_columns": null,
            "grid_auto_flow": null,
            "grid_auto_rows": null,
            "grid_column": null,
            "grid_gap": null,
            "grid_row": null,
            "grid_template_areas": null,
            "grid_template_columns": null,
            "grid_template_rows": null,
            "height": null,
            "justify_content": null,
            "justify_items": null,
            "left": null,
            "margin": null,
            "max_height": null,
            "max_width": null,
            "min_height": null,
            "min_width": null,
            "object_fit": null,
            "object_position": null,
            "order": null,
            "overflow": null,
            "overflow_x": null,
            "overflow_y": null,
            "padding": null,
            "right": null,
            "top": null,
            "visibility": null,
            "width": null
          }
        },
        "9279e34f8b934c0390f51515a24f1a63": {
          "model_module": "@jupyter-widgets/controls",
          "model_module_version": "1.5.0",
          "model_name": "HTMLModel",
          "state": {
            "_dom_classes": [],
            "_model_module": "@jupyter-widgets/controls",
            "_model_module_version": "1.5.0",
            "_model_name": "HTMLModel",
            "_view_count": null,
            "_view_module": "@jupyter-widgets/controls",
            "_view_module_version": "1.5.0",
            "_view_name": "HTMLView",
            "description": "",
            "description_tooltip": null,
            "layout": "IPY_MODEL_a6f29fe86f2c4718b5191993ccef0a10",
            "placeholder": "​",
            "style": "IPY_MODEL_70c3340d321c4b4c959bd6b495d2c88b",
            "value": " 116/116 [00:00&lt;00:00, 7.65kB/s]"
          }
        },
        "92c471b127ba47feb57631f987824534": {
          "model_module": "@jupyter-widgets/controls",
          "model_module_version": "1.5.0",
          "model_name": "FloatProgressModel",
          "state": {
            "_dom_classes": [],
            "_model_module": "@jupyter-widgets/controls",
            "_model_module_version": "1.5.0",
            "_model_name": "FloatProgressModel",
            "_view_count": null,
            "_view_module": "@jupyter-widgets/controls",
            "_view_module_version": "1.5.0",
            "_view_name": "ProgressView",
            "bar_style": "success",
            "description": "",
            "description_tooltip": null,
            "layout": "IPY_MODEL_ea47eafe320d4c66ae03fc6a77c01a11",
            "max": 16351029,
            "min": 0,
            "orientation": "horizontal",
            "style": "IPY_MODEL_eee367a010ae477e99a962f7608ee5b1",
            "value": 16351029
          }
        },
        "938e03b188a345a2b804584b0cdcec9f": {
          "model_module": "@jupyter-widgets/controls",
          "model_module_version": "1.5.0",
          "model_name": "HTMLModel",
          "state": {
            "_dom_classes": [],
            "_model_module": "@jupyter-widgets/controls",
            "_model_module_version": "1.5.0",
            "_model_name": "HTMLModel",
            "_view_count": null,
            "_view_module": "@jupyter-widgets/controls",
            "_view_module_version": "1.5.0",
            "_view_name": "HTMLView",
            "description": "",
            "description_tooltip": null,
            "layout": "IPY_MODEL_b05105672be34c998f41163b40e13990",
            "placeholder": "​",
            "style": "IPY_MODEL_fc55173c138f40f09ad997465e1efd43",
            "value": "vocab.txt: 100%"
          }
        },
        "941bbaea878649c0acd29dcec6d8315a": {
          "model_module": "@jupyter-widgets/controls",
          "model_module_version": "1.5.0",
          "model_name": "DescriptionStyleModel",
          "state": {
            "_model_module": "@jupyter-widgets/controls",
            "_model_module_version": "1.5.0",
            "_model_name": "DescriptionStyleModel",
            "_view_count": null,
            "_view_module": "@jupyter-widgets/base",
            "_view_module_version": "1.2.0",
            "_view_name": "StyleView",
            "description_width": ""
          }
        },
        "94ada5d84e244173bea5c5b78adef2f1": {
          "model_module": "@jupyter-widgets/controls",
          "model_module_version": "1.5.0",
          "model_name": "DescriptionStyleModel",
          "state": {
            "_model_module": "@jupyter-widgets/controls",
            "_model_module_version": "1.5.0",
            "_model_name": "DescriptionStyleModel",
            "_view_count": null,
            "_view_module": "@jupyter-widgets/base",
            "_view_module_version": "1.2.0",
            "_view_name": "StyleView",
            "description_width": ""
          }
        },
        "954a6e12ef97446f87a9f051c37817d6": {
          "model_module": "@jupyter-widgets/controls",
          "model_module_version": "1.5.0",
          "model_name": "DescriptionStyleModel",
          "state": {
            "_model_module": "@jupyter-widgets/controls",
            "_model_module_version": "1.5.0",
            "_model_name": "DescriptionStyleModel",
            "_view_count": null,
            "_view_module": "@jupyter-widgets/base",
            "_view_module_version": "1.2.0",
            "_view_name": "StyleView",
            "description_width": ""
          }
        },
        "957ae2e793aa4b7982f3c7f4e0be66ee": {
          "model_module": "@jupyter-widgets/controls",
          "model_module_version": "1.5.0",
          "model_name": "FloatProgressModel",
          "state": {
            "_dom_classes": [],
            "_model_module": "@jupyter-widgets/controls",
            "_model_module_version": "1.5.0",
            "_model_name": "FloatProgressModel",
            "_view_count": null,
            "_view_module": "@jupyter-widgets/controls",
            "_view_module_version": "1.5.0",
            "_view_name": "ProgressView",
            "bar_style": "success",
            "description": "",
            "description_tooltip": null,
            "layout": "IPY_MODEL_f11cae67c33449489fb778e911951439",
            "max": 150,
            "min": 0,
            "orientation": "horizontal",
            "style": "IPY_MODEL_7037fb559a204c2692bd8570fe2b3207",
            "value": 150
          }
        },
        "957d826b3a4a42afa243441d35fa76ec": {
          "model_module": "@jupyter-widgets/controls",
          "model_module_version": "1.5.0",
          "model_name": "HTMLModel",
          "state": {
            "_dom_classes": [],
            "_model_module": "@jupyter-widgets/controls",
            "_model_module_version": "1.5.0",
            "_model_name": "HTMLModel",
            "_view_count": null,
            "_view_module": "@jupyter-widgets/controls",
            "_view_module_version": "1.5.0",
            "_view_name": "HTMLView",
            "description": "",
            "description_tooltip": null,
            "layout": "IPY_MODEL_107f7ce23aa74bb8b392a17646277f3d",
            "placeholder": "​",
            "style": "IPY_MODEL_f60b878c86fc4a32b871741463210201",
            "value": "config_sentence_transformers.json: 100%"
          }
        },
        "958f5f344814404f856ac2a9bab3354a": {
          "model_module": "@jupyter-widgets/controls",
          "model_module_version": "1.5.0",
          "model_name": "HTMLModel",
          "state": {
            "_dom_classes": [],
            "_model_module": "@jupyter-widgets/controls",
            "_model_module_version": "1.5.0",
            "_model_name": "HTMLModel",
            "_view_count": null,
            "_view_module": "@jupyter-widgets/controls",
            "_view_module_version": "1.5.0",
            "_view_name": "HTMLView",
            "description": "",
            "description_tooltip": null,
            "layout": "IPY_MODEL_3c65300e49904a8f8a7138fc557c2db4",
            "placeholder": "​",
            "style": "IPY_MODEL_080672121085448e97fbeb7f44ef2b92",
            "value": "model.safetensors: 100%"
          }
        },
        "9599f730896b46babec5179a6fc33ed5": {
          "model_module": "@jupyter-widgets/base",
          "model_module_version": "1.2.0",
          "model_name": "LayoutModel",
          "state": {
            "_model_module": "@jupyter-widgets/base",
            "_model_module_version": "1.2.0",
            "_model_name": "LayoutModel",
            "_view_count": null,
            "_view_module": "@jupyter-widgets/base",
            "_view_module_version": "1.2.0",
            "_view_name": "LayoutView",
            "align_content": null,
            "align_items": null,
            "align_self": null,
            "border": null,
            "bottom": null,
            "display": null,
            "flex": null,
            "flex_flow": null,
            "grid_area": null,
            "grid_auto_columns": null,
            "grid_auto_flow": null,
            "grid_auto_rows": null,
            "grid_column": null,
            "grid_gap": null,
            "grid_row": null,
            "grid_template_areas": null,
            "grid_template_columns": null,
            "grid_template_rows": null,
            "height": null,
            "justify_content": null,
            "justify_items": null,
            "left": null,
            "margin": null,
            "max_height": null,
            "max_width": null,
            "min_height": null,
            "min_width": null,
            "object_fit": null,
            "object_position": null,
            "order": null,
            "overflow": null,
            "overflow_x": null,
            "overflow_y": null,
            "padding": null,
            "right": null,
            "top": null,
            "visibility": null,
            "width": null
          }
        },
        "984f06b6487046b19b4b8dfcc4786e9d": {
          "model_module": "@jupyter-widgets/base",
          "model_module_version": "1.2.0",
          "model_name": "LayoutModel",
          "state": {
            "_model_module": "@jupyter-widgets/base",
            "_model_module_version": "1.2.0",
            "_model_name": "LayoutModel",
            "_view_count": null,
            "_view_module": "@jupyter-widgets/base",
            "_view_module_version": "1.2.0",
            "_view_name": "LayoutView",
            "align_content": null,
            "align_items": null,
            "align_self": null,
            "border": null,
            "bottom": null,
            "display": null,
            "flex": null,
            "flex_flow": null,
            "grid_area": null,
            "grid_auto_columns": null,
            "grid_auto_flow": null,
            "grid_auto_rows": null,
            "grid_column": null,
            "grid_gap": null,
            "grid_row": null,
            "grid_template_areas": null,
            "grid_template_columns": null,
            "grid_template_rows": null,
            "height": null,
            "justify_content": null,
            "justify_items": null,
            "left": null,
            "margin": null,
            "max_height": null,
            "max_width": null,
            "min_height": null,
            "min_width": null,
            "object_fit": null,
            "object_position": null,
            "order": null,
            "overflow": null,
            "overflow_x": null,
            "overflow_y": null,
            "padding": null,
            "right": null,
            "top": null,
            "visibility": null,
            "width": null
          }
        },
        "98d76d94505e4425be2fbe7d3a71f405": {
          "model_module": "@jupyter-widgets/controls",
          "model_module_version": "1.5.0",
          "model_name": "HTMLModel",
          "state": {
            "_dom_classes": [],
            "_model_module": "@jupyter-widgets/controls",
            "_model_module_version": "1.5.0",
            "_model_name": "HTMLModel",
            "_view_count": null,
            "_view_module": "@jupyter-widgets/controls",
            "_view_module_version": "1.5.0",
            "_view_name": "HTMLView",
            "description": "",
            "description_tooltip": null,
            "layout": "IPY_MODEL_8c70f945d52f40ed8bca69acd8e8cbf3",
            "placeholder": "​",
            "style": "IPY_MODEL_20a8a82231fa4343807a33bd6d8e46fa",
            "value": "modules.json: 100%"
          }
        },
        "9a35fb6f8f4548ef943569df73a3486f": {
          "model_module": "@jupyter-widgets/controls",
          "model_module_version": "1.5.0",
          "model_name": "DescriptionStyleModel",
          "state": {
            "_model_module": "@jupyter-widgets/controls",
            "_model_module_version": "1.5.0",
            "_model_name": "DescriptionStyleModel",
            "_view_count": null,
            "_view_module": "@jupyter-widgets/base",
            "_view_module_version": "1.2.0",
            "_view_name": "StyleView",
            "description_width": ""
          }
        },
        "9b1888cd6a764afb8ddbabb8266cf716": {
          "model_module": "@jupyter-widgets/controls",
          "model_module_version": "1.5.0",
          "model_name": "HTMLModel",
          "state": {
            "_dom_classes": [],
            "_model_module": "@jupyter-widgets/controls",
            "_model_module_version": "1.5.0",
            "_model_name": "HTMLModel",
            "_view_count": null,
            "_view_module": "@jupyter-widgets/controls",
            "_view_module_version": "1.5.0",
            "_view_name": "HTMLView",
            "description": "",
            "description_tooltip": null,
            "layout": "IPY_MODEL_db332dda647c4f678ff41f016b9589b8",
            "placeholder": "​",
            "style": "IPY_MODEL_53f03c69b783481097571dc8daa5d31c",
            "value": " 466k/466k [00:00&lt;00:00, 6.93MB/s]"
          }
        },
        "9c11da4ec8d14e81aacfbc720d4f52ae": {
          "model_module": "@jupyter-widgets/controls",
          "model_module_version": "1.5.0",
          "model_name": "HTMLModel",
          "state": {
            "_dom_classes": [],
            "_model_module": "@jupyter-widgets/controls",
            "_model_module_version": "1.5.0",
            "_model_name": "HTMLModel",
            "_view_count": null,
            "_view_module": "@jupyter-widgets/controls",
            "_view_module_version": "1.5.0",
            "_view_name": "HTMLView",
            "description": "",
            "description_tooltip": null,
            "layout": "IPY_MODEL_5e11a9c97d594f228dcd1c22bd59e83d",
            "placeholder": "​",
            "style": "IPY_MODEL_e989475e0d554ec3afae8f607e3bc6b9",
            "value": " 15/15 [00:01&lt;00:00,  8.86it/s]"
          }
        },
        "9da0ad627fb54e6cafdf994dd525f12c": {
          "model_module": "@jupyter-widgets/controls",
          "model_module_version": "1.5.0",
          "model_name": "ProgressStyleModel",
          "state": {
            "_model_module": "@jupyter-widgets/controls",
            "_model_module_version": "1.5.0",
            "_model_name": "ProgressStyleModel",
            "_view_count": null,
            "_view_module": "@jupyter-widgets/base",
            "_view_module_version": "1.2.0",
            "_view_name": "StyleView",
            "bar_color": null,
            "description_width": ""
          }
        },
        "9dafe7036eb5441da5fd309c25c7317c": {
          "model_module": "@jupyter-widgets/controls",
          "model_module_version": "1.5.0",
          "model_name": "HTMLModel",
          "state": {
            "_dom_classes": [],
            "_model_module": "@jupyter-widgets/controls",
            "_model_module_version": "1.5.0",
            "_model_name": "HTMLModel",
            "_view_count": null,
            "_view_module": "@jupyter-widgets/controls",
            "_view_module_version": "1.5.0",
            "_view_name": "HTMLView",
            "description": "",
            "description_tooltip": null,
            "layout": "IPY_MODEL_2e65d33269c3497fab43cdd5d554f4a3",
            "placeholder": "​",
            "style": "IPY_MODEL_c4fbc5f7d3d24ff89c55cdd21896697b",
            "value": " 349/349 [00:00&lt;00:00, 15.2kB/s]"
          }
        },
        "9e3bb886d2574dbda8de72423ad117d7": {
          "model_module": "@jupyter-widgets/base",
          "model_module_version": "1.2.0",
          "model_name": "LayoutModel",
          "state": {
            "_model_module": "@jupyter-widgets/base",
            "_model_module_version": "1.2.0",
            "_model_name": "LayoutModel",
            "_view_count": null,
            "_view_module": "@jupyter-widgets/base",
            "_view_module_version": "1.2.0",
            "_view_name": "LayoutView",
            "align_content": null,
            "align_items": null,
            "align_self": null,
            "border": null,
            "bottom": null,
            "display": null,
            "flex": null,
            "flex_flow": null,
            "grid_area": null,
            "grid_auto_columns": null,
            "grid_auto_flow": null,
            "grid_auto_rows": null,
            "grid_column": null,
            "grid_gap": null,
            "grid_row": null,
            "grid_template_areas": null,
            "grid_template_columns": null,
            "grid_template_rows": null,
            "height": null,
            "justify_content": null,
            "justify_items": null,
            "left": null,
            "margin": null,
            "max_height": null,
            "max_width": null,
            "min_height": null,
            "min_width": null,
            "object_fit": null,
            "object_position": null,
            "order": null,
            "overflow": null,
            "overflow_x": null,
            "overflow_y": null,
            "padding": null,
            "right": null,
            "top": null,
            "visibility": null,
            "width": null
          }
        },
        "9e7cbdb4fdba4284a805b32ea164d561": {
          "model_module": "@jupyter-widgets/controls",
          "model_module_version": "1.5.0",
          "model_name": "HTMLModel",
          "state": {
            "_dom_classes": [],
            "_model_module": "@jupyter-widgets/controls",
            "_model_module_version": "1.5.0",
            "_model_name": "HTMLModel",
            "_view_count": null,
            "_view_module": "@jupyter-widgets/controls",
            "_view_module_version": "1.5.0",
            "_view_name": "HTMLView",
            "description": "",
            "description_tooltip": null,
            "layout": "IPY_MODEL_c07f6c79a2a24426ae80bc2faadd83fc",
            "placeholder": "​",
            "style": "IPY_MODEL_3b1da192c9be4042a3c95bb110504f71",
            "value": "special_tokens_map.json: 100%"
          }
        },
        "9e8553a35df24780bee26f5721763b06": {
          "model_module": "@jupyter-widgets/controls",
          "model_module_version": "1.5.0",
          "model_name": "FloatProgressModel",
          "state": {
            "_dom_classes": [],
            "_model_module": "@jupyter-widgets/controls",
            "_model_module_version": "1.5.0",
            "_model_name": "FloatProgressModel",
            "_view_count": null,
            "_view_module": "@jupyter-widgets/controls",
            "_view_module_version": "1.5.0",
            "_view_name": "ProgressView",
            "bar_style": "success",
            "description": "",
            "description_tooltip": null,
            "layout": "IPY_MODEL_5579c96ba0fb460dae9381dbd11a2a11",
            "max": 798293,
            "min": 0,
            "orientation": "horizontal",
            "style": "IPY_MODEL_ce72650ec43a45f2aa173d907692d637",
            "value": 798293
          }
        },
        "9f0c20345f1945a6bdabb9d0b6eabd52": {
          "model_module": "@jupyter-widgets/controls",
          "model_module_version": "1.5.0",
          "model_name": "HBoxModel",
          "state": {
            "_dom_classes": [],
            "_model_module": "@jupyter-widgets/controls",
            "_model_module_version": "1.5.0",
            "_model_name": "HBoxModel",
            "_view_count": null,
            "_view_module": "@jupyter-widgets/controls",
            "_view_module_version": "1.5.0",
            "_view_name": "HBoxView",
            "box_style": "",
            "children": [
              "IPY_MODEL_958f5f344814404f856ac2a9bab3354a",
              "IPY_MODEL_b21c2185305c483e96d5719f3409ed3e",
              "IPY_MODEL_79e04c2c29054aad930bb04897015c53"
            ],
            "layout": "IPY_MODEL_c0475f40542a48a8989076b0b3c922c8"
          }
        },
        "9f3b1623b32a49ca92939dc1508d5949": {
          "model_module": "@jupyter-widgets/controls",
          "model_module_version": "1.5.0",
          "model_name": "ProgressStyleModel",
          "state": {
            "_model_module": "@jupyter-widgets/controls",
            "_model_module_version": "1.5.0",
            "_model_name": "ProgressStyleModel",
            "_view_count": null,
            "_view_module": "@jupyter-widgets/base",
            "_view_module_version": "1.2.0",
            "_view_name": "StyleView",
            "bar_color": null,
            "description_width": ""
          }
        },
        "a030f78e048d42bdba1d1584e37aee2e": {
          "model_module": "@jupyter-widgets/controls",
          "model_module_version": "1.5.0",
          "model_name": "DescriptionStyleModel",
          "state": {
            "_model_module": "@jupyter-widgets/controls",
            "_model_module_version": "1.5.0",
            "_model_name": "DescriptionStyleModel",
            "_view_count": null,
            "_view_module": "@jupyter-widgets/base",
            "_view_module_version": "1.2.0",
            "_view_name": "StyleView",
            "description_width": ""
          }
        },
        "a093c43eed4b473ca2eba915c7d1169e": {
          "model_module": "@jupyter-widgets/base",
          "model_module_version": "1.2.0",
          "model_name": "LayoutModel",
          "state": {
            "_model_module": "@jupyter-widgets/base",
            "_model_module_version": "1.2.0",
            "_model_name": "LayoutModel",
            "_view_count": null,
            "_view_module": "@jupyter-widgets/base",
            "_view_module_version": "1.2.0",
            "_view_name": "LayoutView",
            "align_content": null,
            "align_items": null,
            "align_self": null,
            "border": null,
            "bottom": null,
            "display": null,
            "flex": null,
            "flex_flow": null,
            "grid_area": null,
            "grid_auto_columns": null,
            "grid_auto_flow": null,
            "grid_auto_rows": null,
            "grid_column": null,
            "grid_gap": null,
            "grid_row": null,
            "grid_template_areas": null,
            "grid_template_columns": null,
            "grid_template_rows": null,
            "height": null,
            "justify_content": null,
            "justify_items": null,
            "left": null,
            "margin": null,
            "max_height": null,
            "max_width": null,
            "min_height": null,
            "min_width": null,
            "object_fit": null,
            "object_position": null,
            "order": null,
            "overflow": null,
            "overflow_x": null,
            "overflow_y": null,
            "padding": null,
            "right": null,
            "top": null,
            "visibility": null,
            "width": null
          }
        },
        "a09be268b5584428af51c3c1c6c01755": {
          "model_module": "@jupyter-widgets/base",
          "model_module_version": "1.2.0",
          "model_name": "LayoutModel",
          "state": {
            "_model_module": "@jupyter-widgets/base",
            "_model_module_version": "1.2.0",
            "_model_name": "LayoutModel",
            "_view_count": null,
            "_view_module": "@jupyter-widgets/base",
            "_view_module_version": "1.2.0",
            "_view_name": "LayoutView",
            "align_content": null,
            "align_items": null,
            "align_self": null,
            "border": null,
            "bottom": null,
            "display": null,
            "flex": null,
            "flex_flow": null,
            "grid_area": null,
            "grid_auto_columns": null,
            "grid_auto_flow": null,
            "grid_auto_rows": null,
            "grid_column": null,
            "grid_gap": null,
            "grid_row": null,
            "grid_template_areas": null,
            "grid_template_columns": null,
            "grid_template_rows": null,
            "height": null,
            "justify_content": null,
            "justify_items": null,
            "left": null,
            "margin": null,
            "max_height": null,
            "max_width": null,
            "min_height": null,
            "min_width": null,
            "object_fit": null,
            "object_position": null,
            "order": null,
            "overflow": null,
            "overflow_x": null,
            "overflow_y": null,
            "padding": null,
            "right": null,
            "top": null,
            "visibility": null,
            "width": null
          }
        },
        "a3360832602241679bd30308495874c6": {
          "model_module": "@jupyter-widgets/base",
          "model_module_version": "1.2.0",
          "model_name": "LayoutModel",
          "state": {
            "_model_module": "@jupyter-widgets/base",
            "_model_module_version": "1.2.0",
            "_model_name": "LayoutModel",
            "_view_count": null,
            "_view_module": "@jupyter-widgets/base",
            "_view_module_version": "1.2.0",
            "_view_name": "LayoutView",
            "align_content": null,
            "align_items": null,
            "align_self": null,
            "border": null,
            "bottom": null,
            "display": null,
            "flex": null,
            "flex_flow": null,
            "grid_area": null,
            "grid_auto_columns": null,
            "grid_auto_flow": null,
            "grid_auto_rows": null,
            "grid_column": null,
            "grid_gap": null,
            "grid_row": null,
            "grid_template_areas": null,
            "grid_template_columns": null,
            "grid_template_rows": null,
            "height": null,
            "justify_content": null,
            "justify_items": null,
            "left": null,
            "margin": null,
            "max_height": null,
            "max_width": null,
            "min_height": null,
            "min_width": null,
            "object_fit": null,
            "object_position": null,
            "order": null,
            "overflow": null,
            "overflow_x": null,
            "overflow_y": null,
            "padding": null,
            "right": null,
            "top": null,
            "visibility": null,
            "width": null
          }
        },
        "a434ab83342b4877ac3969a644b88db5": {
          "model_module": "@jupyter-widgets/controls",
          "model_module_version": "1.5.0",
          "model_name": "HTMLModel",
          "state": {
            "_dom_classes": [],
            "_model_module": "@jupyter-widgets/controls",
            "_model_module_version": "1.5.0",
            "_model_name": "HTMLModel",
            "_view_count": null,
            "_view_module": "@jupyter-widgets/controls",
            "_view_module_version": "1.5.0",
            "_view_name": "HTMLView",
            "description": "",
            "description_tooltip": null,
            "layout": "IPY_MODEL_5c5167e28d184d6a86199aabfbda6000",
            "placeholder": "​",
            "style": "IPY_MODEL_a030f78e048d42bdba1d1584e37aee2e",
            "value": "model.safetensors: 100%"
          }
        },
        "a478c247d8fd4e9194bdea43bd23d962": {
          "model_module": "@jupyter-widgets/base",
          "model_module_version": "1.2.0",
          "model_name": "LayoutModel",
          "state": {
            "_model_module": "@jupyter-widgets/base",
            "_model_module_version": "1.2.0",
            "_model_name": "LayoutModel",
            "_view_count": null,
            "_view_module": "@jupyter-widgets/base",
            "_view_module_version": "1.2.0",
            "_view_name": "LayoutView",
            "align_content": null,
            "align_items": null,
            "align_self": null,
            "border": null,
            "bottom": null,
            "display": null,
            "flex": null,
            "flex_flow": null,
            "grid_area": null,
            "grid_auto_columns": null,
            "grid_auto_flow": null,
            "grid_auto_rows": null,
            "grid_column": null,
            "grid_gap": null,
            "grid_row": null,
            "grid_template_areas": null,
            "grid_template_columns": null,
            "grid_template_rows": null,
            "height": null,
            "justify_content": null,
            "justify_items": null,
            "left": null,
            "margin": null,
            "max_height": null,
            "max_width": null,
            "min_height": null,
            "min_width": null,
            "object_fit": null,
            "object_position": null,
            "order": null,
            "overflow": null,
            "overflow_x": null,
            "overflow_y": null,
            "padding": null,
            "right": null,
            "top": null,
            "visibility": null,
            "width": null
          }
        },
        "a4e8bfb82e9b4d408e900498c1c4e74f": {
          "model_module": "@jupyter-widgets/controls",
          "model_module_version": "1.5.0",
          "model_name": "FloatProgressModel",
          "state": {
            "_dom_classes": [],
            "_model_module": "@jupyter-widgets/controls",
            "_model_module_version": "1.5.0",
            "_model_name": "FloatProgressModel",
            "_view_count": null,
            "_view_module": "@jupyter-widgets/controls",
            "_view_module_version": "1.5.0",
            "_view_name": "ProgressView",
            "bar_style": "success",
            "description": "",
            "description_tooltip": null,
            "layout": "IPY_MODEL_559a4150f4e44220a69de1ab2470b3e4",
            "max": 4305025,
            "min": 0,
            "orientation": "horizontal",
            "style": "IPY_MODEL_4b4bbd26d0584f6096cd683730505154",
            "value": 4305025
          }
        },
        "a6f29fe86f2c4718b5191993ccef0a10": {
          "model_module": "@jupyter-widgets/base",
          "model_module_version": "1.2.0",
          "model_name": "LayoutModel",
          "state": {
            "_model_module": "@jupyter-widgets/base",
            "_model_module_version": "1.2.0",
            "_model_name": "LayoutModel",
            "_view_count": null,
            "_view_module": "@jupyter-widgets/base",
            "_view_module_version": "1.2.0",
            "_view_name": "LayoutView",
            "align_content": null,
            "align_items": null,
            "align_self": null,
            "border": null,
            "bottom": null,
            "display": null,
            "flex": null,
            "flex_flow": null,
            "grid_area": null,
            "grid_auto_columns": null,
            "grid_auto_flow": null,
            "grid_auto_rows": null,
            "grid_column": null,
            "grid_gap": null,
            "grid_row": null,
            "grid_template_areas": null,
            "grid_template_columns": null,
            "grid_template_rows": null,
            "height": null,
            "justify_content": null,
            "justify_items": null,
            "left": null,
            "margin": null,
            "max_height": null,
            "max_width": null,
            "min_height": null,
            "min_width": null,
            "object_fit": null,
            "object_position": null,
            "order": null,
            "overflow": null,
            "overflow_x": null,
            "overflow_y": null,
            "padding": null,
            "right": null,
            "top": null,
            "visibility": null,
            "width": null
          }
        },
        "a809ff6967af400bbffd00c537b37367": {
          "model_module": "@jupyter-widgets/controls",
          "model_module_version": "1.5.0",
          "model_name": "ProgressStyleModel",
          "state": {
            "_model_module": "@jupyter-widgets/controls",
            "_model_module_version": "1.5.0",
            "_model_name": "ProgressStyleModel",
            "_view_count": null,
            "_view_module": "@jupyter-widgets/base",
            "_view_module_version": "1.2.0",
            "_view_name": "StyleView",
            "bar_color": null,
            "description_width": ""
          }
        },
        "a868187b3dff4063ade24f7c366fa8a4": {
          "model_module": "@jupyter-widgets/controls",
          "model_module_version": "1.5.0",
          "model_name": "DescriptionStyleModel",
          "state": {
            "_model_module": "@jupyter-widgets/controls",
            "_model_module_version": "1.5.0",
            "_model_name": "DescriptionStyleModel",
            "_view_count": null,
            "_view_module": "@jupyter-widgets/base",
            "_view_module_version": "1.2.0",
            "_view_name": "StyleView",
            "description_width": ""
          }
        },
        "a983de5297974966beccb149c2640226": {
          "model_module": "@jupyter-widgets/base",
          "model_module_version": "1.2.0",
          "model_name": "LayoutModel",
          "state": {
            "_model_module": "@jupyter-widgets/base",
            "_model_module_version": "1.2.0",
            "_model_name": "LayoutModel",
            "_view_count": null,
            "_view_module": "@jupyter-widgets/base",
            "_view_module_version": "1.2.0",
            "_view_name": "LayoutView",
            "align_content": null,
            "align_items": null,
            "align_self": null,
            "border": null,
            "bottom": null,
            "display": null,
            "flex": null,
            "flex_flow": null,
            "grid_area": null,
            "grid_auto_columns": null,
            "grid_auto_flow": null,
            "grid_auto_rows": null,
            "grid_column": null,
            "grid_gap": null,
            "grid_row": null,
            "grid_template_areas": null,
            "grid_template_columns": null,
            "grid_template_rows": null,
            "height": null,
            "justify_content": null,
            "justify_items": null,
            "left": null,
            "margin": null,
            "max_height": null,
            "max_width": null,
            "min_height": null,
            "min_width": null,
            "object_fit": null,
            "object_position": null,
            "order": null,
            "overflow": null,
            "overflow_x": null,
            "overflow_y": null,
            "padding": null,
            "right": null,
            "top": null,
            "visibility": null,
            "width": null
          }
        },
        "aa4b77c74d3141c8ae5236dc66e5194d": {
          "model_module": "@jupyter-widgets/base",
          "model_module_version": "1.2.0",
          "model_name": "LayoutModel",
          "state": {
            "_model_module": "@jupyter-widgets/base",
            "_model_module_version": "1.2.0",
            "_model_name": "LayoutModel",
            "_view_count": null,
            "_view_module": "@jupyter-widgets/base",
            "_view_module_version": "1.2.0",
            "_view_name": "LayoutView",
            "align_content": null,
            "align_items": null,
            "align_self": null,
            "border": null,
            "bottom": null,
            "display": null,
            "flex": null,
            "flex_flow": null,
            "grid_area": null,
            "grid_auto_columns": null,
            "grid_auto_flow": null,
            "grid_auto_rows": null,
            "grid_column": null,
            "grid_gap": null,
            "grid_row": null,
            "grid_template_areas": null,
            "grid_template_columns": null,
            "grid_template_rows": null,
            "height": null,
            "justify_content": null,
            "justify_items": null,
            "left": null,
            "margin": null,
            "max_height": null,
            "max_width": null,
            "min_height": null,
            "min_width": null,
            "object_fit": null,
            "object_position": null,
            "order": null,
            "overflow": null,
            "overflow_x": null,
            "overflow_y": null,
            "padding": null,
            "right": null,
            "top": null,
            "visibility": null,
            "width": null
          }
        },
        "ab54915711944276b46063c7355b5c44": {
          "model_module": "@jupyter-widgets/base",
          "model_module_version": "1.2.0",
          "model_name": "LayoutModel",
          "state": {
            "_model_module": "@jupyter-widgets/base",
            "_model_module_version": "1.2.0",
            "_model_name": "LayoutModel",
            "_view_count": null,
            "_view_module": "@jupyter-widgets/base",
            "_view_module_version": "1.2.0",
            "_view_name": "LayoutView",
            "align_content": null,
            "align_items": null,
            "align_self": null,
            "border": null,
            "bottom": null,
            "display": null,
            "flex": null,
            "flex_flow": null,
            "grid_area": null,
            "grid_auto_columns": null,
            "grid_auto_flow": null,
            "grid_auto_rows": null,
            "grid_column": null,
            "grid_gap": null,
            "grid_row": null,
            "grid_template_areas": null,
            "grid_template_columns": null,
            "grid_template_rows": null,
            "height": null,
            "justify_content": null,
            "justify_items": null,
            "left": null,
            "margin": null,
            "max_height": null,
            "max_width": null,
            "min_height": null,
            "min_width": null,
            "object_fit": null,
            "object_position": null,
            "order": null,
            "overflow": null,
            "overflow_x": null,
            "overflow_y": null,
            "padding": null,
            "right": null,
            "top": null,
            "visibility": null,
            "width": null
          }
        },
        "ab83f783e0ff4fc6975794de861822e9": {
          "model_module": "@jupyter-widgets/base",
          "model_module_version": "1.2.0",
          "model_name": "LayoutModel",
          "state": {
            "_model_module": "@jupyter-widgets/base",
            "_model_module_version": "1.2.0",
            "_model_name": "LayoutModel",
            "_view_count": null,
            "_view_module": "@jupyter-widgets/base",
            "_view_module_version": "1.2.0",
            "_view_name": "LayoutView",
            "align_content": null,
            "align_items": null,
            "align_self": null,
            "border": null,
            "bottom": null,
            "display": null,
            "flex": null,
            "flex_flow": null,
            "grid_area": null,
            "grid_auto_columns": null,
            "grid_auto_flow": null,
            "grid_auto_rows": null,
            "grid_column": null,
            "grid_gap": null,
            "grid_row": null,
            "grid_template_areas": null,
            "grid_template_columns": null,
            "grid_template_rows": null,
            "height": null,
            "justify_content": null,
            "justify_items": null,
            "left": null,
            "margin": null,
            "max_height": null,
            "max_width": null,
            "min_height": null,
            "min_width": null,
            "object_fit": null,
            "object_position": null,
            "order": null,
            "overflow": null,
            "overflow_x": null,
            "overflow_y": null,
            "padding": null,
            "right": null,
            "top": null,
            "visibility": null,
            "width": null
          }
        },
        "acb38d7e8906422ca5cb0097801342f5": {
          "model_module": "@jupyter-widgets/controls",
          "model_module_version": "1.5.0",
          "model_name": "HTMLModel",
          "state": {
            "_dom_classes": [],
            "_model_module": "@jupyter-widgets/controls",
            "_model_module_version": "1.5.0",
            "_model_name": "HTMLModel",
            "_view_count": null,
            "_view_module": "@jupyter-widgets/controls",
            "_view_module_version": "1.5.0",
            "_view_name": "HTMLView",
            "description": "",
            "description_tooltip": null,
            "layout": "IPY_MODEL_d7cef6e886274dca9a21ccf13a0c58e4",
            "placeholder": "​",
            "style": "IPY_MODEL_94ada5d84e244173bea5c5b78adef2f1",
            "value": " 112/112 [00:00&lt;00:00, 4.42kB/s]"
          }
        },
        "adef29d7d6a4467cb1e728e8d78fa993": {
          "model_module": "@jupyter-widgets/base",
          "model_module_version": "1.2.0",
          "model_name": "LayoutModel",
          "state": {
            "_model_module": "@jupyter-widgets/base",
            "_model_module_version": "1.2.0",
            "_model_name": "LayoutModel",
            "_view_count": null,
            "_view_module": "@jupyter-widgets/base",
            "_view_module_version": "1.2.0",
            "_view_name": "LayoutView",
            "align_content": null,
            "align_items": null,
            "align_self": null,
            "border": null,
            "bottom": null,
            "display": null,
            "flex": null,
            "flex_flow": null,
            "grid_area": null,
            "grid_auto_columns": null,
            "grid_auto_flow": null,
            "grid_auto_rows": null,
            "grid_column": null,
            "grid_gap": null,
            "grid_row": null,
            "grid_template_areas": null,
            "grid_template_columns": null,
            "grid_template_rows": null,
            "height": null,
            "justify_content": null,
            "justify_items": null,
            "left": null,
            "margin": null,
            "max_height": null,
            "max_width": null,
            "min_height": null,
            "min_width": null,
            "object_fit": null,
            "object_position": null,
            "order": null,
            "overflow": null,
            "overflow_x": null,
            "overflow_y": null,
            "padding": null,
            "right": null,
            "top": null,
            "visibility": null,
            "width": null
          }
        },
        "ae10e28c609248d093e99ec974a32944": {
          "model_module": "@jupyter-widgets/controls",
          "model_module_version": "1.5.0",
          "model_name": "HTMLModel",
          "state": {
            "_dom_classes": [],
            "_model_module": "@jupyter-widgets/controls",
            "_model_module_version": "1.5.0",
            "_model_name": "HTMLModel",
            "_view_count": null,
            "_view_module": "@jupyter-widgets/controls",
            "_view_module_version": "1.5.0",
            "_view_name": "HTMLView",
            "description": "",
            "description_tooltip": null,
            "layout": "IPY_MODEL_d9afbd93eaf2492498ffa1fc9a32afa9",
            "placeholder": "​",
            "style": "IPY_MODEL_e8b9dde384c24393bcf0e4bfee739656",
            "value": "100%"
          }
        },
        "ae897a8fb0234c6c86186c9ab971b307": {
          "model_module": "@jupyter-widgets/controls",
          "model_module_version": "1.5.0",
          "model_name": "HTMLModel",
          "state": {
            "_dom_classes": [],
            "_model_module": "@jupyter-widgets/controls",
            "_model_module_version": "1.5.0",
            "_model_name": "HTMLModel",
            "_view_count": null,
            "_view_module": "@jupyter-widgets/controls",
            "_view_module_version": "1.5.0",
            "_view_name": "HTMLView",
            "description": "",
            "description_tooltip": null,
            "layout": "IPY_MODEL_55559b8f43774e3690f33fcc39cb011c",
            "placeholder": "​",
            "style": "IPY_MODEL_22125e68ba2a491883d42b946910910f",
            "value": "config.json: 100%"
          }
        },
        "b05105672be34c998f41163b40e13990": {
          "model_module": "@jupyter-widgets/base",
          "model_module_version": "1.2.0",
          "model_name": "LayoutModel",
          "state": {
            "_model_module": "@jupyter-widgets/base",
            "_model_module_version": "1.2.0",
            "_model_name": "LayoutModel",
            "_view_count": null,
            "_view_module": "@jupyter-widgets/base",
            "_view_module_version": "1.2.0",
            "_view_name": "LayoutView",
            "align_content": null,
            "align_items": null,
            "align_self": null,
            "border": null,
            "bottom": null,
            "display": null,
            "flex": null,
            "flex_flow": null,
            "grid_area": null,
            "grid_auto_columns": null,
            "grid_auto_flow": null,
            "grid_auto_rows": null,
            "grid_column": null,
            "grid_gap": null,
            "grid_row": null,
            "grid_template_areas": null,
            "grid_template_columns": null,
            "grid_template_rows": null,
            "height": null,
            "justify_content": null,
            "justify_items": null,
            "left": null,
            "margin": null,
            "max_height": null,
            "max_width": null,
            "min_height": null,
            "min_width": null,
            "object_fit": null,
            "object_position": null,
            "order": null,
            "overflow": null,
            "overflow_x": null,
            "overflow_y": null,
            "padding": null,
            "right": null,
            "top": null,
            "visibility": null,
            "width": null
          }
        },
        "b101709fd7ca43ab90f97979cd116ed2": {
          "model_module": "@jupyter-widgets/controls",
          "model_module_version": "1.5.0",
          "model_name": "HBoxModel",
          "state": {
            "_dom_classes": [],
            "_model_module": "@jupyter-widgets/controls",
            "_model_module_version": "1.5.0",
            "_model_name": "HBoxModel",
            "_view_count": null,
            "_view_module": "@jupyter-widgets/controls",
            "_view_module_version": "1.5.0",
            "_view_name": "HBoxView",
            "box_style": "",
            "children": [
              "IPY_MODEL_3d6e0d0ae1904d9aaa2734b0bbde96bf",
              "IPY_MODEL_2df320dea6144166acd636fc72732611",
              "IPY_MODEL_7dfe5f9ae25c431b9bfc6e286bade34d"
            ],
            "layout": "IPY_MODEL_78a56460ace244609e3637277ac597d3"
          }
        },
        "b11ea3f4ea8b4f4ca83b8601f448f3ce": {
          "model_module": "@jupyter-widgets/controls",
          "model_module_version": "1.5.0",
          "model_name": "FloatProgressModel",
          "state": {
            "_dom_classes": [],
            "_model_module": "@jupyter-widgets/controls",
            "_model_module_version": "1.5.0",
            "_model_name": "FloatProgressModel",
            "_view_count": null,
            "_view_module": "@jupyter-widgets/controls",
            "_view_module_version": "1.5.0",
            "_view_name": "ProgressView",
            "bar_style": "success",
            "description": "",
            "description_tooltip": null,
            "layout": "IPY_MODEL_3bf4123a8fac4dca9e9b718034c2ffcd",
            "max": 100,
            "min": 0,
            "orientation": "horizontal",
            "style": "IPY_MODEL_9da0ad627fb54e6cafdf994dd525f12c",
            "value": 100
          }
        },
        "b21c2185305c483e96d5719f3409ed3e": {
          "model_module": "@jupyter-widgets/controls",
          "model_module_version": "1.5.0",
          "model_name": "FloatProgressModel",
          "state": {
            "_dom_classes": [],
            "_model_module": "@jupyter-widgets/controls",
            "_model_module_version": "1.5.0",
            "_model_name": "FloatProgressModel",
            "_view_count": null,
            "_view_module": "@jupyter-widgets/controls",
            "_view_module_version": "1.5.0",
            "_view_name": "ProgressView",
            "bar_style": "success",
            "description": "",
            "description_tooltip": null,
            "layout": "IPY_MODEL_72a4bf5e71a743518515c211848d0128",
            "max": 1115268200,
            "min": 0,
            "orientation": "horizontal",
            "style": "IPY_MODEL_1d27f961b3684c10b5cdac11feb08e47",
            "value": 1115268200
          }
        },
        "b22090469b0842398e9f5ff09168f7e9": {
          "model_module": "@jupyter-widgets/controls",
          "model_module_version": "1.5.0",
          "model_name": "HTMLModel",
          "state": {
            "_dom_classes": [],
            "_model_module": "@jupyter-widgets/controls",
            "_model_module_version": "1.5.0",
            "_model_name": "HTMLModel",
            "_view_count": null,
            "_view_module": "@jupyter-widgets/controls",
            "_view_module_version": "1.5.0",
            "_view_name": "HTMLView",
            "description": "",
            "description_tooltip": null,
            "layout": "IPY_MODEL_2c5db51163ac48859e2ee182bb0784f0",
            "placeholder": "​",
            "style": "IPY_MODEL_695e7c5cf84840499667c2c04a2616ac",
            "value": "tokenizer.json: 100%"
          }
        },
        "b22fbefef9a44e288f621056a6cdec8c": {
          "model_module": "@jupyter-widgets/base",
          "model_module_version": "1.2.0",
          "model_name": "LayoutModel",
          "state": {
            "_model_module": "@jupyter-widgets/base",
            "_model_module_version": "1.2.0",
            "_model_name": "LayoutModel",
            "_view_count": null,
            "_view_module": "@jupyter-widgets/base",
            "_view_module_version": "1.2.0",
            "_view_name": "LayoutView",
            "align_content": null,
            "align_items": null,
            "align_self": null,
            "border": null,
            "bottom": null,
            "display": null,
            "flex": null,
            "flex_flow": null,
            "grid_area": null,
            "grid_auto_columns": null,
            "grid_auto_flow": null,
            "grid_auto_rows": null,
            "grid_column": null,
            "grid_gap": null,
            "grid_row": null,
            "grid_template_areas": null,
            "grid_template_columns": null,
            "grid_template_rows": null,
            "height": null,
            "justify_content": null,
            "justify_items": null,
            "left": null,
            "margin": null,
            "max_height": null,
            "max_width": null,
            "min_height": null,
            "min_width": null,
            "object_fit": null,
            "object_position": null,
            "order": null,
            "overflow": null,
            "overflow_x": null,
            "overflow_y": null,
            "padding": null,
            "right": null,
            "top": null,
            "visibility": null,
            "width": null
          }
        },
        "b2830ab359fc47d9b020e4a54b1e81e7": {
          "model_module": "@jupyter-widgets/controls",
          "model_module_version": "1.5.0",
          "model_name": "ProgressStyleModel",
          "state": {
            "_model_module": "@jupyter-widgets/controls",
            "_model_module_version": "1.5.0",
            "_model_name": "ProgressStyleModel",
            "_view_count": null,
            "_view_module": "@jupyter-widgets/base",
            "_view_module_version": "1.2.0",
            "_view_name": "StyleView",
            "bar_color": null,
            "description_width": ""
          }
        },
        "b40c3c15e56349128dad57b878a02273": {
          "model_module": "@jupyter-widgets/controls",
          "model_module_version": "1.5.0",
          "model_name": "HTMLModel",
          "state": {
            "_dom_classes": [],
            "_model_module": "@jupyter-widgets/controls",
            "_model_module_version": "1.5.0",
            "_model_name": "HTMLModel",
            "_view_count": null,
            "_view_module": "@jupyter-widgets/controls",
            "_view_module_version": "1.5.0",
            "_view_name": "HTMLView",
            "description": "",
            "description_tooltip": null,
            "layout": "IPY_MODEL_56fabcbe9e684b1088bc358eefd19084",
            "placeholder": "​",
            "style": "IPY_MODEL_57d3d789180f4c0b90ba5c34f120ef49",
            "value": " 100/100 [00:02&lt;00:00, 45.79it/s]"
          }
        },
        "b571993b4e03450c8c35392031083a38": {
          "model_module": "@jupyter-widgets/controls",
          "model_module_version": "1.5.0",
          "model_name": "FloatProgressModel",
          "state": {
            "_dom_classes": [],
            "_model_module": "@jupyter-widgets/controls",
            "_model_module_version": "1.5.0",
            "_model_name": "FloatProgressModel",
            "_view_count": null,
            "_view_module": "@jupyter-widgets/controls",
            "_view_module_version": "1.5.0",
            "_view_name": "ProgressView",
            "bar_style": "success",
            "description": "",
            "description_tooltip": null,
            "layout": "IPY_MODEL_e9905d0ff44c42f4adcce5c6b06862a6",
            "max": 15,
            "min": 0,
            "orientation": "horizontal",
            "style": "IPY_MODEL_edcd7173017b48cb9f8e308e2fff8313",
            "value": 15
          }
        },
        "b5f46a100e6347b6b02c3a61a41a46dd": {
          "model_module": "@jupyter-widgets/controls",
          "model_module_version": "1.5.0",
          "model_name": "DescriptionStyleModel",
          "state": {
            "_model_module": "@jupyter-widgets/controls",
            "_model_module_version": "1.5.0",
            "_model_name": "DescriptionStyleModel",
            "_view_count": null,
            "_view_module": "@jupyter-widgets/base",
            "_view_module_version": "1.2.0",
            "_view_name": "StyleView",
            "description_width": ""
          }
        },
        "b7f0a3112e074b2f825adb8f14f732c5": {
          "model_module": "@jupyter-widgets/controls",
          "model_module_version": "1.5.0",
          "model_name": "FloatProgressModel",
          "state": {
            "_dom_classes": [],
            "_model_module": "@jupyter-widgets/controls",
            "_model_module_version": "1.5.0",
            "_model_name": "FloatProgressModel",
            "_view_count": null,
            "_view_module": "@jupyter-widgets/controls",
            "_view_module_version": "1.5.0",
            "_view_name": "ProgressView",
            "bar_style": "success",
            "description": "",
            "description_tooltip": null,
            "layout": "IPY_MODEL_c3f613830e50437d8d4bd0dd15dcea8e",
            "max": 200,
            "min": 0,
            "orientation": "horizontal",
            "style": "IPY_MODEL_64608d18155a430d8379fbca48f9acaa",
            "value": 200
          }
        },
        "b908e53a71824e23a99e6be335aaf7f4": {
          "model_module": "@jupyter-widgets/controls",
          "model_module_version": "1.5.0",
          "model_name": "DescriptionStyleModel",
          "state": {
            "_model_module": "@jupyter-widgets/controls",
            "_model_module_version": "1.5.0",
            "_model_name": "DescriptionStyleModel",
            "_view_count": null,
            "_view_module": "@jupyter-widgets/base",
            "_view_module_version": "1.2.0",
            "_view_name": "StyleView",
            "description_width": ""
          }
        },
        "b985c6eef3c54a87a0108cf77909e8b5": {
          "model_module": "@jupyter-widgets/controls",
          "model_module_version": "1.5.0",
          "model_name": "FloatProgressModel",
          "state": {
            "_dom_classes": [],
            "_model_module": "@jupyter-widgets/controls",
            "_model_module_version": "1.5.0",
            "_model_name": "FloatProgressModel",
            "_view_count": null,
            "_view_module": "@jupyter-widgets/controls",
            "_view_module_version": "1.5.0",
            "_view_name": "ProgressView",
            "bar_style": "success",
            "description": "",
            "description_tooltip": null,
            "layout": "IPY_MODEL_787bd61afc2649b39cc05f4fd4a2aa01",
            "max": 116,
            "min": 0,
            "orientation": "horizontal",
            "style": "IPY_MODEL_6878467be51446878f2806147753651a",
            "value": 116
          }
        },
        "ba2d6baf476e453495d236d7ce56025d": {
          "model_module": "@jupyter-widgets/controls",
          "model_module_version": "1.5.0",
          "model_name": "HTMLModel",
          "state": {
            "_dom_classes": [],
            "_model_module": "@jupyter-widgets/controls",
            "_model_module_version": "1.5.0",
            "_model_name": "HTMLModel",
            "_view_count": null,
            "_view_module": "@jupyter-widgets/controls",
            "_view_module_version": "1.5.0",
            "_view_name": "HTMLView",
            "description": "",
            "description_tooltip": null,
            "layout": "IPY_MODEL_ab83f783e0ff4fc6975794de861822e9",
            "placeholder": "​",
            "style": "IPY_MODEL_2875db36c95d4ae0b626978701399eff",
            "value": "sentence_bert_config.json: 100%"
          }
        },
        "bbc38cebb90c4ceeac10d5b753a00864": {
          "model_module": "@jupyter-widgets/base",
          "model_module_version": "1.2.0",
          "model_name": "LayoutModel",
          "state": {
            "_model_module": "@jupyter-widgets/base",
            "_model_module_version": "1.2.0",
            "_model_name": "LayoutModel",
            "_view_count": null,
            "_view_module": "@jupyter-widgets/base",
            "_view_module_version": "1.2.0",
            "_view_name": "LayoutView",
            "align_content": null,
            "align_items": null,
            "align_self": null,
            "border": null,
            "bottom": null,
            "display": null,
            "flex": null,
            "flex_flow": null,
            "grid_area": null,
            "grid_auto_columns": null,
            "grid_auto_flow": null,
            "grid_auto_rows": null,
            "grid_column": null,
            "grid_gap": null,
            "grid_row": null,
            "grid_template_areas": null,
            "grid_template_columns": null,
            "grid_template_rows": null,
            "height": null,
            "justify_content": null,
            "justify_items": null,
            "left": null,
            "margin": null,
            "max_height": null,
            "max_width": null,
            "min_height": null,
            "min_width": null,
            "object_fit": null,
            "object_position": null,
            "order": null,
            "overflow": null,
            "overflow_x": null,
            "overflow_y": null,
            "padding": null,
            "right": null,
            "top": null,
            "visibility": null,
            "width": null
          }
        },
        "bc5e45a853784a348ee9e6d6774bfa84": {
          "model_module": "@jupyter-widgets/base",
          "model_module_version": "1.2.0",
          "model_name": "LayoutModel",
          "state": {
            "_model_module": "@jupyter-widgets/base",
            "_model_module_version": "1.2.0",
            "_model_name": "LayoutModel",
            "_view_count": null,
            "_view_module": "@jupyter-widgets/base",
            "_view_module_version": "1.2.0",
            "_view_name": "LayoutView",
            "align_content": null,
            "align_items": null,
            "align_self": null,
            "border": null,
            "bottom": null,
            "display": null,
            "flex": null,
            "flex_flow": null,
            "grid_area": null,
            "grid_auto_columns": null,
            "grid_auto_flow": null,
            "grid_auto_rows": null,
            "grid_column": null,
            "grid_gap": null,
            "grid_row": null,
            "grid_template_areas": null,
            "grid_template_columns": null,
            "grid_template_rows": null,
            "height": null,
            "justify_content": null,
            "justify_items": null,
            "left": null,
            "margin": null,
            "max_height": null,
            "max_width": null,
            "min_height": null,
            "min_width": null,
            "object_fit": null,
            "object_position": null,
            "order": null,
            "overflow": null,
            "overflow_x": null,
            "overflow_y": null,
            "padding": null,
            "right": null,
            "top": null,
            "visibility": null,
            "width": null
          }
        },
        "bd476a9bba5448bcafe30692998cb163": {
          "model_module": "@jupyter-widgets/controls",
          "model_module_version": "1.5.0",
          "model_name": "FloatProgressModel",
          "state": {
            "_dom_classes": [],
            "_model_module": "@jupyter-widgets/controls",
            "_model_module_version": "1.5.0",
            "_model_name": "FloatProgressModel",
            "_view_count": null,
            "_view_module": "@jupyter-widgets/controls",
            "_view_module_version": "1.5.0",
            "_view_name": "ProgressView",
            "bar_style": "success",
            "description": "",
            "description_tooltip": null,
            "layout": "IPY_MODEL_563ae63755fb4a2e8d717f4eabf4c7e0",
            "max": 90868376,
            "min": 0,
            "orientation": "horizontal",
            "style": "IPY_MODEL_596a909f73b54c4f91490bc416da8f8f",
            "value": 90868376
          }
        },
        "bf9faef9411846cfae2940385935a46b": {
          "model_module": "@jupyter-widgets/controls",
          "model_module_version": "1.5.0",
          "model_name": "HBoxModel",
          "state": {
            "_dom_classes": [],
            "_model_module": "@jupyter-widgets/controls",
            "_model_module_version": "1.5.0",
            "_model_name": "HBoxModel",
            "_view_count": null,
            "_view_module": "@jupyter-widgets/controls",
            "_view_module_version": "1.5.0",
            "_view_name": "HBoxView",
            "box_style": "",
            "children": [
              "IPY_MODEL_2e1b8fab20414d26bfffe32c96194f0e",
              "IPY_MODEL_4981f9e07bfa438cb2bfd67b39c0f5cf",
              "IPY_MODEL_05805fc1a1cc408ba01418c81b5f874d"
            ],
            "layout": "IPY_MODEL_3e177c66d6464e4bbad2c13cd91caa54"
          }
        },
        "c0475f40542a48a8989076b0b3c922c8": {
          "model_module": "@jupyter-widgets/base",
          "model_module_version": "1.2.0",
          "model_name": "LayoutModel",
          "state": {
            "_model_module": "@jupyter-widgets/base",
            "_model_module_version": "1.2.0",
            "_model_name": "LayoutModel",
            "_view_count": null,
            "_view_module": "@jupyter-widgets/base",
            "_view_module_version": "1.2.0",
            "_view_name": "LayoutView",
            "align_content": null,
            "align_items": null,
            "align_self": null,
            "border": null,
            "bottom": null,
            "display": null,
            "flex": null,
            "flex_flow": null,
            "grid_area": null,
            "grid_auto_columns": null,
            "grid_auto_flow": null,
            "grid_auto_rows": null,
            "grid_column": null,
            "grid_gap": null,
            "grid_row": null,
            "grid_template_areas": null,
            "grid_template_columns": null,
            "grid_template_rows": null,
            "height": null,
            "justify_content": null,
            "justify_items": null,
            "left": null,
            "margin": null,
            "max_height": null,
            "max_width": null,
            "min_height": null,
            "min_width": null,
            "object_fit": null,
            "object_position": null,
            "order": null,
            "overflow": null,
            "overflow_x": null,
            "overflow_y": null,
            "padding": null,
            "right": null,
            "top": null,
            "visibility": null,
            "width": null
          }
        },
        "c07f6c79a2a24426ae80bc2faadd83fc": {
          "model_module": "@jupyter-widgets/base",
          "model_module_version": "1.2.0",
          "model_name": "LayoutModel",
          "state": {
            "_model_module": "@jupyter-widgets/base",
            "_model_module_version": "1.2.0",
            "_model_name": "LayoutModel",
            "_view_count": null,
            "_view_module": "@jupyter-widgets/base",
            "_view_module_version": "1.2.0",
            "_view_name": "LayoutView",
            "align_content": null,
            "align_items": null,
            "align_self": null,
            "border": null,
            "bottom": null,
            "display": null,
            "flex": null,
            "flex_flow": null,
            "grid_area": null,
            "grid_auto_columns": null,
            "grid_auto_flow": null,
            "grid_auto_rows": null,
            "grid_column": null,
            "grid_gap": null,
            "grid_row": null,
            "grid_template_areas": null,
            "grid_template_columns": null,
            "grid_template_rows": null,
            "height": null,
            "justify_content": null,
            "justify_items": null,
            "left": null,
            "margin": null,
            "max_height": null,
            "max_width": null,
            "min_height": null,
            "min_width": null,
            "object_fit": null,
            "object_position": null,
            "order": null,
            "overflow": null,
            "overflow_x": null,
            "overflow_y": null,
            "padding": null,
            "right": null,
            "top": null,
            "visibility": null,
            "width": null
          }
        },
        "c0fd16a49a67471e9431471e4359ad64": {
          "model_module": "@jupyter-widgets/controls",
          "model_module_version": "1.5.0",
          "model_name": "DescriptionStyleModel",
          "state": {
            "_model_module": "@jupyter-widgets/controls",
            "_model_module_version": "1.5.0",
            "_model_name": "DescriptionStyleModel",
            "_view_count": null,
            "_view_module": "@jupyter-widgets/base",
            "_view_module_version": "1.2.0",
            "_view_name": "StyleView",
            "description_width": ""
          }
        },
        "c207fffe223140f99b40b69eec7e8ed1": {
          "model_module": "@jupyter-widgets/controls",
          "model_module_version": "1.5.0",
          "model_name": "FloatProgressModel",
          "state": {
            "_dom_classes": [],
            "_model_module": "@jupyter-widgets/controls",
            "_model_module_version": "1.5.0",
            "_model_name": "FloatProgressModel",
            "_view_count": null,
            "_view_module": "@jupyter-widgets/controls",
            "_view_module_version": "1.5.0",
            "_view_name": "ProgressView",
            "bar_style": "success",
            "description": "",
            "description_tooltip": null,
            "layout": "IPY_MODEL_d1dc9f41f0634663b9b8c74e614e95e7",
            "max": 231508,
            "min": 0,
            "orientation": "horizontal",
            "style": "IPY_MODEL_01e6c7faf45b43ce9fd4857345d438eb",
            "value": 231508
          }
        },
        "c388a3ee23bf4b298dc9ab78e21ddde4": {
          "model_module": "@jupyter-widgets/base",
          "model_module_version": "1.2.0",
          "model_name": "LayoutModel",
          "state": {
            "_model_module": "@jupyter-widgets/base",
            "_model_module_version": "1.2.0",
            "_model_name": "LayoutModel",
            "_view_count": null,
            "_view_module": "@jupyter-widgets/base",
            "_view_module_version": "1.2.0",
            "_view_name": "LayoutView",
            "align_content": null,
            "align_items": null,
            "align_self": null,
            "border": null,
            "bottom": null,
            "display": null,
            "flex": null,
            "flex_flow": null,
            "grid_area": null,
            "grid_auto_columns": null,
            "grid_auto_flow": null,
            "grid_auto_rows": null,
            "grid_column": null,
            "grid_gap": null,
            "grid_row": null,
            "grid_template_areas": null,
            "grid_template_columns": null,
            "grid_template_rows": null,
            "height": null,
            "justify_content": null,
            "justify_items": null,
            "left": null,
            "margin": null,
            "max_height": null,
            "max_width": null,
            "min_height": null,
            "min_width": null,
            "object_fit": null,
            "object_position": null,
            "order": null,
            "overflow": null,
            "overflow_x": null,
            "overflow_y": null,
            "padding": null,
            "right": null,
            "top": null,
            "visibility": null,
            "width": null
          }
        },
        "c3f613830e50437d8d4bd0dd15dcea8e": {
          "model_module": "@jupyter-widgets/base",
          "model_module_version": "1.2.0",
          "model_name": "LayoutModel",
          "state": {
            "_model_module": "@jupyter-widgets/base",
            "_model_module_version": "1.2.0",
            "_model_name": "LayoutModel",
            "_view_count": null,
            "_view_module": "@jupyter-widgets/base",
            "_view_module_version": "1.2.0",
            "_view_name": "LayoutView",
            "align_content": null,
            "align_items": null,
            "align_self": null,
            "border": null,
            "bottom": null,
            "display": null,
            "flex": null,
            "flex_flow": null,
            "grid_area": null,
            "grid_auto_columns": null,
            "grid_auto_flow": null,
            "grid_auto_rows": null,
            "grid_column": null,
            "grid_gap": null,
            "grid_row": null,
            "grid_template_areas": null,
            "grid_template_columns": null,
            "grid_template_rows": null,
            "height": null,
            "justify_content": null,
            "justify_items": null,
            "left": null,
            "margin": null,
            "max_height": null,
            "max_width": null,
            "min_height": null,
            "min_width": null,
            "object_fit": null,
            "object_position": null,
            "order": null,
            "overflow": null,
            "overflow_x": null,
            "overflow_y": null,
            "padding": null,
            "right": null,
            "top": null,
            "visibility": null,
            "width": null
          }
        },
        "c42605c75bf945aca26dbcffec1ba732": {
          "model_module": "@jupyter-widgets/base",
          "model_module_version": "1.2.0",
          "model_name": "LayoutModel",
          "state": {
            "_model_module": "@jupyter-widgets/base",
            "_model_module_version": "1.2.0",
            "_model_name": "LayoutModel",
            "_view_count": null,
            "_view_module": "@jupyter-widgets/base",
            "_view_module_version": "1.2.0",
            "_view_name": "LayoutView",
            "align_content": null,
            "align_items": null,
            "align_self": null,
            "border": null,
            "bottom": null,
            "display": null,
            "flex": null,
            "flex_flow": null,
            "grid_area": null,
            "grid_auto_columns": null,
            "grid_auto_flow": null,
            "grid_auto_rows": null,
            "grid_column": null,
            "grid_gap": null,
            "grid_row": null,
            "grid_template_areas": null,
            "grid_template_columns": null,
            "grid_template_rows": null,
            "height": null,
            "justify_content": null,
            "justify_items": null,
            "left": null,
            "margin": null,
            "max_height": null,
            "max_width": null,
            "min_height": null,
            "min_width": null,
            "object_fit": null,
            "object_position": null,
            "order": null,
            "overflow": null,
            "overflow_x": null,
            "overflow_y": null,
            "padding": null,
            "right": null,
            "top": null,
            "visibility": null,
            "width": null
          }
        },
        "c4987976333d496681a6d6b658c8c345": {
          "model_module": "@jupyter-widgets/base",
          "model_module_version": "1.2.0",
          "model_name": "LayoutModel",
          "state": {
            "_model_module": "@jupyter-widgets/base",
            "_model_module_version": "1.2.0",
            "_model_name": "LayoutModel",
            "_view_count": null,
            "_view_module": "@jupyter-widgets/base",
            "_view_module_version": "1.2.0",
            "_view_name": "LayoutView",
            "align_content": null,
            "align_items": null,
            "align_self": null,
            "border": null,
            "bottom": null,
            "display": null,
            "flex": null,
            "flex_flow": null,
            "grid_area": null,
            "grid_auto_columns": null,
            "grid_auto_flow": null,
            "grid_auto_rows": null,
            "grid_column": null,
            "grid_gap": null,
            "grid_row": null,
            "grid_template_areas": null,
            "grid_template_columns": null,
            "grid_template_rows": null,
            "height": null,
            "justify_content": null,
            "justify_items": null,
            "left": null,
            "margin": null,
            "max_height": null,
            "max_width": null,
            "min_height": null,
            "min_width": null,
            "object_fit": null,
            "object_position": null,
            "order": null,
            "overflow": null,
            "overflow_x": null,
            "overflow_y": null,
            "padding": null,
            "right": null,
            "top": null,
            "visibility": null,
            "width": null
          }
        },
        "c4dca387220e483b99ee546c804fe570": {
          "model_module": "@jupyter-widgets/base",
          "model_module_version": "1.2.0",
          "model_name": "LayoutModel",
          "state": {
            "_model_module": "@jupyter-widgets/base",
            "_model_module_version": "1.2.0",
            "_model_name": "LayoutModel",
            "_view_count": null,
            "_view_module": "@jupyter-widgets/base",
            "_view_module_version": "1.2.0",
            "_view_name": "LayoutView",
            "align_content": null,
            "align_items": null,
            "align_self": null,
            "border": null,
            "bottom": null,
            "display": null,
            "flex": null,
            "flex_flow": null,
            "grid_area": null,
            "grid_auto_columns": null,
            "grid_auto_flow": null,
            "grid_auto_rows": null,
            "grid_column": null,
            "grid_gap": null,
            "grid_row": null,
            "grid_template_areas": null,
            "grid_template_columns": null,
            "grid_template_rows": null,
            "height": null,
            "justify_content": null,
            "justify_items": null,
            "left": null,
            "margin": null,
            "max_height": null,
            "max_width": null,
            "min_height": null,
            "min_width": null,
            "object_fit": null,
            "object_position": null,
            "order": null,
            "overflow": null,
            "overflow_x": null,
            "overflow_y": null,
            "padding": null,
            "right": null,
            "top": null,
            "visibility": null,
            "width": null
          }
        },
        "c4fbc5f7d3d24ff89c55cdd21896697b": {
          "model_module": "@jupyter-widgets/controls",
          "model_module_version": "1.5.0",
          "model_name": "DescriptionStyleModel",
          "state": {
            "_model_module": "@jupyter-widgets/controls",
            "_model_module_version": "1.5.0",
            "_model_name": "DescriptionStyleModel",
            "_view_count": null,
            "_view_module": "@jupyter-widgets/base",
            "_view_module_version": "1.2.0",
            "_view_name": "StyleView",
            "description_width": ""
          }
        },
        "c4fe2073578f41be906c250f9ef5abbd": {
          "model_module": "@jupyter-widgets/base",
          "model_module_version": "1.2.0",
          "model_name": "LayoutModel",
          "state": {
            "_model_module": "@jupyter-widgets/base",
            "_model_module_version": "1.2.0",
            "_model_name": "LayoutModel",
            "_view_count": null,
            "_view_module": "@jupyter-widgets/base",
            "_view_module_version": "1.2.0",
            "_view_name": "LayoutView",
            "align_content": null,
            "align_items": null,
            "align_self": null,
            "border": null,
            "bottom": null,
            "display": null,
            "flex": null,
            "flex_flow": null,
            "grid_area": null,
            "grid_auto_columns": null,
            "grid_auto_flow": null,
            "grid_auto_rows": null,
            "grid_column": null,
            "grid_gap": null,
            "grid_row": null,
            "grid_template_areas": null,
            "grid_template_columns": null,
            "grid_template_rows": null,
            "height": null,
            "justify_content": null,
            "justify_items": null,
            "left": null,
            "margin": null,
            "max_height": null,
            "max_width": null,
            "min_height": null,
            "min_width": null,
            "object_fit": null,
            "object_position": null,
            "order": null,
            "overflow": null,
            "overflow_x": null,
            "overflow_y": null,
            "padding": null,
            "right": null,
            "top": null,
            "visibility": null,
            "width": null
          }
        },
        "c53bbd7bcd1841ea93eea7dc5c208cce": {
          "model_module": "@jupyter-widgets/base",
          "model_module_version": "1.2.0",
          "model_name": "LayoutModel",
          "state": {
            "_model_module": "@jupyter-widgets/base",
            "_model_module_version": "1.2.0",
            "_model_name": "LayoutModel",
            "_view_count": null,
            "_view_module": "@jupyter-widgets/base",
            "_view_module_version": "1.2.0",
            "_view_name": "LayoutView",
            "align_content": null,
            "align_items": null,
            "align_self": null,
            "border": null,
            "bottom": null,
            "display": null,
            "flex": null,
            "flex_flow": null,
            "grid_area": null,
            "grid_auto_columns": null,
            "grid_auto_flow": null,
            "grid_auto_rows": null,
            "grid_column": null,
            "grid_gap": null,
            "grid_row": null,
            "grid_template_areas": null,
            "grid_template_columns": null,
            "grid_template_rows": null,
            "height": null,
            "justify_content": null,
            "justify_items": null,
            "left": null,
            "margin": null,
            "max_height": null,
            "max_width": null,
            "min_height": null,
            "min_width": null,
            "object_fit": null,
            "object_position": null,
            "order": null,
            "overflow": null,
            "overflow_x": null,
            "overflow_y": null,
            "padding": null,
            "right": null,
            "top": null,
            "visibility": null,
            "width": null
          }
        },
        "c54e89ee04334a3f91092a9fca7310b4": {
          "model_module": "@jupyter-widgets/controls",
          "model_module_version": "1.5.0",
          "model_name": "DescriptionStyleModel",
          "state": {
            "_model_module": "@jupyter-widgets/controls",
            "_model_module_version": "1.5.0",
            "_model_name": "DescriptionStyleModel",
            "_view_count": null,
            "_view_module": "@jupyter-widgets/base",
            "_view_module_version": "1.2.0",
            "_view_name": "StyleView",
            "description_width": ""
          }
        },
        "c6b16379046d4cb29031be0507cc7100": {
          "model_module": "@jupyter-widgets/base",
          "model_module_version": "1.2.0",
          "model_name": "LayoutModel",
          "state": {
            "_model_module": "@jupyter-widgets/base",
            "_model_module_version": "1.2.0",
            "_model_name": "LayoutModel",
            "_view_count": null,
            "_view_module": "@jupyter-widgets/base",
            "_view_module_version": "1.2.0",
            "_view_name": "LayoutView",
            "align_content": null,
            "align_items": null,
            "align_self": null,
            "border": null,
            "bottom": null,
            "display": null,
            "flex": null,
            "flex_flow": null,
            "grid_area": null,
            "grid_auto_columns": null,
            "grid_auto_flow": null,
            "grid_auto_rows": null,
            "grid_column": null,
            "grid_gap": null,
            "grid_row": null,
            "grid_template_areas": null,
            "grid_template_columns": null,
            "grid_template_rows": null,
            "height": null,
            "justify_content": null,
            "justify_items": null,
            "left": null,
            "margin": null,
            "max_height": null,
            "max_width": null,
            "min_height": null,
            "min_width": null,
            "object_fit": null,
            "object_position": null,
            "order": null,
            "overflow": null,
            "overflow_x": null,
            "overflow_y": null,
            "padding": null,
            "right": null,
            "top": null,
            "visibility": null,
            "width": null
          }
        },
        "c76ee483e43547e6a133bba4b69f51bb": {
          "model_module": "@jupyter-widgets/controls",
          "model_module_version": "1.5.0",
          "model_name": "DescriptionStyleModel",
          "state": {
            "_model_module": "@jupyter-widgets/controls",
            "_model_module_version": "1.5.0",
            "_model_name": "DescriptionStyleModel",
            "_view_count": null,
            "_view_module": "@jupyter-widgets/base",
            "_view_module_version": "1.2.0",
            "_view_name": "StyleView",
            "description_width": ""
          }
        },
        "c968bf10bf0241309e8663a099b5f81d": {
          "model_module": "@jupyter-widgets/base",
          "model_module_version": "1.2.0",
          "model_name": "LayoutModel",
          "state": {
            "_model_module": "@jupyter-widgets/base",
            "_model_module_version": "1.2.0",
            "_model_name": "LayoutModel",
            "_view_count": null,
            "_view_module": "@jupyter-widgets/base",
            "_view_module_version": "1.2.0",
            "_view_name": "LayoutView",
            "align_content": null,
            "align_items": null,
            "align_self": null,
            "border": null,
            "bottom": null,
            "display": null,
            "flex": null,
            "flex_flow": null,
            "grid_area": null,
            "grid_auto_columns": null,
            "grid_auto_flow": null,
            "grid_auto_rows": null,
            "grid_column": null,
            "grid_gap": null,
            "grid_row": null,
            "grid_template_areas": null,
            "grid_template_columns": null,
            "grid_template_rows": null,
            "height": null,
            "justify_content": null,
            "justify_items": null,
            "left": null,
            "margin": null,
            "max_height": null,
            "max_width": null,
            "min_height": null,
            "min_width": null,
            "object_fit": null,
            "object_position": null,
            "order": null,
            "overflow": null,
            "overflow_x": null,
            "overflow_y": null,
            "padding": null,
            "right": null,
            "top": null,
            "visibility": null,
            "width": null
          }
        },
        "c9af0928bf434d61b18cc1a97cfa2981": {
          "model_module": "@jupyter-widgets/controls",
          "model_module_version": "1.5.0",
          "model_name": "ProgressStyleModel",
          "state": {
            "_model_module": "@jupyter-widgets/controls",
            "_model_module_version": "1.5.0",
            "_model_name": "ProgressStyleModel",
            "_view_count": null,
            "_view_module": "@jupyter-widgets/base",
            "_view_module_version": "1.2.0",
            "_view_name": "StyleView",
            "bar_color": null,
            "description_width": ""
          }
        },
        "c9db5cf43b0547bebeb3a1d435b836dd": {
          "model_module": "@jupyter-widgets/base",
          "model_module_version": "1.2.0",
          "model_name": "LayoutModel",
          "state": {
            "_model_module": "@jupyter-widgets/base",
            "_model_module_version": "1.2.0",
            "_model_name": "LayoutModel",
            "_view_count": null,
            "_view_module": "@jupyter-widgets/base",
            "_view_module_version": "1.2.0",
            "_view_name": "LayoutView",
            "align_content": null,
            "align_items": null,
            "align_self": null,
            "border": null,
            "bottom": null,
            "display": null,
            "flex": null,
            "flex_flow": null,
            "grid_area": null,
            "grid_auto_columns": null,
            "grid_auto_flow": null,
            "grid_auto_rows": null,
            "grid_column": null,
            "grid_gap": null,
            "grid_row": null,
            "grid_template_areas": null,
            "grid_template_columns": null,
            "grid_template_rows": null,
            "height": null,
            "justify_content": null,
            "justify_items": null,
            "left": null,
            "margin": null,
            "max_height": null,
            "max_width": null,
            "min_height": null,
            "min_width": null,
            "object_fit": null,
            "object_position": null,
            "order": null,
            "overflow": null,
            "overflow_x": null,
            "overflow_y": null,
            "padding": null,
            "right": null,
            "top": null,
            "visibility": null,
            "width": null
          }
        },
        "ca119740222946d495f483adc0644141": {
          "model_module": "@jupyter-widgets/base",
          "model_module_version": "1.2.0",
          "model_name": "LayoutModel",
          "state": {
            "_model_module": "@jupyter-widgets/base",
            "_model_module_version": "1.2.0",
            "_model_name": "LayoutModel",
            "_view_count": null,
            "_view_module": "@jupyter-widgets/base",
            "_view_module_version": "1.2.0",
            "_view_name": "LayoutView",
            "align_content": null,
            "align_items": null,
            "align_self": null,
            "border": null,
            "bottom": null,
            "display": null,
            "flex": null,
            "flex_flow": null,
            "grid_area": null,
            "grid_auto_columns": null,
            "grid_auto_flow": null,
            "grid_auto_rows": null,
            "grid_column": null,
            "grid_gap": null,
            "grid_row": null,
            "grid_template_areas": null,
            "grid_template_columns": null,
            "grid_template_rows": null,
            "height": null,
            "justify_content": null,
            "justify_items": null,
            "left": null,
            "margin": null,
            "max_height": null,
            "max_width": null,
            "min_height": null,
            "min_width": null,
            "object_fit": null,
            "object_position": null,
            "order": null,
            "overflow": null,
            "overflow_x": null,
            "overflow_y": null,
            "padding": null,
            "right": null,
            "top": null,
            "visibility": null,
            "width": null
          }
        },
        "cb12c4e4f517402e824584681aa75eb1": {
          "model_module": "@jupyter-widgets/controls",
          "model_module_version": "1.5.0",
          "model_name": "HBoxModel",
          "state": {
            "_dom_classes": [],
            "_model_module": "@jupyter-widgets/controls",
            "_model_module_version": "1.5.0",
            "_model_name": "HBoxModel",
            "_view_count": null,
            "_view_module": "@jupyter-widgets/controls",
            "_view_module_version": "1.5.0",
            "_view_name": "HBoxView",
            "box_style": "",
            "children": [
              "IPY_MODEL_ae897a8fb0234c6c86186c9ab971b307",
              "IPY_MODEL_0ec3657ddc644fe5959ae29bf441117c",
              "IPY_MODEL_fea63d5e868246d1a3694802bf526ab0"
            ],
            "layout": "IPY_MODEL_1b48b7278d0b4973b51d7c2dfef3be1e"
          }
        },
        "cb37abd394d140cd870d8b86b10f0c8a": {
          "model_module": "@jupyter-widgets/controls",
          "model_module_version": "1.5.0",
          "model_name": "FloatProgressModel",
          "state": {
            "_dom_classes": [],
            "_model_module": "@jupyter-widgets/controls",
            "_model_module_version": "1.5.0",
            "_model_name": "FloatProgressModel",
            "_view_count": null,
            "_view_module": "@jupyter-widgets/controls",
            "_view_module_version": "1.5.0",
            "_view_name": "ProgressView",
            "bar_style": "success",
            "description": "",
            "description_tooltip": null,
            "layout": "IPY_MODEL_a09be268b5584428af51c3c1c6c01755",
            "max": 286,
            "min": 0,
            "orientation": "horizontal",
            "style": "IPY_MODEL_4324d327f79d4b64b0e38cbee2dac53b",
            "value": 286
          }
        },
        "cb983a15f45145d4892fa50275f09973": {
          "model_module": "@jupyter-widgets/base",
          "model_module_version": "1.2.0",
          "model_name": "LayoutModel",
          "state": {
            "_model_module": "@jupyter-widgets/base",
            "_model_module_version": "1.2.0",
            "_model_name": "LayoutModel",
            "_view_count": null,
            "_view_module": "@jupyter-widgets/base",
            "_view_module_version": "1.2.0",
            "_view_name": "LayoutView",
            "align_content": null,
            "align_items": null,
            "align_self": null,
            "border": null,
            "bottom": null,
            "display": null,
            "flex": null,
            "flex_flow": null,
            "grid_area": null,
            "grid_auto_columns": null,
            "grid_auto_flow": null,
            "grid_auto_rows": null,
            "grid_column": null,
            "grid_gap": null,
            "grid_row": null,
            "grid_template_areas": null,
            "grid_template_columns": null,
            "grid_template_rows": null,
            "height": null,
            "justify_content": null,
            "justify_items": null,
            "left": null,
            "margin": null,
            "max_height": null,
            "max_width": null,
            "min_height": null,
            "min_width": null,
            "object_fit": null,
            "object_position": null,
            "order": null,
            "overflow": null,
            "overflow_x": null,
            "overflow_y": null,
            "padding": null,
            "right": null,
            "top": null,
            "visibility": null,
            "width": null
          }
        },
        "cd108c0aa76c470691f7b6e510dfb23d": {
          "model_module": "@jupyter-widgets/controls",
          "model_module_version": "1.5.0",
          "model_name": "ProgressStyleModel",
          "state": {
            "_model_module": "@jupyter-widgets/controls",
            "_model_module_version": "1.5.0",
            "_model_name": "ProgressStyleModel",
            "_view_count": null,
            "_view_module": "@jupyter-widgets/base",
            "_view_module_version": "1.2.0",
            "_view_name": "StyleView",
            "bar_color": null,
            "description_width": ""
          }
        },
        "cd8718db953d42559697494df78b2bb6": {
          "model_module": "@jupyter-widgets/controls",
          "model_module_version": "1.5.0",
          "model_name": "HBoxModel",
          "state": {
            "_dom_classes": [],
            "_model_module": "@jupyter-widgets/controls",
            "_model_module_version": "1.5.0",
            "_model_name": "HBoxModel",
            "_view_count": null,
            "_view_module": "@jupyter-widgets/controls",
            "_view_module_version": "1.5.0",
            "_view_name": "HBoxView",
            "box_style": "",
            "children": [
              "IPY_MODEL_7cae92f6ee0c41cba36a6da7d5d3d285",
              "IPY_MODEL_586e8eb6d59945c19ca21a1d63937156",
              "IPY_MODEL_d9a43560c09e4160aba6fc7aaec91f10"
            ],
            "layout": "IPY_MODEL_c968bf10bf0241309e8663a099b5f81d"
          }
        },
        "ce72650ec43a45f2aa173d907692d637": {
          "model_module": "@jupyter-widgets/controls",
          "model_module_version": "1.5.0",
          "model_name": "ProgressStyleModel",
          "state": {
            "_model_module": "@jupyter-widgets/controls",
            "_model_module_version": "1.5.0",
            "_model_name": "ProgressStyleModel",
            "_view_count": null,
            "_view_module": "@jupyter-widgets/base",
            "_view_module_version": "1.2.0",
            "_view_name": "StyleView",
            "bar_color": null,
            "description_width": ""
          }
        },
        "cf77b0505ef845b68fbbb1a0ccdfeff2": {
          "model_module": "@jupyter-widgets/controls",
          "model_module_version": "1.5.0",
          "model_name": "DescriptionStyleModel",
          "state": {
            "_model_module": "@jupyter-widgets/controls",
            "_model_module_version": "1.5.0",
            "_model_name": "DescriptionStyleModel",
            "_view_count": null,
            "_view_module": "@jupyter-widgets/base",
            "_view_module_version": "1.2.0",
            "_view_name": "StyleView",
            "description_width": ""
          }
        },
        "d01d97d04894440686910f82f16d72ea": {
          "model_module": "@jupyter-widgets/controls",
          "model_module_version": "1.5.0",
          "model_name": "FloatProgressModel",
          "state": {
            "_dom_classes": [],
            "_model_module": "@jupyter-widgets/controls",
            "_model_module_version": "1.5.0",
            "_model_name": "FloatProgressModel",
            "_view_count": null,
            "_view_module": "@jupyter-widgets/controls",
            "_view_module_version": "1.5.0",
            "_view_name": "ProgressView",
            "bar_style": "success",
            "description": "",
            "description_tooltip": null,
            "layout": "IPY_MODEL_a093c43eed4b473ca2eba915c7d1169e",
            "max": 456318,
            "min": 0,
            "orientation": "horizontal",
            "style": "IPY_MODEL_47ae08f40dbf479e974365a852700afe",
            "value": 456318
          }
        },
        "d1dc9f41f0634663b9b8c74e614e95e7": {
          "model_module": "@jupyter-widgets/base",
          "model_module_version": "1.2.0",
          "model_name": "LayoutModel",
          "state": {
            "_model_module": "@jupyter-widgets/base",
            "_model_module_version": "1.2.0",
            "_model_name": "LayoutModel",
            "_view_count": null,
            "_view_module": "@jupyter-widgets/base",
            "_view_module_version": "1.2.0",
            "_view_name": "LayoutView",
            "align_content": null,
            "align_items": null,
            "align_self": null,
            "border": null,
            "bottom": null,
            "display": null,
            "flex": null,
            "flex_flow": null,
            "grid_area": null,
            "grid_auto_columns": null,
            "grid_auto_flow": null,
            "grid_auto_rows": null,
            "grid_column": null,
            "grid_gap": null,
            "grid_row": null,
            "grid_template_areas": null,
            "grid_template_columns": null,
            "grid_template_rows": null,
            "height": null,
            "justify_content": null,
            "justify_items": null,
            "left": null,
            "margin": null,
            "max_height": null,
            "max_width": null,
            "min_height": null,
            "min_width": null,
            "object_fit": null,
            "object_position": null,
            "order": null,
            "overflow": null,
            "overflow_x": null,
            "overflow_y": null,
            "padding": null,
            "right": null,
            "top": null,
            "visibility": null,
            "width": null
          }
        },
        "d2684bc5cf4648b7bec82c908c7daa82": {
          "model_module": "@jupyter-widgets/controls",
          "model_module_version": "1.5.0",
          "model_name": "DescriptionStyleModel",
          "state": {
            "_model_module": "@jupyter-widgets/controls",
            "_model_module_version": "1.5.0",
            "_model_name": "DescriptionStyleModel",
            "_view_count": null,
            "_view_module": "@jupyter-widgets/base",
            "_view_module_version": "1.2.0",
            "_view_name": "StyleView",
            "description_width": ""
          }
        },
        "d2fc5a2a9eff431ab6321123e1cea732": {
          "model_module": "@jupyter-widgets/controls",
          "model_module_version": "1.5.0",
          "model_name": "HTMLModel",
          "state": {
            "_dom_classes": [],
            "_model_module": "@jupyter-widgets/controls",
            "_model_module_version": "1.5.0",
            "_model_name": "HTMLModel",
            "_view_count": null,
            "_view_module": "@jupyter-widgets/controls",
            "_view_module_version": "1.5.0",
            "_view_name": "HTMLView",
            "description": "",
            "description_tooltip": null,
            "layout": "IPY_MODEL_79f02557eeac431b8f37ca553b8a5072",
            "placeholder": "​",
            "style": "IPY_MODEL_c54e89ee04334a3f91092a9fca7310b4",
            "value": "special_tokens_map.json: 100%"
          }
        },
        "d303f7c0c12c47d69ac17b0537e1a0d8": {
          "model_module": "@jupyter-widgets/controls",
          "model_module_version": "1.5.0",
          "model_name": "FloatProgressModel",
          "state": {
            "_dom_classes": [],
            "_model_module": "@jupyter-widgets/controls",
            "_model_module_version": "1.5.0",
            "_model_name": "FloatProgressModel",
            "_view_count": null,
            "_view_module": "@jupyter-widgets/controls",
            "_view_module_version": "1.5.0",
            "_view_name": "ProgressView",
            "bar_style": "success",
            "description": "",
            "description_tooltip": null,
            "layout": "IPY_MODEL_51a203afcc4844bb9e12a34b23c7c6a2",
            "max": 750,
            "min": 0,
            "orientation": "horizontal",
            "style": "IPY_MODEL_2273e77bf2ea4a1aa8820581f8c13757",
            "value": 750
          }
        },
        "d35870c169514cc1a63303c044ff5081": {
          "model_module": "@jupyter-widgets/controls",
          "model_module_version": "1.5.0",
          "model_name": "DescriptionStyleModel",
          "state": {
            "_model_module": "@jupyter-widgets/controls",
            "_model_module_version": "1.5.0",
            "_model_name": "DescriptionStyleModel",
            "_view_count": null,
            "_view_module": "@jupyter-widgets/base",
            "_view_module_version": "1.2.0",
            "_view_name": "StyleView",
            "description_width": ""
          }
        },
        "d57132f848b34daf921313d366b71540": {
          "model_module": "@jupyter-widgets/base",
          "model_module_version": "1.2.0",
          "model_name": "LayoutModel",
          "state": {
            "_model_module": "@jupyter-widgets/base",
            "_model_module_version": "1.2.0",
            "_model_name": "LayoutModel",
            "_view_count": null,
            "_view_module": "@jupyter-widgets/base",
            "_view_module_version": "1.2.0",
            "_view_name": "LayoutView",
            "align_content": null,
            "align_items": null,
            "align_self": null,
            "border": null,
            "bottom": null,
            "display": null,
            "flex": null,
            "flex_flow": null,
            "grid_area": null,
            "grid_auto_columns": null,
            "grid_auto_flow": null,
            "grid_auto_rows": null,
            "grid_column": null,
            "grid_gap": null,
            "grid_row": null,
            "grid_template_areas": null,
            "grid_template_columns": null,
            "grid_template_rows": null,
            "height": null,
            "justify_content": null,
            "justify_items": null,
            "left": null,
            "margin": null,
            "max_height": null,
            "max_width": null,
            "min_height": null,
            "min_width": null,
            "object_fit": null,
            "object_position": null,
            "order": null,
            "overflow": null,
            "overflow_x": null,
            "overflow_y": null,
            "padding": null,
            "right": null,
            "top": null,
            "visibility": null,
            "width": null
          }
        },
        "d57f6e773f5746f89674c01036df0cd6": {
          "model_module": "@jupyter-widgets/base",
          "model_module_version": "1.2.0",
          "model_name": "LayoutModel",
          "state": {
            "_model_module": "@jupyter-widgets/base",
            "_model_module_version": "1.2.0",
            "_model_name": "LayoutModel",
            "_view_count": null,
            "_view_module": "@jupyter-widgets/base",
            "_view_module_version": "1.2.0",
            "_view_name": "LayoutView",
            "align_content": null,
            "align_items": null,
            "align_self": null,
            "border": null,
            "bottom": null,
            "display": null,
            "flex": null,
            "flex_flow": null,
            "grid_area": null,
            "grid_auto_columns": null,
            "grid_auto_flow": null,
            "grid_auto_rows": null,
            "grid_column": null,
            "grid_gap": null,
            "grid_row": null,
            "grid_template_areas": null,
            "grid_template_columns": null,
            "grid_template_rows": null,
            "height": null,
            "justify_content": null,
            "justify_items": null,
            "left": null,
            "margin": null,
            "max_height": null,
            "max_width": null,
            "min_height": null,
            "min_width": null,
            "object_fit": null,
            "object_position": null,
            "order": null,
            "overflow": null,
            "overflow_x": null,
            "overflow_y": null,
            "padding": null,
            "right": null,
            "top": null,
            "visibility": null,
            "width": null
          }
        },
        "d70173f75fc94b279d6c5002e4d327b4": {
          "model_module": "@jupyter-widgets/base",
          "model_module_version": "1.2.0",
          "model_name": "LayoutModel",
          "state": {
            "_model_module": "@jupyter-widgets/base",
            "_model_module_version": "1.2.0",
            "_model_name": "LayoutModel",
            "_view_count": null,
            "_view_module": "@jupyter-widgets/base",
            "_view_module_version": "1.2.0",
            "_view_name": "LayoutView",
            "align_content": null,
            "align_items": null,
            "align_self": null,
            "border": null,
            "bottom": null,
            "display": null,
            "flex": null,
            "flex_flow": null,
            "grid_area": null,
            "grid_auto_columns": null,
            "grid_auto_flow": null,
            "grid_auto_rows": null,
            "grid_column": null,
            "grid_gap": null,
            "grid_row": null,
            "grid_template_areas": null,
            "grid_template_columns": null,
            "grid_template_rows": null,
            "height": null,
            "justify_content": null,
            "justify_items": null,
            "left": null,
            "margin": null,
            "max_height": null,
            "max_width": null,
            "min_height": null,
            "min_width": null,
            "object_fit": null,
            "object_position": null,
            "order": null,
            "overflow": null,
            "overflow_x": null,
            "overflow_y": null,
            "padding": null,
            "right": null,
            "top": null,
            "visibility": null,
            "width": null
          }
        },
        "d7cef6e886274dca9a21ccf13a0c58e4": {
          "model_module": "@jupyter-widgets/base",
          "model_module_version": "1.2.0",
          "model_name": "LayoutModel",
          "state": {
            "_model_module": "@jupyter-widgets/base",
            "_model_module_version": "1.2.0",
            "_model_name": "LayoutModel",
            "_view_count": null,
            "_view_module": "@jupyter-widgets/base",
            "_view_module_version": "1.2.0",
            "_view_name": "LayoutView",
            "align_content": null,
            "align_items": null,
            "align_self": null,
            "border": null,
            "bottom": null,
            "display": null,
            "flex": null,
            "flex_flow": null,
            "grid_area": null,
            "grid_auto_columns": null,
            "grid_auto_flow": null,
            "grid_auto_rows": null,
            "grid_column": null,
            "grid_gap": null,
            "grid_row": null,
            "grid_template_areas": null,
            "grid_template_columns": null,
            "grid_template_rows": null,
            "height": null,
            "justify_content": null,
            "justify_items": null,
            "left": null,
            "margin": null,
            "max_height": null,
            "max_width": null,
            "min_height": null,
            "min_width": null,
            "object_fit": null,
            "object_position": null,
            "order": null,
            "overflow": null,
            "overflow_x": null,
            "overflow_y": null,
            "padding": null,
            "right": null,
            "top": null,
            "visibility": null,
            "width": null
          }
        },
        "d865466fb9e84a6ebe8b4481a3ba52b7": {
          "model_module": "@jupyter-widgets/base",
          "model_module_version": "1.2.0",
          "model_name": "LayoutModel",
          "state": {
            "_model_module": "@jupyter-widgets/base",
            "_model_module_version": "1.2.0",
            "_model_name": "LayoutModel",
            "_view_count": null,
            "_view_module": "@jupyter-widgets/base",
            "_view_module_version": "1.2.0",
            "_view_name": "LayoutView",
            "align_content": null,
            "align_items": null,
            "align_self": null,
            "border": null,
            "bottom": null,
            "display": null,
            "flex": null,
            "flex_flow": null,
            "grid_area": null,
            "grid_auto_columns": null,
            "grid_auto_flow": null,
            "grid_auto_rows": null,
            "grid_column": null,
            "grid_gap": null,
            "grid_row": null,
            "grid_template_areas": null,
            "grid_template_columns": null,
            "grid_template_rows": null,
            "height": null,
            "justify_content": null,
            "justify_items": null,
            "left": null,
            "margin": null,
            "max_height": null,
            "max_width": null,
            "min_height": null,
            "min_width": null,
            "object_fit": null,
            "object_position": null,
            "order": null,
            "overflow": null,
            "overflow_x": null,
            "overflow_y": null,
            "padding": null,
            "right": null,
            "top": null,
            "visibility": null,
            "width": null
          }
        },
        "d949895a2fd948a5b2487a740bcf3443": {
          "model_module": "@jupyter-widgets/controls",
          "model_module_version": "1.5.0",
          "model_name": "HTMLModel",
          "state": {
            "_dom_classes": [],
            "_model_module": "@jupyter-widgets/controls",
            "_model_module_version": "1.5.0",
            "_model_name": "HTMLModel",
            "_view_count": null,
            "_view_module": "@jupyter-widgets/controls",
            "_view_module_version": "1.5.0",
            "_view_name": "HTMLView",
            "description": "",
            "description_tooltip": null,
            "layout": "IPY_MODEL_c9db5cf43b0547bebeb3a1d435b836dd",
            "placeholder": "​",
            "style": "IPY_MODEL_1f32eb8a35474a3c9fa566c59a94e7b3",
            "value": " 200/200 [00:09&lt;00:00, 21.06it/s, train_auc=99.20%, skipped=3.56%]"
          }
        },
        "d9833927d066425b869c7e7646918b50": {
          "model_module": "@jupyter-widgets/base",
          "model_module_version": "1.2.0",
          "model_name": "LayoutModel",
          "state": {
            "_model_module": "@jupyter-widgets/base",
            "_model_module_version": "1.2.0",
            "_model_name": "LayoutModel",
            "_view_count": null,
            "_view_module": "@jupyter-widgets/base",
            "_view_module_version": "1.2.0",
            "_view_name": "LayoutView",
            "align_content": null,
            "align_items": null,
            "align_self": null,
            "border": null,
            "bottom": null,
            "display": null,
            "flex": null,
            "flex_flow": null,
            "grid_area": null,
            "grid_auto_columns": null,
            "grid_auto_flow": null,
            "grid_auto_rows": null,
            "grid_column": null,
            "grid_gap": null,
            "grid_row": null,
            "grid_template_areas": null,
            "grid_template_columns": null,
            "grid_template_rows": null,
            "height": null,
            "justify_content": null,
            "justify_items": null,
            "left": null,
            "margin": null,
            "max_height": null,
            "max_width": null,
            "min_height": null,
            "min_width": null,
            "object_fit": null,
            "object_position": null,
            "order": null,
            "overflow": null,
            "overflow_x": null,
            "overflow_y": null,
            "padding": null,
            "right": null,
            "top": null,
            "visibility": null,
            "width": null
          }
        },
        "d9a43560c09e4160aba6fc7aaec91f10": {
          "model_module": "@jupyter-widgets/controls",
          "model_module_version": "1.5.0",
          "model_name": "HTMLModel",
          "state": {
            "_dom_classes": [],
            "_model_module": "@jupyter-widgets/controls",
            "_model_module_version": "1.5.0",
            "_model_name": "HTMLModel",
            "_view_count": null,
            "_view_module": "@jupyter-widgets/controls",
            "_view_module_version": "1.5.0",
            "_view_name": "HTMLView",
            "description": "",
            "description_tooltip": null,
            "layout": "IPY_MODEL_823ef995d84d41ca8d0d72241488bd04",
            "placeholder": "​",
            "style": "IPY_MODEL_cf77b0505ef845b68fbbb1a0ccdfeff2",
            "value": " 50/50 [00:03&lt;00:00, 18.54it/s]"
          }
        },
        "d9afbd93eaf2492498ffa1fc9a32afa9": {
          "model_module": "@jupyter-widgets/base",
          "model_module_version": "1.2.0",
          "model_name": "LayoutModel",
          "state": {
            "_model_module": "@jupyter-widgets/base",
            "_model_module_version": "1.2.0",
            "_model_name": "LayoutModel",
            "_view_count": null,
            "_view_module": "@jupyter-widgets/base",
            "_view_module_version": "1.2.0",
            "_view_name": "LayoutView",
            "align_content": null,
            "align_items": null,
            "align_self": null,
            "border": null,
            "bottom": null,
            "display": null,
            "flex": null,
            "flex_flow": null,
            "grid_area": null,
            "grid_auto_columns": null,
            "grid_auto_flow": null,
            "grid_auto_rows": null,
            "grid_column": null,
            "grid_gap": null,
            "grid_row": null,
            "grid_template_areas": null,
            "grid_template_columns": null,
            "grid_template_rows": null,
            "height": null,
            "justify_content": null,
            "justify_items": null,
            "left": null,
            "margin": null,
            "max_height": null,
            "max_width": null,
            "min_height": null,
            "min_width": null,
            "object_fit": null,
            "object_position": null,
            "order": null,
            "overflow": null,
            "overflow_x": null,
            "overflow_y": null,
            "padding": null,
            "right": null,
            "top": null,
            "visibility": null,
            "width": null
          }
        },
        "d9e4d60ff6d641c9a2d737363ae8fdcb": {
          "model_module": "@jupyter-widgets/base",
          "model_module_version": "1.2.0",
          "model_name": "LayoutModel",
          "state": {
            "_model_module": "@jupyter-widgets/base",
            "_model_module_version": "1.2.0",
            "_model_name": "LayoutModel",
            "_view_count": null,
            "_view_module": "@jupyter-widgets/base",
            "_view_module_version": "1.2.0",
            "_view_name": "LayoutView",
            "align_content": null,
            "align_items": null,
            "align_self": null,
            "border": null,
            "bottom": null,
            "display": null,
            "flex": null,
            "flex_flow": null,
            "grid_area": null,
            "grid_auto_columns": null,
            "grid_auto_flow": null,
            "grid_auto_rows": null,
            "grid_column": null,
            "grid_gap": null,
            "grid_row": null,
            "grid_template_areas": null,
            "grid_template_columns": null,
            "grid_template_rows": null,
            "height": null,
            "justify_content": null,
            "justify_items": null,
            "left": null,
            "margin": null,
            "max_height": null,
            "max_width": null,
            "min_height": null,
            "min_width": null,
            "object_fit": null,
            "object_position": null,
            "order": null,
            "overflow": null,
            "overflow_x": null,
            "overflow_y": null,
            "padding": null,
            "right": null,
            "top": null,
            "visibility": null,
            "width": null
          }
        },
        "db332dda647c4f678ff41f016b9589b8": {
          "model_module": "@jupyter-widgets/base",
          "model_module_version": "1.2.0",
          "model_name": "LayoutModel",
          "state": {
            "_model_module": "@jupyter-widgets/base",
            "_model_module_version": "1.2.0",
            "_model_name": "LayoutModel",
            "_view_count": null,
            "_view_module": "@jupyter-widgets/base",
            "_view_module_version": "1.2.0",
            "_view_name": "LayoutView",
            "align_content": null,
            "align_items": null,
            "align_self": null,
            "border": null,
            "bottom": null,
            "display": null,
            "flex": null,
            "flex_flow": null,
            "grid_area": null,
            "grid_auto_columns": null,
            "grid_auto_flow": null,
            "grid_auto_rows": null,
            "grid_column": null,
            "grid_gap": null,
            "grid_row": null,
            "grid_template_areas": null,
            "grid_template_columns": null,
            "grid_template_rows": null,
            "height": null,
            "justify_content": null,
            "justify_items": null,
            "left": null,
            "margin": null,
            "max_height": null,
            "max_width": null,
            "min_height": null,
            "min_width": null,
            "object_fit": null,
            "object_position": null,
            "order": null,
            "overflow": null,
            "overflow_x": null,
            "overflow_y": null,
            "padding": null,
            "right": null,
            "top": null,
            "visibility": null,
            "width": null
          }
        },
        "dbd8a154e52f4ba3b82e24d4f8b75029": {
          "model_module": "@jupyter-widgets/controls",
          "model_module_version": "1.5.0",
          "model_name": "DescriptionStyleModel",
          "state": {
            "_model_module": "@jupyter-widgets/controls",
            "_model_module_version": "1.5.0",
            "_model_name": "DescriptionStyleModel",
            "_view_count": null,
            "_view_module": "@jupyter-widgets/base",
            "_view_module_version": "1.2.0",
            "_view_name": "StyleView",
            "description_width": ""
          }
        },
        "dd06f7f97a4543bf90692e00680b3f95": {
          "model_module": "@jupyter-widgets/controls",
          "model_module_version": "1.5.0",
          "model_name": "ProgressStyleModel",
          "state": {
            "_model_module": "@jupyter-widgets/controls",
            "_model_module_version": "1.5.0",
            "_model_name": "ProgressStyleModel",
            "_view_count": null,
            "_view_module": "@jupyter-widgets/base",
            "_view_module_version": "1.2.0",
            "_view_name": "StyleView",
            "bar_color": null,
            "description_width": ""
          }
        },
        "de21f98754384dd6b88523c5902a54f3": {
          "model_module": "@jupyter-widgets/controls",
          "model_module_version": "1.5.0",
          "model_name": "HTMLModel",
          "state": {
            "_dom_classes": [],
            "_model_module": "@jupyter-widgets/controls",
            "_model_module_version": "1.5.0",
            "_model_name": "HTMLModel",
            "_view_count": null,
            "_view_module": "@jupyter-widgets/controls",
            "_view_module_version": "1.5.0",
            "_view_name": "HTMLView",
            "description": "",
            "description_tooltip": null,
            "layout": "IPY_MODEL_bc5e45a853784a348ee9e6d6774bfa84",
            "placeholder": "​",
            "style": "IPY_MODEL_55fa3bd3c0d7407f80b81c3bcc5a2226",
            "value": "config.json: 100%"
          }
        },
        "e09e8cb05088469d9f33d848537379fe": {
          "model_module": "@jupyter-widgets/controls",
          "model_module_version": "1.5.0",
          "model_name": "DescriptionStyleModel",
          "state": {
            "_model_module": "@jupyter-widgets/controls",
            "_model_module_version": "1.5.0",
            "_model_name": "DescriptionStyleModel",
            "_view_count": null,
            "_view_module": "@jupyter-widgets/base",
            "_view_module_version": "1.2.0",
            "_view_name": "StyleView",
            "description_width": ""
          }
        },
        "e18af142760e46f6a819c4dccebba40c": {
          "model_module": "@jupyter-widgets/controls",
          "model_module_version": "1.5.0",
          "model_name": "FloatProgressModel",
          "state": {
            "_dom_classes": [],
            "_model_module": "@jupyter-widgets/controls",
            "_model_module_version": "1.5.0",
            "_model_name": "FloatProgressModel",
            "_view_count": null,
            "_view_module": "@jupyter-widgets/controls",
            "_view_module_version": "1.5.0",
            "_view_name": "ProgressView",
            "bar_style": "success",
            "description": "",
            "description_tooltip": null,
            "layout": "IPY_MODEL_5405c59926914e84b599b36d3a2460ee",
            "max": 2108615,
            "min": 0,
            "orientation": "horizontal",
            "style": "IPY_MODEL_163213d18ebc4cc9aeab37faf81b04cf",
            "value": 2108615
          }
        },
        "e1a7ae56ede34902952c25726dc374b9": {
          "model_module": "@jupyter-widgets/base",
          "model_module_version": "1.2.0",
          "model_name": "LayoutModel",
          "state": {
            "_model_module": "@jupyter-widgets/base",
            "_model_module_version": "1.2.0",
            "_model_name": "LayoutModel",
            "_view_count": null,
            "_view_module": "@jupyter-widgets/base",
            "_view_module_version": "1.2.0",
            "_view_name": "LayoutView",
            "align_content": null,
            "align_items": null,
            "align_self": null,
            "border": null,
            "bottom": null,
            "display": null,
            "flex": null,
            "flex_flow": null,
            "grid_area": null,
            "grid_auto_columns": null,
            "grid_auto_flow": null,
            "grid_auto_rows": null,
            "grid_column": null,
            "grid_gap": null,
            "grid_row": null,
            "grid_template_areas": null,
            "grid_template_columns": null,
            "grid_template_rows": null,
            "height": null,
            "justify_content": null,
            "justify_items": null,
            "left": null,
            "margin": null,
            "max_height": null,
            "max_width": null,
            "min_height": null,
            "min_width": null,
            "object_fit": null,
            "object_position": null,
            "order": null,
            "overflow": null,
            "overflow_x": null,
            "overflow_y": null,
            "padding": null,
            "right": null,
            "top": null,
            "visibility": null,
            "width": null
          }
        },
        "e21562d50de1494c9256e65d2831c1c0": {
          "model_module": "@jupyter-widgets/controls",
          "model_module_version": "1.5.0",
          "model_name": "HTMLModel",
          "state": {
            "_dom_classes": [],
            "_model_module": "@jupyter-widgets/controls",
            "_model_module_version": "1.5.0",
            "_model_name": "HTMLModel",
            "_view_count": null,
            "_view_module": "@jupyter-widgets/controls",
            "_view_module_version": "1.5.0",
            "_view_name": "HTMLView",
            "description": "",
            "description_tooltip": null,
            "layout": "IPY_MODEL_7e219817b2fc47038a923dfc1dc2a054",
            "placeholder": "​",
            "style": "IPY_MODEL_0ef5d93006904a32a54ca73e44ee5261",
            "value": "100%"
          }
        },
        "e3323f12360f41f9b19dc66428d2d287": {
          "model_module": "@jupyter-widgets/controls",
          "model_module_version": "1.5.0",
          "model_name": "ProgressStyleModel",
          "state": {
            "_model_module": "@jupyter-widgets/controls",
            "_model_module_version": "1.5.0",
            "_model_name": "ProgressStyleModel",
            "_view_count": null,
            "_view_module": "@jupyter-widgets/base",
            "_view_module_version": "1.2.0",
            "_view_name": "StyleView",
            "bar_color": null,
            "description_width": ""
          }
        },
        "e39b36d6fa0f4312a85e7e02e6346be9": {
          "model_module": "@jupyter-widgets/controls",
          "model_module_version": "1.5.0",
          "model_name": "FloatProgressModel",
          "state": {
            "_dom_classes": [],
            "_model_module": "@jupyter-widgets/controls",
            "_model_module_version": "1.5.0",
            "_model_name": "FloatProgressModel",
            "_view_count": null,
            "_view_module": "@jupyter-widgets/controls",
            "_view_module_version": "1.5.0",
            "_view_name": "ProgressView",
            "bar_style": "success",
            "description": "",
            "description_tooltip": null,
            "layout": "IPY_MODEL_bbc38cebb90c4ceeac10d5b753a00864",
            "max": 466247,
            "min": 0,
            "orientation": "horizontal",
            "style": "IPY_MODEL_cd108c0aa76c470691f7b6e510dfb23d",
            "value": 466247
          }
        },
        "e41c46185b4a4c2f92ac6f129829ad0c": {
          "model_module": "@jupyter-widgets/base",
          "model_module_version": "1.2.0",
          "model_name": "LayoutModel",
          "state": {
            "_model_module": "@jupyter-widgets/base",
            "_model_module_version": "1.2.0",
            "_model_name": "LayoutModel",
            "_view_count": null,
            "_view_module": "@jupyter-widgets/base",
            "_view_module_version": "1.2.0",
            "_view_name": "LayoutView",
            "align_content": null,
            "align_items": null,
            "align_self": null,
            "border": null,
            "bottom": null,
            "display": null,
            "flex": null,
            "flex_flow": null,
            "grid_area": null,
            "grid_auto_columns": null,
            "grid_auto_flow": null,
            "grid_auto_rows": null,
            "grid_column": null,
            "grid_gap": null,
            "grid_row": null,
            "grid_template_areas": null,
            "grid_template_columns": null,
            "grid_template_rows": null,
            "height": null,
            "justify_content": null,
            "justify_items": null,
            "left": null,
            "margin": null,
            "max_height": null,
            "max_width": null,
            "min_height": null,
            "min_width": null,
            "object_fit": null,
            "object_position": null,
            "order": null,
            "overflow": null,
            "overflow_x": null,
            "overflow_y": null,
            "padding": null,
            "right": null,
            "top": null,
            "visibility": null,
            "width": null
          }
        },
        "e4ca8767b16d47e6ad93184e686b9f87": {
          "model_module": "@jupyter-widgets/controls",
          "model_module_version": "1.5.0",
          "model_name": "DescriptionStyleModel",
          "state": {
            "_model_module": "@jupyter-widgets/controls",
            "_model_module_version": "1.5.0",
            "_model_name": "DescriptionStyleModel",
            "_view_count": null,
            "_view_module": "@jupyter-widgets/base",
            "_view_module_version": "1.2.0",
            "_view_name": "StyleView",
            "description_width": ""
          }
        },
        "e6620f8a2d2d4616830d4aefb74e3d37": {
          "model_module": "@jupyter-widgets/controls",
          "model_module_version": "1.5.0",
          "model_name": "ProgressStyleModel",
          "state": {
            "_model_module": "@jupyter-widgets/controls",
            "_model_module_version": "1.5.0",
            "_model_name": "ProgressStyleModel",
            "_view_count": null,
            "_view_module": "@jupyter-widgets/base",
            "_view_module_version": "1.2.0",
            "_view_name": "StyleView",
            "bar_color": null,
            "description_width": ""
          }
        },
        "e79424373eed461787a624a5c2818fb5": {
          "model_module": "@jupyter-widgets/base",
          "model_module_version": "1.2.0",
          "model_name": "LayoutModel",
          "state": {
            "_model_module": "@jupyter-widgets/base",
            "_model_module_version": "1.2.0",
            "_model_name": "LayoutModel",
            "_view_count": null,
            "_view_module": "@jupyter-widgets/base",
            "_view_module_version": "1.2.0",
            "_view_name": "LayoutView",
            "align_content": null,
            "align_items": null,
            "align_self": null,
            "border": null,
            "bottom": null,
            "display": null,
            "flex": null,
            "flex_flow": null,
            "grid_area": null,
            "grid_auto_columns": null,
            "grid_auto_flow": null,
            "grid_auto_rows": null,
            "grid_column": null,
            "grid_gap": null,
            "grid_row": null,
            "grid_template_areas": null,
            "grid_template_columns": null,
            "grid_template_rows": null,
            "height": null,
            "justify_content": null,
            "justify_items": null,
            "left": null,
            "margin": null,
            "max_height": null,
            "max_width": null,
            "min_height": null,
            "min_width": null,
            "object_fit": null,
            "object_position": null,
            "order": null,
            "overflow": null,
            "overflow_x": null,
            "overflow_y": null,
            "padding": null,
            "right": null,
            "top": null,
            "visibility": null,
            "width": null
          }
        },
        "e8218b75ca0d4ea3b0b10c7ebb6033b7": {
          "model_module": "@jupyter-widgets/controls",
          "model_module_version": "1.5.0",
          "model_name": "ProgressStyleModel",
          "state": {
            "_model_module": "@jupyter-widgets/controls",
            "_model_module_version": "1.5.0",
            "_model_name": "ProgressStyleModel",
            "_view_count": null,
            "_view_module": "@jupyter-widgets/base",
            "_view_module_version": "1.2.0",
            "_view_name": "StyleView",
            "bar_color": null,
            "description_width": ""
          }
        },
        "e822b3ec2d4f40868c5cdc4ac8a4203b": {
          "model_module": "@jupyter-widgets/base",
          "model_module_version": "1.2.0",
          "model_name": "LayoutModel",
          "state": {
            "_model_module": "@jupyter-widgets/base",
            "_model_module_version": "1.2.0",
            "_model_name": "LayoutModel",
            "_view_count": null,
            "_view_module": "@jupyter-widgets/base",
            "_view_module_version": "1.2.0",
            "_view_name": "LayoutView",
            "align_content": null,
            "align_items": null,
            "align_self": null,
            "border": null,
            "bottom": null,
            "display": null,
            "flex": null,
            "flex_flow": null,
            "grid_area": null,
            "grid_auto_columns": null,
            "grid_auto_flow": null,
            "grid_auto_rows": null,
            "grid_column": null,
            "grid_gap": null,
            "grid_row": null,
            "grid_template_areas": null,
            "grid_template_columns": null,
            "grid_template_rows": null,
            "height": null,
            "justify_content": null,
            "justify_items": null,
            "left": null,
            "margin": null,
            "max_height": null,
            "max_width": null,
            "min_height": null,
            "min_width": null,
            "object_fit": null,
            "object_position": null,
            "order": null,
            "overflow": null,
            "overflow_x": null,
            "overflow_y": null,
            "padding": null,
            "right": null,
            "top": null,
            "visibility": null,
            "width": null
          }
        },
        "e8a6da8b9d7146639d5d112fded6439f": {
          "model_module": "@jupyter-widgets/controls",
          "model_module_version": "1.5.0",
          "model_name": "HTMLModel",
          "state": {
            "_dom_classes": [],
            "_model_module": "@jupyter-widgets/controls",
            "_model_module_version": "1.5.0",
            "_model_name": "HTMLModel",
            "_view_count": null,
            "_view_module": "@jupyter-widgets/controls",
            "_view_module_version": "1.5.0",
            "_view_name": "HTMLView",
            "description": "",
            "description_tooltip": null,
            "layout": "IPY_MODEL_aa4b77c74d3141c8ae5236dc66e5194d",
            "placeholder": "​",
            "style": "IPY_MODEL_941bbaea878649c0acd29dcec6d8315a",
            "value": " 16.4M/16.4M [00:00&lt;00:00, 21.7MB/s]"
          }
        },
        "e8b9dde384c24393bcf0e4bfee739656": {
          "model_module": "@jupyter-widgets/controls",
          "model_module_version": "1.5.0",
          "model_name": "DescriptionStyleModel",
          "state": {
            "_model_module": "@jupyter-widgets/controls",
            "_model_module_version": "1.5.0",
            "_model_name": "DescriptionStyleModel",
            "_view_count": null,
            "_view_module": "@jupyter-widgets/base",
            "_view_module_version": "1.2.0",
            "_view_name": "StyleView",
            "description_width": ""
          }
        },
        "e8d831fc7a6e4d34a6052f9a36117c35": {
          "model_module": "@jupyter-widgets/controls",
          "model_module_version": "1.5.0",
          "model_name": "DescriptionStyleModel",
          "state": {
            "_model_module": "@jupyter-widgets/controls",
            "_model_module_version": "1.5.0",
            "_model_name": "DescriptionStyleModel",
            "_view_count": null,
            "_view_module": "@jupyter-widgets/base",
            "_view_module_version": "1.2.0",
            "_view_name": "StyleView",
            "description_width": ""
          }
        },
        "e989475e0d554ec3afae8f607e3bc6b9": {
          "model_module": "@jupyter-widgets/controls",
          "model_module_version": "1.5.0",
          "model_name": "DescriptionStyleModel",
          "state": {
            "_model_module": "@jupyter-widgets/controls",
            "_model_module_version": "1.5.0",
            "_model_name": "DescriptionStyleModel",
            "_view_count": null,
            "_view_module": "@jupyter-widgets/base",
            "_view_module_version": "1.2.0",
            "_view_name": "StyleView",
            "description_width": ""
          }
        },
        "e98a91a1061a4c618129f0a857f624c4": {
          "model_module": "@jupyter-widgets/controls",
          "model_module_version": "1.5.0",
          "model_name": "HTMLModel",
          "state": {
            "_dom_classes": [],
            "_model_module": "@jupyter-widgets/controls",
            "_model_module_version": "1.5.0",
            "_model_name": "HTMLModel",
            "_view_count": null,
            "_view_module": "@jupyter-widgets/controls",
            "_view_module_version": "1.5.0",
            "_view_name": "HTMLView",
            "description": "",
            "description_tooltip": null,
            "layout": "IPY_MODEL_2334bd5eea5446a39ede079c76633338",
            "placeholder": "​",
            "style": "IPY_MODEL_05f6704357ef44ec8826e1dc3846b061",
            "value": "1_Pooling/config.json: 100%"
          }
        },
        "e9905d0ff44c42f4adcce5c6b06862a6": {
          "model_module": "@jupyter-widgets/base",
          "model_module_version": "1.2.0",
          "model_name": "LayoutModel",
          "state": {
            "_model_module": "@jupyter-widgets/base",
            "_model_module_version": "1.2.0",
            "_model_name": "LayoutModel",
            "_view_count": null,
            "_view_module": "@jupyter-widgets/base",
            "_view_module_version": "1.2.0",
            "_view_name": "LayoutView",
            "align_content": null,
            "align_items": null,
            "align_self": null,
            "border": null,
            "bottom": null,
            "display": null,
            "flex": null,
            "flex_flow": null,
            "grid_area": null,
            "grid_auto_columns": null,
            "grid_auto_flow": null,
            "grid_auto_rows": null,
            "grid_column": null,
            "grid_gap": null,
            "grid_row": null,
            "grid_template_areas": null,
            "grid_template_columns": null,
            "grid_template_rows": null,
            "height": null,
            "justify_content": null,
            "justify_items": null,
            "left": null,
            "margin": null,
            "max_height": null,
            "max_width": null,
            "min_height": null,
            "min_width": null,
            "object_fit": null,
            "object_position": null,
            "order": null,
            "overflow": null,
            "overflow_x": null,
            "overflow_y": null,
            "padding": null,
            "right": null,
            "top": null,
            "visibility": null,
            "width": null
          }
        },
        "ea47eafe320d4c66ae03fc6a77c01a11": {
          "model_module": "@jupyter-widgets/base",
          "model_module_version": "1.2.0",
          "model_name": "LayoutModel",
          "state": {
            "_model_module": "@jupyter-widgets/base",
            "_model_module_version": "1.2.0",
            "_model_name": "LayoutModel",
            "_view_count": null,
            "_view_module": "@jupyter-widgets/base",
            "_view_module_version": "1.2.0",
            "_view_name": "LayoutView",
            "align_content": null,
            "align_items": null,
            "align_self": null,
            "border": null,
            "bottom": null,
            "display": null,
            "flex": null,
            "flex_flow": null,
            "grid_area": null,
            "grid_auto_columns": null,
            "grid_auto_flow": null,
            "grid_auto_rows": null,
            "grid_column": null,
            "grid_gap": null,
            "grid_row": null,
            "grid_template_areas": null,
            "grid_template_columns": null,
            "grid_template_rows": null,
            "height": null,
            "justify_content": null,
            "justify_items": null,
            "left": null,
            "margin": null,
            "max_height": null,
            "max_width": null,
            "min_height": null,
            "min_width": null,
            "object_fit": null,
            "object_position": null,
            "order": null,
            "overflow": null,
            "overflow_x": null,
            "overflow_y": null,
            "padding": null,
            "right": null,
            "top": null,
            "visibility": null,
            "width": null
          }
        },
        "ec022592712047a18aeae39c6be48539": {
          "model_module": "@jupyter-widgets/controls",
          "model_module_version": "1.5.0",
          "model_name": "HTMLModel",
          "state": {
            "_dom_classes": [],
            "_model_module": "@jupyter-widgets/controls",
            "_model_module_version": "1.5.0",
            "_model_name": "HTMLModel",
            "_view_count": null,
            "_view_module": "@jupyter-widgets/controls",
            "_view_module_version": "1.5.0",
            "_view_name": "HTMLView",
            "description": "",
            "description_tooltip": null,
            "layout": "IPY_MODEL_e79424373eed461787a624a5c2818fb5",
            "placeholder": "​",
            "style": "IPY_MODEL_4758bd9b168344a79a2ea5f2a78b0c4b",
            "value": "vocab.json: 100%"
          }
        },
        "ec7499335f5e41d0be894ec02acee840": {
          "model_module": "@jupyter-widgets/controls",
          "model_module_version": "1.5.0",
          "model_name": "FloatProgressModel",
          "state": {
            "_dom_classes": [],
            "_model_module": "@jupyter-widgets/controls",
            "_model_module_version": "1.5.0",
            "_model_name": "FloatProgressModel",
            "_view_count": null,
            "_view_module": "@jupyter-widgets/controls",
            "_view_module_version": "1.5.0",
            "_view_name": "ProgressView",
            "bar_style": "success",
            "description": "",
            "description_tooltip": null,
            "layout": "IPY_MODEL_d9e4d60ff6d641c9a2d737363ae8fdcb",
            "max": 150,
            "min": 0,
            "orientation": "horizontal",
            "style": "IPY_MODEL_e6620f8a2d2d4616830d4aefb74e3d37",
            "value": 150
          }
        },
        "edcd7173017b48cb9f8e308e2fff8313": {
          "model_module": "@jupyter-widgets/controls",
          "model_module_version": "1.5.0",
          "model_name": "ProgressStyleModel",
          "state": {
            "_model_module": "@jupyter-widgets/controls",
            "_model_module_version": "1.5.0",
            "_model_name": "ProgressStyleModel",
            "_view_count": null,
            "_view_module": "@jupyter-widgets/base",
            "_view_module_version": "1.2.0",
            "_view_name": "StyleView",
            "bar_color": null,
            "description_width": ""
          }
        },
        "ee126a5ce178404d891576b2cf51a1ca": {
          "model_module": "@jupyter-widgets/controls",
          "model_module_version": "1.5.0",
          "model_name": "DescriptionStyleModel",
          "state": {
            "_model_module": "@jupyter-widgets/controls",
            "_model_module_version": "1.5.0",
            "_model_name": "DescriptionStyleModel",
            "_view_count": null,
            "_view_module": "@jupyter-widgets/base",
            "_view_module_version": "1.2.0",
            "_view_name": "StyleView",
            "description_width": ""
          }
        },
        "eea6c7dd92d54885b83f18ab950fc3b4": {
          "model_module": "@jupyter-widgets/controls",
          "model_module_version": "1.5.0",
          "model_name": "DescriptionStyleModel",
          "state": {
            "_model_module": "@jupyter-widgets/controls",
            "_model_module_version": "1.5.0",
            "_model_name": "DescriptionStyleModel",
            "_view_count": null,
            "_view_module": "@jupyter-widgets/base",
            "_view_module_version": "1.2.0",
            "_view_name": "StyleView",
            "description_width": ""
          }
        },
        "eee367a010ae477e99a962f7608ee5b1": {
          "model_module": "@jupyter-widgets/controls",
          "model_module_version": "1.5.0",
          "model_name": "ProgressStyleModel",
          "state": {
            "_model_module": "@jupyter-widgets/controls",
            "_model_module_version": "1.5.0",
            "_model_name": "ProgressStyleModel",
            "_view_count": null,
            "_view_module": "@jupyter-widgets/base",
            "_view_module_version": "1.2.0",
            "_view_name": "StyleView",
            "bar_color": null,
            "description_width": ""
          }
        },
        "ef4be7f0d72249a58dff07a38a38f8ee": {
          "model_module": "@jupyter-widgets/controls",
          "model_module_version": "1.5.0",
          "model_name": "HTMLModel",
          "state": {
            "_dom_classes": [],
            "_model_module": "@jupyter-widgets/controls",
            "_model_module_version": "1.5.0",
            "_model_name": "HTMLModel",
            "_view_count": null,
            "_view_module": "@jupyter-widgets/controls",
            "_view_module_version": "1.5.0",
            "_view_name": "HTMLView",
            "description": "",
            "description_tooltip": null,
            "layout": "IPY_MODEL_350b6efdec034420843cdbebf6130e37",
            "placeholder": "​",
            "style": "IPY_MODEL_d2684bc5cf4648b7bec82c908c7daa82",
            "value": " 150/150 [00:12&lt;00:00, 13.02it/s, train_auc=95.43%, skipped=20.13%]"
          }
        },
        "efd51000373c47bdb5bb324d86458e86": {
          "model_module": "@jupyter-widgets/controls",
          "model_module_version": "1.5.0",
          "model_name": "HTMLModel",
          "state": {
            "_dom_classes": [],
            "_model_module": "@jupyter-widgets/controls",
            "_model_module_version": "1.5.0",
            "_model_name": "HTMLModel",
            "_view_count": null,
            "_view_module": "@jupyter-widgets/controls",
            "_view_module_version": "1.5.0",
            "_view_name": "HTMLView",
            "description": "",
            "description_tooltip": null,
            "layout": "IPY_MODEL_f1039acd34644a6da8f680633fc1a324",
            "placeholder": "​",
            "style": "IPY_MODEL_34154c0572cd499ca457fd6ebacfc540",
            "value": "tokenizer_config.json: 100%"
          }
        },
        "f0d9b1231a9a498c886214b4f16a5d66": {
          "model_module": "@jupyter-widgets/base",
          "model_module_version": "1.2.0",
          "model_name": "LayoutModel",
          "state": {
            "_model_module": "@jupyter-widgets/base",
            "_model_module_version": "1.2.0",
            "_model_name": "LayoutModel",
            "_view_count": null,
            "_view_module": "@jupyter-widgets/base",
            "_view_module_version": "1.2.0",
            "_view_name": "LayoutView",
            "align_content": null,
            "align_items": null,
            "align_self": null,
            "border": null,
            "bottom": null,
            "display": null,
            "flex": null,
            "flex_flow": null,
            "grid_area": null,
            "grid_auto_columns": null,
            "grid_auto_flow": null,
            "grid_auto_rows": null,
            "grid_column": null,
            "grid_gap": null,
            "grid_row": null,
            "grid_template_areas": null,
            "grid_template_columns": null,
            "grid_template_rows": null,
            "height": null,
            "justify_content": null,
            "justify_items": null,
            "left": null,
            "margin": null,
            "max_height": null,
            "max_width": null,
            "min_height": null,
            "min_width": null,
            "object_fit": null,
            "object_position": null,
            "order": null,
            "overflow": null,
            "overflow_x": null,
            "overflow_y": null,
            "padding": null,
            "right": null,
            "top": null,
            "visibility": null,
            "width": null
          }
        },
        "f1039acd34644a6da8f680633fc1a324": {
          "model_module": "@jupyter-widgets/base",
          "model_module_version": "1.2.0",
          "model_name": "LayoutModel",
          "state": {
            "_model_module": "@jupyter-widgets/base",
            "_model_module_version": "1.2.0",
            "_model_name": "LayoutModel",
            "_view_count": null,
            "_view_module": "@jupyter-widgets/base",
            "_view_module_version": "1.2.0",
            "_view_name": "LayoutView",
            "align_content": null,
            "align_items": null,
            "align_self": null,
            "border": null,
            "bottom": null,
            "display": null,
            "flex": null,
            "flex_flow": null,
            "grid_area": null,
            "grid_auto_columns": null,
            "grid_auto_flow": null,
            "grid_auto_rows": null,
            "grid_column": null,
            "grid_gap": null,
            "grid_row": null,
            "grid_template_areas": null,
            "grid_template_columns": null,
            "grid_template_rows": null,
            "height": null,
            "justify_content": null,
            "justify_items": null,
            "left": null,
            "margin": null,
            "max_height": null,
            "max_width": null,
            "min_height": null,
            "min_width": null,
            "object_fit": null,
            "object_position": null,
            "order": null,
            "overflow": null,
            "overflow_x": null,
            "overflow_y": null,
            "padding": null,
            "right": null,
            "top": null,
            "visibility": null,
            "width": null
          }
        },
        "f11cae67c33449489fb778e911951439": {
          "model_module": "@jupyter-widgets/base",
          "model_module_version": "1.2.0",
          "model_name": "LayoutModel",
          "state": {
            "_model_module": "@jupyter-widgets/base",
            "_model_module_version": "1.2.0",
            "_model_name": "LayoutModel",
            "_view_count": null,
            "_view_module": "@jupyter-widgets/base",
            "_view_module_version": "1.2.0",
            "_view_name": "LayoutView",
            "align_content": null,
            "align_items": null,
            "align_self": null,
            "border": null,
            "bottom": null,
            "display": null,
            "flex": null,
            "flex_flow": null,
            "grid_area": null,
            "grid_auto_columns": null,
            "grid_auto_flow": null,
            "grid_auto_rows": null,
            "grid_column": null,
            "grid_gap": null,
            "grid_row": null,
            "grid_template_areas": null,
            "grid_template_columns": null,
            "grid_template_rows": null,
            "height": null,
            "justify_content": null,
            "justify_items": null,
            "left": null,
            "margin": null,
            "max_height": null,
            "max_width": null,
            "min_height": null,
            "min_width": null,
            "object_fit": null,
            "object_position": null,
            "order": null,
            "overflow": null,
            "overflow_x": null,
            "overflow_y": null,
            "padding": null,
            "right": null,
            "top": null,
            "visibility": null,
            "width": null
          }
        },
        "f18830a8058548ef89191b8de4576889": {
          "model_module": "@jupyter-widgets/base",
          "model_module_version": "1.2.0",
          "model_name": "LayoutModel",
          "state": {
            "_model_module": "@jupyter-widgets/base",
            "_model_module_version": "1.2.0",
            "_model_name": "LayoutModel",
            "_view_count": null,
            "_view_module": "@jupyter-widgets/base",
            "_view_module_version": "1.2.0",
            "_view_name": "LayoutView",
            "align_content": null,
            "align_items": null,
            "align_self": null,
            "border": null,
            "bottom": null,
            "display": null,
            "flex": null,
            "flex_flow": null,
            "grid_area": null,
            "grid_auto_columns": null,
            "grid_auto_flow": null,
            "grid_auto_rows": null,
            "grid_column": null,
            "grid_gap": null,
            "grid_row": null,
            "grid_template_areas": null,
            "grid_template_columns": null,
            "grid_template_rows": null,
            "height": null,
            "justify_content": null,
            "justify_items": null,
            "left": null,
            "margin": null,
            "max_height": null,
            "max_width": null,
            "min_height": null,
            "min_width": null,
            "object_fit": null,
            "object_position": null,
            "order": null,
            "overflow": null,
            "overflow_x": null,
            "overflow_y": null,
            "padding": null,
            "right": null,
            "top": null,
            "visibility": null,
            "width": null
          }
        },
        "f310e1fdb7554e49a6d06eb80bbda012": {
          "model_module": "@jupyter-widgets/controls",
          "model_module_version": "1.5.0",
          "model_name": "DescriptionStyleModel",
          "state": {
            "_model_module": "@jupyter-widgets/controls",
            "_model_module_version": "1.5.0",
            "_model_name": "DescriptionStyleModel",
            "_view_count": null,
            "_view_module": "@jupyter-widgets/base",
            "_view_module_version": "1.2.0",
            "_view_name": "StyleView",
            "description_width": ""
          }
        },
        "f4c61206d2d54c5e9e97cde3ad892d54": {
          "model_module": "@jupyter-widgets/base",
          "model_module_version": "1.2.0",
          "model_name": "LayoutModel",
          "state": {
            "_model_module": "@jupyter-widgets/base",
            "_model_module_version": "1.2.0",
            "_model_name": "LayoutModel",
            "_view_count": null,
            "_view_module": "@jupyter-widgets/base",
            "_view_module_version": "1.2.0",
            "_view_name": "LayoutView",
            "align_content": null,
            "align_items": null,
            "align_self": null,
            "border": null,
            "bottom": null,
            "display": null,
            "flex": null,
            "flex_flow": null,
            "grid_area": null,
            "grid_auto_columns": null,
            "grid_auto_flow": null,
            "grid_auto_rows": null,
            "grid_column": null,
            "grid_gap": null,
            "grid_row": null,
            "grid_template_areas": null,
            "grid_template_columns": null,
            "grid_template_rows": null,
            "height": null,
            "justify_content": null,
            "justify_items": null,
            "left": null,
            "margin": null,
            "max_height": null,
            "max_width": null,
            "min_height": null,
            "min_width": null,
            "object_fit": null,
            "object_position": null,
            "order": null,
            "overflow": null,
            "overflow_x": null,
            "overflow_y": null,
            "padding": null,
            "right": null,
            "top": null,
            "visibility": null,
            "width": null
          }
        },
        "f4ff326a5e494dac897ac4a03b5bf6c0": {
          "model_module": "@jupyter-widgets/controls",
          "model_module_version": "1.5.0",
          "model_name": "HBoxModel",
          "state": {
            "_dom_classes": [],
            "_model_module": "@jupyter-widgets/controls",
            "_model_module_version": "1.5.0",
            "_model_name": "HBoxModel",
            "_view_count": null,
            "_view_module": "@jupyter-widgets/controls",
            "_view_module_version": "1.5.0",
            "_view_name": "HBoxView",
            "box_style": "",
            "children": [
              "IPY_MODEL_ae10e28c609248d093e99ec974a32944",
              "IPY_MODEL_957ae2e793aa4b7982f3c7f4e0be66ee",
              "IPY_MODEL_ef4be7f0d72249a58dff07a38a38f8ee"
            ],
            "layout": "IPY_MODEL_3b000415cbf740c98cc24b8f094dd515"
          }
        },
        "f60b878c86fc4a32b871741463210201": {
          "model_module": "@jupyter-widgets/controls",
          "model_module_version": "1.5.0",
          "model_name": "DescriptionStyleModel",
          "state": {
            "_model_module": "@jupyter-widgets/controls",
            "_model_module_version": "1.5.0",
            "_model_name": "DescriptionStyleModel",
            "_view_count": null,
            "_view_module": "@jupyter-widgets/base",
            "_view_module_version": "1.2.0",
            "_view_name": "StyleView",
            "description_width": ""
          }
        },
        "f75640dec5a7496f9632e375f7f249bc": {
          "model_module": "@jupyter-widgets/base",
          "model_module_version": "1.2.0",
          "model_name": "LayoutModel",
          "state": {
            "_model_module": "@jupyter-widgets/base",
            "_model_module_version": "1.2.0",
            "_model_name": "LayoutModel",
            "_view_count": null,
            "_view_module": "@jupyter-widgets/base",
            "_view_module_version": "1.2.0",
            "_view_name": "LayoutView",
            "align_content": null,
            "align_items": null,
            "align_self": null,
            "border": null,
            "bottom": null,
            "display": null,
            "flex": null,
            "flex_flow": null,
            "grid_area": null,
            "grid_auto_columns": null,
            "grid_auto_flow": null,
            "grid_auto_rows": null,
            "grid_column": null,
            "grid_gap": null,
            "grid_row": null,
            "grid_template_areas": null,
            "grid_template_columns": null,
            "grid_template_rows": null,
            "height": null,
            "justify_content": null,
            "justify_items": null,
            "left": null,
            "margin": null,
            "max_height": null,
            "max_width": null,
            "min_height": null,
            "min_width": null,
            "object_fit": null,
            "object_position": null,
            "order": null,
            "overflow": null,
            "overflow_x": null,
            "overflow_y": null,
            "padding": null,
            "right": null,
            "top": null,
            "visibility": null,
            "width": null
          }
        },
        "f875d8e1ee9e426299b78afc75d40f73": {
          "model_module": "@jupyter-widgets/base",
          "model_module_version": "1.2.0",
          "model_name": "LayoutModel",
          "state": {
            "_model_module": "@jupyter-widgets/base",
            "_model_module_version": "1.2.0",
            "_model_name": "LayoutModel",
            "_view_count": null,
            "_view_module": "@jupyter-widgets/base",
            "_view_module_version": "1.2.0",
            "_view_name": "LayoutView",
            "align_content": null,
            "align_items": null,
            "align_self": null,
            "border": null,
            "bottom": null,
            "display": null,
            "flex": null,
            "flex_flow": null,
            "grid_area": null,
            "grid_auto_columns": null,
            "grid_auto_flow": null,
            "grid_auto_rows": null,
            "grid_column": null,
            "grid_gap": null,
            "grid_row": null,
            "grid_template_areas": null,
            "grid_template_columns": null,
            "grid_template_rows": null,
            "height": null,
            "justify_content": null,
            "justify_items": null,
            "left": null,
            "margin": null,
            "max_height": null,
            "max_width": null,
            "min_height": null,
            "min_width": null,
            "object_fit": null,
            "object_position": null,
            "order": null,
            "overflow": null,
            "overflow_x": null,
            "overflow_y": null,
            "padding": null,
            "right": null,
            "top": null,
            "visibility": null,
            "width": null
          }
        },
        "fb1bad85b0484591afc1f9804bb131c8": {
          "model_module": "@jupyter-widgets/controls",
          "model_module_version": "1.5.0",
          "model_name": "HBoxModel",
          "state": {
            "_dom_classes": [],
            "_model_module": "@jupyter-widgets/controls",
            "_model_module_version": "1.5.0",
            "_model_name": "HBoxModel",
            "_view_count": null,
            "_view_module": "@jupyter-widgets/controls",
            "_view_module_version": "1.5.0",
            "_view_name": "HBoxView",
            "box_style": "",
            "children": [
              "IPY_MODEL_6f16fae12034427fa35b146abda1023d",
              "IPY_MODEL_d303f7c0c12c47d69ac17b0537e1a0d8",
              "IPY_MODEL_8b87d06129cb4388a22492063e377e04"
            ],
            "layout": "IPY_MODEL_cb983a15f45145d4892fa50275f09973"
          }
        },
        "fc55173c138f40f09ad997465e1efd43": {
          "model_module": "@jupyter-widgets/controls",
          "model_module_version": "1.5.0",
          "model_name": "DescriptionStyleModel",
          "state": {
            "_model_module": "@jupyter-widgets/controls",
            "_model_module_version": "1.5.0",
            "_model_name": "DescriptionStyleModel",
            "_view_count": null,
            "_view_module": "@jupyter-widgets/base",
            "_view_module_version": "1.2.0",
            "_view_name": "StyleView",
            "description_width": ""
          }
        },
        "fd0eda83a8b34f16982e2f058736271a": {
          "model_module": "@jupyter-widgets/controls",
          "model_module_version": "1.5.0",
          "model_name": "ProgressStyleModel",
          "state": {
            "_model_module": "@jupyter-widgets/controls",
            "_model_module_version": "1.5.0",
            "_model_name": "ProgressStyleModel",
            "_view_count": null,
            "_view_module": "@jupyter-widgets/base",
            "_view_module_version": "1.2.0",
            "_view_name": "StyleView",
            "bar_color": null,
            "description_width": ""
          }
        },
        "fe0239d907a2498f8d12e11e4fdcc479": {
          "model_module": "@jupyter-widgets/controls",
          "model_module_version": "1.5.0",
          "model_name": "HTMLModel",
          "state": {
            "_dom_classes": [],
            "_model_module": "@jupyter-widgets/controls",
            "_model_module_version": "1.5.0",
            "_model_name": "HTMLModel",
            "_view_count": null,
            "_view_module": "@jupyter-widgets/controls",
            "_view_module_version": "1.5.0",
            "_view_name": "HTMLView",
            "description": "",
            "description_tooltip": null,
            "layout": "IPY_MODEL_29b5b303af1248b5a7bb67fb97174ae2",
            "placeholder": "​",
            "style": "IPY_MODEL_20f9ba0a0fc24d1fa129bc9ea31efca3",
            "value": "100%"
          }
        },
        "fe5bfa57aa174ef5b1a5e9d6717888f2": {
          "model_module": "@jupyter-widgets/base",
          "model_module_version": "1.2.0",
          "model_name": "LayoutModel",
          "state": {
            "_model_module": "@jupyter-widgets/base",
            "_model_module_version": "1.2.0",
            "_model_name": "LayoutModel",
            "_view_count": null,
            "_view_module": "@jupyter-widgets/base",
            "_view_module_version": "1.2.0",
            "_view_name": "LayoutView",
            "align_content": null,
            "align_items": null,
            "align_self": null,
            "border": null,
            "bottom": null,
            "display": null,
            "flex": null,
            "flex_flow": null,
            "grid_area": null,
            "grid_auto_columns": null,
            "grid_auto_flow": null,
            "grid_auto_rows": null,
            "grid_column": null,
            "grid_gap": null,
            "grid_row": null,
            "grid_template_areas": null,
            "grid_template_columns": null,
            "grid_template_rows": null,
            "height": null,
            "justify_content": null,
            "justify_items": null,
            "left": null,
            "margin": null,
            "max_height": null,
            "max_width": null,
            "min_height": null,
            "min_width": null,
            "object_fit": null,
            "object_position": null,
            "order": null,
            "overflow": null,
            "overflow_x": null,
            "overflow_y": null,
            "padding": null,
            "right": null,
            "top": null,
            "visibility": null,
            "width": null
          }
        },
        "fea63d5e868246d1a3694802bf526ab0": {
          "model_module": "@jupyter-widgets/controls",
          "model_module_version": "1.5.0",
          "model_name": "HTMLModel",
          "state": {
            "_dom_classes": [],
            "_model_module": "@jupyter-widgets/controls",
            "_model_module_version": "1.5.0",
            "_model_name": "HTMLModel",
            "_view_count": null,
            "_view_module": "@jupyter-widgets/controls",
            "_view_module_version": "1.5.0",
            "_view_name": "HTMLView",
            "description": "",
            "description_tooltip": null,
            "layout": "IPY_MODEL_461da49aec214dacb952e42a4b622289",
            "placeholder": "​",
            "style": "IPY_MODEL_50ef4abe677f4ca4af3ab3bcb94c0d0f",
            "value": " 612/612 [00:00&lt;00:00, 28.7kB/s]"
          }
        },
        "fecee293d17b46539e598e699ceb0eaa": {
          "model_module": "@jupyter-widgets/controls",
          "model_module_version": "1.5.0",
          "model_name": "FloatProgressModel",
          "state": {
            "_dom_classes": [],
            "_model_module": "@jupyter-widgets/controls",
            "_model_module_version": "1.5.0",
            "_model_name": "FloatProgressModel",
            "_view_count": null,
            "_view_module": "@jupyter-widgets/controls",
            "_view_module_version": "1.5.0",
            "_view_name": "ProgressView",
            "bar_style": "success",
            "description": "",
            "description_tooltip": null,
            "layout": "IPY_MODEL_c4fe2073578f41be906c250f9ef5abbd",
            "max": 1421483904,
            "min": 0,
            "orientation": "horizontal",
            "style": "IPY_MODEL_3d18b32ce2c045c8ae59471ba298f896",
            "value": 1421483904
          }
        },
        "fefa1e9b3868481c9b5941619023ffe3": {
          "model_module": "@jupyter-widgets/base",
          "model_module_version": "1.2.0",
          "model_name": "LayoutModel",
          "state": {
            "_model_module": "@jupyter-widgets/base",
            "_model_module_version": "1.2.0",
            "_model_name": "LayoutModel",
            "_view_count": null,
            "_view_module": "@jupyter-widgets/base",
            "_view_module_version": "1.2.0",
            "_view_name": "LayoutView",
            "align_content": null,
            "align_items": null,
            "align_self": null,
            "border": null,
            "bottom": null,
            "display": null,
            "flex": null,
            "flex_flow": null,
            "grid_area": null,
            "grid_auto_columns": null,
            "grid_auto_flow": null,
            "grid_auto_rows": null,
            "grid_column": null,
            "grid_gap": null,
            "grid_row": null,
            "grid_template_areas": null,
            "grid_template_columns": null,
            "grid_template_rows": null,
            "height": null,
            "justify_content": null,
            "justify_items": null,
            "left": null,
            "margin": null,
            "max_height": null,
            "max_width": null,
            "min_height": null,
            "min_width": null,
            "object_fit": null,
            "object_position": null,
            "order": null,
            "overflow": null,
            "overflow_x": null,
            "overflow_y": null,
            "padding": null,
            "right": null,
            "top": null,
            "visibility": null,
            "width": null
          }
        },
        "ffbed7d02ffb4f7bb97c96f312651d31": {
          "model_module": "@jupyter-widgets/controls",
          "model_module_version": "1.5.0",
          "model_name": "ProgressStyleModel",
          "state": {
            "_model_module": "@jupyter-widgets/controls",
            "_model_module_version": "1.5.0",
            "_model_name": "ProgressStyleModel",
            "_view_count": null,
            "_view_module": "@jupyter-widgets/base",
            "_view_module_version": "1.2.0",
            "_view_name": "StyleView",
            "bar_color": null,
            "description_width": ""
          }
        }
      }
    }
  },
  "nbformat": 4,
  "nbformat_minor": 0
}
